{
  "cells": [
    {
      "cell_type": "markdown",
      "metadata": {
        "id": "view-in-github",
        "colab_type": "text"
      },
      "source": [
        "<a href=\"https://colab.research.google.com/github/YatipaC/Tokenization/blob/main/Trade_Volumes_Tokenization_Metaheuristic_final_version.ipynb\" target=\"_parent\"><img src=\"https://colab.research.google.com/assets/colab-badge.svg\" alt=\"Open In Colab\"/></a>"
      ]
    },
    {
      "cell_type": "code",
      "execution_count": null,
      "metadata": {
        "colab": {
          "base_uri": "https://localhost:8080/"
        },
        "id": "kKUIoYBqWDhD",
        "outputId": "564ae487-4115-49a0-ee7a-05023a79a74c"
      },
      "outputs": [
        {
          "name": "stdout",
          "output_type": "stream",
          "text": [
            "Collecting mealpy==2.0.0\n",
            "  Downloading mealpy-2.0.0-py3-none-any.whl (370 kB)\n",
            "\u001b[K     |████████████████████████████████| 370 kB 5.5 MB/s \n",
            "\u001b[?25hRequirement already satisfied: numpy in /usr/local/lib/python3.7/dist-packages (from mealpy==2.0.0) (1.21.5)\n",
            "Requirement already satisfied: scipy in /usr/local/lib/python3.7/dist-packages (from mealpy==2.0.0) (1.4.1)\n",
            "Collecting opfunu\n",
            "  Downloading opfunu-0.8.0-py3-none-any.whl (7.4 MB)\n",
            "\u001b[K     |████████████████████████████████| 7.4 MB 41.3 MB/s \n",
            "\u001b[?25hRequirement already satisfied: matplotlib in /usr/local/lib/python3.7/dist-packages (from mealpy==2.0.0) (3.2.2)\n",
            "Requirement already satisfied: kiwisolver>=1.0.1 in /usr/local/lib/python3.7/dist-packages (from matplotlib->mealpy==2.0.0) (1.4.0)\n",
            "Requirement already satisfied: cycler>=0.10 in /usr/local/lib/python3.7/dist-packages (from matplotlib->mealpy==2.0.0) (0.11.0)\n",
            "Requirement already satisfied: pyparsing!=2.0.4,!=2.1.2,!=2.1.6,>=2.0.1 in /usr/local/lib/python3.7/dist-packages (from matplotlib->mealpy==2.0.0) (3.0.7)\n",
            "Requirement already satisfied: python-dateutil>=2.1 in /usr/local/lib/python3.7/dist-packages (from matplotlib->mealpy==2.0.0) (2.8.2)\n",
            "Requirement already satisfied: typing-extensions in /usr/local/lib/python3.7/dist-packages (from kiwisolver>=1.0.1->matplotlib->mealpy==2.0.0) (3.10.0.2)\n",
            "Requirement already satisfied: six>=1.5 in /usr/local/lib/python3.7/dist-packages (from python-dateutil>=2.1->matplotlib->mealpy==2.0.0) (1.15.0)\n",
            "Installing collected packages: opfunu, mealpy\n",
            "Successfully installed mealpy-2.0.0 opfunu-0.8.0\n"
          ]
        }
      ],
      "source": [
        "# !pip install cvxpy\n",
        "!pip install mealpy==2.0.0 \n",
        "# !pip install --upgrade mealpy # note: mealpy-2.4.0 cannot run this code."
      ]
    },
    {
      "cell_type": "markdown",
      "metadata": {
        "id": "FCk5RYq69yl2"
      },
      "source": [
        "#### Data: https://drive.google.com/file/d/1-U02XPIJVutZ2ROy88up3S4dDHn4c4Uz/view?usp=sharing "
      ]
    },
    {
      "cell_type": "code",
      "execution_count": null,
      "metadata": {
        "colab": {
          "base_uri": "https://localhost:8080/"
        },
        "id": "mosTE7AH9otW",
        "outputId": "73c77cae-fa44-4ef9-939a-880d9e84472f"
      },
      "outputs": [
        {
          "name": "stdout",
          "output_type": "stream",
          "text": [
            "Downloading...\n",
            "From: https://drive.google.com/uc?id=1I7Ygb8OP015IC0yfjSHOpx6FkNpNyU5r\n",
            "To: /content/EURUSD1440.csv\n",
            "100% 253k/253k [00:00<00:00, 83.8MB/s]\n",
            "Downloading...\n",
            "From: https://drive.google.com/uc?id=1NnRijN86VAnJpFD7JgaQzl9MuDaOmDWF\n",
            "To: /content/GBPUSD1440.csv\n",
            "100% 255k/255k [00:00<00:00, 84.2MB/s]\n",
            "Downloading...\n",
            "From: https://drive.google.com/uc?id=1YsAtnwIgf4WbP1PzqEoPlm3WxiQ4XXHn\n",
            "To: /content/AUDUSD1440.csv\n",
            "100% 253k/253k [00:00<00:00, 65.4MB/s]\n",
            "Downloading...\n",
            "From: https://drive.google.com/uc?id=1cPHT9fEI-AUVUMKYPVaJpn3gvf3FtkTF\n",
            "To: /content/NZDUSD1440.csv\n",
            "100% 251k/251k [00:00<00:00, 66.5MB/s]\n"
          ]
        }
      ],
      "source": [
        "# data currency pair\n",
        "! gdown --id 1I7Ygb8OP015IC0yfjSHOpx6FkNpNyU5r # EURUSD\n",
        "! gdown --id 1NnRijN86VAnJpFD7JgaQzl9MuDaOmDWF # GBPUSD\n",
        "! gdown --id 1YsAtnwIgf4WbP1PzqEoPlm3WxiQ4XXHn # AUDUSD\n",
        "! gdown --id 1cPHT9fEI-AUVUMKYPVaJpn3gvf3FtkTF # NZDUSD"
      ]
    },
    {
      "cell_type": "code",
      "execution_count": null,
      "metadata": {
        "colab": {
          "base_uri": "https://localhost:8080/"
        },
        "id": "XWZnfICf9o2m",
        "outputId": "3773181d-0471-48a6-bd95-5aee3330c3a2"
      },
      "outputs": [
        {
          "name": "stdout",
          "output_type": "stream",
          "text": [
            "Downloading...\n",
            "From: https://drive.google.com/uc?id=17S2FzayRZBfSiUWAPVlXMe6eSM8wcxEQ\n",
            "To: /content/credits_2.csv\n",
            "100% 480k/480k [00:00<00:00, 96.3MB/s]\n",
            "Downloading...\n",
            "From: https://drive.google.com/uc?id=11Xww60VqvKNkqeobzzPBV8KxmVLgXvRX\n",
            "To: /content/finished_credits.csv\n",
            "100% 1.75M/1.75M [00:00<00:00, 124MB/s]\n",
            "Downloading...\n",
            "From: https://drive.google.com/uc?id=1-U02XPIJVutZ2ROy88up3S4dDHn4c4Uz\n",
            "To: /content/maker_vat_calls_processed_2019-2021.csv\n",
            "100% 95.1M/95.1M [00:00<00:00, 192MB/s]\n"
          ]
        }
      ],
      "source": [
        "# Maker data\n",
        "! gdown --id 17S2FzayRZBfSiUWAPVlXMe6eSM8wcxEQ # credit_2\n",
        "! gdown --id 11Xww60VqvKNkqeobzzPBV8KxmVLgXvRX # finished_credits\n",
        "! gdown --id 1-U02XPIJVutZ2ROy88up3S4dDHn4c4Uz # market_vat_call \n"
      ]
    },
    {
      "cell_type": "code",
      "execution_count": null,
      "metadata": {
        "id": "d7iwUEgQLecL"
      },
      "outputs": [],
      "source": [
        "from math import log, sqrt, pi, exp\n",
        "from scipy.stats import norm\n",
        "from datetime import datetime, date\n",
        "import numpy as np\n",
        "import pandas as pd\n",
        "from pandas import DataFrame, Series\n",
        "import math\n",
        "from datetime import date, timedelta\n",
        "from numpy import sqrt,mean,log,diff\n",
        "from matplotlib import pyplot as plt\n",
        "import unittest\n",
        "import seaborn as sns\n",
        "import heapq\n",
        "from sympy import symbols, solve, Eq\n",
        "import json \n",
        "import unittest\n",
        "import cvxpy as cp\n",
        "import scipy.sparse as sp\n",
        "\n",
        "from scipy.optimize import minimize, Bounds, LinearConstraint\n",
        "from numpy import linalg as LA"
      ]
    },
    {
      "cell_type": "code",
      "execution_count": null,
      "metadata": {
        "id": "9RqSJN13LecR"
      },
      "outputs": [],
      "source": [
        "# Open Forex data file\n",
        "def open_file(qq):\n",
        "    data_list = []\n",
        "    name = str(qq) + '.csv'\n",
        "    with open(name, 'r') as reading:\n",
        "        file_input = reading.read().split('\\n')\n",
        "\n",
        "    for row in file_input:\n",
        "        data_list.append(row.split('\\t'))\n",
        "    data = pd.DataFrame(data_list,columns=['date', 'open', 'high', 'low', 'close', 'vol'])\n",
        "    data['close'] = pd.to_numeric(data['close'],errors = 'coerce')\n",
        "    data['vol'] = pd.to_numeric(data['vol'],errors = 'coerce')\n",
        "    return data\n",
        "\n",
        "# Exchange rate and volume of Forex data \n",
        "def get_rate_and_volume(data_file_name, V, start_date, end_date):\n",
        "    exchange_rate = list()\n",
        "    volume = list()\n",
        "    for i, single_date in enumerate(daterange(start_date, end_date)):\n",
        "        a_date = single_date.isoformat()+str(' 00:00')\n",
        "        if a_date not in open_file(data_file_name)['date'].values:\n",
        "            a_date = (single_date-timedelta(days=1)).isoformat()+str(' 00:00')\n",
        "        print(a_date)\n",
        "        exchange_rate.append(float(open_file(data_file_name).loc[open_file(data_file_name)['date']== a_date]['close'].values))\n",
        "        exchange_rate.append(V * float(open_file(data_file_name).loc[open_file(data_file_name)['date']== a_date]['vol']))\n",
        "    return exchange_rate, volume"
      ]
    },
    {
      "cell_type": "code",
      "execution_count": null,
      "metadata": {
        "id": "LapGEQQrLecS"
      },
      "outputs": [],
      "source": [
        "start_date = date(2020, 1, 1)\n",
        "end_date = date(2020, 12, 31)\n",
        "pairs = ['EURUSD', 'AUDUSD', 'GBPUSD', 'NZDUSD']\n",
        "V = 100"
      ]
    },
    {
      "cell_type": "code",
      "execution_count": null,
      "metadata": {
        "id": "ZEuVOpAwLecS"
      },
      "outputs": [],
      "source": [
        "exchange_rates_array = list()\n",
        "volumes_array = list()\n",
        "dates_array = list()\n",
        "foreign_risk_free_rate = list()\n",
        "domestic_risk_free_rate = list()\n",
        "\n",
        "# total Forex volume and exchange rate \n",
        "for pair_index in range(len(pairs)):\n",
        "    data_file_name = pairs[pair_index] + '1440'\n",
        "    data = open_file(data_file_name)\n",
        "    dates = data['date'].values\n",
        "    dates = [x[:-6] for x in dates]\n",
        "    exchange_rates = data['close'].values\n",
        "    volumes = data['vol'].values\n",
        "    start_index = [i for i in range(len(dates)) if dates[i] == str(start_date)][0]\n",
        "    end_index = [i for i in range(len(dates)) if dates[i] == str(end_date)][0]\n",
        "    dates_array.append(dates[start_index:end_index+1])\n",
        "    exchange_rates_array.append(exchange_rates[start_index:end_index+1])\n",
        "    volumes_array.append(volumes[start_index:end_index+1])\n",
        "\n",
        "exchange_rates_array = np.array(exchange_rates_array)\n",
        "volumes_array = np.array(volumes_array)"
      ]
    },
    {
      "cell_type": "code",
      "execution_count": null,
      "metadata": {
        "colab": {
          "base_uri": "https://localhost:8080/"
        },
        "id": "6W5MeV3ILecT",
        "outputId": "8a56fdec-5d0a-4a67-c19e-b5bfdb868c3d"
      },
      "outputs": [
        {
          "name": "stdout",
          "output_type": "stream",
          "text": [
            "(4, 314)\n",
            "[[0.00198052 0.0016558  0.00133738 0.0012721 ]\n",
            " [0.0016558  0.00169787 0.00137727 0.00130886]\n",
            " [0.00133738 0.00137727 0.00163975 0.00118338]\n",
            " [0.0012721  0.00130886 0.00118338 0.00109828]]\n",
            "[[1.         0.90295525 0.74212144 0.86252955]\n",
            " [0.90295525 1.         0.8254235  0.95848165]\n",
            " [0.74212144 0.8254235  1.         0.88181901]\n",
            " [0.86252955 0.95848165 0.88181901 1.        ]]\n"
          ]
        }
      ],
      "source": [
        "print(np.shape(exchange_rates_array))\n",
        "print(np.cov(exchange_rates_array))\n",
        "print(np.corrcoef(exchange_rates_array))"
      ]
    },
    {
      "cell_type": "code",
      "execution_count": null,
      "metadata": {
        "colab": {
          "base_uri": "https://localhost:8080/",
          "height": 429
        },
        "id": "5wZXiA82LecV",
        "outputId": "09d175a6-606b-4bc8-8f97-1a1b112c62a2"
      },
      "outputs": [
        {
          "data": {
            "image/png": "[encoded data removed]",
            "text/plain": [
              "<Figure size 432x432 with 1 Axes>"
            ]
          },
          "metadata": {},
          "output_type": "display_data"
        }
      ],
      "source": [
        "# Total trading volume \n",
        "fig = plt.figure(figsize=(6,6))\n",
        "plt.pie(np.sum(volumes_array, axis=1), labels=pairs,autopct='%1.3f%%', radius = 2, textprops={'fontsize': 14})\n",
        "plt.title(\"Volume of assets\", bbox={'facecolor':'0.9', 'pad':5}, fontsize = 20)\n",
        "plt.axis('equal')\n",
        "plt.tight_layout()\n",
        "plt.show()"
      ]
    },
    {
      "cell_type": "code",
      "execution_count": null,
      "metadata": {
        "colab": {
          "base_uri": "https://localhost:8080/",
          "height": 269
        },
        "id": "_CIQuFZELecV",
        "outputId": "82a27043-bfd8-49c3-a768-6b00e687e56b"
      },
      "outputs": [
        {
          "data": {
            "image/png": "[encoded data removed]",
            "text/plain": [
              "<Figure size 432x288 with 2 Axes>"
            ]
          },
          "metadata": {},
          "output_type": "display_data"
        }
      ],
      "source": [
        "# Correlation between different currency pair\n",
        "exchange_rates_pd = pd.DataFrame(exchange_rates_array.transpose(), columns = pairs)\n",
        "\n",
        "ax = sns.heatmap(exchange_rates_pd.corr(), cmap='RdYlGn', linewidths=.1,annot=True)\n",
        "# plt.title(\"Heatmap of closing price\", fontsize = 20)\n",
        "plt.savefig(\"heatmap.pdf\")\n",
        "plt.show()"
      ]
    },
    {
      "cell_type": "markdown",
      "metadata": {
        "id": "yEDlVOGdLecX"
      },
      "source": [
        "The assumption of dataset is that each currency pair isn't correlating with each other while there is almost one correlation factor except diagonal. To sum up, this correlation matrix shows that we have the wrong model assumptions."
      ]
    },
    {
      "cell_type": "code",
      "execution_count": null,
      "metadata": {
        "colab": {
          "base_uri": "https://localhost:8080/",
          "height": 170
        },
        "id": "018CutOQOuEk",
        "outputId": "5caf64f7-4b4a-46fd-b855-19a64933f3d9"
      },
      "outputs": [
        {
          "data": {
            "text/html": [
              "\n",
              "  <div id=\"df-f1ebcb03-6e1b-428c-8855-428ce1f5af71\">\n",
              "    <div class=\"colab-df-container\">\n",
              "      <div>\n",
              "<style scoped>\n",
              "    .dataframe tbody tr th:only-of-type {\n",
              "        vertical-align: middle;\n",
              "    }\n",
              "\n",
              "    .dataframe tbody tr th {\n",
              "        vertical-align: top;\n",
              "    }\n",
              "\n",
              "    .dataframe thead th {\n",
              "        text-align: right;\n",
              "    }\n",
              "</style>\n",
              "<table border=\"1\" class=\"dataframe\">\n",
              "  <thead>\n",
              "    <tr style=\"text-align: right;\">\n",
              "      <th></th>\n",
              "      <th>EURUSD</th>\n",
              "      <th>AUDUSD</th>\n",
              "      <th>GBPUSD</th>\n",
              "      <th>NZDUSD</th>\n",
              "    </tr>\n",
              "  </thead>\n",
              "  <tbody>\n",
              "    <tr>\n",
              "      <th>EURUSD</th>\n",
              "      <td>1.000000</td>\n",
              "      <td>0.902955</td>\n",
              "      <td>0.742121</td>\n",
              "      <td>0.862530</td>\n",
              "    </tr>\n",
              "    <tr>\n",
              "      <th>AUDUSD</th>\n",
              "      <td>0.902955</td>\n",
              "      <td>1.000000</td>\n",
              "      <td>0.825423</td>\n",
              "      <td>0.958482</td>\n",
              "    </tr>\n",
              "    <tr>\n",
              "      <th>GBPUSD</th>\n",
              "      <td>0.742121</td>\n",
              "      <td>0.825423</td>\n",
              "      <td>1.000000</td>\n",
              "      <td>0.881819</td>\n",
              "    </tr>\n",
              "    <tr>\n",
              "      <th>NZDUSD</th>\n",
              "      <td>0.862530</td>\n",
              "      <td>0.958482</td>\n",
              "      <td>0.881819</td>\n",
              "      <td>1.000000</td>\n",
              "    </tr>\n",
              "  </tbody>\n",
              "</table>\n",
              "</div>\n",
              "      <button class=\"colab-df-convert\" onclick=\"convertToInteractive('df-f1ebcb03-6e1b-428c-8855-428ce1f5af71')\"\n",
              "              title=\"Convert this dataframe to an interactive table.\"\n",
              "              style=\"display:none;\">\n",
              "        \n",
              "  <svg xmlns=\"http://www.w3.org/2000/svg\" height=\"24px\"viewBox=\"0 0 24 24\"\n",
              "       width=\"24px\">\n",
              "    <path d=\"M0 0h24v24H0V0z\" fill=\"none\"/>\n",
              "    <path d=\"M18.56 5.44l.94 2.06.94-2.06 2.06-.94-2.06-.94-.94-2.06-.94 2.06-2.06.94zm-11 1L8.5 8.5l.94-2.06 2.06-.94-2.06-.94L8.5 2.5l-.94 2.06-2.06.94zm10 10l.94 2.06.94-2.06 2.06-.94-2.06-.94-.94-2.06-.94 2.06-2.06.94z\"/><path d=\"M17.41 7.96l-1.37-1.37c-.4-.4-.92-.59-1.43-.59-.52 0-1.04.2-1.43.59L10.3 9.45l-7.72 7.72c-.78.78-.78 2.05 0 2.83L4 21.41c.39.39.9.59 1.41.59.51 0 1.02-.2 1.41-.59l7.78-7.78 2.81-2.81c.8-.78.8-2.07 0-2.86zM5.41 20L4 18.59l7.72-7.72 1.47 1.35L5.41 20z\"/>\n",
              "  </svg>\n",
              "      </button>\n",
              "      \n",
              "  <style>\n",
              "    .colab-df-container {\n",
              "      display:flex;\n",
              "      flex-wrap:wrap;\n",
              "      gap: 12px;\n",
              "    }\n",
              "\n",
              "    .colab-df-convert {\n",
              "      background-color: #E8F0FE;\n",
              "      border: none;\n",
              "      border-radius: 50%;\n",
              "      cursor: pointer;\n",
              "      display: none;\n",
              "      fill: #1967D2;\n",
              "      height: 32px;\n",
              "      padding: 0 0 0 0;\n",
              "      width: 32px;\n",
              "    }\n",
              "\n",
              "    .colab-df-convert:hover {\n",
              "      background-color: #E2EBFA;\n",
              "      box-shadow: 0px 1px 2px rgba(60, 64, 67, 0.3), 0px 1px 3px 1px rgba(60, 64, 67, 0.15);\n",
              "      fill: #174EA6;\n",
              "    }\n",
              "\n",
              "    [theme=dark] .colab-df-convert {\n",
              "      background-color: #3B4455;\n",
              "      fill: #D2E3FC;\n",
              "    }\n",
              "\n",
              "    [theme=dark] .colab-df-convert:hover {\n",
              "      background-color: #434B5C;\n",
              "      box-shadow: 0px 1px 3px 1px rgba(0, 0, 0, 0.15);\n",
              "      filter: drop-shadow(0px 1px 2px rgba(0, 0, 0, 0.3));\n",
              "      fill: #FFFFFF;\n",
              "    }\n",
              "  </style>\n",
              "\n",
              "      <script>\n",
              "        const buttonEl =\n",
              "          document.querySelector('#df-f1ebcb03-6e1b-428c-8855-428ce1f5af71 button.colab-df-convert');\n",
              "        buttonEl.style.display =\n",
              "          google.colab.kernel.accessAllowed ? 'block' : 'none';\n",
              "\n",
              "        async function convertToInteractive(key) {\n",
              "          const element = document.querySelector('#df-f1ebcb03-6e1b-428c-8855-428ce1f5af71');\n",
              "          const dataTable =\n",
              "            await google.colab.kernel.invokeFunction('convertToInteractive',\n",
              "                                                     [key], {});\n",
              "          if (!dataTable) return;\n",
              "\n",
              "          const docLinkHtml = 'Like what you see? Visit the ' +\n",
              "            '<a target=\"_blank\" href=https://colab.research.google.com/notebooks/data_table.ipynb>data table notebook</a>'\n",
              "            + ' to learn more about interactive tables.';\n",
              "          element.innerHTML = '';\n",
              "          dataTable['output_type'] = 'display_data';\n",
              "          await google.colab.output.renderOutput(dataTable, element);\n",
              "          const docLink = document.createElement('div');\n",
              "          docLink.innerHTML = docLinkHtml;\n",
              "          element.appendChild(docLink);\n",
              "        }\n",
              "      </script>\n",
              "    </div>\n",
              "  </div>\n",
              "  "
            ],
            "text/plain": [
              "          EURUSD    AUDUSD    GBPUSD    NZDUSD\n",
              "EURUSD  1.000000  0.902955  0.742121  0.862530\n",
              "AUDUSD  0.902955  1.000000  0.825423  0.958482\n",
              "GBPUSD  0.742121  0.825423  1.000000  0.881819\n",
              "NZDUSD  0.862530  0.958482  0.881819  1.000000"
            ]
          },
          "execution_count": 12,
          "metadata": {},
          "output_type": "execute_result"
        }
      ],
      "source": [
        "exchange_rates_pd.corr(method='pearson')"
      ]
    },
    {
      "cell_type": "code",
      "execution_count": null,
      "metadata": {
        "colab": {
          "base_uri": "https://localhost:8080/"
        },
        "id": "9nFH5hZsj4eI",
        "outputId": "4108d25d-aabe-4c65-9164-b6e3300f2b5a"
      },
      "outputs": [
        {
          "name": "stdout",
          "output_type": "stream",
          "text": [
            "skew\n",
            "Max:0.13036180841990816,\n",
            "Min:-0.5467841810520316\n"
          ]
        },
        {
          "data": {
            "text/plain": [
              "EURUSD    0.130362\n",
              "AUDUSD   -0.543672\n",
              "GBPUSD   -0.546784\n",
              "NZDUSD   -0.233496\n",
              "dtype: float64"
            ]
          },
          "execution_count": 13,
          "metadata": {},
          "output_type": "execute_result"
        }
      ],
      "source": [
        "# https://codeburst.io/2-important-statistics-terms-you-need-to-know-in-data-science-skewness-and-kurtosis-388fef94eeaa\n",
        "print(f'skew\\nMax:{exchange_rates_pd.skew(axis = 0, skipna = True).max()},\\nMin:{exchange_rates_pd.skew(axis = 0, skipna = True).min()}')\n",
        "exchange_rates_pd.skew(axis = 0, skipna = True)"
      ]
    },
    {
      "cell_type": "code",
      "execution_count": null,
      "metadata": {
        "colab": {
          "base_uri": "https://localhost:8080/"
        },
        "id": "GC5veyELpt7Y",
        "outputId": "b22076d1-8a63-4b74-9c4d-8c4e523b06ac"
      },
      "outputs": [
        {
          "name": "stdout",
          "output_type": "stream",
          "text": [
            "kurtosis\n",
            "Max:0.1069398087094311,\n",
            "Min:-1.3389935828426816\n"
          ]
        },
        {
          "data": {
            "text/plain": [
              "EURUSD   -1.338994\n",
              "AUDUSD   -0.171022\n",
              "GBPUSD    0.106940\n",
              "NZDUSD   -0.281357\n",
              "dtype: float64"
            ]
          },
          "execution_count": 14,
          "metadata": {},
          "output_type": "execute_result"
        }
      ],
      "source": [
        "print(f'kurtosis\\nMax:{exchange_rates_pd.kurtosis(axis = 0, skipna = True).max()},\\nMin:{exchange_rates_pd.kurtosis(axis = 0, skipna = True).min()}')\n",
        "exchange_rates_pd.kurtosis(axis = 0, skipna = True)"
      ]
    },
    {
      "cell_type": "markdown",
      "metadata": {
        "id": "i2hOfMhToloY"
      },
      "source": [
        "**Skewness**\n",
        "\n",
        "It is the degree of distortion from the symmetrical bell curve or the normal distribution. It measures the lack of symmetry in data distribution.\n",
        "It differentiates extreme values in one versus the other tail. A symmetrical distribution will have a skewness of 0.\n",
        "- Negative skew mean that the exchange rate was higher than the average value.\n",
        "- If the skewness is between -0.5 and 0.5, the data are fairly symmetrical.\n"
      ]
    },
    {
      "cell_type": "markdown",
      "metadata": {
        "id": "Az8MRMJups6G"
      },
      "source": [
        "**Kurtosis**\n",
        "\n",
        "Kurtosis is all about the tails of the distribution — not the peakedness or flatness. It is used to describe the extreme values in one versus the other tail. It is actually *the measure of outliers present in the distribution*.\n",
        "- High kurtosis in a data set is an indicator that data has heavy tails or outliers.\n",
        "- Platykurtic: (Kurtosis < 3): Distribution is shorter, tails are thinner than the normal distribution. The peak is lower and broader than Mesokurtic, which means that data are light-tailed or lack of outliers.\n",
        "The reason for this is because the extreme values are less than that of the normal distribution."
      ]
    },
    {
      "cell_type": "markdown",
      "metadata": {
        "id": "5RK4LuuPLecZ"
      },
      "source": [
        "## Discrete tokenization"
      ]
    },
    {
      "cell_type": "code",
      "execution_count": null,
      "metadata": {
        "id": "_uXR38DKLecZ"
      },
      "outputs": [],
      "source": [
        "class Discrete:\n",
        "    def __init__(self, A0, N0, k0):\n",
        "        self.A = A0.astype(int) # array of assets\n",
        "        self.N = N0 # number of assets types\n",
        "        self.k = k0 # number of assets in each package\n",
        "\n",
        "\n",
        "    def preprocess(self):\n",
        "        assert self.N == len(self.A), \"Wrong N\"  \n",
        "        assert self.k <= len(self.A), \"Wrong k\" \n",
        "        self.A = self.A * self.k\n",
        "        sort_indexes = np.argsort(self.A, axis=None)\n",
        "        self.inverse_sort_indexes = np.empty_like(sort_indexes)\n",
        "        self.inverse_sort_indexes[sort_indexes] = np.arange(sort_indexes.size)\n",
        "        A = self.A[sort_indexes] \n",
        "        a = np.sort(self.A, axis=None) # min-max sorting\n",
        "        largest_ele_index = heapq.nlargest(self.k-1, range(len(a)))\n",
        "        S = 0\n",
        "        for i in range(0, len(a)):\n",
        "            if i not in largest_ele_index:\n",
        "                S = S + np.sum(a[i]) # sum of all token except biggest k-1 types\n",
        "        B = 0\n",
        "        n = 2\n",
        "        a_res = a\n",
        "        for start in range(self.N - self.k+1,self.N): # a_{N-k+n} = min[A_{N-k+n}, S/(n-1)] to remove some tokens\n",
        "            index_S_inner = self.N-self.k+n-1\n",
        "            S_inner = np.sum(a[0:index_S_inner])\n",
        "            if math.floor(S_inner/(n-1)) >= A[self.N-self.k+n-1]:\n",
        "                a_res[self.N-self.k+n-1] = A[self.N-self.k+n-1]\n",
        "                S = S + a_res[index_S_inner]\n",
        "            else:\n",
        "                a_res[self.N-self.k+n-1] = math.floor(S_inner/(n-1))\n",
        "                S = S + a_res[index_S_inner]\n",
        "            assert a_res[self.N-self.k+n-1] == min(A[self.N-self.k+n-1],math.floor(S_inner/(n-1)))\n",
        "            delta = A[index_S_inner] - a_res[index_S_inner] \n",
        "            B = B + delta # total number of tokens put off from packages\n",
        "            n = n+1            \n",
        "        return a_res, B\n",
        "\n",
        "\n",
        "    def distribution(self, a_res, B, return_distribution_matrix=False):\n",
        "        S = np.sum(a_res)\n",
        "        M = math.floor(S/self.k)\n",
        "        B0 = abs(S - M*self.k) # number of token that isn't falling into packages due to multiplicity of S\n",
        "        n = self.N - B0 +1\n",
        "        for n in range(n, self.N+1):\n",
        "            a_res[n-1] = a_res[n-1] - 1 # remove 1 tokens from last token's types\n",
        "            B = B + B0\n",
        "        l_n = np.zeros(self.N+1)\n",
        "        r_n = np.zeros(self.N+1)\n",
        "        for n in range(1,self.N+1):\n",
        "            l_n[n] = np.sum(a_res[0:n-1])+1\n",
        "            r_n[n] = np.sum(a_res[0:n])\n",
        "        if return_distribution_matrix: # unique composition of each package as much as possible \n",
        "            C_M = np.zeros((self.k, M))\n",
        "            n = 1\n",
        "            for i in range(1, M + 1):\n",
        "                for j in range(1, self.k+1):\n",
        "                    check_index = i + M * (j - 1)\n",
        "                    for n in range(1, self.N+1):\n",
        "                        if check_index <= r_n[n] and check_index >= l_n[n]:\n",
        "                            C_M[j-1, i-1] = self.inverse_sort_indexes[n-1] + 1\n",
        "                        n =n+1\n",
        "            return a_res[self.inverse_sort_indexes]/self.k, M, C_M\n",
        "        else:\n",
        "            return a_res[self.inverse_sort_indexes]/self.k, M"
      ]
    },
    {
      "cell_type": "code",
      "execution_count": null,
      "metadata": {
        "colab": {
          "base_uri": "https://localhost:8080/"
        },
        "id": "uMnofENHLeca",
        "outputId": "8fa23244-1c84-488d-e943-17c6c9bb6adb"
      },
      "outputs": [
        {
          "name": "stderr",
          "output_type": "stream",
          "text": [
            "test_distribution (__main__.Discrete_Test) ... ok\n",
            "test_preprocess (__main__.Discrete_Test) ... ok\n",
            "\n",
            "----------------------------------------------------------------------\n",
            "Ran 2 tests in 0.017s\n",
            "\n",
            "OK\n"
          ]
        },
        {
          "data": {
            "text/plain": [
              "<unittest.main.TestProgram at 0x7f562d9f87d0>"
            ]
          },
          "execution_count": 16,
          "metadata": {},
          "output_type": "execute_result"
        }
      ],
      "source": [
        "class Discrete_Test(unittest.TestCase):\n",
        "    def setUp(self):\n",
        "        self.A_t = np.array([3, 4, 3, 5, 7, 2])\n",
        "        self.k_t = 4\n",
        "        self.res = Discrete(self.A_t, len(self.A_t), self.k_t)\n",
        "    \n",
        "    def test_preprocess(self):\n",
        "        a_preprocess, B =  self.res.preprocess()\n",
        "        np.array_equal(a_preprocess, [8, 12, 12, 16, 20, 22])\n",
        "        self.assertEqual(B, 6)\n",
        "    \n",
        "    def test_distribution(self):\n",
        "        a_preprocess, B = self.res.preprocess()\n",
        "        a_dis, M, C_M = self.res.distribution(a_preprocess, B, return_distribution_matrix=True)\n",
        "        self.assertTrue(np.allclose(a_dis, [3, 4, 3, 4.75, 5.25, 2]))\n",
        "        self.assertEqual(M, 22)\n",
        "        actual_C_M = [[2, 2, 2, 2, 2, 2, 2, 2, 4, 4, 4, 4, 4, 4, 4, 4, 4, 4, 4, 4, 3, 3,],\n",
        "                     [3, 3, 3, 3, 3, 3, 3, 3, 3, 3, 5, 5, 5, 5, 5, 5, 5, 5, 5, 5, 5, 5,],\n",
        "                     [5, 5, 5, 5, 6, 6, 6, 6, 6, 6, 6, 6, 6, 6, 6, 6, 6, 6, 6, 6, 6, 6,],\n",
        "                     [6, 1, 1, 1, 1, 1, 1, 1, 1, 1, 1, 1, 1, 1, 1, 1, 1, 1, 1, 1, 1, 1,]]\n",
        "        np.array_equal(C_M, actual_C_M)\n",
        "\n",
        "unittest.main(argv=[''], verbosity=2, exit=False)"
      ]
    },
    {
      "cell_type": "code",
      "execution_count": null,
      "metadata": {
        "colab": {
          "base_uri": "https://localhost:8080/"
        },
        "id": "ljbo61DjLecb",
        "outputId": "883e6b87-3b67-4a09-f229-fa680790d69a"
      },
      "outputs": [
        {
          "name": "stdout",
          "output_type": "stream",
          "text": [
            "A: [3 4 3 5 7 2]\n",
            "a: [3.   4.   3.   4.75 5.25 2.  ]\n",
            "C_M: \n",
            " [[2. 2. 2. 2. 2. 2. 2. 2. 4. 4. 4. 4. 4. 4. 4. 4. 4. 4. 4. 4. 3. 3.]\n",
            " [3. 3. 3. 3. 3. 3. 3. 3. 3. 3. 5. 5. 5. 5. 5. 5. 5. 5. 5. 5. 5. 5.]\n",
            " [5. 5. 5. 5. 6. 6. 6. 6. 6. 6. 6. 6. 6. 6. 6. 6. 6. 6. 6. 6. 6. 6.]\n",
            " [6. 1. 1. 1. 1. 1. 1. 1. 1. 1. 1. 1. 1. 1. 1. 1. 1. 1. 1. 1. 1. 1.]]\n"
          ]
        }
      ],
      "source": [
        "# test example\n",
        "\n",
        "A = np.array([3, 4, 3, 5, 7, 2])\n",
        "N = len(A)\n",
        "k = 4\n",
        "res_discrete = Discrete(A, N, k)\n",
        "res_1, B = res_discrete.preprocess()\n",
        "a_res, M, my_matrix = res_discrete.distribution(res_1, B, return_distribution_matrix=True)\n",
        "print('A:', A)\n",
        "print('a:', a_res)\n",
        "print(f'C_M: \\n', my_matrix)"
      ]
    },
    {
      "cell_type": "markdown",
      "metadata": {
        "id": "4ptYXGyhLecc"
      },
      "source": [
        "## MARKED"
      ]
    },
    {
      "cell_type": "code",
      "execution_count": null,
      "metadata": {
        "colab": {
          "base_uri": "https://localhost:8080/"
        },
        "id": "gutQ0b_gLecc",
        "outputId": "3d2c25b1-5e99-4213-c61e-03fc9dd32408"
      },
      "outputs": [
        {
          "name": "stdout",
          "output_type": "stream",
          "text": [
            "A:  [ 2631  3364 13079  3966]\n",
            "a:  [2631. 3364. 4980. 3966.]\n"
          ]
        }
      ],
      "source": [
        "# Test volume of Forex data as input\n",
        "\n",
        "np.floor(volumes_array[:, 0])\n",
        "k = 3\n",
        "A = np.floor(volumes_array[:, 0]).astype(int)\n",
        "N = len(A)\n",
        "res_discrete = Discrete(A, N, k)\n",
        "res_1, B = res_discrete.preprocess()\n",
        "a_res, _ = res_discrete.distribution(res_1, B)\n",
        "print(\"A: \", volumes_array[:, 0])\n",
        "print(\"a: \", a_res.astype(float))"
      ]
    },
    {
      "cell_type": "code",
      "execution_count": null,
      "metadata": {
        "id": "fOjXr_80Lecd"
      },
      "outputs": [],
      "source": [
        "# Tokenized volume by using discrete tokenization algorithm\n",
        "\n",
        "k = 3\n",
        "N = len(pairs)\n",
        "\n",
        "tokenized_volume = np.zeros((volumes_array.shape[1],))\n",
        "for trading_day_index in range(len(volumes_array[0])):\n",
        "    A = np.floor(volumes_array[:, trading_day_index]).astype(int) \n",
        "    res_discrete = Discrete(A, N, k)\n",
        "    res_1, B = res_discrete.preprocess()\n",
        "    a_res, _ = res_discrete.distribution(res_1, B)\n",
        "    # print(f\"A = {A}\\nres_1 = {a_res}\\nfactoring = {np.divide(a_res, A)}\")\n",
        "    tokenized_volume[trading_day_index] = np.sum(a_res) # (314,)"
      ]
    },
    {
      "cell_type": "code",
      "execution_count": null,
      "metadata": {
        "id": "B9ik-qluLece"
      },
      "outputs": [],
      "source": [
        "# tokenized_volume "
      ]
    },
    {
      "cell_type": "code",
      "execution_count": null,
      "metadata": {
        "colab": {
          "base_uri": "https://localhost:8080/",
          "height": 292
        },
        "id": "ldmpg6eoLecf",
        "outputId": "a982eaa5-d7b5-40e7-d706-b2ea105637df"
      },
      "outputs": [
        {
          "data": {
            "image/png": "[encoded data removed]",
            "text/plain": [
              "<Figure size 432x288 with 1 Axes>"
            ]
          },
          "metadata": {},
          "output_type": "display_data"
        }
      ],
      "source": [
        "sort_indexes = np.argsort(np.sum(volumes_array, axis=0))\n",
        "\n",
        "plt.plot(np.sum(volumes_array, axis=0)[sort_indexes],label = \"initial assets\")\n",
        "plt.plot(tokenized_volume[sort_indexes], label = \"tokenized assets\")\n",
        "# plt.title(\"Daily trading volume (discrete)\", fontsize = 16)\n",
        "plt.xlabel('Date', fontsize=12)\n",
        "plt.ylabel('Volume', fontsize=12)\n",
        "plt.legend()\n",
        "plt.savefig(\"discreteTokenization.pdf\")\n",
        "plt.show()"
      ]
    },
    {
      "cell_type": "code",
      "execution_count": null,
      "metadata": {
        "colab": {
          "base_uri": "https://localhost:8080/",
          "height": 298
        },
        "id": "2pCaLKLxLecg",
        "outputId": "d97a9898-61de-4493-b140-6c6f85d87a6b"
      },
      "outputs": [
        {
          "name": "stdout",
          "output_type": "stream",
          "text": [
            "Tokenized fraction:  0.7061052803816608\n"
          ]
        },
        {
          "data": {
            "image/png": "[encoded data removed]",
            "text/plain": [
              "<Figure size 432x288 with 1 Axes>"
            ]
          },
          "metadata": {},
          "output_type": "display_data"
        }
      ],
      "source": [
        "data_to_plot_discrete = [tokenized_volume[x] / np.sum(volumes_array[:, x]) for x in range(len(tokenized_volume))]\n",
        "\n",
        "plt.plot(np.sort(data_to_plot_discrete))\n",
        "# plt.title(\"Tokenized assets fraction (discrete)\", fontsize = 16)\n",
        "plt.xlabel('Date', fontsize=12)\n",
        "plt.ylabel('Tokenized assets fraction', fontsize=12)\n",
        "plt.ylim([0,1.1])\n",
        "print(\"Tokenized fraction: \", np.sum(tokenized_volume) / np.sum(volumes_array))"
      ]
    },
    {
      "cell_type": "code",
      "execution_count": null,
      "metadata": {
        "colab": {
          "base_uri": "https://localhost:8080/"
        },
        "id": "7PO9RwsJLeci",
        "outputId": "74414787-7dae-4e9d-b573-7f32437a2c7c"
      },
      "outputs": [
        {
          "name": "stdout",
          "output_type": "stream",
          "text": [
            "Max covariance:  0.001980523976794327\n",
            "Max package variance:  0.0015621152653092349\n",
            "(Minium) Reduction factor vs k:  1.2678475275012848  vs  3\n"
          ]
        }
      ],
      "source": [
        "covariances = np.cov(exchange_rates_array)\n",
        "allowed_package_covariance = np.zeros((len(pairs),))\n",
        "for index in range(len(pairs)):\n",
        "    vector = np.ones((len(pairs),)) / k\n",
        "    vector[index] = 0\n",
        "    current_covariance = np.matmul(np.matmul(vector, covariances), vector)\n",
        "    allowed_package_covariance[index] = current_covariance\n",
        "print(\"Max covariance: \", np.max(covariances))\n",
        "print(\"Max package variance: \", np.max(allowed_package_covariance))\n",
        "print(\"(Minium) Reduction factor vs k: \", (np.max(covariances) / np.max(allowed_package_covariance)), ' vs ', k)"
      ]
    },
    {
      "cell_type": "markdown",
      "metadata": {
        "id": "1zrGj6CiLeci"
      },
      "source": [
        "The total number of tokenized tokens is a_star. The tokenized faction below than one means that some assets in A haven't been tokenized due to the multiplicity of a total number of S tokens in the size of packages k. Therfore, around 70.61% of dataset has been tokenized. In addition, the variance reduction factor is just 1.26 or 26% less, not equal to 3 times less due to the wrong model assumption"
      ]
    },
    {
      "cell_type": "markdown",
      "metadata": {
        "id": "q4gLTcDBLecj"
      },
      "source": [
        "## Continuous tokenization"
      ]
    },
    {
      "cell_type": "code",
      "execution_count": null,
      "metadata": {
        "id": "3U-bhpsBLecj"
      },
      "outputs": [],
      "source": [
        "import numpy as np\n",
        "from sympy import symbols, solve, Eq\n",
        "class Continuous:\n",
        "    def __init__(self, N0, A0, var_reduc):\n",
        "        self.A = A0\n",
        "        self.N = N0\n",
        "        self.var = var_reduc \n",
        "\n",
        "    def search(self):\n",
        "        N = self.N\n",
        "        assert self.N == len(self.A), \"Wrong N\" \n",
        "        var = self.var\n",
        "        E = np.array([0],dtype='float64') # expectation of taken assets\n",
        "        V = np.array([0],dtype='float64') # varaince of taken assets\n",
        "        a = np.zeros(self.N)\n",
        "        sort_indexes = np.argsort(self.A, axis=None)\n",
        "        self.inverse_sort_indexes = np.empty_like(sort_indexes)\n",
        "        self.inverse_sort_indexes[sort_indexes] = np.arange(sort_indexes.size)\n",
        "        A = self.A[sort_indexes]\n",
        "        A = np.insert(A, 0, 0)\n",
        "        for n in range(0, N): # replace a_k from A_n with A_{n+1}\n",
        "            E_new = E + (N-n)*(A[n+1] - A[n])\n",
        "            V_new = V + (N-n)*(A[n+1]**2 - A[n]**2)\n",
        "            if (1/var)*(E_new)**2 >= V_new:\n",
        "                E = E_new\n",
        "                V = V_new\n",
        "                for k in range(n, N):\n",
        "                    a[k] = A[n+1]\n",
        "            else:\n",
        "                x = symbols('x')\n",
        "                eq = (1/var)*(E + (N - n)*(x - A[n]))**2 - V - (N - n) * (x**2 - A[n]**2)\n",
        "                A_sol = solve(eq)\n",
        "                assert A_sol != [{x: 0.0}], \"Root equals to zero\" \n",
        "                A_sol =  min(list(A_sol[1].values())[0], A[n + 1])\n",
        "                E = E + (N-n)*(A_sol - A[n])\n",
        "                V = V + (N-n)*(A_sol**2 - A[n]**2)\n",
        "                n_star = n + 1\n",
        "                for k in range(n_star-1, N):\n",
        "                    a[k] = A_sol\n",
        "        return a[self.inverse_sort_indexes]\n",
        "\n",
        "    def construct_pack(self, a):\n",
        "        M = np.linalg.norm((a), ord=1) # number of packages\n",
        "        C_M  = a/M # composition of each M packages\n",
        "        return  a[self.inverse_sort_indexes], M, C_M"
      ]
    },
    {
      "cell_type": "code",
      "execution_count": null,
      "metadata": {
        "colab": {
          "base_uri": "https://localhost:8080/"
        },
        "id": "V7ybjXGNLeck",
        "outputId": "1a6723c1-c044-4ef1-965f-43a36bf48025"
      },
      "outputs": [
        {
          "name": "stderr",
          "output_type": "stream",
          "text": [
            "test_construct_pack (__main__.Continuous_Test) ... ok\n",
            "test_search (__main__.Continuous_Test) ... ok\n",
            "test_distribution (__main__.Discrete_Test) ... ok\n",
            "test_preprocess (__main__.Discrete_Test) ... ok\n",
            "\n",
            "----------------------------------------------------------------------\n",
            "Ran 4 tests in 0.997s\n",
            "\n",
            "OK\n"
          ]
        },
        {
          "data": {
            "text/plain": [
              "<unittest.main.TestProgram at 0x7f562da067d0>"
            ]
          },
          "execution_count": 25,
          "metadata": {},
          "output_type": "execute_result"
        }
      ],
      "source": [
        "class Continuous_Test(unittest.TestCase):\n",
        "    def setUp(self):\n",
        "        self.A_t = np.array([50, 8, 100, 3])\n",
        "        self.res =  Continuous(len(self.A_t), self.A_t, 3)\n",
        "    \n",
        "    def test_search(self):\n",
        "        a_search =  self.res.search()\n",
        "        self.assertTrue(np.allclose(a_search, [19.48528137, 8, 50, 3]))\n",
        "    \n",
        "    def test_construct_pack(self):\n",
        "        a_search = self.res.search()\n",
        "        a_cons, M, C_M = self.res.construct_pack(a_search)\n",
        "        self.assertTrue(np.allclose(a_cons,[50, 8, 3, 19.48528137]))\n",
        "        self.assertTrue(np.allclose(C_M, [0.24209745, 0.09939706, 0.6212316, 0.0372739 ]))\n",
        "        self.assertAlmostEqual(M, 80.48528137423853)\n",
        "\n",
        "unittest.main(argv=[''], verbosity=2, exit=False)"
      ]
    },
    {
      "cell_type": "code",
      "execution_count": null,
      "metadata": {
        "colab": {
          "base_uri": "https://localhost:8080/"
        },
        "id": "TBtnJwmCLeck",
        "outputId": "a393d910-bc6b-401e-bd80-d6279a4fb8db"
      },
      "outputs": [
        {
          "name": "stdout",
          "output_type": "stream",
          "text": [
            "final a_n =  [3. 2. 7. 4. 9.]\n",
            "composition is [0.12 0.08 0.28 0.16 0.36]\n"
          ]
        }
      ],
      "source": [
        "# test example\n",
        "A = np.array([3,2,7,4,9]) \n",
        "N = len(A)\n",
        "\n",
        "my_var = np.var(A)\n",
        "length = len(A)\n",
        "my_min = np.min(A)\n",
        "my_max = np.max(A)\n",
        "rand1 = np.random.randint(my_min, my_max + 1, size=length)\n",
        "rand2 = np.random.randint(my_min, my_max + 1, size=length)\n",
        "cov_rand = np.cov(rand1, rand2)[0, 0]\n",
        "var_red = cov_rand/my_var\n",
        "\n",
        "res_conti = Continuous(N, A, var_red)\n",
        "res_1 = res_conti.search()\n",
        "print(\"final a_n = \", res_1)\n",
        "a, _, C_M = res_conti.construct_pack(res_1)\n",
        "print(\"composition is\", C_M)"
      ]
    },
    {
      "cell_type": "code",
      "execution_count": null,
      "metadata": {
        "colab": {
          "base_uri": "https://localhost:8080/"
        },
        "id": "ooacwaL2Lecl",
        "outputId": "bdd220ed-7feb-4194-fde4-a6595a8f1ae7"
      },
      "outputs": [
        {
          "name": "stdout",
          "output_type": "stream",
          "text": [
            "final a_n =  [3. 1. 1. 1.]\n",
            "composition is [0.5        0.16666667 0.16666667 0.16666667]\n"
          ]
        }
      ],
      "source": [
        "# test example\n",
        "\n",
        "k = 3\n",
        "\n",
        "A = np.array([1000, 1, 1, 1])\n",
        "res_conti = Continuous(len(A), A, k)\n",
        "print\n",
        "res_1 = res_conti.search()\n",
        "a, _, C_M = res_conti.construct_pack(res_1)\n",
        "print(\"final a_n = \", res_1)\n",
        "print(\"composition is\", C_M)"
      ]
    },
    {
      "cell_type": "markdown",
      "metadata": {
        "id": "y91QQ9AmLecl"
      },
      "source": [
        "## MARKED"
      ]
    },
    {
      "cell_type": "code",
      "execution_count": null,
      "metadata": {
        "id": "o-K4BhExLecm"
      },
      "outputs": [],
      "source": [
        "# Tokenized volume by using continuous tokenization algorithm\n",
        "\n",
        "k = 3\n",
        "N = len(pairs)\n",
        "a_star_conti = []\n",
        "tokenized_volume = np.zeros((volumes_array.shape[1],))\n",
        "package_variance = np.zeros((volumes_array.shape[1],))\n",
        "for trading_day_index in range(len(volumes_array[0])):\n",
        "    A = volumes_array[:, trading_day_index] \n",
        "    res_conti = Continuous(N, A, k)\n",
        "    res_1 = res_conti.search()  \n",
        "    a, _, C_M = res_conti.construct_pack(res_1)\n",
        "    tokenized_volume[trading_day_index] = np.sum(res_1) \n",
        "    \n",
        "    package_variance[trading_day_index] = np.matmul(np.matmul(C_M, covariances), C_M) #(314,)\n",
        "    a_star_conti.append(a) # len = 314 "
      ]
    },
    {
      "cell_type": "code",
      "execution_count": null,
      "metadata": {
        "colab": {
          "base_uri": "https://localhost:8080/",
          "height": 292
        },
        "id": "r2zJg2KxLecm",
        "outputId": "6baf464a-4c73-4409-f5e9-da52fa7ce55a"
      },
      "outputs": [
        {
          "data": {
            "image/png": "[encoded data removed]",
            "text/plain": [
              "<Figure size 432x288 with 1 Axes>"
            ]
          },
          "metadata": {},
          "output_type": "display_data"
        }
      ],
      "source": [
        "sort_indexes = np.argsort(np.sum(volumes_array, axis=0))\n",
        "\n",
        "plt.plot(np.sum(volumes_array, axis=0)[sort_indexes],label = \"initial assets\")\n",
        "plt.plot(tokenized_volume[sort_indexes], label = \"tokenized assets\")\n",
        "plt.xlabel('Date index', fontsize=12)\n",
        "plt.ylabel('Volume', fontsize=12)\n",
        "# plt.title(\"Daily trading volume (continuous)\", fontsize = 16)\n",
        "plt.legend()\n",
        "plt.savefig(\"continuousTokenization.pdf\")\n",
        "plt.show()"
      ]
    },
    {
      "cell_type": "code",
      "execution_count": null,
      "metadata": {
        "colab": {
          "base_uri": "https://localhost:8080/",
          "height": 298
        },
        "id": "HULBBgofLecn",
        "outputId": "abe6d112-8953-4e69-fb91-86ab98ad88ba"
      },
      "outputs": [
        {
          "data": {
            "image/png": "[encoded data removed]",
            "text/plain": [
              "<Figure size 432x288 with 1 Axes>"
            ]
          },
          "metadata": {},
          "output_type": "display_data"
        },
        {
          "name": "stdout",
          "output_type": "stream",
          "text": [
            "Tokenized fraction:  0.8623487679062549\n"
          ]
        }
      ],
      "source": [
        "data_to_plot_continuous = [tokenized_volume[x] / np.sum(volumes_array[:, x]) for x in range(len(tokenized_volume))]\n",
        "\n",
        "plt.plot(np.sort(data_to_plot_discrete), '--m',label = \"discrete tokenization\")\n",
        "plt.plot(np.sort(data_to_plot_continuous), '-.k',label = \"continuous tokenization\")\n",
        "plt.ylim([0,1.1])\n",
        "# plt.title(\"Tokenized assets fraction (discrete)\", fontsize = 16)\n",
        "plt.xlabel('Date index', fontsize=12)\n",
        "plt.ylabel('Tokenized assets fraction', fontsize=12)\n",
        "plt.legend()\n",
        "plt.savefig(\"tokenizaedFractions.pdf\")\n",
        "plt.show()\n",
        "print(\"Tokenized fraction: \", np.sum(tokenized_volume) / np.sum(volumes_array))"
      ]
    },
    {
      "cell_type": "code",
      "execution_count": null,
      "metadata": {
        "colab": {
          "base_uri": "https://localhost:8080/"
        },
        "id": "dNQaZj6XLecp",
        "outputId": "025114c1-86a7-4163-8e12-173d395d481b"
      },
      "outputs": [
        {
          "name": "stdout",
          "output_type": "stream",
          "text": [
            "Max covariance:  0.001980523976794327\n",
            "Max package variance:  0.0016173814983811013\n",
            "(Minimum) Reduction factor vs k:  1.2245249366192879  vs  3\n"
          ]
        }
      ],
      "source": [
        "covariances = np.cov(exchange_rates_array)\n",
        "print(\"Max covariance: \", np.max(covariances))\n",
        "print(\"Max package variance: \", np.max(package_variance))\n",
        "print(\"(Minimum) Reduction factor vs k: \", (np.max(covariances) / np.max(package_variance)), ' vs ', k)"
      ]
    },
    {
      "cell_type": "markdown",
      "metadata": {
        "id": "8BXEZbfSLecr"
      },
      "source": [
        "The tokenized fraction of continuous tokenization is around 86.23% which is higher than discrete tokenization. Continuous tokenization is suitable for a large class of dataset because this tokenization could consider a wider class of tokenized matrix for tokenization, instead of an integer. In contrast, discrete tokenization is suitable for the smaller dataset. Moreover, the varaince reduction is not equal to 3 due to wrong model assumption."
      ]
    },
    {
      "cell_type": "markdown",
      "metadata": {
        "id": "MSKKKSBeLecs"
      },
      "source": [
        "## Information for blockchain"
      ]
    },
    {
      "cell_type": "code",
      "execution_count": null,
      "metadata": {
        "colab": {
          "base_uri": "https://localhost:8080/"
        },
        "id": "STxAtzj1Lecs",
        "outputId": "d064f07d-69d0-4286-e8d1-05afb7092b29"
      },
      "outputs": [
        {
          "name": "stdout",
          "output_type": "stream",
          "text": [
            "{\n",
            "    \"trading_day\": \"2020-01-01\",\n",
            "    \"initial assets\": [\n",
            "        2631,\n",
            "        3364,\n",
            "        13079,\n",
            "        3966\n",
            "    ],\n",
            "    \"pairs\": [\n",
            "        \"EURUSD\",\n",
            "        \"AUDUSD\",\n",
            "        \"GBPUSD\",\n",
            "        \"NZDUSD\"\n",
            "    ],\n",
            "    \"algorithm\": \"continuous\",\n",
            "    \"packages_number\": 19786,\n",
            "    \"package_content\": [\n",
            "        0.13297611027629772,\n",
            "        0.1700234264422142,\n",
            "        0.4965507280645376,\n",
            "        0.2004497352169505\n",
            "    ]\n",
            "}\n"
          ]
        }
      ],
      "source": [
        "trading_day_index = 0\n",
        "dict_for_blockchain = dict()\n",
        "dict_for_blockchain['trading_day'] = dates_array[0][trading_day_index]\n",
        "\n",
        "k = 3\n",
        "A = volumes_array[:, trading_day_index]\n",
        "res_conti = Continuous(len(A), A, k)\n",
        "res_1 = res_conti.search()\n",
        "a, _, C_M = res_conti.construct_pack(res_1)\n",
        "dict_for_blockchain['initial assets'] = list([int(x) for x in A])\n",
        "dict_for_blockchain['pairs'] = pairs\n",
        "dict_for_blockchain['algorithm'] = 'continuous'\n",
        "dict_for_blockchain['packages_number'] = round(sum(res_1))\n",
        "dict_for_blockchain['package_content'] = list(C_M)\n",
        "\n",
        "\n",
        "json_for_blockchain = json.dumps(dict_for_blockchain, indent = 4)  \n",
        "print(json_for_blockchain)"
      ]
    },
    {
      "cell_type": "markdown",
      "metadata": {
        "id": "jTY8Uk56WDhb"
      },
      "source": [
        "# Continuous with covariance matrix K"
      ]
    },
    {
      "cell_type": "markdown",
      "metadata": {
        "id": "crwLiVF6GZeg"
      },
      "source": [
        "### Portfolio sold-out problem\n",
        "The goal is to assemble as many good enough standard portfolio as possible\n",
        "- The set of M packages: $C_{M}=\\left(\\vec{c}_{1}|\\ldots| \\vec{c}_{M}\\right)$\n",
        "where $\\forall m=1, \\ldots, M:\\left\\|\\vec{C}_{m}\\right\\|_{1}=$ constant\n",
        "- The problem: $M \\rightarrow \\max _{M, C_{M}}: C_{m}^{T} K \\vec{C}_{m} \\leq \\sigma^{2}$\n",
        "\n",
        "Under constraints: \n",
        "- $ \\vec{c} T \\vec{c} \\leq \\sigma^{2} \\cdot\\|\\vec{c}\\|_{1}^{2}$\n",
        "- $\\overrightarrow{0} \\leq M \\vec{c} \\leq \\vec{A}$\n",
        "- $\\|\\vec{c}\\|_{1}=1$"
      ]
    },
    {
      "cell_type": "code",
      "execution_count": null,
      "metadata": {
        "id": "7c2_AQd1WDhb"
      },
      "outputs": [],
      "source": [
        "sigma2 = 0.00198/1.27 # 0.00198/1.2245\n",
        "covariance_matrix = exchange_rates_pd.cov().values"
      ]
    },
    {
      "cell_type": "code",
      "execution_count": null,
      "metadata": {
        "id": "4oJGkEzFWDhc"
      },
      "outputs": [],
      "source": [
        "def margine(vector_a, sigma2=sigma2, covariance_matrix=covariance_matrix):\n",
        "    assets_number = len(vector_a)\n",
        "    assert sigma2 > 0, \"Required sigma2 > 0\" \n",
        "    assert np.shape(covariance_matrix) == (assets_number, assets_number), \"Cov matrix should be assets_number X assets_number\"\n",
        "    \n",
        "    return sigma2 * np.linalg.norm((vector_a), ord=1)**2 - np.matmul(np.matmul(vector_a, covariance_matrix), vector_a) # constraint 1\n",
        "\n",
        "def margine_gradient(vector_a, sigma2=sigma2, covariance_matrix=covariance_matrix): # didn't use this function\n",
        "    return 2 * sigma2 * np.linalg.norm((vector_a), ord=1) - 2 * np.matmul(covariance_matrix, vector_a)"
      ]
    },
    {
      "cell_type": "code",
      "execution_count": null,
      "metadata": {
        "colab": {
          "base_uri": "https://localhost:8080/"
        },
        "id": "u74XmRtLWDhd",
        "outputId": "119b6632-e0c1-4481-a47c-1d5d2bcdaafb"
      },
      "outputs": [
        {
          "name": "stdout",
          "output_type": "stream",
          "text": [
            "70133.11529587186\n",
            "[ 2631.  3364. 13079.  3966.]\n",
            "[ 2631  3364 13079  3966]\n"
          ]
        }
      ],
      "source": [
        "from mealpy.bio_based import SMA\n",
        "import numpy as np\n",
        "\n",
        "\n",
        "def obj_function(solution):\n",
        "    \n",
        "    def violate(value):\n",
        "        return 0 if value >= 0 else value\n",
        "\n",
        "    fx = np.sum(solution)\n",
        "\n",
        "## Increase the punishment for g1 and g4 to boost the algorithm (You can choice any constraint instead of g1 and g4)\n",
        "    fx += violate(margine(solution)) / sigma2 #  (p)  violate by constraint 1 with sum of obj fn\n",
        "  \n",
        "    return fx\n",
        "\n",
        "\n",
        "## Run the algorithm\n",
        "A_size = 4\n",
        "A = volumes_array[:, 0] # sample column\n",
        "problem_dict1 = {\n",
        "    \"obj_func\": obj_function,\n",
        "    \"lb\": [0 for x in range(A_size)],\n",
        "    \"ub\": list(A),\n",
        "    \"minmax\": \"max\",\n",
        "    \"verbose\": False,\n",
        "} # (p) ub and lb is constraint \n",
        "model1 = SMA.BaseSMA(problem_dict1, epoch=100, pop_size=50, pr=0.03)\n",
        "model1.solve()\n",
        "print(margine(model1.solution[0]))\n",
        "print(model1.solution[0])\n",
        "print(A)"
      ]
    },
    {
      "cell_type": "code",
      "execution_count": null,
      "metadata": {
        "colab": {
          "background_save": true,
          "base_uri": "https://localhost:8080/"
        },
        "id": "WoXsXeunWDhd",
        "outputId": "4ff2d20a-afef-4053-e83c-6297b72f734f"
      },
      "outputs": [
        {
          "name": "stderr",
          "output_type": "stream",
          "text": [
            "100%|██████████| 314/314 [04:44<00:00,  1.10it/s]\n"
          ]
        },
        {
          "name": "stdout",
          "output_type": "stream",
          "text": [
            "Tokenized fraction:  0.9103702609459403\n"
          ]
        },
        {
          "data": {
            "image/png": "[encoded data removed]",
            "text/plain": [
              "<Figure size 432x288 with 1 Axes>"
            ]
          },
          "metadata": {},
          "output_type": "display_data"
        }
      ],
      "source": [
        "from tqdm import tqdm\n",
        "np.random.seed(0) \n",
        "\n",
        "tokenized_volume_meta = np.zeros((volumes_array.shape[1],))\n",
        "margines = list()\n",
        "tokenizations = list()\n",
        "d_candidates_size = 10\n",
        "A_size = 4\n",
        "for trading_day_index in tqdm(range(len(volumes_array[0]))):\n",
        "    A = volumes_array[:, trading_day_index]\n",
        "    problem_dict1 = {\n",
        "        \"obj_func\": obj_function,\n",
        "        \"lb\": [0 for x in range(A_size)],\n",
        "        \"ub\": list(A),\n",
        "        \"minmax\": \"max\",\n",
        "        \"verbose\": False,\n",
        "    }\n",
        "\n",
        "    ## Run the algorithm\n",
        "    model1 = SMA.BaseSMA(problem_dict1, epoch=100, pop_size=50, pr=0.03)\n",
        "    model1.solve()\n",
        "    tokenized_volume_meta[trading_day_index] = np.sum(model1.solution[0])\n",
        "    margines.append(margine(model1.solution[0]))\n",
        "    tokenizations.append(model1.solution[0])\n",
        "    \n",
        "\n",
        "data_to_plot_opti = [tokenized_volume_meta[x] / np.sum(volumes_array[:, x]) for x in range(len(tokenized_volume_meta))]\n",
        "\n",
        "plt.plot(np.sort(data_to_plot_opti), '--r',label = \"metaheuristic tokenization\")\n",
        "plt.plot(np.sort(data_to_plot_discrete), '--m',label = \"discrete tokenization\")\n",
        "plt.plot(np.sort(data_to_plot_continuous), '-.k',label = \"continuous tokenization\")\n",
        "# plt.title(\"Tokenized assets fraction (discrete)\", fontsize = 16)\n",
        "plt.xlabel('Date', fontsize=12)\n",
        "plt.ylabel('Tokenized assets fraction', fontsize=12)\n",
        "plt.ylim([0,1.1])\n",
        "plt.legend()\n",
        "print(\"Tokenized fraction: \", np.sum(tokenized_volume_meta) / np.sum(volumes_array))"
      ]
    },
    {
      "cell_type": "code",
      "execution_count": null,
      "metadata": {
        "colab": {
          "background_save": true
        },
        "id": "sM_PJkFGWDhe",
        "outputId": "31a75838-4be7-4a13-a14a-cbff20582eb4"
      },
      "outputs": [
        {
          "name": "stdout",
          "output_type": "stream",
          "text": [
            "The number of diversification condition violations: 0\n"
          ]
        }
      ],
      "source": [
        "print('The number of diversification condition violations:', np.sum([x < 0 for x in margines]))"
      ]
    },
    {
      "cell_type": "code",
      "execution_count": null,
      "metadata": {
        "colab": {
          "background_save": true
        },
        "id": "_0CF41l3WDhe",
        "outputId": "5b5a2331-f2e9-4d52-c41e-7b1f1a1a579a"
      },
      "outputs": [
        {
          "name": "stdout",
          "output_type": "stream",
          "text": [
            "177\n"
          ]
        }
      ],
      "source": [
        "tokenizations = np.array(tokenizations)\n",
        "print(np.sum(volumes_array > tokenizations.T))"
      ]
    },
    {
      "cell_type": "code",
      "execution_count": null,
      "metadata": {
        "colab": {
          "base_uri": "https://localhost:8080/"
        },
        "id": "0BmvxaUGs9mz",
        "outputId": "9e39f5cd-b0fd-4ed4-a505-bea79b43360b"
      },
      "outputs": [
        {
          "output_type": "stream",
          "name": "stdout",
          "text": [
            "Max package variance:  0.0015590551181035562\n"
          ]
        }
      ],
      "source": [
        "# Tokenized volume by using metahustistic and continuous tokenization algorithm\n",
        "package_variance_sma = np.zeros((volumes_array.shape[1],))\n",
        "for trading_day_index in range(len(volumes_array[0])): \n",
        "    C_M_sma = tokenizations[trading_day_index,:]/np.sum(tokenizations[trading_day_index,:]) # C_M_sma/ np.sum(C_M_sma)\n",
        "    package_variance_sma[trading_day_index] = np.matmul(np.matmul(C_M_sma, covariances), C_M_sma) #(314,)\n",
        "\n",
        "print(\"Max package variance: \", np.max(package_variance_sma))\n",
        "# print(\"(Minimum) Reduction factor vs k: \", (np.max(covariances) / np.max(package_variance_sma)), ' vs ', k)"
      ]
    },
    {
      "cell_type": "code",
      "execution_count": null,
      "metadata": {
        "colab": {
          "base_uri": "https://localhost:8080/"
        },
        "id": "j5NeZJTHipYt",
        "outputId": "a6347d42-361b-438a-e0d0-7a4c744de2d2"
      },
      "outputs": [
        {
          "output_type": "stream",
          "name": "stdout",
          "text": [
            "Tokenization fraction of EURUSD: 0.7994095581397661\n",
            "Tokenization fraction of AUDUSD: 0.9999620905239331\n",
            "Tokenization fraction of GBPUSD: 0.9999999997681421\n",
            "Tokenization fraction of NZDUSD: 0.9999999988284215\n"
          ]
        }
      ],
      "source": [
        "currecy_pair = ['EURUSD','AUDUSD', 'GBPUSD','NZDUSD']\n",
        "for i in range(4): print(f'Tokenization fraction of {currecy_pair[i]}: {tokenizations[:,i].sum()/volumes_array[i,:].sum()}')"
      ]
    },
    {
      "cell_type": "code",
      "execution_count": null,
      "metadata": {
        "colab": {
          "base_uri": "https://localhost:8080/",
          "height": 498
        },
        "id": "Rvy_H2P5jMHG",
        "outputId": "5e0524b4-4b6f-49f8-f900-2930f6ebcddb"
      },
      "outputs": [
        {
          "output_type": "display_data",
          "data": {
            "text/plain": [
              "<Figure size 864x576 with 2 Axes>"
            ],
            "image/png": "[encoded data removed]"
          },
          "metadata": {
            "needs_background": "light"
          }
        }
      ],
      "source": [
        "\n",
        "fig, axs = plt.subplots(2,figsize=(12,8))\n",
        "\n",
        "l_token_frac = []\n",
        "for i in range(4): \n",
        "    frac = tokenizations[:,i]/volumes_array[i,:]\n",
        "    name_label = 'exchange rate of ' + str(currecy_pair[i])\n",
        "    axs[0].plot(exchange_rates_pd[currecy_pair[i]], label = name_label)\n",
        "    axs[0].set_title('Exchange rate')\n",
        "    axs[0].legend()\n",
        "    axs[1].plot(frac, label = currecy_pair[i])\n",
        "    axs[1].set_title('tokenized fraction')\n",
        "    axs[1].legend()\n",
        "# plt.yscale(\"log\")\n",
        "# plt.legend()"
      ]
    },
    {
      "cell_type": "code",
      "source": [
        "$"
      ],
      "metadata": {
        "id": "OA9VEaOFZt_e"
      },
      "execution_count": null,
      "outputs": []
    }
  ],
  "metadata": {
    "colab": {
      "collapsed_sections": [],
      "name": "Trade_Volumes_Tokenization_Metaheuristic_final_version.ipynb",
      "provenance": [],
      "include_colab_link": true
    },
    "kernelspec": {
      "display_name": "Python 3",
      "language": "python",
      "name": "python3"
    },
    "language_info": {
      "codemirror_mode": {
        "name": "ipython",
        "version": 3
      },
      "file_extension": ".py",
      "mimetype": "text/x-python",
      "name": "python",
      "nbconvert_exporter": "python",
      "pygments_lexer": "ipython3",
      "version": "3.8.3"
    }
  },
  "nbformat": 4,
  "nbformat_minor": 0
}