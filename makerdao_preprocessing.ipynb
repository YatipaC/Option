{
    {
      "cell_type": "markdown",
      "id": "kQzxH5eoqIFn",
      "metadata": {
        "id": "kQzxH5eoqIFn"
      },
      "source": [
        "- general case: $\\textbf{K} \\in \\textbf{R}^{N\\times N}$ and $\\vec{e} \\in \\textbf{R}^{N\\times 1}$ where $\\|\\vec{e}\\|_1 = 1$\n",
        "\n",
        "- homogeneous tokenization algorithm: $\\textbf{K} = \\sigma_0^2 ⋅ I_N$\n",
        "\n",
        "\n",
        "proof: \n",
        "\n",
        "$var(\\vec{e}) = \\vec{e}^T \\textbf{K} \\vec{e} = \\sigma_0^2  \\vec{e}^T \\vec{e} =\\sigma_0^2 $\n",
        "\n",
        "\n",
        "For example, N = 3 assets ,\n",
        "$K = \\begin{bmatrix}\n",
        "5 & 0 & 0 \\\\\n",
        "0 & 5 & 0 \\\\\n",
        "0 & 0 & 5\n",
        "\\end{bmatrix}$\n",
        "- heterogeneous tokenization algorithm: any $\\textbf{K}$\n",
        "\n",
        "For example, N = 2 assets, \n",
        "$K = \\begin{bmatrix}\n",
        "1 & 0  \\\\\n",
        "0 & 2  \\\\\n",
        "\\end{bmatrix}$"
      ]
    },
    {
      "cell_type": "markdown",
      "id": "TF_AoFXME1pm",
      "metadata": {
        "id": "TF_AoFXME1pm"
      },
      "source": [
        "$\\vec{c}_{1}=\\cdots=\\vec{c}_{M}=\\overrightarrow{\\overline{c}}=$ constant, where $\\vec{\\overline{c}}=\\frac{\\vec{a}}{\\|\\vec a\\|_1}$ and $M=\\lfloor \\|\\vec a\\|_1 \\rfloor$"
      ]
    },
    {
      "cell_type": "code",
      "execution_count": 1,
      "id": "colonial-mechanics",
      "metadata": {
        "colab": {
          "base_uri": "https://localhost:8080/"
        },
        "id": "colonial-mechanics",
        "outputId": "0b3b39f8-d089-496c-c09c-15fdfd685e78"
      },
      "outputs": [
        {
          "output_type": "stream",
          "name": "stdout",
          "text": [
            "Looking in indexes: https://pypi.org/simple, https://us-python.pkg.dev/colab-wheels/public/simple/\n",
            "Collecting mealpy==2.0.0\n",
            "  Downloading mealpy-2.0.0-py3-none-any.whl (370 kB)\n",
            "\u001b[K     |████████████████████████████████| 370 kB 4.1 MB/s \n",
            "\u001b[?25hRequirement already satisfied: scipy in /usr/local/lib/python3.7/dist-packages (from mealpy==2.0.0) (1.4.1)\n",
            "Requirement already satisfied: numpy in /usr/local/lib/python3.7/dist-packages (from mealpy==2.0.0) (1.21.6)\n",
            "Requirement already satisfied: matplotlib in /usr/local/lib/python3.7/dist-packages (from mealpy==2.0.0) (3.2.2)\n",
            "Collecting opfunu\n",
            "  Downloading opfunu-0.8.0-py3-none-any.whl (7.4 MB)\n",
            "\u001b[K     |████████████████████████████████| 7.4 MB 45.2 MB/s \n",
            "\u001b[?25hRequirement already satisfied: kiwisolver>=1.0.1 in /usr/local/lib/python3.7/dist-packages (from matplotlib->mealpy==2.0.0) (1.4.2)\n",
            "Requirement already satisfied: cycler>=0.10 in /usr/local/lib/python3.7/dist-packages (from matplotlib->mealpy==2.0.0) (0.11.0)\n",
            "Requirement already satisfied: python-dateutil>=2.1 in /usr/local/lib/python3.7/dist-packages (from matplotlib->mealpy==2.0.0) (2.8.2)\n",
            "Requirement already satisfied: pyparsing!=2.0.4,!=2.1.2,!=2.1.6,>=2.0.1 in /usr/local/lib/python3.7/dist-packages (from matplotlib->mealpy==2.0.0) (3.0.9)\n",
            "Requirement already satisfied: typing-extensions in /usr/local/lib/python3.7/dist-packages (from kiwisolver>=1.0.1->matplotlib->mealpy==2.0.0) (4.2.0)\n",
            "Requirement already satisfied: six>=1.5 in /usr/local/lib/python3.7/dist-packages (from python-dateutil>=2.1->matplotlib->mealpy==2.0.0) (1.15.0)\n",
            "Installing collected packages: opfunu, mealpy\n",
            "Successfully installed mealpy-2.0.0 opfunu-0.8.0\n"
          ]
        }
      ],
      "source": [
        "# !pip install cvxpy\n",
        "!pip install mealpy==2.0.0 \n",
        "# !pip install --upgrade mealpy # note: mealpy-2.4.0 cannot run this code."
      ]
    },
    {
      "cell_type": "code",
      "execution_count": 2,
      "id": "pressing-journal",
      "metadata": {
        "colab": {
          "base_uri": "https://localhost:8080/"
        },
        "id": "pressing-journal",
        "outputId": "3c6d0462-6638-4470-c2e3-8e365e3d0381"
      },
      "outputs": [
        {
          "output_type": "stream",
          "name": "stdout",
          "text": [
            "/usr/local/lib/python3.7/dist-packages/gdown/cli.py:131: FutureWarning: Option `--id` was deprecated in version 4.3.1 and will be removed in 5.0. You don't need to pass it anymore to use a file ID.\n",
            "  category=FutureWarning,\n",
            "Downloading...\n",
            "From: https://drive.google.com/uc?id=1C58f9HZRrx_SqoS0NZtgrJJG8AqutGTm\n",
            "To: /content/maker_vat_calls_ethA_2019-2021.csv\n",
            "100% 81.3M/81.3M [00:00<00:00, 83.1MB/s]\n",
            "/usr/local/lib/python3.7/dist-packages/gdown/cli.py:131: FutureWarning: Option `--id` was deprecated in version 4.3.1 and will be removed in 5.0. You don't need to pass it anymore to use a file ID.\n",
            "  category=FutureWarning,\n",
            "Downloading...\n",
            "From: https://drive.google.com/uc?id=1tjX-03hDFomMRLw9Jo2sKSk2PPDpgV84\n",
            "To: /content/credits.csv\n",
            "100% 296k/296k [00:00<00:00, 66.9MB/s]\n",
            "/usr/local/lib/python3.7/dist-packages/gdown/cli.py:131: FutureWarning: Option `--id` was deprecated in version 4.3.1 and will be removed in 5.0. You don't need to pass it anymore to use a file ID.\n",
            "  category=FutureWarning,\n",
            "Access denied with the following error:\n",
            "\n",
            " \tCannot retrieve the public link of the file. You may need to change\n",
            "\tthe permission to 'Anyone with the link', or have had many accesses. \n",
            "\n",
            "You may still be able to access the file from the browser:\n",
            "\n",
            "\t https://drive.google.com/uc?id=11LbsLBg3Yk8ppGOwvToHcn_kQTreHzD5z \n",
            "\n",
            "/usr/local/lib/python3.7/dist-packages/gdown/cli.py:131: FutureWarning: Option `--id` was deprecated in version 4.3.1 and will be removed in 5.0. You don't need to pass it anymore to use a file ID.\n",
            "  category=FutureWarning,\n",
            "Downloading...\n",
            "From: https://drive.google.com/uc?id=11Xww60VqvKNkqeobzzPBV8KxmVLgXvRX\n",
            "To: /content/finished_credits.csv\n",
            "100% 1.75M/1.75M [00:00<00:00, 52.1MB/s]\n",
            "/usr/local/lib/python3.7/dist-packages/gdown/cli.py:131: FutureWarning: Option `--id` was deprecated in version 4.3.1 and will be removed in 5.0. You don't need to pass it anymore to use a file ID.\n",
            "  category=FutureWarning,\n",
            "Downloading...\n",
            "From: https://drive.google.com/uc?id=11LbsLBg3Yk8ppGOwvToHcn_kQTreHzD5\n",
            "To: /content/ethA-dai-price.csv\n",
            "100% 4.01M/4.01M [00:00<00:00, 118MB/s]\n",
            "/usr/local/lib/python3.7/dist-packages/gdown/cli.py:131: FutureWarning: Option `--id` was deprecated in version 4.3.1 and will be removed in 5.0. You don't need to pass it anymore to use a file ID.\n",
            "  category=FutureWarning,\n",
            "Downloading...\n",
            "From: https://drive.google.com/uc?id=1Ro43MHhAOXqb21gCkhhQLi4rB8yzk66T\n",
            "To: /content/maker_vat_calls_ethA_2019-2022.csv\n",
            "100% 114M/114M [00:02<00:00, 43.9MB/s]\n",
            "/usr/local/lib/python3.7/dist-packages/gdown/cli.py:131: FutureWarning: Option `--id` was deprecated in version 4.3.1 and will be removed in 5.0. You don't need to pass it anymore to use a file ID.\n",
            "  category=FutureWarning,\n",
            "Downloading...\n",
            "From: https://drive.google.com/uc?id=1itoPnYMaY6mWD_kuK1oVhDCp3ovlNxxg\n",
            "To: /content/ethA-dai-price2019-2022.csv\n",
            "100% 4.71M/4.71M [00:01<00:00, 4.58MB/s]\n"
          ]
        }
      ],
      "source": [
        "# https://drive.google.com/drive/folders/1AIaWqtjmzTs8BX77XOHQ_YJJ0Mn9heXr?usp=sharing\n",
        "!gdown --id 1C58f9HZRrx_SqoS0NZtgrJJG8AqutGTm\n",
        "!gdown --id 1tjX-03hDFomMRLw9Jo2sKSk2PPDpgV84\n",
        "!gdown --id 11LbsLBg3Yk8ppGOwvToHcn_kQTreHzD5z\n",
        "!gdown --id 11Xww60VqvKNkqeobzzPBV8KxmVLgXvRX\n",
        "!gdown --id 11LbsLBg3Yk8ppGOwvToHcn_kQTreHzD5\n",
        "!gdown --id 1Ro43MHhAOXqb21gCkhhQLi4rB8yzk66T # maker_vat_calls_ethA_2019-2022\n",
        "!gdown --id 1itoPnYMaY6mWD_kuK1oVhDCp3ovlNxxg # ethA-dai-price2019-2022"
      ]
    },
    {
      "cell_type": "code",
      "execution_count": 3,
      "id": "MOeZFRM4pf5C",
      "metadata": {
        "id": "MOeZFRM4pf5C"
      },
      "outputs": [],
      "source": [
        "# # https://drive.google.com/drive/folders/1oM-k-Pv-ThwSQzz4_JiZ_XqaKHmh8p3g?usp=sharing\n",
        "\n",
        "# !gdown --id 10DK8soW5ns_GBx3G478AKzwX7RIrTF6d #vat\n",
        "# !gdown --id 1-590MZRikXHFdbs3JjNYlZbITPhFbQ4w #parsed\n",
        "# !gdown --id 1cHlwPloFcag7gAd5Jdq-hoJXl7T-nATu #parsed3\n",
        "# !gdown --id 1Y6TLnH3vgdPUk6vmt6m5obELTo8iPDmf #parsed2\n",
        "# !gdown --id 1--dQYYGAExK2gxHHXwKJ0gKe3Xci4oWN #parsed1\n",
        "# !gdown --id 1Jjx-KFw_0D79RnBHeZeK_ouGHABO9z9J #internal call 2019-2021\n",
        "# !gdown --id 1rkIoiBrBbM1T77xUbEWB4u8bfW9KUOWl #internal call 2021-2022"
      ]
    },
    {
      "cell_type": "code",
      "execution_count": 4,
      "id": "hawaiian-masters",
      "metadata": {
        "id": "hawaiian-masters"
      },
      "outputs": [],
      "source": [
        "import heapq\n",
        "import pandas as pd\n",
        "import pickle\n",
        "import base64 \n",
        "from datetime import datetime, timedelta, timezone\n",
        "from tqdm import tqdm\n",
        "import bisect\n",
        "import ast\n",
        "from numpy.polynomial import Polynomial\n",
        "from scipy import optimize\n",
        "from scipy.special import binom\n",
        "import numpy as np\n",
        "from functools import reduce\n",
        "import math\n",
        "from math import pi, exp, sqrt\n",
        "from scipy.integrate import quad\n",
        "import matplotlib.pyplot as plt\n",
        "from matplotlib.pyplot import figure \n",
        "from mealpy.bio_based import SMA"
      ]
    },
    {
      "cell_type": "code",
      "execution_count": 5,
      "id": "speaking-programmer",
      "metadata": {
        "id": "speaking-programmer",
        "colab": {
          "base_uri": "https://localhost:8080/"
        },
        "outputId": "d212dec5-cfda-49b3-9a94-167d8c4e1055"
      },
      "outputs": [
        {
          "output_type": "stream",
          "name": "stderr",
          "text": [
            "/usr/local/lib/python3.7/dist-packages/pandas/core/generic.py:5516: SettingWithCopyWarning: \n",
            "A value is trying to be set on a copy of a slice from a DataFrame.\n",
            "Try using .loc[row_indexer,col_indexer] = value instead\n",
            "\n",
            "See the caveats in the documentation: https://pandas.pydata.org/pandas-docs/stable/user_guide/indexing.html#returning-a-view-versus-a-copy\n",
            "  self[name] = value\n",
            "/usr/local/lib/python3.7/dist-packages/ipykernel_launcher.py:4: SettingWithCopyWarning: \n",
            "A value is trying to be set on a copy of a slice from a DataFrame.\n",
            "Try using .loc[row_indexer,col_indexer] = value instead\n",
            "\n",
            "See the caveats in the documentation: https://pandas.pydata.org/pandas-docs/stable/user_guide/indexing.html#returning-a-view-versus-a-copy\n",
            "  after removing the cwd from sys.path.\n",
            "/usr/local/lib/python3.7/dist-packages/ipykernel_launcher.py:5: SettingWithCopyWarning: \n",
            "A value is trying to be set on a copy of a slice from a DataFrame.\n",
            "Try using .loc[row_indexer,col_indexer] = value instead\n",
            "\n",
            "See the caveats in the documentation: https://pandas.pydata.org/pandas-docs/stable/user_guide/indexing.html#returning-a-view-versus-a-copy\n",
            "  \"\"\"\n"
          ]
        }
      ],
      "source": [
        "vat_E = pd.read_csv(\"maker_vat_calls_ethA_2019-2022.csv\").drop(columns=['Unnamed: 0','state','Unnamed: 0.1'])\n",
        "vat_E = vat_E[vat_E['usr'].notna()] \n",
        "vat_E.dart = vat_E.dart / 1e18\n",
        "vat_E['dink'] = vat_E['dink'] / 1e18\n",
        "vat_E['wad'] = vat_E['wad'] / 1e18\n",
        "vat_E['rate']  = vat_E['rate'].astype({ 'rate': 'float' })\n",
        "vat_E['rate'] =vat_E['rate'] / 1e27\n",
        "\n",
        "credit_pd = pd.read_csv(\"credits.csv\") \n",
        "finished_credits = pd.read_csv(\"finished_credits.csv\")  \n",
        "def pid(df_name,usr_id):\n",
        "    return df_name.loc[df_name['usr'] == usr_id]"
      ]
    },
    {
      "cell_type": "code",
      "execution_count": 6,
      "id": "comic-cooperation",
      "metadata": {
        "id": "comic-cooperation"
      },
      "outputs": [],
      "source": [
        "vat_calls_E = pd.read_csv(\"maker_vat_calls_ethA_2019-2021.csv\") # collect all tx (only ETH as collateral)\n",
        "vat_calls_E['rate'] = vat_calls_E['rate'].astype(float)\n",
        "\n",
        "# Find Dai/Eth exchange rate from the original dataset \n",
        "eth_dai_rates = None\n",
        "file_name = \"ethA-dai-price.csv\"\n",
        "TIME_FORMAT = '%Y-%m-%d %H:%M:%S UTC'\n",
        "FLIP_ADDR_1 = '0xd8a04F5412223F513DC55F839574430f5EC15531'\n",
        "FLIP_ADDR_2 = '0xF32836B9E1f47a0515c6Ec431592D5EbC276407f'\n",
        "TIME_FACTOR = 60 #minutes\n",
        "\n",
        "with open(file_name, 'rb+') as f:\n",
        "    eth_dai_rates = pickle.load(f)\n",
        "\n",
        "def get_utc_timestamp(time):\n",
        "    return datetime.strptime(time, TIME_FORMAT).replace(tzinfo=timezone.utc)\n",
        "\n",
        "class EthDaiRate(object):\n",
        "    def __init__(self, rates):\n",
        "        self.rates = rates\n",
        "        self.time = [row[0] for row in rates]\n",
        "\n",
        "    def find_lt(self, pivot):\n",
        "        i = bisect.bisect_left(self.time, pivot)\n",
        "\n",
        "        return self.rates[i][1]\n",
        "\n",
        "rate = EthDaiRate(eth_dai_rates)    \n",
        "eth_dai_rate_list = []\n",
        "eth_dai_rate = rate\n",
        "for i in range(len(vat_calls_E['timestamp'])):\n",
        "    time = get_utc_timestamp(vat_calls_E['timestamp'][i]).timestamp() \n",
        "    ex_r = eth_dai_rate.find_lt(time)\n",
        "    eth_dai_rate_list.append(ex_r) # DAI/ ETH เนื่องจากค่าประมาณ 190 DAI/ETH\n",
        "\n",
        "\n",
        "\n",
        "list_time = list(vat_calls_E['timestamp'])\n",
        "daieth_rate_pd = pd.DataFrame(list(zip(list_time, eth_dai_rate_list)),columns =['timestamp', 'dai/eth'])\n",
        "\n",
        "daieth2 = daieth_rate_pd.copy() \n",
        "daieth2 = daieth2.drop_duplicates(subset=['timestamp'])\n",
        "daieth2[\"timestamp\"] = daieth2[\"timestamp\"].astype(\"datetime64\")"
      ]
    },
    {
      "cell_type": "code",
      "execution_count": 7,
      "id": "TFlB7iyeZn6X",
      "metadata": {
        "id": "TFlB7iyeZn6X"
      },
      "outputs": [],
      "source": [
        "# the recent exchage rate from 2019 to 2022\n",
        "daieth1922 = pd.read_csv(\"ethA-dai-price2019-2022.csv\")\n",
        "daieth1922['timestamp'] = daieth1922[\"block_timestamp\"].astype(\"datetime64\")\n",
        "daieth1922['timestamp'] = pd.to_datetime(daieth1922['timestamp'], format= '%Y-%m-%d %H:%M:%S UTC')\n",
        "\n",
        "daieth1922 = daieth1922.sort_values(by='block_timestamp', ascending=True).reset_index(drop=True)\n",
        "for index, row in daieth1922[1:].iterrows():\n",
        "    daieth1922.at[index,'dai/eth'] = int(row.val, 0)/1e+18 # decode https://stackoverflow.com/questions/209513/convert-hex-string-to-int-in-python\n",
        "    daieth1922.at[index,'timestamp_int'] = row.timestamp.timestamp()\n",
        "daieth1922 = daieth1922.drop(columns=['block_timestamp','block_number','transaction_hash','log_index','contract_address','val'])\n",
        "\n",
        "ex_rate_overlap = daieth2[daieth2['timestamp'] <= daieth1922['timestamp'].iloc[0]]\n",
        "daieth2 = daieth1922.append(ex_rate_overlap).sort_values(by='timestamp', ascending=True).reset_index(drop=True)\n",
        "daieth2 = daieth2[pd.notnull(daieth2['dai/eth'])]"
      ]
    },
    {
      "cell_type": "code",
      "execution_count": 8,
      "id": "isolated-burden",
      "metadata": {
        "colab": {
          "base_uri": "https://localhost:8080/"
        },
        "id": "isolated-burden",
        "outputId": "3eee6469-f3a5-4285-fb42-990c9d8f7d31"
      },
      "outputs": [
        {
          "output_type": "stream",
          "name": "stderr",
          "text": [
            "100%|██████████| 15652/15652 [01:10<00:00, 221.46it/s]\n",
            "100%|██████████| 2530/2530 [00:38<00:00, 66.29it/s]\n"
          ]
        }
      ],
      "source": [
        "TIME_FORMAT = '%Y-%m-%d %H:%M:%S UTC'\n",
        "FLIP_ADDR_1 = '0xd8a04F5412223F513DC55F839574430f5EC15531'\n",
        "FLIP_ADDR_2 = '0xF32836B9E1f47a0515c6Ec431592D5EbC276407f'\n",
        "TIME_FACTOR = 60 #minutes\n",
        "\n",
        "class EthDaiRate(object):\n",
        "    def __init__(self, rates):\n",
        "        self.rates = rates\n",
        "        self.time = [row[0] for row in rates]\n",
        "\n",
        "    def find_lt(self, pivot):\n",
        "        i = bisect.bisect_left(self.time, pivot)\n",
        "\n",
        "        return self.rates[i][1]\n",
        "\n",
        "def get_price_history():\n",
        "    time = datetime.strptime(\"2019-11-12 00:00:00 UTC\", TIME_FORMAT)\n",
        "    end = datetime.strptime(\"2021-04-20 00:00:00 UTC\", TIME_FORMAT)\n",
        "    delta = timedelta(hours=4)\n",
        "\n",
        "    client = cbpro.PublicClient()\n",
        "\n",
        "    result = []\n",
        "    while time < end:\n",
        "        res = client.get_product_historic_rates(\n",
        "            'ETH-DAI', \n",
        "            start=time, \n",
        "            end=time + delta, \n",
        "            granularity=60)\n",
        "\n",
        "        result.extend(\n",
        "            map(lambda x: (x[0], x[1]), res)\n",
        "        )\n",
        "\n",
        "        time += delta\n",
        "\n",
        "    with open('eth-dai-all.pkl', 'wb+') as f:\n",
        "        pickle.dump(result, f)\n",
        "\n",
        "def get_utc_timestamp(time):\n",
        "    return datetime.strptime(time, TIME_FORMAT).replace(tzinfo=timezone.utc)\n",
        "\n",
        "\n",
        "\n",
        "\n",
        "## indecies of df should be reseted\n",
        "def cluster_by_ops(df):\n",
        "    prev_fn = None\n",
        "\n",
        "    grab_flux_ops = []\n",
        "    frob_fork_ops = []\n",
        "    prev_frob_fork_ops = []\n",
        "\n",
        "    for index, row in df.iterrows():\n",
        "        fn = row['fn_name']\n",
        "        src = row['src']\n",
        "    \n",
        "        if fn == 'grab':\n",
        "            if (prev_fn == 'grab' or prev_fn == 'flux'):\n",
        "                grab_flux_ops.append(row)\n",
        "                continue\n",
        "\n",
        "            if grab_flux_ops:\n",
        "                yield (prev_frob_fork_ops, grab_flux_ops)\n",
        "\n",
        "            grab_flux_ops = []\n",
        "            prev_frob_fork_ops = frob_fork_ops\n",
        "            frob_fork_ops = []\n",
        "\n",
        "            grab_flux_ops.append(row)\n",
        "\n",
        "        elif fn == 'flux':\n",
        "            grab_flux_ops.append(row)\n",
        "\n",
        "        else:\n",
        "            frob_fork_ops.append(row)\n",
        "\n",
        "        prev_fn = fn\n",
        "\n",
        "    yield (prev_frob_fork_ops, grab_flux_ops)\n",
        "    if frob_fork_ops:\n",
        "        yield (frob_fork_ops, [])\n",
        "\n",
        "def handle_grab_flux(grab_flux_ops, eth_dai_rate):\n",
        "    dink_dai = 0\n",
        "    flux_dai = 0\n",
        "    dart_dai = 0\n",
        "    total_dart = 0\n",
        "\n",
        "    for row in grab_flux_ops:\n",
        "        fn_name = row['fn_name']\n",
        "        time = get_utc_timestamp(row['timestamp']).timestamp()\n",
        "        time_i = get_utc_timestamp(row['timestamp']) \n",
        "\n",
        "        if fn_name == 'grab':\n",
        "            fold_rate = row['rate'] / 1e27\n",
        "            dart = row['dart'] / 1e18\n",
        "            total_dart += dart\n",
        "\n",
        "            dtab = dart * fold_rate\n",
        "            dart_dai += -dtab\n",
        "\n",
        "            dink = -1 * row['dink'] / 1e18\n",
        "            ex_rate_updated = daieth2[daieth2['timestamp_int']>=time]['dai/eth'].iloc[0]\n",
        "            dink_dai += (dink * ex_rate_updated)\n",
        "            # dink_dai += (dink * eth_dai_rate.find_lt(time))\n",
        "\n",
        "        if fn_name == 'flux':\n",
        "            wad = row['wad'] / 1e18\n",
        "            # ex_rate = eth_dai_rate.find_lt(time)\n",
        "            ex_rate_updated = daieth2[daieth2['timestamp_int']>=time]['dai/eth'].iloc[0]\n",
        "            flux_dai += (wad * ex_rate_updated) #(wad * ex_rate)\n",
        "            \n",
        "\n",
        "    lgd = (dink_dai - flux_dai) - dart_dai\n",
        "\n",
        "    return lgd, total_dart\n",
        "\n",
        "def handle_frob_fork(frob_fork_ops):\n",
        "    total_dart = 0\n",
        "    prev_time = get_utc_timestamp(frob_fork_ops[0]['timestamp']).timestamp()\n",
        "    params = []\n",
        "\n",
        "    for row in frob_fork_ops:\n",
        "        time = get_utc_timestamp(row['timestamp']).timestamp()\n",
        "        time_i = get_utc_timestamp(row['timestamp']) \n",
        "        dtime = (time - prev_time) / TIME_FACTOR\n",
        "        prev_time = time\n",
        "\n",
        "        fold_rate = row['rate'] / 1e27\n",
        "        dart = row['dart'] / 1e18\n",
        "\n",
        "        total_dart += dart\n",
        "\n",
        "        dtab = dart * fold_rate\n",
        "\n",
        "        params.append((dtab, dtime))\n",
        "\n",
        "    return params, total_dart\n",
        "\n",
        "def calculate_interest(params, init_tab):\n",
        "    def p_or(x):\n",
        "        total = init_tab\n",
        "        for dtab, dt in params:\n",
        "            total = (total * ((1 + x) ** dt) + dtab)\n",
        "\n",
        "        return total\n",
        "\n",
        "    def p(F, scale_factor):\n",
        "        total = init_tab\n",
        "        for dtab, dt in params:\n",
        "            dT = dt / scale_factor\n",
        "            total = (total * (F ** dT) + dtab)\n",
        "\n",
        "        return total\n",
        "\n",
        "    scale_factor = 20.0\n",
        "    F = optimize.newton(lambda x: p(x, scale_factor), 1.0, maxiter=1000, tol=1e-10)\n",
        "    r = 2 ** (np.log2(F) / scale_factor) - 1\n",
        "\n",
        "    p_or_r = p_or(r)\n",
        "    if abs(p_or_r) > 1e-4:\n",
        "        scale_factor = 30.0\n",
        "        F = optimize.newton(lambda x: p(x, scale_factor), 1.1, maxiter=1000, tol=1e-10)\n",
        "        r = 2 ** (np.log2(F) / scale_factor) - 1\n",
        "\n",
        "    return r\n",
        "\n",
        "\n",
        "def split_frob_fork_ops(fork_frob_ops, init_art=0.0):\n",
        "    def sum(acc, x):\n",
        "        val = acc[-1] + x[1]['dart']\n",
        "        acc.append(val)\n",
        "\n",
        "        return acc\n",
        "    \n",
        "    vals = reduce(sum, fork_frob_ops.iterrows(), [0,])\n",
        "    zeros = np.isclose(vals[1:], 0, atol=10, rtol=0)\n",
        "    zeros = np.where(zeros == True)\n",
        "    zeros = [x for x in zeros[0]]\n",
        "    zeros.append(-1)\n",
        "\n",
        "    loans = []\n",
        "    prev_pos = 0\n",
        "    index = ['usr', 'start', 'end', 'status', 'duration (mins)'] ##, 'interest rate', 'LGD']\n",
        "    for pos in zeros:\n",
        "        loan = None\n",
        "        status = None\n",
        "        if pos != -1:\n",
        "            loan = fork_frob_ops.iloc[prev_pos:pos+1]\n",
        "            status = 'finished'\n",
        "        else:\n",
        "            loan = fork_frob_ops.iloc[prev_pos:]\n",
        "            status = 'active'\n",
        "            if len(loan) == 0:\n",
        "                continue\n",
        "\n",
        "        prev_pos = pos+1\n",
        "\n",
        "        start = loan.iloc[0]['timestamp']\n",
        "        end = loan.iloc[-1]['timestamp']\n",
        "        duration_finished =  (get_utc_timestamp(end).timestamp() - get_utc_timestamp(start).timestamp()) / TIME_FACTOR  \n",
        "        usr = loan.iloc[0]['usr']\n",
        "        data=[usr, start, end, status, duration_finished]\n",
        "        loans.append(pd.Series(data=data, index=index))\n",
        "\n",
        "    return loans\n",
        "\n",
        "def get_results(df, eth_dai_rate):\n",
        "    art = 0\n",
        "    for frob_fork_ops, grab_flux_ops in cluster_by_ops(df):\n",
        "        index = ['usr', 'start','flag time', 'end', 'status', 'interest rate', 'LGD', \"duration (mins)\"]\n",
        "        start = frob_fork_ops[0]['timestamp']\n",
        "        vault = frob_fork_ops[0]['usr']\n",
        "        end = None\n",
        "\n",
        "        if not grab_flux_ops:\n",
        "            data = [vault, start,None, end, 'active', None, None, duration_finished]\n",
        "            yield pd.Series(data=data, index=index)\n",
        "            continue\n",
        "\n",
        "        init_rate = frob_fork_ops[0]['rate'] / 1e27\n",
        "        init_tab = art * init_rate\n",
        "\n",
        "        params, dart_ff = handle_frob_fork(frob_fork_ops)\n",
        "        lgd, dart_gf = handle_grab_flux(grab_flux_ops, eth_dai_rate)\n",
        "\n",
        "        art += dart_ff\n",
        "        \n",
        "        last_time_ff = get_utc_timestamp(frob_fork_ops[-1]['timestamp']).timestamp()\n",
        "        first_time_gf = get_utc_timestamp(grab_flux_ops[0]['timestamp']).timestamp()\n",
        "        dtime = (first_time_gf - last_time_ff) / TIME_FACTOR  \n",
        "        flag_time_i = grab_flux_ops[0]['timestamp']\n",
        "        duration_default = (first_time_gf - get_utc_timestamp(frob_fork_ops[0]['timestamp']).timestamp())/TIME_FACTOR\n",
        "\n",
        "        rate = grab_flux_ops[0]['rate'] / 1e27\n",
        "        tab = art * rate\n",
        "\n",
        "        params.append((-(tab + lgd), dtime))\n",
        "        r = None #calculate_interest(params, init_tab)\n",
        "\n",
        "        end = grab_flux_ops[-1]['timestamp']\n",
        "        duration_finished = ( get_utc_timestamp(grab_flux_ops[-1]['timestamp']).timestamp() - get_utc_timestamp(frob_fork_ops[0]['timestamp']).timestamp())/TIME_FACTOR\n",
        "        data = [vault, start,flag_time_i, end, 'default', None, lgd, duration_default]\n",
        "        # data = [vault, start,flag_time_i, end, 'default', r, lgd, duration_default]\n",
        "        yield pd.Series(data=data, index=index)\n",
        "\n",
        "        art += dart_gf\n",
        "\n",
        "def filter_ethA_data(ethA):\n",
        "    ethA_filtered = ethA[\n",
        "        (ethA['fn_name'] == 'grab')\n",
        "        |\n",
        "        (\n",
        "            (ethA['fn_name'] == 'flux')\n",
        "            &\n",
        "            (\n",
        "                (ethA['src'] == FLIP_ADDR_1)\n",
        "                |\n",
        "                (ethA['src'] == FLIP_ADDR_2)\n",
        "            )\n",
        "        )\n",
        "        |\n",
        "        (\n",
        "            (ethA['fn_name'] == 'frob')\n",
        "            &\n",
        "            (ethA['dart'] != 0.0)\n",
        "        )\n",
        "        |\n",
        "        (\n",
        "            (ethA['fn_name'] == 'fork')\n",
        "            &\n",
        "            (ethA['dart'] != 0.0)\n",
        "        )\n",
        "    ]\n",
        "\n",
        "    ethA_filtered = ethA_filtered.astype({ 'rate': 'float' })\n",
        "\n",
        "    fork_df = ethA_filtered[\n",
        "        ethA_filtered['fn_name'] == 'fork'\n",
        "    ]\n",
        "\n",
        "    def decode(row):\n",
        "        row['usr'] = row['src']\n",
        "        row['src'] = None\n",
        "\n",
        "        row['dart'] = -row['dart']\n",
        "\n",
        "        return row\n",
        "\n",
        "    fork_df_inv = fork_df.apply(decode, axis=1)\n",
        "\n",
        "    return pd.concat([ethA_filtered, fork_df_inv], axis=0).sort_index()\n",
        "\n",
        "# %%\n",
        "eth_dai_rates = None\n",
        "file_name = \"ethA-dai-price.csv\"\n",
        "with open(file_name, 'rb+') as f:\n",
        "    eth_dai_rates = pickle.load(f)\n",
        "\n",
        "#%%\n",
        "rate = EthDaiRate(eth_dai_rates)\n",
        "\n",
        "# %%\n",
        "file_name = \"maker_vat_calls_ethA_2019-2022.csv\" #\"maker_vat_calls_ethA_2019-2021.csv\"\n",
        "ethA = pd.read_csv(file_name).drop(columns=['Unnamed: 0','state','Unnamed: 0.1'])\n",
        "# ethA = pid(vat_E, '0x7B7C741957e8aaFb485c3F5dE78b324B7EF3309D')\n",
        "\n",
        "ethA_default = filter_ethA_data(ethA)\n",
        "\n",
        "# %%\n",
        "grouped = ethA_default.groupby('usr')\n",
        "grab = ethA[ethA['fn_name'] == 'grab']\n",
        "grab_usr = set(grab.groupby('usr').groups.keys())\n",
        "other_usr = set(grouped.groups.keys()) - grab_usr\n",
        "\n",
        "# get credits of users who weren't liquidated\n",
        "loans_all = []\n",
        "for v in tqdm(other_usr):\n",
        "    v_gr = grouped.get_group(v)\n",
        "    loans = split_frob_fork_ops(v_gr)\n",
        "    \n",
        "    loans_all.extend(loans)\n",
        "    \n",
        "loans_all = pd.DataFrame(loans_all)\n",
        "\n",
        "\n",
        "#%%\n",
        "stat = []\n",
        "\n",
        "# get credits of users who were liquidated at least once\n",
        "for vault in tqdm(grab_usr):\n",
        "    group = grouped.get_group(vault)\n",
        "\n",
        "    stat.extend(\n",
        "        [row for row in get_results(group, rate)]\n",
        "    )\n",
        "\n",
        "# %%\n",
        "loans = pd.DataFrame(stat)\n",
        "loans = loans[loans['LGD'] > 0.0]"
      ]
    },
    {
      "cell_type": "code",
      "execution_count": 9,
      "id": "operating-uncle",
      "metadata": {
        "colab": {
          "base_uri": "https://localhost:8080/"
        },
        "id": "operating-uncle",
        "outputId": "b621abf0-c959-4531-cc9a-c2d5ba947b90"
      },
      "outputs": [
        {
          "output_type": "stream",
          "name": "stdout",
          "text": [
            "totoal usr: 18182\n",
            "total number of loan: 21347\n",
            "total locked collateral: 1699893.642765191 ETH\n",
            "total generated debt: 677963866.3178785 DAI\n",
            "the average daily loan: 5.982507288629738 loans\n"
          ]
        }
      ],
      "source": [
        "list_usr = list(set(grouped.groups.keys()))\n",
        "df_usr_isin = vat_E[vat_E.usr.isin(list_usr)]\n",
        "tot_dai = df_usr_isin.dart.sum()\n",
        "tot_eth = df_usr_isin.dink.sum()\n",
        "\n",
        "tot_usr = len(set(grouped.groups.keys()))\n",
        "tot_loan = loans.shape[0] + loans_all.shape[0] #credit_pd.shape[0] + finished_credits.shape[0]\n",
        "print(f\"totoal usr: {tot_usr}\\ntotal number of loan: {tot_loan}\\ntotal locked collateral: {tot_eth} ETH\\ntotal generated debt: {tot_dai} DAI\")\n",
        "s = pd.to_datetime(credit_pd.start)\n",
        "credit_d_count = pd.DataFrame(s.groupby(s.dt.floor('d')).size().reset_index(name='count'))\n",
        "pd.to_numeric(credit_d_count['count']).mean()\n",
        "print(f\"the average daily loan: {pd.to_numeric(credit_d_count['count']).mean()} loans\")\n"
      ]
    },
    {
      "cell_type": "code",
      "execution_count": 10,
      "id": "owned-found",
      "metadata": {
        "colab": {
          "base_uri": "https://localhost:8080/"
        },
        "id": "owned-found",
        "outputId": "14fa6d66-a276-48b3-b138-0ba5e54c7461"
      },
      "outputs": [
        {
          "output_type": "stream",
          "name": "stdout",
          "text": [
            "the mean time until default: 105.67052184125967 days\n"
          ]
        }
      ],
      "source": [
        "# overall lambda (when consider the whole loan during 2019-2022)\n",
        "p = (loans.shape[0] + loans_all.shape[0])/ (loans['duration (mins)'].sum() + loans_all['duration (mins)'].sum())\n",
        "t_p = (1/p)/(60*24)\n",
        "print(f\"the mean time until default: {t_p} days\")"
      ]
    },
    {
      "cell_type": "markdown",
      "id": "reverse-amino",
      "metadata": {
        "id": "reverse-amino"
      },
      "source": [
        "\n",
        "### The daily number of active debts (N in A_N)"
      ]
    },
    {
      "cell_type": "code",
      "execution_count": 11,
      "id": "further-advantage",
      "metadata": {
        "id": "further-advantage",
        "scrolled": false
      },
      "outputs": [],
      "source": [
        "# # consider only default case (grab_usr)\n",
        "# df_grab = vat_E[vat_E[vat_E.columns[2]].isin(list(grab_usr))][(vat_E['fn_name'] != 'grab') & (vat_E['fn_name'] != 'flux')]\n",
        "# s = pd.to_datetime(df_grab.timestamp)\n",
        "# df_grab_count = s.groupby(s.dt.floor('d')).size().reset_index(name='count')\n",
        "# df_grab_count"
      ]
    },
    {
      "cell_type": "markdown",
      "id": "heavy-walter",
      "metadata": {
        "id": "heavy-walter"
      },
      "source": [
        "## Daily variance of each asset (loan)\n",
        "- $a(t)$ be the amount of collateralized assets (ETH/ ink)\n",
        "- $d(t)$ be debt at time $t$. (DAI/ tab)\n",
        "- $e(t)$ the exchange rate of the collateral asset to debt asset and $e(0) =e_0$\n",
        "- $r(t)$ the collateralized ratio for $d(t) > 0$ \n",
        "- If $d(t) = 0$ we can set $r(t) = +\\infty$.  \n",
        "\n",
        "- $ \\hat \\sigma = \\sqrt{\\frac{1}{N} \\sum_{n=1}^N \\left(\\ln \\left(\\frac{e(t_n)}{e(t_{n-1})}\\right)\\right)^2/(t_n - t_{n-1})} $\n",
        "\n",
        "-  $x_{\\min} = \\frac{1}{\\sigma} \\ln \\left(\\frac{d_0  \\cdot r_{\\min}}{a_0 \\cdot e_0}\\right)$ by Brownian motion  $\\texttt{B}_t$\n",
        "-  $x_{\\min}(t) = \\frac{1}{\\sigma} \\ln \\left(\\frac{d_0  \\cdot r_{\\min}}{a_0 \\cdot e_0}\\right) + ft = x_{\\min} + ft$\n",
        "- $\\psi(x_{min}) = P\\left(T_{x_{\\min }, f}<T\\right)=\\int_{0}^{T} \\frac{-x_{\\min }-f t}{\\sqrt{2 \\pi s^{3}}} e^{-\\frac{\\left(x_{\\min }+f t\\right)^{2}}{2 s}} d s .$\n",
        "- $\\texttt{var} = \\psi(x_{\\min}) \\cdot (1 - \\psi(x_{\\min}))$ "
      ]
    },
    {
      "cell_type": "code",
      "execution_count": 12,
      "id": "scheduled-whale",
      "metadata": {
        "colab": {
          "base_uri": "https://localhost:8080/"
        },
        "id": "scheduled-whale",
        "outputId": "e3d43032-6e14-4a2a-a6b9-8d6597f8f969",
        "scrolled": true
      },
      "outputs": [
        {
          "output_type": "stream",
          "name": "stderr",
          "text": [
            "22403it [00:07, 2907.17it/s]\n"
          ]
        }
      ],
      "source": [
        "daieth2 = daieth2.reset_index(drop=True)\n",
        "tot_l = 0\n",
        "for index, row in tqdm(daieth2[1:].iterrows()): \n",
        "    n = daieth2.loc[index,'timestamp']  \n",
        "    n_1 = daieth2.loc[index-1,'timestamp']  \n",
        "    tot_l += (math.log(daieth2.loc[index,'dai/eth']/daieth2.loc[index-1,'dai/eth']))**2/((n-n_1).total_seconds()/(60*60)) # s -> h\n",
        "sigma = sqrt(tot_l/daieth2.shape[0]) "
      ]
    },
    {
      "cell_type": "code",
      "execution_count": 13,
      "id": "starting-anime",
      "metadata": {
        "colab": {
          "base_uri": "https://localhost:8080/"
        },
        "id": "starting-anime",
        "outputId": "d873a422-ab20-49ff-9c62-cb9e2c9f61bf"
      },
      "outputs": [
        {
          "output_type": "execute_result",
          "data": {
            "text/plain": [
              "0.0103938695479795"
            ]
          },
          "metadata": {},
          "execution_count": 13
        }
      ],
      "source": [
        "sigma"
      ]
    },
    {
      "cell_type": "code",
      "execution_count": 14,
      "id": "tropical-richardson",
      "metadata": {
        "id": "tropical-richardson"
      },
      "outputs": [],
      "source": [
        "vat_E2 = vat_E.copy()\n",
        "vat_E2['timestamp'] = pd.to_datetime(vat_E2['timestamp'], format= '%Y-%m-%d %H:%M:%S UTC')\n",
        "for index, row in vat_E2.iterrows(): \n",
        "    time = row['timestamp']\n",
        "    dink = 1 * row['dink'] \n",
        "    ex_rate_row = daieth2[daieth2['timestamp']>=time]['dai/eth'].iloc[0]\n",
        "    vat_E2.at[index, 'ex_rate'] =  ex_rate_row#daieth2.find_lt(time)\n",
        "    vat_E2.at[index, 'dink_dai'] = (dink * ex_rate_row)  #(dink * eth_dai_rate.find_lt(time)) "
      ]
    },
    {
      "cell_type": "code",
      "execution_count": 15,
      "id": "induced-choir",
      "metadata": {
        "colab": {
          "base_uri": "https://localhost:8080/"
        },
        "id": "induced-choir",
        "outputId": "0c4df788-eb52-4889-abb2-b09ce9525752"
      },
      "outputs": [
        {
          "output_type": "stream",
          "name": "stderr",
          "text": [
            "  0%|          | 0/2530 [00:00<?, ?it/s]/usr/local/lib/python3.7/dist-packages/ipykernel_launcher.py:51: RuntimeWarning: invalid value encountered in log\n",
            "/usr/local/lib/python3.7/dist-packages/ipykernel_launcher.py:51: RuntimeWarning: divide by zero encountered in log\n",
            "/usr/local/lib/python3.7/dist-packages/ipykernel_launcher.py:14: RuntimeWarning: invalid value encountered in double_scalars\n",
            "  \n",
            "/usr/local/lib/python3.7/dist-packages/ipykernel_launcher.py:56: IntegrationWarning: The occurrence of roundoff error is detected, which prevents \n",
            "  the requested tolerance from being achieved.  The error may be \n",
            "  underestimated.\n",
            " 39%|███▉      | 984/2530 [01:03<01:41, 15.25it/s]/usr/local/lib/python3.7/dist-packages/ipykernel_launcher.py:56: IntegrationWarning: The integral is probably divergent, or slowly convergent.\n",
            "100%|██████████| 2530/2530 [02:53<00:00, 14.54it/s]\n"
          ]
        }
      ],
      "source": [
        "\n",
        "def get_stability_fee(t):\n",
        "    sf = (1 + 0.02) ** (1/(365*24)) - 1 # y -> h\n",
        "    return sf\n",
        "\n",
        "def get_cummulative_stability_fee(t1,t2):  \n",
        "    return c_sf\n",
        "\n",
        "def get_collteral_ratio(t):\n",
        "    return 1.5\n",
        "\n",
        "def f(s,xm,t):\n",
        "    sf = get_stability_fee(t)\n",
        "    return -(xm+sf*s)/sqrt(2*pi*s**3) * exp(-(xm+sf*s)**2/(2*s))\n",
        "\n",
        "def table_liq(usr_id):\n",
        "    '''Collect total debt, collateral, collateral ratio, etc.'''\n",
        "    dx = pid(vat_E2, usr_id).drop(columns = ['ilk']).reset_index(drop=True)\n",
        "    dx_l = dx.drop(columns = ['dink']) # 'ex_rate'\n",
        "    dx_l['dtab'] = dx_l['dart'] * dx_l['rate']\n",
        "    dx_l['art'] = dx_l['dart'].cumsum()\n",
        "    dx_l['ink'] = dx_l['dink_dai'].cumsum()  \n",
        "    g = dx_l['fn_name'].eq(\"grab\").shift().bfill().cumsum() \n",
        "    dx_l['tab'] = dx_l.groupby(g)['dtab'].cumsum()\n",
        "\n",
        "    dx_l['collateral ratio'] = 100 * dx_l['ink'] / dx_l['tab'] \n",
        "    dx_l['collateral ratio'] = dx_l['collateral ratio'].replace([np.inf, -np.inf], np.nan) \n",
        "    columns_titles = ['usr','fn_name','timestamp','dart', \"dink_dai\",'dtab',\"wad\",'art', 'ink', 'tab','ex_rate',\"rate\", \"collateral ratio\"]\n",
        "    dx_l = dx_l.reindex(columns=columns_titles)\n",
        "    return dx_l\n",
        "\n",
        "liq_df = pd.DataFrame( )\n",
        "for vault in tqdm(grab_usr):\n",
        "    '''KEEP THE LAST TIMESTAMP OF EACH DAY'''\n",
        "    a = table_liq(vault)\n",
        "    a[\"timestamp\"] = a[\"timestamp\"].astype(\"datetime64\") \n",
        "    a['tab_at_mn'] = a['tab']\n",
        "    a['x_min'] = None\n",
        "    a = a.groupby(a.timestamp.dt.date).last().reset_index(drop=True)\n",
        "\n",
        "    for index, row in a.iterrows(): \n",
        "        date='year/month/day 23:59:59'\n",
        "        midnight_date = date.replace('year', str(row.timestamp.year)).replace('month', str(row.timestamp.month)).replace('day', str(row.timestamp.day))\n",
        "        time_diff = (pd.to_datetime(midnight_date, format='%Y/%m/%d %H:%M:%S')-row.timestamp).total_seconds()/(60*60) # second -> hr\n",
        "        # art with stability fee\n",
        "        sf_t = get_stability_fee(row.timestamp)  \n",
        "        a.at[index, 'tab_at_mn'] = row.tab*(exp(sf_t * time_diff))\n",
        "        # x min\n",
        "        r_min = get_collteral_ratio(row.timestamp) \n",
        "        if row['ink']!= 0:\n",
        "            a.at[index, 'x_min'] = np.log((row['tab_at_mn'] * r_min)/(row['ink']))/sigma + sf_t*(24) # 1 day -> hr  # del * row['ex_rate'] due to ink in DAI already\n",
        "        else:\n",
        "            a.at[index, 'x_min'] = np.inf      \n",
        "        # \\psi & var\n",
        "        if a.at[index,'x_min'] <= 0:\n",
        "            psi = quad(f, 0, (24), args=(a.at[index,'x_min'],row.timestamp))[0] # day -> hr  \n",
        "            a.at[index,'psi'] = psi  \n",
        "            a.at[index,'var'] = psi * (1- psi) \n",
        "        else:  \n",
        "            a.at[index,'psi'] = None  \n",
        "            a.at[index,'var'] = None\n",
        "\n",
        "    liq_df = liq_df.append(a, ignore_index=True)\n",
        "    liq_df = liq_df[liq_df['tab_at_mn']>0]\n",
        "    \n"
      ]
    },
    {
      "cell_type": "code",
      "execution_count": 16,
      "id": "mRgKJUSMhJ6n",
      "metadata": {
        "colab": {
          "base_uri": "https://localhost:8080/",
          "height": 657
        },
        "id": "mRgKJUSMhJ6n",
        "outputId": "2b6cafac-72be-451f-f99c-5ec0f7865681"
      },
      "outputs": [
        {
          "output_type": "execute_result",
          "data": {
            "text/plain": [
              "                                              usr fn_name   timestamp  \\\n",
              "0      0xAB4bF6900d10612E50286b040763cF3d7e13E085    frob  2019-11-21   \n",
              "1      0xAB4bF6900d10612E50286b040763cF3d7e13E085    frob  2019-12-10   \n",
              "2      0x10Dd8c1068d5d4Cf1Cb4F7656d31E22DA81d13ce    frob  2021-05-19   \n",
              "3      0x10Dd8c1068d5d4Cf1Cb4F7656d31E22DA81d13ce    frob  2021-05-20   \n",
              "4      0x10Dd8c1068d5d4Cf1Cb4F7656d31E22DA81d13ce    frob  2021-05-23   \n",
              "...                                           ...     ...         ...   \n",
              "28449  0xb409d9Ccc25234771e82aF6899E1812e27703844    frob  2020-07-23   \n",
              "28450  0xb409d9Ccc25234771e82aF6899E1812e27703844    frob  2020-07-24   \n",
              "28451  0xb409d9Ccc25234771e82aF6899E1812e27703844    frob  2020-07-25   \n",
              "28452  0xb409d9Ccc25234771e82aF6899E1812e27703844    frob  2020-07-26   \n",
              "28455  0xb409d9Ccc25234771e82aF6899E1812e27703844    frob  2020-08-02   \n",
              "\n",
              "               dart      dink_dai     dtab  wad           art           ink  \\\n",
              "0         49.956679    143.808885     50.0  NaN     49.956679    143.808885   \n",
              "1          0.000000    -99.792990      0.0  NaN     20.043934     44.015895   \n",
              "2      23970.023117  59440.400000  25000.0  NaN  23970.023117  59440.400000   \n",
              "3          0.000000   7560.146405      0.0  NaN  23970.023117  67000.546405   \n",
              "4          0.000000   6003.480000      0.0  NaN  23970.023117  73004.026405   \n",
              "...             ...           ...      ...  ...           ...           ...   \n",
              "28449    980.351901      0.000000   1000.0  NaN  23669.200706  38350.341175   \n",
              "28450   1470.527852      0.000000   1500.0  NaN  25139.728557  40329.828427   \n",
              "28451      0.000000   3219.876681      0.0  NaN  28346.474002  43549.705107   \n",
              "28452      0.000000    925.960834      0.0  NaN  28346.474002  44475.665941   \n",
              "28455   -980.351901      0.000000  -1000.0  NaN  34974.200592  54387.373703   \n",
              "\n",
              "                tab      ex_rate      rate  collateral ratio     tab_at_mn  \\\n",
              "0         50.000000   159.787650  1.000867        287.617770     50.000260   \n",
              "1         20.000000   144.627522  1.002917        220.079475     20.000042   \n",
              "2      25000.000000  2972.020000  1.042969        237.761600  25000.878563   \n",
              "3      25000.000000  2520.048802  1.043076        268.002186  25001.289472   \n",
              "4      25000.000000  2001.160000  1.043625        292.016106  25000.489734   \n",
              "...             ...          ...       ...               ...           ...   \n",
              "28449  24143.059998   275.103766  1.020042        158.846232  24143.261056   \n",
              "28450  25643.059998   283.505787  1.020042        157.273853  25643.294770   \n",
              "28451  28914.074662   303.949559  1.020042        150.617668  28914.201320   \n",
              "28452  28914.074662   308.653611  1.020042        153.820126  28914.394504   \n",
              "28455  35674.633378   359.495000  1.020042        152.453911  35675.567463   \n",
              "\n",
              "           x_min           psi           var  \n",
              "0     -62.632742  1.992621e-37  1.992621e-37  \n",
              "1     -36.882594  5.128041e-14  5.128041e-14  \n",
              "2     -44.317723  1.478859e-19  1.478859e-19  \n",
              "3     -55.836691  4.297759e-30  4.297759e-30  \n",
              "4     -64.092886  4.124297e-39  4.124297e-39  \n",
              "...          ...           ...           ...  \n",
              "28449   -5.51294  2.604535e-01  1.926175e-01  \n",
              "28450  -4.555831  3.523959e-01  2.282130e-01  \n",
              "28451  -0.395307  9.356800e-01  6.018296e-02  \n",
              "28452  -2.419508  6.213900e-01  2.352645e-01  \n",
              "28455  -1.561157  7.499737e-01  1.875131e-01  \n",
              "\n",
              "[16487 rows x 17 columns]"
            ],
            "text/html": [
              "\n",
              "  <div id=\"df-8780d9e4-15e1-427d-ad3a-f5f785c36a04\">\n",
              "    <div class=\"colab-df-container\">\n",
              "      <div>\n",
              "<style scoped>\n",
              "    .dataframe tbody tr th:only-of-type {\n",
              "        vertical-align: middle;\n",
              "    }\n",
              "\n",
              "    .dataframe tbody tr th {\n",
              "        vertical-align: top;\n",
              "    }\n",
              "\n",
              "    .dataframe thead th {\n",
              "        text-align: right;\n",
              "    }\n",
              "</style>\n",
              "<table border=\"1\" class=\"dataframe\">\n",
              "  <thead>\n",
              "    <tr style=\"text-align: right;\">\n",
              "      <th></th>\n",
              "      <th>usr</th>\n",
              "      <th>fn_name</th>\n",
              "      <th>timestamp</th>\n",
              "      <th>dart</th>\n",
              "      <th>dink_dai</th>\n",
              "      <th>dtab</th>\n",
              "      <th>wad</th>\n",
              "      <th>art</th>\n",
              "      <th>ink</th>\n",
              "      <th>tab</th>\n",
              "      <th>ex_rate</th>\n",
              "      <th>rate</th>\n",
              "      <th>collateral ratio</th>\n",
              "      <th>tab_at_mn</th>\n",
              "      <th>x_min</th>\n",
              "      <th>psi</th>\n",
              "      <th>var</th>\n",
              "    </tr>\n",
              "  </thead>\n",
              "  <tbody>\n",
              "    <tr>\n",
              "      <th>0</th>\n",
              "      <td>0xAB4bF6900d10612E50286b040763cF3d7e13E085</td>\n",
              "      <td>frob</td>\n",
              "      <td>2019-11-21</td>\n",
              "      <td>49.956679</td>\n",
              "      <td>143.808885</td>\n",
              "      <td>50.0</td>\n",
              "      <td>NaN</td>\n",
              "      <td>49.956679</td>\n",
              "      <td>143.808885</td>\n",
              "      <td>50.000000</td>\n",
              "      <td>159.787650</td>\n",
              "      <td>1.000867</td>\n",
              "      <td>287.617770</td>\n",
              "      <td>50.000260</td>\n",
              "      <td>-62.632742</td>\n",
              "      <td>1.992621e-37</td>\n",
              "      <td>1.992621e-37</td>\n",
              "    </tr>\n",
              "    <tr>\n",
              "      <th>1</th>\n",
              "      <td>0xAB4bF6900d10612E50286b040763cF3d7e13E085</td>\n",
              "      <td>frob</td>\n",
              "      <td>2019-12-10</td>\n",
              "      <td>0.000000</td>\n",
              "      <td>-99.792990</td>\n",
              "      <td>0.0</td>\n",
              "      <td>NaN</td>\n",
              "      <td>20.043934</td>\n",
              "      <td>44.015895</td>\n",
              "      <td>20.000000</td>\n",
              "      <td>144.627522</td>\n",
              "      <td>1.002917</td>\n",
              "      <td>220.079475</td>\n",
              "      <td>20.000042</td>\n",
              "      <td>-36.882594</td>\n",
              "      <td>5.128041e-14</td>\n",
              "      <td>5.128041e-14</td>\n",
              "    </tr>\n",
              "    <tr>\n",
              "      <th>2</th>\n",
              "      <td>0x10Dd8c1068d5d4Cf1Cb4F7656d31E22DA81d13ce</td>\n",
              "      <td>frob</td>\n",
              "      <td>2021-05-19</td>\n",
              "      <td>23970.023117</td>\n",
              "      <td>59440.400000</td>\n",
              "      <td>25000.0</td>\n",
              "      <td>NaN</td>\n",
              "      <td>23970.023117</td>\n",
              "      <td>59440.400000</td>\n",
              "      <td>25000.000000</td>\n",
              "      <td>2972.020000</td>\n",
              "      <td>1.042969</td>\n",
              "      <td>237.761600</td>\n",
              "      <td>25000.878563</td>\n",
              "      <td>-44.317723</td>\n",
              "      <td>1.478859e-19</td>\n",
              "      <td>1.478859e-19</td>\n",
              "    </tr>\n",
              "    <tr>\n",
              "      <th>3</th>\n",
              "      <td>0x10Dd8c1068d5d4Cf1Cb4F7656d31E22DA81d13ce</td>\n",
              "      <td>frob</td>\n",
              "      <td>2021-05-20</td>\n",
              "      <td>0.000000</td>\n",
              "      <td>7560.146405</td>\n",
              "      <td>0.0</td>\n",
              "      <td>NaN</td>\n",
              "      <td>23970.023117</td>\n",
              "      <td>67000.546405</td>\n",
              "      <td>25000.000000</td>\n",
              "      <td>2520.048802</td>\n",
              "      <td>1.043076</td>\n",
              "      <td>268.002186</td>\n",
              "      <td>25001.289472</td>\n",
              "      <td>-55.836691</td>\n",
              "      <td>4.297759e-30</td>\n",
              "      <td>4.297759e-30</td>\n",
              "    </tr>\n",
              "    <tr>\n",
              "      <th>4</th>\n",
              "      <td>0x10Dd8c1068d5d4Cf1Cb4F7656d31E22DA81d13ce</td>\n",
              "      <td>frob</td>\n",
              "      <td>2021-05-23</td>\n",
              "      <td>0.000000</td>\n",
              "      <td>6003.480000</td>\n",
              "      <td>0.0</td>\n",
              "      <td>NaN</td>\n",
              "      <td>23970.023117</td>\n",
              "      <td>73004.026405</td>\n",
              "      <td>25000.000000</td>\n",
              "      <td>2001.160000</td>\n",
              "      <td>1.043625</td>\n",
              "      <td>292.016106</td>\n",
              "      <td>25000.489734</td>\n",
              "      <td>-64.092886</td>\n",
              "      <td>4.124297e-39</td>\n",
              "      <td>4.124297e-39</td>\n",
              "    </tr>\n",
              "    <tr>\n",
              "      <th>...</th>\n",
              "      <td>...</td>\n",
              "      <td>...</td>\n",
              "      <td>...</td>\n",
              "      <td>...</td>\n",
              "      <td>...</td>\n",
              "      <td>...</td>\n",
              "      <td>...</td>\n",
              "      <td>...</td>\n",
              "      <td>...</td>\n",
              "      <td>...</td>\n",
              "      <td>...</td>\n",
              "      <td>...</td>\n",
              "      <td>...</td>\n",
              "      <td>...</td>\n",
              "      <td>...</td>\n",
              "      <td>...</td>\n",
              "      <td>...</td>\n",
              "    </tr>\n",
              "    <tr>\n",
              "      <th>28449</th>\n",
              "      <td>0xb409d9Ccc25234771e82aF6899E1812e27703844</td>\n",
              "      <td>frob</td>\n",
              "      <td>2020-07-23</td>\n",
              "      <td>980.351901</td>\n",
              "      <td>0.000000</td>\n",
              "      <td>1000.0</td>\n",
              "      <td>NaN</td>\n",
              "      <td>23669.200706</td>\n",
              "      <td>38350.341175</td>\n",
              "      <td>24143.059998</td>\n",
              "      <td>275.103766</td>\n",
              "      <td>1.020042</td>\n",
              "      <td>158.846232</td>\n",
              "      <td>24143.261056</td>\n",
              "      <td>-5.51294</td>\n",
              "      <td>2.604535e-01</td>\n",
              "      <td>1.926175e-01</td>\n",
              "    </tr>\n",
              "    <tr>\n",
              "      <th>28450</th>\n",
              "      <td>0xb409d9Ccc25234771e82aF6899E1812e27703844</td>\n",
              "      <td>frob</td>\n",
              "      <td>2020-07-24</td>\n",
              "      <td>1470.527852</td>\n",
              "      <td>0.000000</td>\n",
              "      <td>1500.0</td>\n",
              "      <td>NaN</td>\n",
              "      <td>25139.728557</td>\n",
              "      <td>40329.828427</td>\n",
              "      <td>25643.059998</td>\n",
              "      <td>283.505787</td>\n",
              "      <td>1.020042</td>\n",
              "      <td>157.273853</td>\n",
              "      <td>25643.294770</td>\n",
              "      <td>-4.555831</td>\n",
              "      <td>3.523959e-01</td>\n",
              "      <td>2.282130e-01</td>\n",
              "    </tr>\n",
              "    <tr>\n",
              "      <th>28451</th>\n",
              "      <td>0xb409d9Ccc25234771e82aF6899E1812e27703844</td>\n",
              "      <td>frob</td>\n",
              "      <td>2020-07-25</td>\n",
              "      <td>0.000000</td>\n",
              "      <td>3219.876681</td>\n",
              "      <td>0.0</td>\n",
              "      <td>NaN</td>\n",
              "      <td>28346.474002</td>\n",
              "      <td>43549.705107</td>\n",
              "      <td>28914.074662</td>\n",
              "      <td>303.949559</td>\n",
              "      <td>1.020042</td>\n",
              "      <td>150.617668</td>\n",
              "      <td>28914.201320</td>\n",
              "      <td>-0.395307</td>\n",
              "      <td>9.356800e-01</td>\n",
              "      <td>6.018296e-02</td>\n",
              "    </tr>\n",
              "    <tr>\n",
              "      <th>28452</th>\n",
              "      <td>0xb409d9Ccc25234771e82aF6899E1812e27703844</td>\n",
              "      <td>frob</td>\n",
              "      <td>2020-07-26</td>\n",
              "      <td>0.000000</td>\n",
              "      <td>925.960834</td>\n",
              "      <td>0.0</td>\n",
              "      <td>NaN</td>\n",
              "      <td>28346.474002</td>\n",
              "      <td>44475.665941</td>\n",
              "      <td>28914.074662</td>\n",
              "      <td>308.653611</td>\n",
              "      <td>1.020042</td>\n",
              "      <td>153.820126</td>\n",
              "      <td>28914.394504</td>\n",
              "      <td>-2.419508</td>\n",
              "      <td>6.213900e-01</td>\n",
              "      <td>2.352645e-01</td>\n",
              "    </tr>\n",
              "    <tr>\n",
              "      <th>28455</th>\n",
              "      <td>0xb409d9Ccc25234771e82aF6899E1812e27703844</td>\n",
              "      <td>frob</td>\n",
              "      <td>2020-08-02</td>\n",
              "      <td>-980.351901</td>\n",
              "      <td>0.000000</td>\n",
              "      <td>-1000.0</td>\n",
              "      <td>NaN</td>\n",
              "      <td>34974.200592</td>\n",
              "      <td>54387.373703</td>\n",
              "      <td>35674.633378</td>\n",
              "      <td>359.495000</td>\n",
              "      <td>1.020042</td>\n",
              "      <td>152.453911</td>\n",
              "      <td>35675.567463</td>\n",
              "      <td>-1.561157</td>\n",
              "      <td>7.499737e-01</td>\n",
              "      <td>1.875131e-01</td>\n",
              "    </tr>\n",
              "  </tbody>\n",
              "</table>\n",
              "<p>16487 rows × 17 columns</p>\n",
              "</div>\n",
              "      <button class=\"colab-df-convert\" onclick=\"convertToInteractive('df-8780d9e4-15e1-427d-ad3a-f5f785c36a04')\"\n",
              "              title=\"Convert this dataframe to an interactive table.\"\n",
              "              style=\"display:none;\">\n",
              "        \n",
              "  <svg xmlns=\"http://www.w3.org/2000/svg\" height=\"24px\"viewBox=\"0 0 24 24\"\n",
              "       width=\"24px\">\n",
              "    <path d=\"M0 0h24v24H0V0z\" fill=\"none\"/>\n",
              "    <path d=\"M18.56 5.44l.94 2.06.94-2.06 2.06-.94-2.06-.94-.94-2.06-.94 2.06-2.06.94zm-11 1L8.5 8.5l.94-2.06 2.06-.94-2.06-.94L8.5 2.5l-.94 2.06-2.06.94zm10 10l.94 2.06.94-2.06 2.06-.94-2.06-.94-.94-2.06-.94 2.06-2.06.94z\"/><path d=\"M17.41 7.96l-1.37-1.37c-.4-.4-.92-.59-1.43-.59-.52 0-1.04.2-1.43.59L10.3 9.45l-7.72 7.72c-.78.78-.78 2.05 0 2.83L4 21.41c.39.39.9.59 1.41.59.51 0 1.02-.2 1.41-.59l7.78-7.78 2.81-2.81c.8-.78.8-2.07 0-2.86zM5.41 20L4 18.59l7.72-7.72 1.47 1.35L5.41 20z\"/>\n",
              "  </svg>\n",
              "      </button>\n",
              "      \n",
              "  <style>\n",
              "    .colab-df-container {\n",
              "      display:flex;\n",
              "      flex-wrap:wrap;\n",
              "      gap: 12px;\n",
              "    }\n",
              "\n",
              "    .colab-df-convert {\n",
              "      background-color: #E8F0FE;\n",
              "      border: none;\n",
              "      border-radius: 50%;\n",
              "      cursor: pointer;\n",
              "      display: none;\n",
              "      fill: #1967D2;\n",
              "      height: 32px;\n",
              "      padding: 0 0 0 0;\n",
              "      width: 32px;\n",
              "    }\n",
              "\n",
              "    .colab-df-convert:hover {\n",
              "      background-color: #E2EBFA;\n",
              "      box-shadow: 0px 1px 2px rgba(60, 64, 67, 0.3), 0px 1px 3px 1px rgba(60, 64, 67, 0.15);\n",
              "      fill: #174EA6;\n",
              "    }\n",
              "\n",
              "    [theme=dark] .colab-df-convert {\n",
              "      background-color: #3B4455;\n",
              "      fill: #D2E3FC;\n",
              "    }\n",
              "\n",
              "    [theme=dark] .colab-df-convert:hover {\n",
              "      background-color: #434B5C;\n",
              "      box-shadow: 0px 1px 3px 1px rgba(0, 0, 0, 0.15);\n",
              "      filter: drop-shadow(0px 1px 2px rgba(0, 0, 0, 0.3));\n",
              "      fill: #FFFFFF;\n",
              "    }\n",
              "  </style>\n",
              "\n",
              "      <script>\n",
              "        const buttonEl =\n",
              "          document.querySelector('#df-8780d9e4-15e1-427d-ad3a-f5f785c36a04 button.colab-df-convert');\n",
              "        buttonEl.style.display =\n",
              "          google.colab.kernel.accessAllowed ? 'block' : 'none';\n",
              "\n",
              "        async function convertToInteractive(key) {\n",
              "          const element = document.querySelector('#df-8780d9e4-15e1-427d-ad3a-f5f785c36a04');\n",
              "          const dataTable =\n",
              "            await google.colab.kernel.invokeFunction('convertToInteractive',\n",
              "                                                     [key], {});\n",
              "          if (!dataTable) return;\n",
              "\n",
              "          const docLinkHtml = 'Like what you see? Visit the ' +\n",
              "            '<a target=\"_blank\" href=https://colab.research.google.com/notebooks/data_table.ipynb>data table notebook</a>'\n",
              "            + ' to learn more about interactive tables.';\n",
              "          element.innerHTML = '';\n",
              "          dataTable['output_type'] = 'display_data';\n",
              "          await google.colab.output.renderOutput(dataTable, element);\n",
              "          const docLink = document.createElement('div');\n",
              "          docLink.innerHTML = docLinkHtml;\n",
              "          element.appendChild(docLink);\n",
              "        }\n",
              "      </script>\n",
              "    </div>\n",
              "  </div>\n",
              "  "
            ]
          },
          "metadata": {},
          "execution_count": 16
        }
      ],
      "source": [
        "liq_df2 = liq_df.copy()\n",
        "liq_df2[\"timestamp\"] = liq_df2[\"timestamp\"].astype(\"datetime64\").dt.date \n",
        "\n",
        "a = liq_df2[~liq_df2['x_min'].isin([np.inf, -np.inf])]\n",
        "liq_df2 = a[~a['x_min'].isnull() & ~a['psi'].isnull()]\n",
        "liq_df2"
      ]
    },
    {
      "cell_type": "code",
      "execution_count": 17,
      "id": "avJfC1z3rBrb",
      "metadata": {
        "colab": {
          "base_uri": "https://localhost:8080/"
        },
        "id": "avJfC1z3rBrb",
        "outputId": "73f21494-765e-4e9d-b831-5bdf5fd55653"
      },
      "outputs": [
        {
          "output_type": "execute_result",
          "data": {
            "text/plain": [
              "(16487, 0)"
            ]
          },
          "metadata": {},
          "execution_count": 17
        }
      ],
      "source": [
        "liq_df2.shape[0], liq_df2[liq_df2['x_min'] > 0 ].shape[0],"
      ]
    },
    {
      "cell_type": "code",
      "execution_count": 18,
      "id": "9voPcnLsrJ_x",
      "metadata": {
        "colab": {
          "base_uri": "https://localhost:8080/"
        },
        "id": "9voPcnLsrJ_x",
        "outputId": "c2cf2037-6e6a-4a12-a071-ab949dbb5fd0"
      },
      "outputs": [
        {
          "output_type": "execute_result",
          "data": {
            "text/plain": [
              "(0, 0, 0, 0)"
            ]
          },
          "metadata": {},
          "execution_count": 18
        }
      ],
      "source": [
        "# check x_min < 0 NaN\n",
        "len(liq_df2[liq_df2['x_min'] > 0]),len(liq_df2[liq_df2['x_min'].isnull()]),len(liq_df2[liq_df2['psi'].isnull()]),len(liq_df2[liq_df2['var'].isnull()])"
      ]
    },
    {
      "cell_type": "code",
      "execution_count": 19,
      "id": "fabulous-japanese",
      "metadata": {
        "colab": {
          "base_uri": "https://localhost:8080/",
          "height": 312
        },
        "id": "fabulous-japanese",
        "outputId": "f4c309c9-9f8a-4843-a005-754367181b6c"
      },
      "outputs": [
        {
          "output_type": "stream",
          "name": "stdout",
          "text": [
            "scale of x_min (-3694.332501090082,-4.1813505831886307e-05)\n"
          ]
        },
        {
          "output_type": "display_data",
          "data": {
            "text/plain": [
              "<Figure size 432x288 with 1 Axes>"
            ],
            "image/png": "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\n"
          },
          "metadata": {
            "needs_background": "light"
          }
        }
      ],
      "source": [
        "# plot psi x_min \n",
        "n_inf_x_min = liq_df2[~liq_df2['x_min'].isin([np.inf, -np.inf])].sort_values(by=['x_min'])\n",
        "print(f\"scale of x_min ({n_inf_x_min['x_min'].min()},{n_inf_x_min['x_min'].max()})\")\n",
        "plt.plot(list(-n_inf_x_min[\"x_min\"]),list( n_inf_x_min[\"psi\"]))\n",
        "plt.xlabel(r'$-x_{min}$',size = 15)\n",
        "plt.ylabel(r\"$\\psi$\",size = 15)\n",
        "# plt.grid(True)\n",
        "plt.xlim((0,100))\n",
        "plt.tight_layout()\n",
        "plt.show()"
      ]
    },
    {
      "cell_type": "code",
      "execution_count": 20,
      "id": "HYNDR4ArrXof",
      "metadata": {
        "colab": {
          "base_uri": "https://localhost:8080/",
          "height": 327
        },
        "id": "HYNDR4ArrXof",
        "outputId": "0e010a00-29dc-46bf-f87c-5fc87d06aac9"
      },
      "outputs": [
        {
          "output_type": "display_data",
          "data": {
            "text/plain": [
              "<Figure size 576x288 with 2 Axes>"
            ],
            "image/png": "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\n"
          },
          "metadata": {
            "needs_background": "light"
          }
        }
      ],
      "source": [
        "\n",
        "fig, ax1 = plt.subplots(1,1,  figsize=(8,4) )\n",
        "n_inf_x_min['x_min'].hist(ax=ax1, bins=10000, color='green',alpha = 0.3, label = r'$x_{min}$')\n",
        "ax2 = ax1.twinx()\n",
        "n_inf_x_min.plot.line(ax=ax2,x='x_min', y='psi', color='blue', label = r'$\\psi$')\n",
        "ax1.set_xlim((0,-50)) \n",
        "ax2.set_xlim((0,-50)) \n",
        "\n",
        "ax2.set_ylabel(r'$\\psi$', fontsize=18) # from theory \n",
        "ax1.set_ylabel(r'The total number of transactions', fontsize=18) # from actual data\n",
        "ax1.set_xlabel(r'$x_{min}$', fontsize=18) \n",
        "locs = [\"upper right\", \"lower right\"]\n",
        "ax1.legend(loc=locs[0])\n",
        "ax2.legend(loc=locs[1])\n",
        "plt.show()"
      ]
    },
    {
      "cell_type": "code",
      "execution_count": 21,
      "id": "-1W8TGjhrlmV",
      "metadata": {
        "colab": {
          "base_uri": "https://localhost:8080/",
          "height": 284
        },
        "id": "-1W8TGjhrlmV",
        "outputId": "b2e71e03-d3f6-4d8a-be6c-c653d2cd9412"
      },
      "outputs": [
        {
          "output_type": "display_data",
          "data": {
            "text/plain": [
              "<Figure size 432x288 with 1 Axes>"
            ],
            "image/png": "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\n"
          },
          "metadata": {
            "needs_background": "light"
          }
        }
      ],
      "source": [
        "#sort data\n",
        "data=list(n_inf_x_min['x_min'])\n",
        "data = [-x for x in data]\n",
        "x = np.sort(data)\n",
        "\n",
        "#calculate CDF values\n",
        "y = 1. * np.arange(len(data)) / (len(data) - 1)\n",
        "\n",
        "#plot CDF\n",
        "plt.plot(x, y, label = r'Cumulative distribution function of $x_{min}$')\n",
        "plt.plot(list(-n_inf_x_min[\"x_min\"]),list( n_inf_x_min[\"psi\"]), label = r'$\\psi$')\n",
        "plt.xlabel(r'$-x_{min}$',size = 16)\n",
        "plt.ylabel(\"probability\",size = 16)\n",
        "plt.xlim(-0.01,50)\n",
        "plt.xlabel(r'-$x_{min}$')\n",
        "plt.legend()\n",
        "plt.show()"
      ]
    },
    {
      "cell_type": "code",
      "execution_count": 22,
      "id": "inner-conversion",
      "metadata": {
        "id": "inner-conversion"
      },
      "outputs": [],
      "source": [
        "# s = pd.to_datetime(liq_df2.timestamp)\n",
        "# s.groupby(s.dt.floor('d')).size().reset_index(name='count') "
      ]
    },
    {
      "cell_type": "code",
      "execution_count": 23,
      "id": "north-cover",
      "metadata": {
        "id": "north-cover"
      },
      "outputs": [],
      "source": [
        "# # liq_df2.groupby(by=liq_df2['timestamp'])['x_min'].sum().reset_index().sort_values(by='timestamp').plot.hist(bins=70, alpha=0.5) \n",
        "# ax_axis = liq_df2['x_min'].hist( bins=1000);\n",
        "# ax_axis.set_xlim((0,-100))   "
      ]
    },
    {
      "cell_type": "code",
      "execution_count": 24,
      "id": "quantitative-provincial",
      "metadata": {
        "id": "quantitative-provincial"
      },
      "outputs": [],
      "source": [
        " \n",
        "# l_K = []\n",
        "# for day_idx in tqdm(sorted(list(liq_df2['timestamp'].unique()))):  \n",
        "#     sigma2 = 0.002\n",
        "#     table = liq_df2[liq_df2[\"timestamp\"] == day_idx]\n",
        "#     A = np.array(table['tab_at_mn']) \n",
        "#     K = np.zeros((table.shape[0], table.shape[0]))\n",
        "#     for i,(p_A,x_A) in enumerate(zip(list(table['psi']),list(table['x_min']))):\n",
        "#         for j,(p_B,x_B) in enumerate(zip(list(table['psi']),list(table['x_min']))):\n",
        "#             K[i,j] = p_B * (1-p_A) if x_A > x_B else p_A * (1-p_B)\n",
        "#     l_K.extend(np.diag(K))\n",
        "# plt.hist(l_K, bins=1000);\n",
        "# plt.title(\"Diagonal covaraince matrix\")\n",
        "# plt.ylim(0, 80)"
      ]
    },
    {
      "cell_type": "code",
      "execution_count": 25,
      "id": "overall-period",
      "metadata": {
        "colab": {
          "base_uri": "https://localhost:8080/",
          "height": 337
        },
        "id": "overall-period",
        "outputId": "0cda8e90-f670-443b-d4cd-3bd54f8483fa"
      },
      "outputs": [
        {
          "output_type": "display_data",
          "data": {
            "text/plain": [
              "<Figure size 720x288 with 2 Axes>"
            ],
            "image/png": "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\n"
          },
          "metadata": {
            "needs_background": "light"
          }
        }
      ],
      "source": [
        "# both y axis are in log\n",
        "daieth_gp = daieth2.copy()  \n",
        "daieth_gp[\"timestamp\"] = daieth_gp[\"timestamp\"].astype(\"datetime64\")\n",
        "daieth_gp['dai/eth']= np.log(daieth_gp['dai/eth']) # TAKE log\n",
        "\n",
        "a = vat_E[vat_E.fn_name == 'grab'].drop(['ilk', 'usr','wad','src','dart','dink','rate'], axis=1)\n",
        "a.timestamp = a.timestamp.astype(\"datetime64\")\n",
        "a.timestamp = a.timestamp.dt.date\n",
        "daieth_gp.timestamp = daieth_gp.timestamp.dt.date \n",
        "daieth_gp_group = daieth_gp.groupby(['timestamp']).mean().reset_index(level=0)\n",
        "b = a.groupby('timestamp').count().reset_index(level=['timestamp']).rename(columns={'fn_name': 'Count'})\n",
        "\n",
        "\n",
        "merge_df = pd.merge(b, daieth_gp_group, on='timestamp', how='inner')\n",
        "merge_df[merge_df['Count'] == merge_df['Count'].max()]\n",
        "\n",
        "merge_df['M-Y-Date'] = pd.to_datetime(merge_df['timestamp'])\n",
        "merge_df['M-Y-Date']= merge_df['M-Y-Date'].dt.to_period('M')\n",
        "\n",
        "new = str()\n",
        "list_date = []\n",
        "for j in list(merge_df['M-Y-Date'] ):\n",
        "    if j == new:\n",
        "        list_date.append(\" \")\n",
        "    else:\n",
        "        list_date.append(j.strftime('%b-%Y'))\n",
        "    new = j\n",
        "    \n",
        "###################################################\n",
        "\n",
        "fig, ax1 = plt.subplots(1,1,figsize=(10,4)) \n",
        "merge_df['Count'].plot(ax=ax1, color='blue',kind='bar',log=True, label = 'the number of liquidation')\n",
        "ax2 = ax1.twinx()\n",
        "merge_df['dai/eth'].plot(ax=ax2, color='green', label = 'ln(DAI/ETH)') \n",
        "\n",
        "ax1.set_ylabel('The number of liquidations', fontsize=18) \n",
        "ax2.set_ylabel('ln(DAI/ ETH)', fontsize=18) \n",
        "list_date_replace = [sub.replace('Sep-2021', '').replace('Mar-2022','') for sub in list_date] # due to x label is overlapping\n",
        "ax1.set_xticklabels(list_date_replace,rotation=70, fontsize=14) \n",
        "ax2.set_xticklabels(list_date_replace,rotation=60, fontsize=14) \n",
        "locs = [\"upper right\", \"lower right\"]\n",
        "ax1.legend(loc=locs[0])\n",
        "ax2.legend(loc=locs[1])\n",
        "plt.show()\n"
      ]
    },
    {
      "cell_type": "code",
      "execution_count": 26,
      "id": "-MbxC0S9tNPe",
      "metadata": {
        "id": "-MbxC0S9tNPe"
      },
      "outputs": [],
      "source": [
        "# liq_df_time_sorted = liq_df2.sort_values(by=['timestamp'])\n",
        "# list_threshold = []\n",
        "# list_timestamp = []\n",
        "# for j, usr_id_j in enumerate(list(liq_df_time_sorted.usr.unique())):\n",
        "#   list_threshold.append(list(-1 * liq_df_time_sorted[liq_df_time_sorted['usr'] == usr_id_j].x_min))\n",
        "#   list_timestamp.append(list(liq_df_time_sorted[liq_df_time_sorted['usr'] == usr_id_j].timestamp))\n",
        "\n",
        "# daieth3 = daieth2.copy().drop(columns='timestamp_int')\n",
        "# daieth3.timestamp  = (pd.to_datetime(daieth2['timestamp']).apply(lambda x: x.date()))\n",
        "# daieth3['dai/eth']= np.log(daieth3['dai/eth'])\n",
        "# # plot\n",
        "# fig, ax = plt.subplots(figsize=(20,8))  \n",
        "# ax.plot( 'timestamp', 'dai/eth', data=daieth3 , marker='', color='olive', linewidth=2, label = 'exchange rate dai/eth') \n",
        "\n",
        "# for time_j,threshold_j in zip(list_timestamp,list_threshold):\n",
        "#   ax.plot(time_j,threshold_j, color='red')\n",
        "\n",
        "\n",
        "# ax.set_xlabel('date', fontsize=16)\n",
        "# ax.set_ylabel('ln(DAI/ETH)', fontsize=16) \n",
        "\n"
      ]
    },
    {
      "cell_type": "markdown",
      "id": "passive-oriental",
      "metadata": {
        "id": "passive-oriental"
      },
      "source": [
        "objective function: $$  \\|\\vec{a}\\|_1 \\rightarrow max \\,\\, \\vec{a}$$\n",
        "\n",
        "constraints:\n",
        "$$\n",
        "\\begin{gathered}\n",
        "\\vec{a}^{T} K \\vec{a} \\leq \\sigma^{2} \\cdot\\|\\vec{a}\\|_{1}^{2} \\\\\n",
        "\\overrightarrow{0} \\leq \\vec{a} \\leq \\vec{A}\n",
        "\\end{gathered}\n",
        "$$"
      ]
    },
    {
      "cell_type": "code",
      "execution_count": 27,
      "id": "1bhvIx-Corb7",
      "metadata": {
        "colab": {
          "base_uri": "https://localhost:8080/"
        },
        "id": "1bhvIx-Corb7",
        "outputId": "97849a38-5a99-4cf6-a09b-e37f5931335c"
      },
      "outputs": [
        {
          "output_type": "execute_result",
          "data": {
            "text/plain": [
              "921"
            ]
          },
          "metadata": {},
          "execution_count": 27
        }
      ],
      "source": [
        "abs(liq_df2.timestamp.min()-liq_df2.timestamp.max()).days"
      ]
    },
    {
      "cell_type": "code",
      "execution_count": 28,
      "id": "y2tU5t0vJBCz",
      "metadata": {
        "id": "y2tU5t0vJBCz"
      },
      "outputs": [],
      "source": [
        "df_count = liq_df2.groupby(by=liq_df2['timestamp']).size().reset_index(name='counts').sort_values(by='timestamp') "
      ]
    },
    {
      "cell_type": "code",
      "execution_count": 29,
      "id": "lf11aQlbWQhs",
      "metadata": {
        "colab": {
          "base_uri": "https://localhost:8080/"
        },
        "id": "lf11aQlbWQhs",
        "outputId": "d8301a47-a8e2-4d88-bec7-d59cc54974d4"
      },
      "outputs": [
        {
          "output_type": "stream",
          "name": "stderr",
          "text": [
            "902it [29:39,  1.97s/it]\n"
          ]
        }
      ],
      "source": [
        "from mealpy.bio_based import SMA\n",
        "def obj_function(solution):\n",
        "    \n",
        "    def violate(value):\n",
        "        return 0 if value >= 0 else value\n",
        "\n",
        "    fx = np.sum(solution)\n",
        "\n",
        "    # Increase the punishment for g1 and g4 to boost the algorithm (You can choice any constraint instead of g1 and g4)\n",
        "    fx += violate(margine(solution)) / sigma2  + violate(ub_constraint(solution)) / sigma2\n",
        "  \n",
        "    return fx\n",
        "\n",
        "i = 0\n",
        "tokenized_volume_meta = list()#np.zeros((len(liq_df2['timestamp'].unique()),))\n",
        "margines = list()\n",
        "tokenizations = list()\n",
        "frac_tokenizations = list()\n",
        "vol_A_meta = list()\n",
        "vol_sum_A = list()\n",
        "for ii, day_idx in tqdm(enumerate(sorted(list(liq_df2['timestamp'].unique())))):  \n",
        "  # if df_count['counts'].iloc[ii] >= 10:\n",
        "    sigma2 = 0.00198/1.27  \n",
        "    table = liq_df2[liq_df2[\"timestamp\"] == day_idx]\n",
        "    A = np.array(table['tab_at_mn']) \n",
        "    K = np.zeros((table.shape[0], table.shape[0]))\n",
        "    for i,(p_A,x_A) in enumerate(zip(list(table['psi']),list(table['x_min']))):\n",
        "        for j,(p_B,x_B) in enumerate(zip(list(table['psi']),list(table['x_min']))):\n",
        "            K[i,j] = p_B * (1-p_A) if x_A > x_B else p_A * (1-p_B)\n",
        "    def margine(vector_a, sigma2=sigma2, covariance_matrix=K):\n",
        "      assets_number = len(vector_a)\n",
        "      assert sigma2 > 0, \"Required sigma2 > 0\" \n",
        "      assert np.shape(covariance_matrix) == (assets_number, assets_number), \"Cov matrix should be assets_number X assets_number\"\n",
        "      \n",
        "      return np.matmul(np.matmul(vector_a, covariance_matrix), vector_a) - sigma2 * np.linalg.norm((vector_a), ord=1)**2  \n",
        "\n",
        "    def ub_constraint(vector_a):\n",
        "      return np.sum(vector_a) - np.sum(A) \n",
        "\n",
        "    problem_dict1 = {\n",
        "        \"obj_func\": obj_function,\n",
        "        \"lb\": [0 for x in range(A.shape[0])],\n",
        "        \"ub\": list(A),\n",
        "        \"minmax\": \"max\",\n",
        "        \"verbose\": False,\n",
        "    }\n",
        "\n",
        "    ## Run the algorithm\n",
        "    model1 = SMA.BaseSMA(problem_dict1, epoch=100, pop_size=100, pr=0.03)\n",
        "    model1.solve()\n",
        "    # print(day_idx, np.sum(model1.solution[0]))\n",
        "    tokenized_volume_meta.append(np.sum(model1.solution[0])) # tokenized_volume_meta is wrong, it collect non-sense zero \n",
        "    margines.append(margine(model1.solution[0]))\n",
        "    tokenizations.append(model1.solution[0])\n",
        "    vol_A_meta.append(A)\n",
        "    frac = np.sum(model1.solution[0])/ np.sum(A)\n",
        "    frac_tokenizations.append(frac)\n",
        "    vol_sum_A.append(np.sum(A))\n",
        "    i += 1"
      ]
    },
    {
      "cell_type": "code",
      "execution_count": 29,
      "id": "Ol7rGPNIjHjQ",
      "metadata": {
        "id": "Ol7rGPNIjHjQ"
      },
      "outputs": [],
      "source": [
        ""
      ]
    },
    {
      "cell_type": "code",
      "execution_count": 30,
      "id": "AZ9mtx2HYIpb",
      "metadata": {
        "colab": {
          "base_uri": "https://localhost:8080/",
          "height": 347
        },
        "id": "AZ9mtx2HYIpb",
        "outputId": "f7c60324-76bc-4bcc-8de5-0a09703bffea"
      },
      "outputs": [
        {
          "output_type": "stream",
          "name": "stdout",
          "text": [
            "Tokenized fraction:  0.6855590162771207\n",
            "Tokenized fraction:  0.6855590162771207\n",
            "the number of fraction > 1: 0 numbers\n",
            "sigma2: 0.0015590551181102362\n"
          ]
        },
        {
          "output_type": "display_data",
          "data": {
            "text/plain": [
              "<Figure size 432x288 with 1 Axes>"
            ],
            "image/png": "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\n"
          },
          "metadata": {
            "needs_background": "light"
          }
        }
      ],
      "source": [
        "time_tab = liq_df2.groupby(by=liq_df2['timestamp'])['tab_at_mn'].sum().reset_index().sort_values(by='timestamp') \n",
        "\n",
        "# data_to_plot_opti = [tokenized_volume_meta[x] / time_tab['tab_at_mn'].iloc[x] for x in range(len(tokenized_volume_meta))]\n",
        "# data_to_plot_opti = [tokenizations[x].sum() / time_tab['tab_at_mn'].iloc[x] for x in range(len(tokenized_volume_meta))]\n",
        "data_to_plot_opti = frac_tokenizations\n",
        "plt.plot(np.sort(data_to_plot_opti),label = \"compact continuous tokenization\", color = 'r')\n",
        "plt.xlabel('Date', fontsize=12)\n",
        "plt.ylabel('Tokenized assets fraction', fontsize=12)\n",
        "plt.ylim([0,1.1])\n",
        "plt.legend()\n",
        "sumt = 0\n",
        "for k in range(len(tokenizations)):\n",
        "  sumt += np.sum(tokenizations[k]) \n",
        "print(\"Tokenized fraction: \", sumt / np.sum(time_tab['tab_at_mn']))\n",
        "print(\"Tokenized fraction: \", np.sum(tokenized_volume_meta) / np.sum(vol_sum_A))\n",
        "print(f\"the number of fraction > 1: {len([x for x in frac_tokenizations if (x>1)])} numbers\")\n",
        "print(\"sigma2:\",sigma2)"
      ]
    },
    {
      "cell_type": "code",
      "execution_count": 31,
      "id": "gutGarA0cILf",
      "metadata": {
        "colab": {
          "base_uri": "https://localhost:8080/"
        },
        "id": "gutGarA0cILf",
        "outputId": "27f83bec-c331-4f32-b512-55e89b5d6d85"
      },
      "outputs": [
        {
          "output_type": "stream",
          "name": "stdout",
          "text": [
            "violate []\n"
          ]
        }
      ],
      "source": [
        "\n",
        "# print(\"Tokenized fraction: \", sumt/np.sum(vol_sum_A) )\n",
        "print(\"violate\", [x for x in list(frac_tokenizations) if x > 1])"
      ]
    },
    {
      "cell_type": "code",
      "execution_count": 32,
      "id": "pvQPRMdg4-Xx",
      "metadata": {
        "colab": {
          "base_uri": "https://localhost:8080/",
          "height": 330
        },
        "id": "pvQPRMdg4-Xx",
        "outputId": "f095338f-30d0-4f6f-da0c-19978bca418f"
      },
      "outputs": [
        {
          "output_type": "stream",
          "name": "stdout",
          "text": [
            "the lowest: 0.0002079486571091825\n",
            "the highest: 1.0\n"
          ]
        },
        {
          "output_type": "execute_result",
          "data": {
            "text/plain": [
              "<function matplotlib.pyplot.show>"
            ]
          },
          "metadata": {},
          "execution_count": 32
        },
        {
          "output_type": "display_data",
          "data": {
            "text/plain": [
              "<Figure size 432x288 with 1 Axes>"
            ],
            "image/png": "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\n"
          },
          "metadata": {
            "needs_background": "light"
          }
        }
      ],
      "source": [
        "list_c = []\n",
        "for i in range(len(vol_A_meta)): \n",
        "  c = np.max(tokenizations[i]/vol_A_meta[i])\n",
        "  list_c.append(c)\n",
        "\n",
        "plt.plot(np.sort(list_c),label = \"max(a_i/A_i)\")  \n",
        "print(f'the lowest: {np.min(list_c)}\\nthe highest: {np.max(list_c)}')\n",
        "plt.xlabel('Date', fontsize=12)\n",
        "plt.show"
      ]
    },
    {
      "cell_type": "code",
      "execution_count": 33,
      "id": "jVEGwwpr7utF",
      "metadata": {
        "id": "jVEGwwpr7utF"
      },
      "outputs": [],
      "source": [
        "class Discrete:\n",
        "    def __init__(self, A0, N0, k0):\n",
        "        self.A = A0.astype(int) # array of assets\n",
        "        self.N = N0 # number of assets types\n",
        "        self.k = k0 # number of assets in each package\n",
        "\n",
        "\n",
        "    def preprocess(self):\n",
        "        assert self.N == len(self.A), \"Wrong N\"  \n",
        "        assert self.k <= len(self.A), \"Wrong k\" \n",
        "        self.A = self.A * self.k\n",
        "        sort_indexes = np.argsort(self.A, axis=None)\n",
        "        self.inverse_sort_indexes = np.empty_like(sort_indexes)\n",
        "        self.inverse_sort_indexes[sort_indexes] = np.arange(sort_indexes.size)\n",
        "        A = self.A[sort_indexes] \n",
        "        a = np.sort(self.A, axis=None) # min-max sorting\n",
        "        largest_ele_index = heapq.nlargest(self.k-1, range(len(a)))\n",
        "        S = 0\n",
        "        for i in range(0, len(a)):\n",
        "            if i not in largest_ele_index:\n",
        "                S = S + np.sum(a[i]) # sum of all token except biggest k-1 types\n",
        "        B = 0\n",
        "        n = 2\n",
        "        a_res = a\n",
        "        for start in range(self.N - self.k+1,self.N): # a_{N-k+n} = min[A_{N-k+n}, S/(n-1)] to remove some tokens\n",
        "            index_S_inner = self.N-self.k+n-1\n",
        "            S_inner = np.sum(a[0:index_S_inner])\n",
        "            if math.floor(S_inner/(n-1)) >= A[self.N-self.k+n-1]:\n",
        "                a_res[self.N-self.k+n-1] = A[self.N-self.k+n-1]\n",
        "                S = S + a_res[index_S_inner]\n",
        "            else:\n",
        "                a_res[self.N-self.k+n-1] = math.floor(S_inner/(n-1))\n",
        "                S = S + a_res[index_S_inner]\n",
        "            assert a_res[self.N-self.k+n-1] == min(A[self.N-self.k+n-1],math.floor(S_inner/(n-1)))\n",
        "            delta = A[index_S_inner] - a_res[index_S_inner] \n",
        "            B = B + delta # total number of tokens put off from packages\n",
        "            n = n+1            \n",
        "        return a_res, B\n",
        "\n",
        "\n",
        "    def distribution(self, a_res, B, return_distribution_matrix=False):\n",
        "        S = np.sum(a_res)\n",
        "        M = math.floor(S/self.k)\n",
        "        B0 = abs(S - M*self.k) # number of token that isn't falling into packages due to multiplicity of S\n",
        "        n = self.N - B0 +1\n",
        "        for n in range(n, self.N+1):\n",
        "            a_res[n-1] = a_res[n-1] - 1 # remove 1 tokens from last token's types\n",
        "            B = B + B0\n",
        "        l_n = np.zeros(self.N+1)\n",
        "        r_n = np.zeros(self.N+1)\n",
        "        for n in range(1,self.N+1):\n",
        "            l_n[n] = np.sum(a_res[0:n-1])+1\n",
        "            r_n[n] = np.sum(a_res[0:n])\n",
        "        if return_distribution_matrix: # unique composition of each package as much as possible \n",
        "            C_M = np.zeros((self.k, M))\n",
        "            n = 1\n",
        "            for i in range(1, M + 1):\n",
        "                for j in range(1, self.k+1):\n",
        "                    check_index = i + M * (j - 1)\n",
        "                    for n in range(1, self.N+1):\n",
        "                        if check_index <= r_n[n] and check_index >= l_n[n]:\n",
        "                            C_M[j-1, i-1] = self.inverse_sort_indexes[n-1] + 1\n",
        "                        n =n+1\n",
        "            return a_res[self.inverse_sort_indexes]/self.k, M, C_M\n",
        "        else:\n",
        "            return a_res[self.inverse_sort_indexes]/self.k, M"
      ]
    },
    {
      "cell_type": "code",
      "execution_count": 34,
      "id": "4lLS_q0SQdTb",
      "metadata": {
        "id": "4lLS_q0SQdTb"
      },
      "outputs": [],
      "source": [
        " \n",
        "# df_count = liq_df2.groupby(by=liq_df2['timestamp']).size().reset_index(name='counts').sort_values(by='timestamp') \n",
        "# tokenizations_d = []\n",
        "# tokenized_volume_d = []\n",
        "# vol_A_d = []\n",
        "# for ii, day_idx in tqdm(enumerate(sorted(list(liq_df2['timestamp'].unique())))): \n",
        "#         k=df_count['counts'].iloc[ii] \n",
        "#         table = liq_df2[liq_df2[\"timestamp\"] == day_idx]\n",
        "#         A = np.array(table['tab_at_mn']) \n",
        "#         N = A.shape[0]\n",
        "#         res_discrete = Discrete(A, N, k)\n",
        "#         res_1, B = res_discrete.preprocess()\n",
        "#         a_res, _ = res_discrete.distribution(res_1, B)\n",
        "#         tokenizations_d.append(a_res)\n",
        "#         vol_A_d.append(A.sum())\n",
        "#         tokenized_volume_d.append(np.sum(a_res))\n",
        "# data_to_plot_discrete = [tokenized_volume_d[x] / vol_A_d[x] for x in range(len(tokenized_volume_d))]\n",
        "# volumes_array = np.array(vol_A_d)\n",
        "# print(\"Tokenized fraction: \", np.sum(tokenized_volume_d) / np.sum(volumes_array))\n",
        "\n",
        "\n"
      ]
    },
    {
      "cell_type": "code",
      "execution_count": 35,
      "id": "attractive-asthma",
      "metadata": {
        "colab": {
          "base_uri": "https://localhost:8080/"
        },
        "id": "attractive-asthma",
        "outputId": "e99c46f9-f032-4dc5-a86b-58829b1c2db6"
      },
      "outputs": [
        {
          "output_type": "stream",
          "name": "stderr",
          "text": [
            "902it [00:02, 436.02it/s]"
          ]
        },
        {
          "output_type": "stream",
          "name": "stdout",
          "text": [
            "Tokenized fraction:  0.1365467208661303\n"
          ]
        },
        {
          "output_type": "stream",
          "name": "stderr",
          "text": [
            "\n"
          ]
        }
      ],
      "source": [
        " \n",
        "df_count = liq_df2.groupby(by=liq_df2['timestamp']).size().reset_index(name='counts').sort_values(by='timestamp') \n",
        "tokenizations_d = []\n",
        "tokenized_volume_d = []\n",
        "vol_A_d = []\n",
        "for ii, day_idx in tqdm(enumerate(sorted(list(liq_df2['timestamp'].unique())))): \n",
        "        k = 10 #k = df_count['counts'].iloc[ii] \n",
        "        table = liq_df2[liq_df2[\"timestamp\"] == day_idx]\n",
        "        A = np.array(table['tab_at_mn']) \n",
        "        N = A.shape[0]\n",
        "        if df_count['counts'].iloc[ii] >= k:\n",
        "          res_discrete = Discrete(A, N, k)\n",
        "          res_1, B = res_discrete.preprocess()\n",
        "          a_res, _ = res_discrete.distribution(res_1, B)\n",
        "        else:\n",
        "          a_res = 0\n",
        "        tokenizations_d.append(a_res)\n",
        "        vol_A_d.append(A.sum())\n",
        "        tokenized_volume_d.append(np.sum(a_res))\n",
        "data_to_plot_discrete = [tokenized_volume_d[x] / vol_A_d[x] for x in range(len(tokenized_volume_d))]\n",
        "volumes_array = np.array(vol_A_d)\n",
        "print(\"Tokenized fraction: \", np.sum(tokenized_volume_d) / np.sum(volumes_array))\n",
        "\n",
        "\n"
      ]
    },
    {
      "cell_type": "code",
      "execution_count": 36,
      "id": "BOyUyMO6QdXI",
      "metadata": {
        "id": "BOyUyMO6QdXI"
      },
      "outputs": [],
      "source": [
        "\n",
        "from sympy import symbols, solve, Eq\n",
        "import numpy as geek\n",
        "\n",
        "class Continuous:\n",
        "    def __init__(self, N0, A0, var_reduc):\n",
        "        self.A = A0\n",
        "        self.N = N0\n",
        "        self.var = var_reduc \n",
        "\n",
        "    def search(self):\n",
        "        N = self.N\n",
        "        assert self.N == len(self.A), \"Wrong N\" \n",
        "        var = self.var\n",
        "        E = np.array([0],dtype='float64') # expectation of taken assets\n",
        "        V = np.array([0],dtype='float64') # varaince of taken assets\n",
        "        a = np.zeros(self.N)\n",
        "        sort_indexes = np.argsort(self.A, axis=None)\n",
        "        self.inverse_sort_indexes = np.empty_like(sort_indexes)\n",
        "        self.inverse_sort_indexes[sort_indexes] = np.arange(sort_indexes.size)\n",
        "        A = self.A[sort_indexes]\n",
        "        A = np.insert(A, 0, 0)\n",
        "        for n in range(0, N): # replace a_k from A_n with A_{n+1}\n",
        "            E_new = E + (N-n)*(A[n+1] - A[n])\n",
        "            V_new = V + (N-n)*(A[n+1]**2 - A[n]**2)\n",
        "            if (1/var)*(E_new)**2 >= V_new:\n",
        "                E = E_new\n",
        "                V = V_new\n",
        "                for k in range(n, N):\n",
        "                    a[k] = A[n+1]\n",
        "            else: \n",
        "                x = symbols('x')\n",
        "                eq = (1/var)*(E + (N - n)*(x - A[n]))**2 - V - (N - n) * (x**2 - A[n]**2)\n",
        "                A_sol = solve(eq)\n",
        "                if len(A_sol) == 0:\n",
        "                    A_sol = min(A)               \n",
        "                elif len(A_sol) == 1: \n",
        "                    if A_sol == [{x: 0.0}] or list(A_sol.values())[0].is_extended_real == False:  \n",
        "                        A_sol = min(A)  \n",
        "                    else: \n",
        "                        A_sol = min(list(A_sol.values())[0], A[n + 1])   \n",
        "                elif len(A_sol) == 2: \n",
        "                    if list(A_sol[1].values())[0].is_extended_real == False:  \n",
        "                        A_sol = min(A)  \n",
        "                    else:\n",
        "                        A_sol = min(list(A_sol[1].values())[0], A[n + 1])\n",
        "                E = E + (N-n)*(A_sol - A[n])\n",
        "                V = V + (N-n)*(A_sol**2 - A[n]**2)\n",
        "                n_star = n + 1\n",
        "                for k in range(n_star-1, N):\n",
        "                    a[k] = A_sol\n",
        "        return a[self.inverse_sort_indexes]\n",
        "\n",
        "    def construct_pack(self, a):\n",
        "        M = np.linalg.norm((a), ord=1) # number of packages\n",
        "        C_M  = a/M # composition of each M packages\n",
        "        return  a[self.inverse_sort_indexes], M, C_M"
      ]
    },
    {
      "cell_type": "code",
      "execution_count": 37,
      "id": "YNMxZNyIQdbE",
      "metadata": {
        "colab": {
          "base_uri": "https://localhost:8080/"
        },
        "id": "YNMxZNyIQdbE",
        "outputId": "8e1db116-debd-40d9-971f-eea8254486f9"
      },
      "outputs": [
        {
          "output_type": "stream",
          "name": "stderr",
          "text": [
            "902it [25:39,  1.71s/it]"
          ]
        },
        {
          "output_type": "stream",
          "name": "stdout",
          "text": [
            "Tokenized fraction:  0.40013156535768973\n"
          ]
        },
        {
          "output_type": "stream",
          "name": "stderr",
          "text": [
            "\n"
          ]
        }
      ],
      "source": [
        "# Tokenized volume by using  \n",
        "\n",
        " \n",
        "vol_A_c = []\n",
        "a_star_conti = []\n",
        "tokenized_volume_cc = []  \n",
        "package_variance = []  \n",
        "for ii, day_idx in tqdm(enumerate(sorted(list(liq_df2['timestamp'].unique()))[0:])): \n",
        "        k=df_count['counts'].iloc[ii]  \n",
        "        table = liq_df2[liq_df2[\"timestamp\"] == day_idx]\n",
        "        A = np.array(table['tab_at_mn']) \n",
        "        N = A.shape[0]\n",
        "        K = np.zeros((table.shape[0], table.shape[0]))\n",
        "        for i,(p_A,x_A) in enumerate(zip(list(table['psi']),list(table['x_min']))):\n",
        "            for j,(p_B,x_B) in enumerate(zip(list(table['psi']),list(table['x_min']))):\n",
        "                K[i,j] = p_B * (1-p_A) if x_A > x_B else p_A * (1-p_B)\n",
        "        res_conti = Continuous(N, A, k)\n",
        "        res_1 = res_conti.search()  \n",
        "        a, _, C_M = res_conti.construct_pack(res_1)\n",
        "        vol_A_c.append(A.sum())\n",
        "        tokenized_volume_cc.append(np.sum(res_1)) \n",
        "        package_variance.append(np.matmul(np.matmul(C_M, K), C_M))\n",
        "        a_star_conti.append(a)  \n",
        "data_to_plot_continuous = [tokenized_volume_cc[x] / vol_A_c[x] for x in range(len(tokenized_volume_cc))]\n",
        "volumes_array = np.array(vol_A_c)\n",
        "print(\"Tokenized fraction: \", np.sum(tokenized_volume_cc) / np.sum(volumes_array))\n",
        "\n",
        "\n"
      ]
    },
    {
      "cell_type": "code",
      "execution_count": 38,
      "id": "i-7V4t7vmNcg",
      "metadata": {
        "colab": {
          "base_uri": "https://localhost:8080/"
        },
        "id": "i-7V4t7vmNcg",
        "outputId": "839488f0-86dd-47bc-e761-75d602e09fef"
      },
      "outputs": [
        {
          "output_type": "stream",
          "name": "stderr",
          "text": [
            "100%|██████████| 902/902 [00:00<00:00, 10303.14it/s]"
          ]
        },
        {
          "output_type": "stream",
          "name": "stdout",
          "text": [
            "check conti and compact conti vol is the same True\n",
            "\n",
            "Tokenized fraction:  0.7656506034621502\n"
          ]
        },
        {
          "output_type": "stream",
          "name": "stderr",
          "text": [
            "\n"
          ]
        }
      ],
      "source": [
        "# compact conti and conti alg\n",
        "tokenized_volume_mcc = []\n",
        "for i in tqdm(range(len(np.array(vol_A_c)))):\n",
        "  res = max(np.array(tokenized_volume_cc)[i],np.array(tokenized_volume_meta)[i])\n",
        "  tokenized_volume_mcc.append(res)\n",
        "data_to_plot_mcc = [tokenized_volume_mcc[x] / vol_A_c[x] for x in range(len(tokenized_volume_cc))]\n",
        "print(f'check conti and compact conti vol is the same {(np.array(vol_A_c) == np.array(vol_sum_A)).all()}\\n')\n",
        "print(\"Tokenized fraction: \", np.sum(tokenized_volume_mcc) / np.sum(vol_sum_A))\n"
      ]
    },
    {
      "cell_type": "code",
      "execution_count": 39,
      "id": "9uHVSEMviX9m",
      "metadata": {
        "colab": {
          "base_uri": "https://localhost:8080/"
        },
        "id": "9uHVSEMviX9m",
        "outputId": "e0619c29-080e-4231-bbd2-3c0158273444"
      },
      "outputs": [
        {
          "output_type": "execute_result",
          "data": {
            "text/plain": [
              "(array([321.20709271]), array([10000.07988658]))"
            ]
          },
          "metadata": {},
          "execution_count": 39
        }
      ],
      "source": [
        "# look specifically at the straight horizontal line\n",
        "# it seems like it is struck at ~ 321\n",
        "tokenizations_sum_meta = [np.sum(a) for a in tokenizations]\n",
        "day_idx = [idx for idx, x in enumerate(tokenizations_sum_meta) if x > 319 and x < 322]\n",
        "\n",
        "tokenizations[day_idx[26]] , vol_A_meta[day_idx[26]] "
      ]
    },
    {
      "cell_type": "code",
      "execution_count": 40,
      "id": "1npTd3HEmVOW",
      "metadata": {
        "colab": {
          "base_uri": "https://localhost:8080/"
        },
        "id": "1npTd3HEmVOW",
        "outputId": "0dd4fb7a-96f9-4a5c-f265-7b6e944f3444"
      },
      "outputs": [
        {
          "output_type": "execute_result",
          "data": {
            "text/plain": [
              "(array([0.00000000e+00, 0.00000000e+00, 1.79316662e+00, 5.80970665e-21,\n",
              "        2.08967350e+00, 6.31208080e-01, 5.02576064e+01, 1.27671243e+02,\n",
              "        0.00000000e+00, 3.28470522e-09, 4.35119126e+01, 1.87483963e-02,\n",
              "        5.00564586e+01, 4.52398317e+01]),\n",
              " array([20519.9181167 ,  3000.140289  , 16195.15443407,  9060.83911363,\n",
              "          535.47516459, 15000.53978827,   302.88437282,  2000.06019503,\n",
              "        20800.11623113,    40.00032989,  2900.03797216,  3675.73855657,\n",
              "         7100.34138922, 12935.42802385]))"
            ]
          },
          "metadata": {},
          "execution_count": 40
        }
      ],
      "source": [
        "tokenizations[day_idx[2]] , vol_A_meta[day_idx[2]] "
      ]
    },
    {
      "cell_type": "code",
      "execution_count": 41,
      "id": "AR-Kl10FoUQp",
      "metadata": {
        "colab": {
          "base_uri": "https://localhost:8080/",
          "height": 625
        },
        "id": "AR-Kl10FoUQp",
        "outputId": "805db455-4860-4459-d968-1800a8c2306c"
      },
      "outputs": [
        {
          "output_type": "display_data",
          "data": {
            "text/plain": [
              "<Figure size 1080x720 with 4 Axes>"
            ],
            "image/png": "iVBORw0KGgoAAAANSUhEUgAAA34AAAJhCAYAAAAe3mLuAAAABHNCSVQICAgIfAhkiAAAAAlwSFlzAAALEgAACxIB0t1+/AAAADh0RVh0U29mdHdhcmUAbWF0cGxvdGxpYiB2ZXJzaW9uMy4yLjIsIGh0dHA6Ly9tYXRwbG90bGliLm9yZy+WH4yJAAAgAElEQVR4nOydd3wVVfbAvzeFFHovItJBaiABKRaaiwrYxQKu/FRALKzrimJDFNlV191V7KDYQEBQRHqTACqCAQQJAqETeksgkJ77+2Pmvcx7b15JSPJCOF8+70Pmzp17z8y8d8+cOeeeq7TWCIIgCIIgCIIgCGWXkGALIAiCIAiCIAiCIBQvYvgJgiAIgiAIgiCUccTwEwRBEARBEARBKOOI4ScIgiAIgiAIglDGEcNPEARBEARBEAShjCOGnyAIgiAIgiAIQhlHDD9AKXWHUupHpVSKUipTKbVDKfVfpVS9YMtW1CilaimlxiqlGgZbFitKqc5KqbE25WOVUieCIFKpw/1aKKWam2VV3OoNUUpppVSFkpcycJRSzyiletiUa6XU40EQqVQQjPNXSn2ulEqwbMvvURAuMszfpzY/eUqp00qp35RS45VSddzqNjTr9Q+WvFaUUgOVUkNKuM8SH8/srrvoQqEkueQNP6XUf4BvgN3A/cBfgP8BvYH3gyhacVELeBloGGQ53OmMIZc7nwB9S1iW0or7tWiOcc2q2Fcv9TwD9LAp7wrMLFlRLnnGAUMs295+j4IglG5SMcbQbsA9wHcYzzZ/KKViLfUOm/V+KnEJ7RmI6xhUVrG77t50oSAUOWHBFiCYKKUGAE8BD2mtJ1t2rVRKTcQwAoUgorVOBpKDLUdp4FK5FlrrX4Mtw6WCUipKa52utd4VbFkEQSgSctzG0MVKqQ+BVcB0pVRLrXWu1joTKNaxVikVDuRprXOLs5+LBaVUpNY6g2K+7oLgi0vd4/d3YIOb0QeAOTAudGwrpWoopb5QSp1USp1XSsUrpeKsxyil9iql3lJKjVZKHVZKpSql/qMMblJKJSqlziqlvldKVbUc18N06f9FKTVPKXVOKbVfKfWIW/tdlVI/mG2fU0r9rpQa5C67UuoKpdQ0pdQJU9bNSqn7zPDOP8xqKxwhIb4ukFKqnVJqrhkGm6aUWqeUut6yv5F5PmfMc5urlGrq1oZWSv1NKfVPpdRxpdQxpdT7SqkIc/8Q4F1LXa2Uije33cMbHdeqh1JqpinTbqXUo259xiulZrmVOY5tYykL5L56hFvYyFVFKfWJUuqQUirDvH+TfFzX/zPvYbil7JAphzK3Q8zrPtS9TzMsZK556B5Txr1u3TRSSi01+9mmlLrdmzwWGUKVUs8pI9w5UymVrJT63K3O40qpJHP/TqXU3+2ujVKqg1LqV/O6blRKXWOpsxeoDrxsuec9zH0u19txL83v8E7zu7ZQKVXfUsfj3lqPdSsbqJT6w5T/gDLCoMIs+23Df2zkulkptd68vqeVUmuVUtf5uLbllVLvKaW2m9dkj/k7qOTtGPM4pZQaZ/5uziilJiul7jHlaWipF+gY9R+l1EtKqWTgjFnuDPVUPn6Plna83ltLPwUeCwVBKHq01ikYXqWmwPXgNeTQ55jmTz9YxuphSqldQAZQz9z3sPm7z1RK7VNKPWM57nPgDuA6y5gz1rL/FqVUgjJ06xGl1JvKojvtUEr1U4b+c4ybvyql/L7MV8Yzzy9mX4nmeJWgPPWgPz3imHLR2bwu6cAo9+uufOhCk1Dl5dnJrZ+OZj/nlfFs2FEZOuczc/zdrZS619/5C2WfS9bwMweNbsCiAA/5HiPM7mngboxrt0K5GTkYoRWdgf8D3sTwKP4XI5TqJeAR4DrgXzZ9fApsBm4HFgAfKtf4+yuAn4GHgAHAt8Bn1h+zUqoWsAboZMo6wGz3cowQA4eh+BhGuEFXbyeslGpp9lfXlPs2YLbZFubgsxy4EhiKEabRCMNjWs2tuX9gKIDBwL+B4cDfzH3zgf+YfztkehTfTAI2mTLFA+8rpTr7OcaOQO+rP/4LXI3xMqEv8Dzgy6heDUQDHQGUUs0wwnArAq3MOu2BymZddzaYMoPxfemKcS2sfA38YJYnYbztrY9vPgZewQh/7o9x36IdO5VhhL5rtjsAIyTzP0qp0W7tRANfmO3dAWQC3ymlHG3dhhGS9Cn593yDD7muAh435RmGcd0m+jkXD0zFP8Ps6xbzXJ4G3itgO02AWcCPGNdhEDAPcP/eW4kGQoEXgBsxxoNe+A9rfRLj+/QRcCeQjjG2uBPod/k+jDHoUbOeO/5+j/7urYMLGQsFQSha4oEcoIvdzgDHNJ/6waQ7MAJ41mwnVSk1CvgQY4zqb/49TuW/SBsHrAA2kj/mfGLKNRAjXHUdcLPZ/zD8jxuNMF6O3o8xTv0CLFRKdfd2gDmGLQaigHuB1zCm/jRwq1cQPTLNlOMmjOvpjj9d6OvZycoXZl93AArjXn4KHMLQG2uBLwN4BhDKOlrrS/ID1MF4MB8eQN0bzLrXWcrKA8eBjy1le4GdQKilbB3GYNvIUvYmcNSy3cNsf6Jbv0uBX73IpDBCdT8GfrSU/ws4B9T1clwbs68eAZz3NIzQwigv+x8xz62xpaw+kAU8ZynTwCq3Y7+3nhvGQ7226WMscMLmWr1qKQs378XrlrJ4YJZbW45j2xTwvmrgcT9ybQGeKOB38BDwtPn3g8B6DKP9EbNsJHDMR5/9TdkaurU7xCx/0FJW3bxXj/iQp6V53Egv+0OAg8BnbuUfYCiuSIucGuhlqRNjlt1gKTsBjLXpx+V6m/cyFahqKXvSrBdld2+9fQ8wQmxWuNV5BsgF6ttdZzu5MBTpyYLcb5v2wjAekjTQwEs/oRgvbN53O3aB9d4X4Lu812wv0q29z4GEAH+PgdzbvRRiLJSPfORT+I+3scuy/zDwofl3Q/N329/c9jmm4Uc/mHXiMV5M1baUVQLSgJfd6r4KHHGMERiGSrxbHQXsw1PnPGj2Uz3A6xJijreLgcnerhfGC/Es4DJLWWfzvD+3lAWiR4aYx/3NrZ7LdTfLfOlCf89Ojn4esJTdZJZZz7UykA2MCPb3VD7B/VyyHj8LvrwyDjpjPICvdB6k9TmMtzdXu9WN167x7DuBvVrrPW5lNZVS5dyOne22/R0Qq5QKBVBKVVVKTVBK7cP4AWdjvPlqbjmmF7BIa304gPPyRy9ghtY63cv+zhihsrsdBdqYh/Yzntdlidv2VgwjsbA429NaZ2N4tAraXkHuqz9+xwjjeFQp1dxvbYPVgCNE7lqMORir3MouZOK99RqdBI7h+xr1NP//3Mv++hhvHt09VDMwlHtbS1kWxkOAg62WNgrDb1rr0zbtXRZoA+bvqCP28ofgw/ttwx9AZWWEVv5FKVU+QBnuV0ZoZBrG79dxf719Zy7HeEn1g1u5+3ZBvsvLtTHPpLAEem8vZCwUBKHoUT72+RvT/OkHB+u11kct210xXkLNVEqFOT4YnsXa+NYJzTG8bd/YHBuJ8SLbFqVUffNcDmK8cMrGyNvgSz93MuU/6CjQWq8DnOdTCD0y30d/gRDos9Nyy987zf9/dBRorVMxXgQGrDOFssmlbPidxAhRauCvIkao4zGb8qN4hnaluG1neSlTgPvDjnsfxzDeUtUwtz/HCM36N8YA1gmYjDEAOqiO8VavKPDXVl0sA6KFQK9LJIWnKNoryH31x+MYb+LGANuVMQfuHj/HrAauVkopDGNvNa7G4NXYh3kGSkGvUXXgnNb6jJf9dc3/3e+5Y9t6zc5qrfMcG1rrLPPPwt5zu3MpaHs1MLzDgcjvE631dowQn8YY3rcTSqmvlVI1vR2jlLoN+BLDq3sXRsiVIzzX23k4UrAfdyt33y7Id9nuN1sQAr23FzIWCoJQhCilIjHGeNvffwBjmj/94MC9fcfzSyL5L6yzMUI7wZw64gXHsQvcjnW8PLI9VikVgvFyrBuGTu6J8by0EN86ow6eYytuZQXVIxc63gaqx1Pc6hTkWOES4pLN6qm1zlZK/YwxJ+ZFP9UPY8y/cqc2cKoIxXLvoxbGm6oT5qDdH3hMa/2Ro4I5wFk5Sf4D+oXir63DQGub8qK+LoUhA8+HSfckEoHe10x/bWlj8vxIYKRSqh1G2MdUpdRmrfVW7FmNoSSux5iPsBrjfl9mziGozYUZfgXlJFBeKVXJi3J3vARwv2a1zf+Dec8dHiy7++RI1HIC46HBn/we3x1lk4BEaz0fmK+Uqgz0A97GmOvhzeC/C1irtXbOl1M+ksGYHDH/dzco3bcLMkYFEuUgCELZoifGM98abxX8jGn+9IOzGbdtx/jTH3sjaLuPthzHDsOY/+fOHpsyMJLYdABu1Fo78zgopaJ89AXGeNvCptw63gaqRxzIeCuUKi5ljx8Yg1qcUuoB9x3KyKh4g7m5FqillLrWsj8aY2AsyjVw3JNz3IYRdpALRGDcr0yLDBUxJjtbWQ70VUrVxp6CeEqWAwNNo9OOtRihqI0sMl2G8ZatoNclyzy+qN5GJWPMSbDintEr0PuajJHAxlEnBGOdR1u01puBURj3y10GK39gvJF7AdimtT5uhjNuMcvSsFd2Di7Ui+aOIyzkr172J2PMS7zLrXwgRnbIPzyO8E1Rvn10LHNhvU+XY7n+5u9oPfby55H/QJQMVDS/yw68ZoPTWqdqrb/GCNVu5a0eRsKATLcyj6y8bhzAeBi5xa3c/Xdf1GNUUf8eBUEIEkqpKsAbGCGAy/zV9zKm+dMP3liDMR+vntY6weZz1qxnpw+2Y8wrb+jl2JNe+nQYeNbnpSsw5lT74jeMZxrn2G8mjXM+TxVAjxQE8cQJJcYl6/ED0FrPVUr9F/jUzPQ0B+NhuyVG4pK9GPPlFiulfgFmmNkLT2JkcIrCCLssKm5USo0HVmJkarwe84FPa52qlPoNGKOUOoMxwIzGSHphTQf/P4yBebXZ1gGMh+HyWus3gf0Yg/ADSqlUIFtrneBFnlcwBsJVyljo/iTGW7ST2lgC43OMzF0LlVJjMCY2v4zxRuzjAp77NvP/vymlfgTOmKEnhWU28JBS6n8YMfY9MRJgOCnAfZ0NPKaU2gjsBh7G9ZqjlPrJrLcF4w3fUIwkO+u8Cai1zjO9zv1wvV6rMSaZL9W+1z9yXJ/hSqnpwHmtdUGNL6s825WxfuV/zOywqzAWh79Ta32PKe9Y4GOl1EmM5EPXYWRwe74Q88a2Af2UUoswfnfbLQ8BBZU9WRnLEYxTSp3HMLqfx/Pt68sY61p9BkzHmJc4Dphkzk8FI9NvOjDZ/N43whgPnCilhmPM5ViEYQw3w3gQ+NKHmEsxss++gGGo3YSPFwjmeeUqpf4N/FspdRxj/uzN5M+nzDPrFfUYVdS/R0EQSoYwpZQjc2dFIBZjjI7GSMBkq1P8jWn+9IM3YbTWKabeeMc0vlZhjM/NgZ5aa8cL723ALUqpWzFfMmqtDyml/gF8pYxlbxZiGEmNgVvNvs/bdLvNbOM/SqmXzOvwCoYR6YvPMCLA5imlXsEYP1/BCPXMs9QLRI8UhCLThYLgl2BnlykNH4z0tyswjKgsYAfwFlDHUqcmxgB4GuOhcCXQya2dvcBbbmWfY8mWZ5YNwTAOKpjbPcztvhgD23mMQetRt+OaYnjhzmEYcM9gk8ULY9mHGaas5zGWPbjHsn+QeY5Z2GTuc2urHUZ8/VnzsxbobdnfGGNu21mMAWse0MytjUCyYiqMDH+HMAbYeC/1HNfKZ/ZGs+w5DMP3LDAF44HZ5dgA72sFjFTJpzC8Ly9iKAOrXP/G8HidxfDirQCuCeC796wp032WsrvNsjG+rplZ9g+MrGc5GIkzPL5fvr6fNvKEYhhMu83vRzKWzGBmnScw3hxnmfX+7k9Ou+8BxgPJrxjfZ42Zadamnt299fgeYPw+4s32HPNV7I6927xXjvMbD4S51bkRY07KeQxD/EqrXBgPSPMxvq8ZGCFHbwARfq7tWxhz8c5gLMdyFZ4Z3tzPX2GkFT9ufr+mYjzIaaDKhY5RduMUAf4efcjs0Y97H76+q/KRj3wK/iE/6642f7cpQII5xtVxq9vQOvYEMqbhRz/YjbeWfYMxPGXp5hi1FnjKsr8GxsvTU6ZcYy37bjTH4XPm2Pm7OSaG+bgWnTBevKZjJH8bYjPOeYxnGMso/YLhLdyOYWDuAN52q+dTj3gb29yvu1kWkC60k9muH7s+zPK9+HkGkE/Z/yitJfw42Chjsc4VQFut9ZYgiyMIQilHKfUJcL3W+opgyyIIglBWMaey7ACGaa0/C7Y8gnChXNKhnoIgCKUdpVQbjLfLv2C8xb8RY1H0Z4MplyAIQllDKfUchtdzH0bW9+cwoi2+DaZcglBUiOEnCIJQujmHsbTH4xjrYe3DMPr+E0yhBEEQyiAaYw5fPYxwz9XA09r/MhaCcFEgoZ6CIAiCIAiCIAhlnEt9OQdBEARBEARBEIQyT5kJ9axRo4Zu2LBhsMUQBEEQipn169ef0Fq7L2Iv+EB0pCAIwqWBLx150Rt+SqkBwICmTZuSkOBtOTpBEAShrKCU2hdsGS42GjZsKDpSEAThEsCXjrzoQz211nO11sMqV64cbFEEQRAEQRAEQRBKJRe94ScIgiAIgiAIgiD4Rgw/QRAEQSijKKUGKKUmpqamBlsUQRAEIchc9HP8fJGdnU1ycjIZGRnBFkUoQiIjI6lfvz7h4eHBFkUQBKFUo7WeC8yNi4sb6r5PdGTZRHSkIAjeKNOGX3JyMhUrVqRhw4YopYItjlAEaK05efIkycnJNGrUKNjiCIIgXLSIjix7iI4UBMEXZTrUMyMjg+rVq4tCK0Mopahevbq8oRYEQbhAREeWPURHCoLgizJt+AGi0Mogck8FQRCKBhlPyx5yTwVB8EaZN/wEQRAEQRAEQRAudcTwK2a6devmt87DDz/M1q1bAfjnP/9Z4OMrVKhQOOEKye+//86CBQtKtE9BEC5+NiZs5IdvfyAvLy/YogilBNGRgiAIBrNmzSIpKalY+xDDr5j55Zdf/Nb55JNPaNWqFeCp1AI5vqQRpSYIQmH4+tWvmXn3TAlFE5yIjhQEQYD09HQGDhzIlClTirUfMfyKGcebxvj4eHr06MGdd95Jy5YtGTRoEFprAHr06EFCQgKjR48mPT2dmJgYBg0a5HJ8WloavXv3pmPHjrRt25Y5c+b47fvWW28lNjaW1q1bM3HiRAByc3MZMmQIbdq0oW3btvzvf/8DYMKECbRq1Yp27dpxzz33AHDu3DkefPBBOnfuTIcOHZgzZw5ZWVmMGTOGGTNmEBMTw4wZM1i5ciUxMTHExMTQoUMHzp49W7QXURCEMkHq/lSoJHOQhHxERwqCIMC2bdvQWtOmTZti7adML+dg5cknn+T3338v0jZjYmJ4++23A66/ceNGEhMTqVevHt27d+fnn3/m6quvdu5//fXXee+992zljIyMZPbs2VSqVIkTJ07QpUsXbr75Zp8PUJMnT6ZatWqkp6fTqVMn7rjjDvbu3cvBgwfZsmULACkpKc6+9+zZQ0REhLNs/Pjx9OrVi8mTJ5OSkkLnzp3p06cPr776KgkJCbz33nsADBgwgPfff5/u3buTlpZGZGRkwNdEEIRLh/Qj6ZSrWS7YYgg2iI4UHSkIQvDYvHkzAK1bty7WfsTjV4J07tyZ+vXrExISQkxMDHv37g34WK01zz//PO3ataNPnz4cPHiQo0eP+jxmwoQJtG/fni5dunDgwAGSkpJo3Lgxu3fv5oknnmDRokVUqlQJgHbt2jFo0CCmTJlCWJjxPmDJkiW8/vrrxMTE0KNHDzIyMti/f79HP927d+epp55iwoQJpKSkOI8XBEFwoLWG01ChfsnOtxIuHkRHCoJwqbJo0SJq1apFy5Yti7WfS2b0Kchbx+IiIiLC+XdoaCg5OTkBHzt16lSOHz/O+vXrCQ8Pp2HDhj7X6YmPj2fZsmWsWbOG6Ohop1KqWrUqmzZtYvHixXz00Ud88803TJ48mfnz57Nq1Srmzp3L+PHj+eOPP9Ba8+2339KiRQuXtteuXeuyPXr0aPr168eCBQvo3r07ixcvLvYvriAIFxcHDhygWlY1mnRrEmxRBBtER4qOFAQhOMydO5fp06fz6KOPEhJSvD458fiVMsLDw8nOzvYoT01NpVatWoSHh7NixQr27dvns53U1FSqVq1KdHQ027Zt49dffwXgxIkT5OXlcccdd/Daa6+xYcMG8vLyOHDgAD179uSNN94gNTWVtLQ0+vbty7vvvuucZ7Fx40YAKlas6DJHYdeuXbRt25Znn32WTp06sW3btqK6HIIglBHi58UTTTRd+3cNtijCRYzoSEEQyhqzZ88GYMyYMcXe1yXj8btYGDZsGO3ataNjx45MnTrVWT5o0CAGDBhA27ZtiYuL8/u28IYbbuCjjz7iyiuvpEWLFnTp0gWAgwcP8n//93/OdOr/+te/yM3NZfDgwaSmpqK1ZuTIkVSpUoWXXnqJJ598knbt2pGXl0ejRo2YN28ePXv2dIa3PPfcc/z000+sWLGCkJAQWrduzY033lh8F0gQhIuOzMxMJo6aSMOIhnSM6xhscYSLGNGRgiCUNXbt2sXVV19N7dq1i70v5XhTVZpQSl0DDMIwTFtprf0u1BMXF6cTEhJcyv7880+uvPLK4hFSCCpybwXh4iEpKYmHmz/Mtd2uZdzP4y64PaXUeq11XBGIVqZRSg0DhgE0aNAg1t0LJuNo2UXurSBcHKxcuZLevXszePBgPv/88yJp05eOLLFQT6XUZKXUMaXUFrfyG5RS25VSO5VSowG01qu11o8A84AvSkpGQRAEoeg5fPgw5ShHk5Yyv68k0VpP1FrHaa3jatasGWxxBEEQBAvp6ekMGTKE8uXL8/e//71E+izJOX6fAzdYC5RSocD7wI1AK+BepVQrS5X7gK9LSkBBEASh6Dly5AjlKEeVWlWCLcolh1JqgFJqYmpqarBFEQRBEEw2bNjAddddx759+5g+fTrt27cvkX5LzPDTWq8CTrkVdwZ2aq13a62zgOnALQBKqQZAqtba60qnSqlhSqkEpVTC8ePHi0t0QRAE4QJYPXc1HelItbrVgi3KJYfWeq7WeljlypWDLYogCMIlz+nTp7n++uuJjY1l3759zJo1q0Tn/QY7q+dlwAHLdrJZBvAQ8JmvgyWMRRAEoXSzfPlysqdkE0YY1etUD7Y4giAIghA0nnvuOVauXMmLL77Ijh07uP3220u0/1Kb1VNr/XKwZRAEQRAujBnvzeAy831euYrlgizNpYdSagAwoGnTpsEWRRAE4ZLmyy+/5OOPP2bw4MGMG3fhic4KQ7A9fgeByy3b9c2ygJH5C4IgCKWTd195l0rfVyKreRYAIaHBVjmXHhLqKQiCEFwyMzMZPHgwDzzwAK1bt2bChAlBkyXYWvg3oJlSqpFSqhxwD/BDQRoozUotJSWFDz74wG+9+Ph4+vfvf8H9JSQkMHLkyAtuZ8iQIcyaNeuC2ykI//znP0u0P0EQio+jR48yrNMw9ozdw7lG5xiz2ViUNutcVpAlu/QozS9HRUcGjuhIQbg4SU9P5+mnn2bq1KmMGDGCNWvWULVq1aDJU5LLOUwD1gAtlFLJSqmHtNY5wOPAYuBP4ButdWJJyVTcBKrUioq4uLigvkW4EESpCULZIC8vj6F9hnJZwmVUpjKDhg8iIiKCu2ffTbMbmwVbvEuOsvBytKgQHSkIQkkyZ84c2rZty3vvvUfPnj15//33qVixokuduIlxbDi8gUNnD5WITCWZ1fNerXVdrXW41rq+1vpTs3yB1rq51rqJ1np8QdstzW8zR48eza5du4iJiWHUqFForRk1ahRt2rShbdu2zJgxw+OY3377jQ4dOrBr1y7Wr1/PddddR2xsLH379uXw4cMA9OjRg2effZbOnTvTvHlzVq9eDbi+Fb3pppuIiYkhJiaGypUr88UXX5Cbm8uoUaPo1KkT7dq14+OPPwZAa83jjz9OixYt6NOnD8eOHbM9n0mTJtGpUyfat2/PHXfcwfnz5wGYOXMmbdq0oX379lx77bUAJCYm0rlzZ2JiYmjXrh1JSUkATJkyxVk+fPhwcnNzGT16NOnp6cTExDBo0CDOnTtHv379aN++PW3atLG9ToIglE42b95M7JZY53ZYhDGVvOWtLQmLLLXTyoUgIDpSdKQglDW01hw4cICBAwdy6623cujQIb766iuWL1+OUsr2mLHxY7l52s0lJ2BZ+MTGxmp3tm7d6lFWkuzZs0e3bt3auT1r1izdp08fnZOTo48cOaIvv/xyfejQIb1ixQrdr18//fPPP+uOHTvqffv26aysLN21a1d97NgxrbXW06dP1//3f/+ntdb6uuuu00899ZTWWuv58+fr3r17a621sx0rCQkJum3btjolJUV//PHHety4cVprrTMyMnRsbKzevXu3/vbbb51yHTx4UFeuXFnPnDnT43xOnDjh/PuFF17QEyZM0Fpr3aZNG52cnKy11vr06dNaa60ff/xxPWXKFK211pmZmfr8+fN669atun///jorK0trrfWIESP0F198obXWunz58i7X6eGHH3Zup6SkeMgS7HsrCII9f+3+Vz2Wsc7P2vfWFnkfQIIuBXrnYvgAA4CJTZs29biOwR5HRUeKjhSEssSmTZt069atNaCjoqL0ww8/bPv7tBL7cay+9rNrdezHnnZMYfGlIy+p16+vqFeKvM2XC5B89KeffuLee+8lNDSU2rVrc9111/Hbb79RqVIl/vzzT4YNG8aSJUuoV68eW7ZsYcuWLVx//fUA5ObmUrduXWdbjvSvsbGx7N2717a/EydOcP/99/PNN99QuXJllixZwubNm51zE1JTU0lKSmLVqlVOuerVq0evXr1s29uyZQsvvvgiKSkppKWl0bdvXwC6d+/OkCFDGDhwoFOurl27Mn78eJKTk7n99ttp1qwZy5cvZ/369XTq1Akw4p5r1arl0U/btm35xz/+wbPPPkv//v255pprAr7GgiAEjw8//JDGPzd2KQsNDw2SNAIYofKgmvUAACAASURBVJ7A3Li4uKH+6sZNjCvy/hOGJQRcV3Sk6EhBuJg4fvw4K1asYMmSJfz6668kJiZSqVIlxo0bx1133UWLFi2CLaIHl5ThVxAjraSpW7cuGRkZbNy4kXr16qG1pnXr1qxZs8a2fkREBAChoaHk5OR47M/NzeWee+5hzJgxtGnTBjC8u++++65TGTlYsGBBQDIOGTKE77//nvbt2/P5558THx8PwEcffcTatWuZP38+sbGxrF+/nvvuu4+rrrqK+fPnc9NNN/Hxxx+jteaBBx7gX//6l89+mjdvzoYNG1iwYAEvvvgivXv3ZsyYMQHJKAhCcHjrrbdIGZVCOOEu5SHhwc4hJgRKQYy0kkZ0ZD6iIwUheBw7dozExER+/PFH3nrrLTIyMqhatSodO3bk/vvvZ+jQoVSrVi3YYnrlotfIpXmOX8WKFTl79qxz+5prrmHGjBnk5uZy/PhxVq1aRefOnQGoUqUK8+fP57nnniM+Pp4WLVpw/Phxp1LLzs4mMTHwvDejR4+mXbt23HPPPc6yvn378uGHH5KdnQ3Ajh07OHfuHNdee61TrsOHD7NixQrbNs+ePUvdunXJzs5m6tSpzvJdu3Zx1VVX8eqrr1KzZk0OHDjA7t27ady4MSNHjuSWW25h8+bN9O7dm1mzZjnnR5w6dYp9+/YBEB4e7pTr0KFDREdHM3jwYEaNGsWGDRsCPm9BEEqenJwc/vfq/zyMPhCPn+Ad0ZGiIwXhYkFrzYwZM6hTpw69evVi/Pjx9OrVi4ULF3Ls2DGWLVvGs88+Wyijz4jOLBkueo9fQcJYSprq1avTvXt32rRpw4033sibb77JmjVraN++PUop3nzzTerUqcO2bdsAqF27NvPmzePGG29k8uTJzJo1i5EjR5KamkpOTg5PPvkkrVu3Dqjvt956i9atWxMTEwPAq6++ysMPP8zevXvp2LEjWmtq1qzJ999/z2233caPP/5Iq1ataNCgAV27drVtc9y4cVx11VXUrFmTq666yqmwR40aRVJSElprevfuTfv27XnjjTf46quvCA8Pp06dOjz//PNUq1aN1157jb/85S/k5eURHh7O+++/zxVXXMGwYcNo164dHTt25K9//SujRo0iJCSE8PBwPvzwwyK4G4IgFAd79uzh6a5PM+DsANv94vELLqV5AXfRkaIjBeFiYOvWrfTp04fDhw9To0YNpk6dSmxsLNWrVw+2aAVGlaSVWZzExcXphATXMJU///yTK6+8MkgSCcWJ3FtBCD6Lvl3EtHun0Ti7sdc6A78dyJW3F+1vVSm1Xmtd9BPSyjCiIy8t5N4KwoWTm5vLyy+/zPTp09m3bx/jxo1jwIABAb1g0lozP2k+/Zv7XoM0bmIc0eHRnM8+X2Th9r505EXv8RMEQRBKnhmTZrD0kaU0zmtM9BXRnN933raeePwEQRCEi4lp06bx3XffsWbNGg4ePEi3bt146qmnePTRRwNu42zWWcbGj/Vr+AFoJNRTEARBKIVsWLuBd554h8a/NeZyLgegQqUKnMfe8JM5foIgCEJpJy8vj2nTpvHJJ58QHx9PZGQkt9xyCzfccANDhgwpUFv/XfNfqkRWCbi+zPErAP7mL2itvS6YKFyclJXwZEG4mNBas3ThUiYOnEjbc21d9qkQ72OsePxKN6Ijyx6iIwUhMA4dOkRiYiIbN27k66+/ZtOmTdSpU4fXXnuNZ555hvBwz4RlgfD1H19TKaJSEUtbNFz0hp+v5C6RkZGcPHmS6tWri2IrI2itOXnyJJGRkcEWRRAuCXbu3Mn777/PlmlbuPro1bSlrUedkFDvxp14/IKLr5ejoiPLHqIjBcE3W7du5YsvvmDOnDls377dWd6kSRPGjBnD2LFji2Q8DA0JXPdJqGcRUb9+fZKTkzl+/HiwRRGKkMjISOrXrx9sMQShTJOZmckjAx4he2k234R/wwvZL7jsb3VnK7bO2gqAChWPX2nF18tR0ZFlE9GRgpDP/v37SUxMZMeOHfzyyy988803APTp04fhw4cTExNDy5YtqVu3bsBt3vvtvdzQ5AYeiHnAa52wEFcTK0/noVC2RqWEehYR4eHhNGrUKNhiCIIgXDTMnDmT2W/P5uDmg/RK6wXA77//zszWM13qRVbL9yiIx+/iRHSkIAhljcTERJYvX86cOXPYtWuXcy1MgGrVqvH0008zfPhwLmSJm6STSVQsV9HF8Ht6ydP0bNiTfs37AZ6G301Tb+KmZjcx8qqRhe63KCjThp8gCIIQOKdOneLee+/lpdyXaBqRrxRbtWrlUTeySr7h58vjh0QQCoIgCMVEVlYWkyZNYtasWWzbto0jR44AcOWVV9K9e3eeeOIJunbtSpMmTahVq1aRhbW7e+ni98ZzPvu80/ALVa4vPU+cP0F2bnaR9H0hXPSGX2lenFYQBOFiYfTg0Xw07SNy83IBqFixIuczjUyddmEokZUthp+P5C4yd0wQBEEoSlavXs17773Hli1b2LVrF5mZmTRt2pQbbriBTp060bdvXxo3blys+idP53mUWXWl3Ry/muVr2rYlc/wKgK/5C4IgCIJ/NmzYQNTUKAbWGUiP//QgaVCSixdP53kqpbDIfPXhK9RTCC7yclQQhLLCsWPHGDp0KD/88ANVq1bl2muv5brrrqNLly4MHjyYkJCS00V2xprVGHT3+JUWRFsLgiBcwoz7v3HMjp0NQPcbunPfffcBrsZcXo7nm00Vonh47cPG3z5CPSW1fHDRWs/VWg+rXLlysEURBEEoNOfOnaN///7MmzePoUOHsmXLFr7//ns++OAD/vrXv5ao0QeQq3M9yqzGoPscv9JC6ZRKEARBKDZOnjzJO+PeIWFKAledvIowUxXs/Xwvhx4/BLiGb+pcT+NNhSiiqkcBFiNRgftL0PI1yxf9CQiCIAhlmszMTH799VfWrl3L0qVLWbNmDefOneONN97gmWeeCbZ45Ok8fj/yOzF1YpxljqkSUDDDT7J6CoIgCMXC/v37GdZtGF0PdiUmLIbQ7qHk/pyvrM6fMOb1ZaRmOMvycm08fqHKaRw6PH6h4aHkZhlthYSH8FLWS8V2HoIgCELZISkpiQ0bNrBp0yZ+/PFHNm3aREaGoYeaN2/OAw88wJ133knPnj2DLKnB9hPbefiHh0kYluAss3r8ZB0/QRAEIai8MvQV9ny6h666K2Cktr7m7mtY9PMiZx3HfL6ss1nOMm+hno6J8w6PX0h4iNPw+8ehfxTPSQiCIAhlgtzcXKZOncpXX33FihUryM3NJTQ0lKuuuorHHnuMHj16EBsbW6A19koKu+QuhZ3jJx6/AiAT1wVBEOzRWrNr1y6WfruUn6b8RKMtjWhE/rptKkR5rLNnF9bpLdTTsVSDw/MXWi6U7HNGuuroGtFFdRqCIAhCGUFrzalTp1i0aBETJkxg3bp1XH755Tz55JPce++9NG/enIoVKwZbzEJxKv0Up9JPAaU3uctFb/hJVk9BEARXUlNT+fQ/n5L4n0RqnK+BQtGc5uTWzqVWvVoc23gMgNzsXELLuSqn7POe6wzZhnqG2Id6CoIgCAIYumjlypWsXr2aPXv2sHXrVpKSksjJyQGgRo0afPTRRzz44IOEh4cHTc5zWeeYsnkKw+OGX1A7h84e4rYZtwH5c/yW715O+zrtL1jGouKiN/wEQRCEfN59512Sn0omOi+aBjQAoO3otvzx+h90+EsHTmw74aybm+Vp+GWlZeFObqZn9jJvoZ6CIAjCpYvWmsTERCZNmsTnmz7nTO0zRMyJoG7dujRv3pwBAwZQpUoVOnXqRJcuXahQoUKwReb3I78zacOkCzb8wDAiIX+O37PLnuWWFrc49285toU2tdq4HCNz/ARBEISAOHbsGGt/WcvGpRtJXJzI9l3buQ3jjWP9bvVJ/iWZxi0a8wd/uBh5Na6sQcqeFA9jzc7ws/MChoSGiMfvIkCmQwiCUBLk5eWxbt06xo4dy+LFi4mKiqLa/dWo1bQWf3zxB5GRkcEW0SvFsdC7NaunY+mHlIwUhnw/xCUhTEkjhp8gCMJFRmpqKv9763/s/GQnlY9Upha1AGhl/nMQWclQtCFh+cstOBScUoq8nLyAPH7Z6dnO4x0vJq1z/BweP/e2hOAj0yEEQSguzp07x9y5c1m6dCk//fQTO3bsICIiglGjRvHMM8/wyrpXWJO8plQbfQAhquijVaxz/BzJW+wSwlj3lwRi+AmCIFwEHDhwgJ9W/MTyacupuKgipzhFM5oBEH1FNOf3nfc4JqJyBOC6Jp+VvJw8Dy9d5tlMj3oOj591uQaXOX7m/xLqKQiCUPaZOXMm77zzDps2bSItLY1KlSrRsWNHnnrqKW6++WZnFs6CLGkQTBRF7/GzehFLMpTTH2L4CYIglGK01rz28mtkjcsijDAu53IAalSoQU6aMUG+YuWKnMeH4WeGYrroHoe3zj3U86z3UM/Qcm6Gn3IL9RSPnyAIQpng1KlTzJ8/nwMHDnDgwAGSk5OdnxMnTtCkSRPuv/9+7r77brp3705YmKdJURyetOKgOEI9rV68kvTo+UMMP0EQhFJGRkYGo0ePJnVKKg1PNgQgzG24DiFfoXrztEVWNsJr7Dx+DkXn8Pg1u6kZSQuSbEM900+me/TjbQF3gMe3P+7nDAVBEITSREpKCuPHj2fTpk3s27ePXbt2kZtrvOirXr069evXp379+lx11VW0adOGhx56iKioKJ9tFuWSBo/Me4Rm1Zrxj25Fv0bshRqo//753x5l1rBO8fgVITJxXRCEssSfiX/ywpAX+D7he17mZa/1rAaacw6fG+UqljP2h9rsN21Bh5euesvqXN79co4nHnepFlUtijMHzxh1LWGhdnP8HIah08MoCIIglGqysrJYvXo1TzzxBH/++SdxcXG0b9+eW265hQEDBlC9aXWa1mpKudByBW67KEM9Ew4lcDjtcKk0/BIOeyZrsRp74vErQmTiuiAIZQWtNa92fZX2Z9tzxT1XwPTAjvOWTdNhEDo8c1bl4/T4mYafUoYhl5fjOvm8coPKnD14FoCwqDCaD2jOjrk7bNfxC4sIc+lPEARBKF2sW7eO2bNnc+bMGRITE1m9ejV5eXlUrlyZd955h5EjR7rUj5sYx9COQwu11EEgBlXcxDiW3L+EalHViqS9wnChc/zsDDvx+AmCIAg+ee2x12hytglEwah/jGLS9EkBHece6lkvrh45GTlUuaIK4MUD5zbHz2GsuS/WXunySk7DLyQ0hFsm38K/a/7bdh2/8PLhLtuCIAhC8NBac/ToUb777jt++ukn1q9fz44dOwgLC6NSpUrUq1ePUaNG0bx5c/r370+tWrVs20nPSS9Qv7l5uaRmprosaeCLtKw0r4bfqfRT5OaZc8uLIQkLXLhBaZet05eXb/yq8bxw7QsX1GdhEcNPEAQhiJw/f57li5Yz/1/ziUqI4sSVJ7g6+mpnEpVAcPf4hYSFMOKPESQtTAIsHjiLHnL3+DmWenD3+EXXjCZ1X2r+cSH5xp57Vs9y5Y1QIAn1FARBKFm01vz444+sXbuWo0eP8uuvv/J72u9kHcuCE1CnTh06d+7MiBEjeOihh6hYsWKxyfLFpi/44LcP6N+8f8Cye2PQd4NIzzYMz0BDR4+kHeFc1jmaVGsSUP0LTe5ia/j5CPWcvW22GH6CIAiXCunp6cyZM4fFry0mc3smVXOqUhcj/fW4deOY1msaWec8k6y448iy6e7xc/fiqRBF0xua0urOVqzcutKo5JjjF+471DMsMszFCHUx9sw2HIZeeIVwlzqCIAhC8ZGWlsbWrVuZMmUKixcvZseOHQBER0fTsWNHqtxehablm/Lva/9Nt27dSkyuE+dPAIEnd/EVCnn8XP6880A8fst3L+ej9R+x5/SegBdK9+Xx++XAL1QoV4E2tdp4rWcnv4R6CoIgXMIcP36cLz74gh3LdrBqwyruPX8vDWnoUa9ChQqoEEX2uWy/bYZFGUaZe3IXx7Yz6UpoCIMWDgJg5asrXeuGuy7u7m74hUeFk5tpMfxC8w0/q/cP8j1+EuopCIJQPKSmprJ06VImT57MwoULAYiIiKBXr178/e9/5/7776d8+fKAMX+u/WXtS9Tos1JUyV3KhZYjKzfLb0jm8XPHeXbZs9SuULtA7XtrNzcvl5ELjTmPE26cQLfL7a+jncfPxfCT5C6CIAiXBunp6Ux4ZQJrPlpDh9QOXMZl9L+yP/zp/RgVogLy+IVHhZOZmukR6un04rmFYrr0EWByF18eP/d1/MpVKOe1P0EQBKFwJCUlMXXqVNauXcuPP/5IVlYWYWFhjBgxgmuuuYZrrrmG+vXr2x5blEsqFJSAPX5+DKNADL9tJ7Yx+LvBAESERgQuJN49ibk6X/dl53p/GWsnv8s6fuLxEwRBKPscPHiQUe1G0eJUCzrQwVne49oerP9zvdfjlArc4weeyV3cl1XwldzFaTR68fi5GH4Kl0ye7h4/R3IXmeMnCIJw4SQmJjJlyhTee+890tLSaN68OY899hh33HEHsbGxREZG+m2jKJdUKCj+PHQOr5idx8yKYykJX+2lZKQ4/w40qYwDb+3m5OU4//Ylo51hV5qMPSti+AmCIBQh+/fv58SJE8x8eyaTv53Mo+cf9ajjbly5UxCPH9gnd4F8g8zOA6dztcs+h/fOUe7AxfDTvuf4OTx+EuopCIJQcE6dOsXWrVtZuHAhy5YtY926dYSEhHDbbbfx5ptv0rhx4wK3WVAjqChweND8GZ0OYyozN5P07HSiwu0XhA/E8MvKzdeZBT1nb8ldrIafL0NOQj0FQRAuEY4cOcI3X37Dbyt/Y9eGXdQ5Uofa1KYOdbi74t22x/gz/FD49PipEIXO04RF2nv83EM9rYaYQ8E5l21wGG8h3kM9czLzlZ/VmPQ2x09CPUsHSqlhwDCABg0aBFkaQRC8ce7cOb755hv+9re/cfassXxOt27dGD16NMOHD6dhw4aFbrskQj1X7VtFVFgUnS7rVKC+Hcs0vLTiJU6eP0n8kHjbegU1/MJDwwMR20kgHj+HrHYUVajn6z+9zuirRwdUt7CI4ScIglAIzpw5w+R3J/P+S+/TWXemOc1pGN6QMMuw2r51e5J/TfY4Ni/bv8cv+7x3wy8kLITcrFxCIwyl6jfU05fHz/Gm0xHq6baOX0h4iGtyFx9z/MKjJatnaUJrPRGYCBAXF1d6XjkLwiVOTk4O27dvZ8eOHSxZsoTPPvuMzMxMunTpwpgxY2jUqBEtW7Yskr6Ky+OXp/PYfXo3Tas15anFT1GvYj1+uPcHIF+v+Av1dMyh25eyz2e9Anv8lP0570/dT43oGkSFRTFpwySGdhyKUspnchcHJeHxm7V1lhh+giAIpYnc3Fw+m/QZL7z8Ak2ONWEwg6naviqnN52mQvkKZKRkOOs65uB5tJGdr0w6PNSBjZ9udNlvN9fOikOJ6Dzjf29ZPa3z8Rz0eaMPx7YcY+07a83O8vu08/g5jMx84XC27Z48RoUqqjaumr82oBB0lFIDgAFNmzYNtiiCcMlx8uRJ/vjjD7Zs2UJiYiJHjx7l2MljbNabObva8OxFRUUxcOBAbrvtNm688caA5u0VhOKa47cgaQFj48c6l0xoWi1/jAkk1HPD4Q0ux/jCYfj5Ws4hkFDP22fcTquarXit12tMXD+RBzs86GEkbj662bl0g90cP2s/7vusuKzjV4rm+130EzGUUgOUUhNTU1P9VxYEQbgADh48yBN3P8HBEQdpU6ENI0aPACAkwxhK3d/qOTxg7uRkGMokonIEN39ys8d+FeLd8LvhnRu4Z849AE5PnMccv3Dvc/yuuPYKOj3ayenZ8/D4Wfq96YObCAl1Nfxc5kKYf1r7GblrpIchKgQPrfVcrfWwypUrB1sUQSizZGVlsXfvXtatW8e0adN45plnaNCgATVq1KBnz5488cQTfD3na7bv2E5W+SzCu4cz5v0x/Pzzz6SmpvLll19y2223FbnRB8Xn8Tuffd5lOzo82vm3M2u0j1DPYXOHkXAof529qlFVvdZ1nIMvQzIQw69yZGW2Ht/KthPbDDlRHDxzkHk75jnrPDjnQZbtXga4ZvWcuH4iAGPjx3q0W5jkLsGa93fRe/y01nOBuXFxcUODLYsgCGWT3bt3M/HdiSx+bzEqR3ELt3CzvpkGUQ3YzW6nIec+ztuFPMY8GMOZ/WeM/V4mlNt53hy0vLUllRsYD/GOuXcFmePnxCGr1eOHW3IXbXjxrHP8XMRUbh4/b+cjCIJQhtBas3v3blatWsWqVauYO3cuJ0+edO5XStGpUyf+9re/0bZtW9q0acPN825mfK/xNK3WlLtn3c185nNZxGV0Cy/eNfaKy/Bzn/Nm9Y458GaoOTxkFcpVcJaFh/ifl+fL42ddbsHbHL+a0TVJzUh1qfv5758ze9tsIN8YO3T2EOB6TvtT9wNw4MwBj3b9hXra7c/VuV5DUouTi97wEwRBKA7Onj3LvHnzWPDyApomNeUX9Qu36ltpNrQZSZOSyMnIcRpnDs+b+xs8u7l8YZFh+YaiN7svRLmEgwI0u6kZSQuSXLxpXj1+Yf7n+Dn7snj83A1OrTUhoSH5xqC3ZqwJYoRShYR6CkLRkZmZyfTp03nllVfYs2cPABUrVqR3797069ePunXrUqdOHdq1a0d4eDgnz5+k75S+JPzF8GylZqa6GCUT109kWOywYpU5kOQuWmvDECmAkWj1hgFsPLKR6Vumc0+be5xl3ubOnck847Hf14tDR192hqTWmplbZ5KZm+kss57H4bOH2Zuyl66Xd6V6VHV2stPreTi8dMfOHTP2+Ujo4i6DrzK7/Vm5WUHJuCrxOIIgCG78+uuvvFbpNT6870OaJhkPzA/+5UEAqleoDhjhmg7jzLrcgRV34w0Mwy873fcafe6hnt2f7U6vf/YCXOfzOQxIr8ldbOb4eXZm/qeUR6hnw+sauh7rJTLFxXgUShUS6ikIhSc7O5vly5fz9ttvc/vtt1OlShWGDBlC+fLl+eCDD0hMTCQlJYXZs2fz8MMP069fP2JjYwkPN4w7hwFhJRDPlj9+O/gbe1P2BlQ3EONi0c5FdPmkS4FkcPdinTx/krd+eSugvk+eN7yjVsPKV+IWR192Hr+MnAze/PlNl9BTa79zts/hiYVPkKfzKF+uPADnss8591uNskU7FwH5nj47L6Yv+byV2YV92s0VLAnE4ycIwiXL8ePH+eOPP9j+23b2ntrLgQ0HCNsYRoOTDYgmmt70dtYNzTPeNGaeNd4qunj8suw9fjnpnkojLDLMttyKUgqd49qWc20+q+HnCPX0ktzF1zp+zr5C7D1+FepWoFabWpzYdsKnrNY2xOMnCMLFTkZGBmPHjuXrr78mOTnZOa7Xq1ePhx56iH79+tGrVy8iIiL8tmVnEBRFspUR80fQqmYrvrztSzYe3khEWAStarayrRtIf3bhi/7wZRQ5DDSrMZen81AYLxjTstIAV2+brzBOh4FoZxw6yhzhmeBq+NWrWM9DXkf/7jKMWTEGgIjQCI99vvCX3MWOUm34KaWu0lqvtSnvrLVeV/RiCYIgFD1ZWVmsX7+ePzf8ydbdW5n0/iSeynwKgMnhk3k8+3GvxzqWV8hOM/63M/zcx/nMM5m4Yw319BbaYpfcxT18s8+bfShXvhwLHlvgPdTTxxw/x8OMdZ6eXTZRn95CZyV8no8QPCTUUxC8o7Vm7969bNmyhS1btrBx40YWxy/mzMkz9OrRiwceeIDY2Fi6du1K7dq1C9y+nUHgjzUH1hBbL9aZydIbDoNn6NyhVIqoxI8P/Ghbz5vXLTUjlQrlKhAaElqotf58nZtdcpfOkzrzZJcnGdxusG0bvvSHo57V8Jv952y6Xt6VqpFGUhir4Wf1qtqFa24+utn5t10YpsNYDtTjZ5vcxU+oZ7AINNRzqZfyRUUliCAIQnGiteaB5g/wQ7cfOPD4AWa/M5tOHfIXm/1z658+j3csqJ6VZr6l0/lz+Ow8fqERofaGX4Ql1NPHnDkPwy/U1ePXfVR3mvdvblR387Q5PX0BzPHzWM7BfR2/ADJ0uid5EUoPEuopCPmkp6dz4MABlixZwosvvkinTp1o3LgxN998M88//zzr1q0j/OFwRnw2gmXLljFu3DhuvfXWQhl9EJjh9+mGT122n1j4BAuTFvo9zmpU+Qrn9GbU9f6yN19s+gIo3Eu7QOa/uXsbNx3Z5LUNXx4/O8Nv/OrxzNgyw7ntzeNndw9+2v+Tz/0OWYoz1DNY+NToSqkQpVSo8adS5rbj0wwI7IoIgiAEkZycHAbdN4jL911Ozv051O5WmwU/LOD777931lHat+JzePwcoZ5gk3nTMraHR4XbGn4hYSH5yV28oPM0W6Zvyd/W2jbUM194zz4gsDl+7vPzHGsDOtuyywjq3kaIaxuCIAilhbNnz7Js2TIefPBBqlatSoMGDejbty+vv/462dnZvP322/zyyy+kpqayd+9eGjZsSIW6FYokgiEQw+/DhA89yuxCDHef3u1iJFqNKl+Gn6+5c4fPHjbaKoTHL5AwSPd23ZeAcAn1DCC5i3sda6Kc0xmnnX87rkd2brZfOX0ZZe6Gn7vnrlpUNdtyKNwC7iWBv1DPHPIfZdyfVPKA8UUukSAIwgVy8uRJ9uzZw6FDh5g4cSIRiyLYmruVZmHNePajZ/nu9u88lKGvBdMBss4Znj6nxw/P5C3WwT0kLIT0U+nO7evfup6lTy81DD8/c/yyznrG/vsy/NyVYUBz/GyWc1BKOQ0/pxevIKGe4vErdUiop3CpsXTpUpYsWUJSUhI7duxgx44d5ObmEh4ezm233cb1119PzZo16dOnD+XLl7dtw92btenIJhpUbuBzrTk7ChPq2Md68gAAIABJREFUCfaepllbZ/FN4jf0bNQTcDX2vC1fAIbR9Er8K9zc4mY61O3gsQ98G4de2/Xh8bOb4weQnpPusu0S6hmAx8/dkLReA6v+dZR3/bQrT3d72mu74Ps83Pd5u5/+7nNp8vj5M/waYaj0lcC15t/a/BzXWqf7OFYQBKFEOXv2LJP+PYmD4w6ygQ3EE0/dunUZnjuca/9yLRnrMoiOjjaMGsdIZuLX8Dvrafi5J2CxtqdClIv3zGq4+Z3jZ2Ns2SVQiahkJhdwq+4e4unLa+e+nEOhPH4OI1Hm+JU6ZK1boayTlpbGtGnTiI+PZ/369Wzfvp2IiAiaNGlC8+bNueuuu+jevTtdunShUqVKAbXp7iV66IeHuKnZTbza89UCyeZuEOTm5XIk7Yj//m2MEUdbA2cOBFyNIF+ZQrXWzN0xl/DQcE/DL8/7Mgn+CGiOn1u77gatS6inL49fnr3Hz5un02oIX4hR5iGvF++hv1DP0oRPw09rvc/88wow4j2BGsAJXZr8loIgXLKkp6fzw+wfmPbqNPR2TUc6UkFV4Paet/PySy/TpUsX3oh6gyvqXMHOcsb6PSpEeYReuCxcboMjbNPqjfPw+OV5b8M9OYsvbI0tmwQqkVUieVm/zJr/rfHZV6Bz/KweP+fuAOSVrJ6CIJQkeXl5rF69msWLFzNz5kx27txJnTp1iI2NZfjw4Tz22GOUK+c7OYovAl2/za+cbg//32z9hgNr/GfQtPP4ubcVaKin4zi7Ov6WSdhz2lircEHSAm5pcQuNqjZy7g8k1NPh8XP0Uz68PEknk1i2e5lHG4HO8TuffZ7o8GgAUjJSGL/aM/jQeq7+7qVPj58OzONnZzxerKGeACilqgDvAgOBcCBLKTUT+JvW+lQxyicIguDCzp072blzJz9N/4mE5Qk0TG5IXerSgfw3mfXj6lOrQS169OjhLNv05SYiq0YaG6ZnyzoY+/P4OfA1x89ucA8JCyEvJ88jOYsvCqokPEI9Qws5x6+QHj+nvha7r9QhoZ5CWWPnzp2MHDmShQsXEhYWRocOHZgxYwZ33XVXwFEHm49u5sE5D5IwLMF2f6Bp/P3hbiikZqQGdJxd/+56wcXj5yPU02GU2M3j87Uw+lebvuLj9R8DcCr9FCv3rXQ1/AII9XTgWLogIiyCt355i/WH1wOu18eXh8yxLys3i2s/u9Z539YfXs/2E9s96rsvI+GLgnj8vBp+lnsTFR5Fena6S7ulKdQz0KDez4AoIAaoAHQAIoDJxSSXIAiCC4mJidzb515uanYTa29cS/gX4XRN7kpd6nrUDY8Kt/W+ZZzOAChUqKcDa6inh+Fn8Ro6FEG5isZbZ9s5egUwlMIifbyn85LcpSDr+Hnz+HkzVEPL5T8oiMev9CJZPYWLnenTp9OpUyfq169PZGQkzZo1Y9GiRYwfP56UlBTWrVvHwIEDCxRqvvPUTp/7i8vjFyi+Qj0dWI01X6GezvlxlvpxE+Nc+nGfi3cm84xLlkzwNOYKYhw7krooFBFh+esfWs/TVwZNx9xA92vgWG/PHausfpO7+HjR6n4fAsnyWT68vEe7F53HD+gF1LHM6ftTKTUEOOT9EEEQhAvjyJEj/Pbbb0wcP5G4tXG0pCUtolvAed/HhUWFeSxLYMUR6lkYj5+LsZjt4xizXkTFCDJOZ3gYY+BjToONjoiqGsWzp5+1re4tuUsgc/w8ErO49W3nLXxk0yPUalvLo3+Z4ycIwoWSm5vLV199RXx8PJs2beL333+nZs2a9OvXj5o1a9KgQQN69+7NlVdeWeg+/D2I+zIWdp3aRdKpJG5oeoPffgpt+Nl5/NwGZ2s4YyChnt48fqfTT5N8Jtml/OklT7Ph8AbfMhbAOLYaTNb1Ca3n6cuoOpt5FvA8B6+Gn0UX+bsHVhna1W5Hj4Y9OJ1+2lamQO6ne3grlC6PX6CG3zagIWBd6KoB4OlfFQRBuEAOHTrEd19/x95ReznNaY6HHnfuU+f9Gxfh0eFO75utgjdDGr+77ztnkS9D0RuBGIu+PH4V6lQoUH+RVSLtd3hbziGAOX6FCfWs3c5tTSvJ6ikIwgVw4sQJVq5cyX//+182btxIeno61S6rRrtW7XjppZf4+9//TtWq3jNqpmWlMXLhSCbfElggmr8H+LSsNL7c9CV/bf9Xj32jl49mz+k9xWr4BTTHL8B1/Bw60G5R8jydx9NLnmbTUdf19VIyUjzaydW5fPjbh4zoNMK57Q33l4BW2a2Gn7U8EG+aw6iyho7aMXH9RNs+7LA+I1hlg8Dn+NnJWJqMPSteXwMrpR50fIDlwBKl1D+VUiOUUv8ElgDLSkpQQRDKPtu2bWPYXcNocVkLkkYlERYaRqvmrRjztzEFaic8OtxpyNmFfDpCPfet2ucsC9jjZ8E9uYsVZ6hnBUOROEI1rR60qk3sH2QuNCzE3eCz89rZ9XGhyV1kjp8gCAVh2bJlPPTQQzRu3Jg777yT/fv3M3z4cGbMmEGjMY2IfTqWV1991afRB5B8JpnNRzcH3K+/h/Kdp3YyYe0E233ZudkB93Mhht+YFWMYt3Kc17YKGurpMA6t8wxz8nJc1r/zRVpWGp9uzF9HsCBz/KyyW7101vKChI4+Mu8RwNNQs8NvchdLv+4GtLueDMTLaevx86LTn1jwhN/2ihpfHr/73bZ3Al3ND8Auy9+CIAiFJmlHEiN7jKTO4To0pCFPVXiKkLQQarSsQbmocmQczaBS/UqcST4TUHvh0eHOtfJsDT+brJ6FMfx8hXo279+cTV9sIjzaUMgtb23JA/EPuKzt1/mJzvYHF9Duu6B1/FwaKmRyF8fh4vErdUhyF6G0cOzYMX7++WcOHDjA6dOnSUhIYN68eQDceuutPPTQQ/Tq1YvoaCNj45sT32R/6v6A2g5kHbqkk0nUrlCbShGVLijVfkEMlAuZ47cgaQEhKoSXrnsJKLrkLlZvXp7OIzsvMEPW3SgKZDkHu7pWY83q5StI6Oj2k0bAYWSYlyiYAOUE+/X/vGG9902qNXGGhDq4qdlNTu+pyxw/L1k/1ySv8Sgvbryeoda6Z0kKYkUpFQKMAyoBCVrrL4IliyAIxUdWVhafvfMZG57fQJecLs7ykDRDiYeFG3P1zh8/T4U6FQI2/MKiwkg7ksbmKZtpdVcrzwo2Bk4ghl9YZJhzDT7w7vG78d0b6fx4ZzZ9sclpHIaEhdDwuoZsn2sorL5v96VRz0a2xxfY4+cn1DNQ463QHj+Z41dqkXX8hGBx/PhxZsyYwZQpUzh06BAHDrguY9CiRQuGDRvG+PHjqVGjhrP8X6v/RZXIKkB+UhB/+FoKwMG9395Lr0a9ePP6Ny/M8CuAgVLYfuzOu6g8fmcy8/Xor8m/etTPycuxldsZwqg1SqlCG8DW8Mw8nUf5cuU5l3Xu/9k77/gqqvT/f84t6Q0ChhIgBAJKUUpAQaVZQAQUsYAsIAq6Yi9rXXXXxu531waKioiiP7GAslIFRAEVpCNIr4FQQwjpJLn3nt8fc89kZu7Ue+cmN+G8ffkimTlz5tySmfOZz3OeByWVJajyVumKWLEPZzQqPBXmHD+DcUrHZvQAQdp2cNvB+GL7F7L9V6Rfge2ntwOQiz2193PI7CG65woXph/lEkJSCSFjCCF/8//ejBCSbuH4mYSQ04SQPxXbBxFC9hBC9hNCnvFvvglAOoAqALnKvjgcTt2mpKQEb735Fq5pcw2WPbUMVQ2r4HAHXo4cLgeoj6KiqKK6FIMJ3HFuHF1zFPPGzEPZmcAbqJjVU4JeHb/uf+0u9BsvvyH5PD70ejIw8EEqlqrK5E9TmQhzuq0XzNXCKLmLFSdOKTotlXPgcDgXLJRSHDt2DB988AH69u2LzMxMPPTQQzh58iQGDBiAV199FatWrcKZM2dQUVGB3bt348MPP5SJPgD4dte3+GbnNwDMCz8zjp+V/vQwsxaNEazwm7d7XsC2kJO7+IWiXpjrT4d+wlUzr8Lhc4cD9jFxTUHhoz6UVpZW71Pcg9h9hJ1bb41ftybdsOquVQAgCyXVg4lHM8LPSjkHQ8fPhOhn71OdLODOIIT0BfAtgI0ArgTwHwBZAJ4EMNTkuT4F8C6AzyT9OgG8B+A6CAJvAyFkPoD2ANZQSj8khMyFsMaQw+HUcTas2YAP7/sQrt0uNPY0xrW4FgAw/O3hWPzXxaioqpC1d7gd8FR4cL7wPJJaJJk+jzu2WqCVnSmDO96N+MbxOHdYCHGxGuo55P0h2PTBJkTFR6E8v1x2jMPpwOD3BmPxA4urxy1J4FJZWinrSwzDVBG6Ior7ctOugSUrZEjuuVmDs9DmujbCOZxy508X6u9HcW4zdQfVxsHhcOo3u3fvxo4dO7Bnzx7s3LkTCxYsQFGR4CZ17twZt99+OyZMmIDs7Gy43fKHZsO+HIZ3B7+LlJgUTNswDc9c9YxsP0vewdL4G2E22oCtzwtHqOfRwqNIT0q3lFHSCsq+pGJXN9STykM99Xhq+VOGbTw+D6ZtmIbfjv4mbnM5XLK1j2ysm44H1utTCj8HcSDWHQsASI42V3aGCTQjoaY8txIv9crEHHuP/jz9p8wZlbY3QuqMMiIp0YvZrJ5vA7iDUrqCEMICWtcB0FigEgildDUhJEOxuSeA/ZTSgwBACPkKgtt3FACbLWm+y4SQewHcCwAtW7Y0OxQOh1PDeL1erFy5Eq8Pfh0dfB0Q1SAK0RXR8BYJf94NMhqoCgzR8Sus0M5oqQJbVwcI4ow4iNz1Ugn1/GbEN5b6BYDiY8UgDoLs+7Plwk/iklWVKhw/l3XHr9PITrr7pRONayZfg9iGsf4dgfvN9iMea0Y0cjicC4KCggIsW7YMH330EVZsXAEUAaBAkyZNcNNNN6FXr15o164d+vfvD4dD+6HR8eLj2H1mN+LccZi7c64o/E6XngYAVHiEh4BmE6kwl8Xr84IQoukAMrculARaWq7P8K+HY/rQ6bh3wb1YeddKJEQlhFX4aWX19FEfqrxVoiumVscvFLw+b8DaS6XwY0Jn0b5FAWNXc+kcxIEh7YYgPipe99zsHsU+XzNiVs+l6/1xb1yadqlsHACw5eQWTF03FZ0ukt97gy7nEEF1/Mw+ys2glDLXjY2+EuaFoxbNIYg8Rq5/23cABhJCpgJYrXUwpXQ6pTSbUprduHHjEIfC4XDsprKyEsuWLsMdbe7Ar9f+iisqr8DAxwfi6Z+eRsMWDcV2Sc2TtIWf1x/qaUH4uWKrL03USwXRJ9U0hMBbab1ArzLUs/R0qSAqCUGPB3tU98+yajoJGl0sD2Nihc91Hb8QkApcQghGLxltzrXzl3NQYiW5CyfyIIQMJYRMLywsNG7M4WhQVlaG+fPno1WrVhg5ciR+a/obmj/eHFMWT0FxcTFOnDiBzz77DPfffz+uueYaXdHHcBBHgLAb/MXgoMbHhMbwr4fj+RXPa07QPdQjax8Meq4PcyqZW2Sn8AtI7uIIFH7Z07Px4s8v4sqZV1Yf53+tZtwxM3ipN0BYK9cYKl+3kfADzK3TZDDBZybE10odP+l7qvY5mwr1JNUhsYy66PjtJIQMpJQulWy7FsD2MIwJlNIyAPeEo28OhxMeKKU4ffo0Dh06hAMHDmDe1HmI3xyPzKpMdEZnAEAUotDwooZwuByyjJhRiVGaa/y8VV5UlVUhOkm9Xg+jccfGyNsh1PtjpRMAIQGL0vEjDiJm/bRCTHJMwLlYv+lXpGPDuxvEcQPAcyXPweFy4Mhv1U9H2dj0HL+Qkrso7p1tB5nP5qjmDFoK9eREHDy5CycU9u/fjzlz5mDq1Kk4ceIE0tLSMH/+fDy590kAQFqLNBTRIvSb3g8b791oqW8HcZjOKGkEm5AfLz6O48XHsfXUViwZvSSgHXP8wpXchYkrNdcnVJR9uRwucVtSdPVSCGVZC70C7sHg9QUKP6OMn1rlHJSYvfcxgWbGxTQKz5Se0+g9slTHTxrqGUGOn1nh9wSAhYSQRQBiCSEfQljbd1OI5z8GoIXk93T/NtPwVNUcTu1AKcXOnTvx83c/Y9uibVh2eBmuO3UdAGAWZuE+x31wt3cjtjIW5Qeq12k43U443A7Zmjp3rFs1AYnD5UBFYQWiEqIMQw6jE6tvJlKxwtbhyZwrEph0xQzJGcl4uuBpfDnsy+qu/OOWOojsXEzkZfTNEPcxN9LKGj8jpIItpJIKKocqXU4Oh1N/8fl82L17N44fP445c+Zg5syZ8FAPLu95Od577z3069dPqKm3V2jv9XlxquRUUOdSc/yCRemo5JXmqbazY42fXnIXJhzySvNw7vw524Tfr0d+RYVXvgbeSZxiaQapmEqISpC1sz3Uk3oDBJJSCOoJPz3n8ZXVr6Btw7boeFFH3TGwMg7BhHo6iEPzczF6j8ys8Yv05C6mHuVSSn8HcBmAHQBmAjgEoCeldEOI598AIIsQ0poQEgVgJID5VjqglC6glN6bnGxuQSiHwwken8+HnJwcTJ82HVddchXmdpqL/Bfz0Xxdc9zhuwPp/v/+kfgPNPI1wisrX8GlQy6V9eFwOwTHTyL8nNFOVbHjcAnJXRxuh6Ggke6PipcsHvev8WuY1bA62yUhqCoPYsLhA2JSYmQikp1XWuZBzyWz7PiZ0XGKMFYzmH0CKX0vORxO/SInJwf/+s+/MGjQIHTp0gWJiYno2LEjrrvuOnz++ecYO3Ys+kzrg14v9sLw4cPhjnfLkl74qC/oCa6DOFBSWWLL61Bz4Q4WHMS+/H2ybVYycmqh93qZqHls6WP4y3d/Mf3eDPtymO7+R394NKD0gtPhlAlcdk2Pd8vXyVlJ7mIGto5SDz3hZ3QsK4fAaJbYTEz+wshqmAUguFDPB3o8IPtd2ofRexR0Afc6GOoJSukxAP8X7IkIIV8C6AegESEkF8BLlNKPCSEPAlgKwAlgJqV0R7Dn4HA49lNaWoqZH8zE76/8jiPFR9DV1xWpSIU3RrgAZt6SibObzyItOQ2n8oQnv1XFgqhyxbgCnDqn2xkg/Agh8HlV6gb5Q0LdsW5jQePfPebHMbKsnjvn7gRxENz69a3wVghjJg6Cc4fOqfWiC0sIo0wUA8iFn547ycZmeo2fiftFUI6fSr881JPDqd9s27YNs2bNwrZt27B9+3acOnUKuBdod7gd2rVrh6uvvhpdunRBZmYmunTpggYNGiB7ejb2nRUE1F3/uwulVdVp/L3Ua6memxQHceA/a/5jy+tSm1iP+nYUvD6vLATVjlBPQFtwMMeIOXFmz3O8+LjlMTiJE/nl+eLvLGxWuYauJhw/JQFZsy2832rvRZe0LrJi56KYNfGaVuWs0t0vE34G/VkK9UQdC/UkhHwOE1MOSulYMyeilI7S2L4YwGK1fWbgoZ4cjv2UlZVh0YJFWPbaMhzecxjbKrdhEiahbVJboaj6WR+mTZ2GBRMXoGGThjjnOheQJRPwCz+FEHFGOcW1e1LUjne4HPBWekGcxLTjF9coTibCNn2wCfFp8XDHuqsFIQG2fLzF1HshG6P/4q0m7NoPa4+TW05i2+fbkJKRotmHGcfP8sNBqQ61OdSTw+HUXU6dOoXVq1dj/fr1WLBgAfbs2YOYmBh07NgRgwYNQufOnfGJ+xOMHzceO/J2YOpNU1X7YZPZ48XHxQQmgOCAhOL42YWaE8NC7koqS8TkI0rhx8oJWEUrXNForZudOB1OWf+sRqHy9die3EVljZ8SPcfPCJbZVYryfOxhg5nPTq0sgxRpUhlDx89MqCdL7lIHyznsl/zcCMA4AAsA5ABoCWGN36zwDc0cfOE6h2MvO3bswH+u+A9ICUEGMpCOdDz+yeNYP349EqITkJqVipNbT1aLICKIMlXh5q5eW5d+RTpyf89VDfUEtIUf9VE4nOZDPYmDBGSiLD1VKm9rMhwyYDysLp5kLGzcDds0xPDPhuPmWTfr9s+En57jF9LTwWDFGw3+fRFPHeLxHA4nNMrKyrBw4UJ88MEH2L9/P06cOAGPxwO3241+/fph4sSJGD9+PEqcJVh/bD1u7XArvpz+Jbae2opdebs0+9X621bWQav0VsLj8yDOHWc4VjuFn9rEmvU/+IvB6HyRkGCMCT+pAAyX8EuJSQmr8FOOQUv4sc/HtlBP6tV0xqRu19jLxuKzP4TS3VbeB7W2yvOxNlYygWohfb+MvgtBh3rWBcePUvpP9jMhZCmAGymlv0i2XQXghfAOj8Ph1ARVVVVYvXo1/vvf/+LXpb/iSfokSBRB44sbozCnEF27dsV6rEdVWRXccW54K72icBNLJWiEDjKRJK1f53Q7TQs/AJYcv4CafWoEMd+YsH4CGrYRSlBIhaVy3EbiRxR+eiGUEZTchcPhRCYFBQWYO3cucnNzcfDgQRw6dAhbtmxBWVkZMjIyMGDAAKSnp2PYsGHo2LEj4uOr1369t+o9fL/ne9za4VYAQvFxPbREg4/6ZC7ISz+/hNVHVuO3u39TbS9FOcm++aubDY8BhAQtrGC5j/rQ86Oe+GjoR5rty6rKcPDcQQCBws/r8wblhDkdTnh8HvFYtXV0bqc7rMJP+f6d95wXxyaFvVa7Hsx5fB6Z4Lpj7h0BY/JRn6xNqO8D6ysciVPsDvVkY4wkl0+K2W/7FQB+V2xbB6CXvcPhcDg1xZ49e7D408XYtHYTyGqCPXQPDjU6hIdHPQzMBmISY+CKdoF6qShuPOUeuGJd8Hl81eUYiCA2tJ5osbBIJnQ0HT+vumMI+IWW5J7V44Ee2PCePLcUu6kRBzHMAMraumJdpss6NO/RvPp4qbiyKtL8x6oJ3aAJIrmLXh8cDicy8Xg8+PXXX7FgwQJ8/PHHYPUZmzVrhnbt2mHcuHG47bbb0KdPHzid2pNY5QRXLcnKjtM7cEnjSwDoOH6KUM9TpafE4utGKIVLblFuQBu18/b6uBde6PMC8srycFeXuwBAtSyEtH8WnspEEMvuGez6xOKKYlwx4wpx/SDrRzrZ9/g8NSr8tBw/u0pmMHzUJ/v+HDh7AI3iGsnOrXRSQ30flN9XM86bWaTjNHoIYOb7Ul+Su2wB8Doh5EVKaTkhJBbAPwFsDd/QzMHX+HE41qCUYsqUKfjp0Z/QDd2QSlLRkDZEW7TFE4eewN6v92LZwmWoKquCM8oJn9cnihTqo3C4HHBGOcWsmMxhUxNubD8gd/z0Qj3H/zIen1z9iewYpePnjA6c0OiFegY2Fv5xx7qDqucnFZbBCjit9ysY7HL8eKhm/YPfI+sulFLs2LEDS5cuxcaNG7Fv3z78+eefqKioQFRUFPr27Ytnn33WUOSpYSbsb9z/xmHajdMAaIfAKbN6JkYlmh6DmRBLrVC+9ze+jzNlZzC+y3gA1W6X7FjJ9YwJPSaCpI6fHagljQl2/WOL5BaGDqwa7FwBws+mkhkMvTV+TKDZLfxYX6x/O4WU9HtiZ1bPul7H7y4AswEUEkIKADQAsBHAnWEal2n4Gj8OxxhKKXJzc7Fi7gosensRFhxZgCcdT6L96PY4sfIEio4Ki58TEhJw7vA5pLZPxfENx+GMcgoCRXLNEoWfvw4eC+eUFmSXEiD8/MldlO1ZVk+pcGECTrnGzxmlI/yICcdPIhKDQS/U0yxqWUzFPm0s4B50PxLGLB+Dz6/7PISOObUFv0fWHTZv3ozVq1fj2LFj2Lx5M7Zt24YzZ84AADIyMtC2bVtMmjQJvXv3xg033CAL3bSK3kMej8+DT7d+Kv4MaAswL/WKbSilSIy2V/g5iANL9y/FjC0zMOe2OeJ2ZeZKNeEnhdXAY2NlDqBdjhwTBNL+9Bw/QrSjZEIl3I6fl2oLv3A5fqwv9m+4HD+jUE8zglMt1LPOOX6U0sMAehNCWgBoBuAEpfRIOAfG4XBC5/Dhw3h5/MvY8scW3FwgrJ/o5P8vvnE8Lmp5EY5VHZMd4yn3ICZFKI7qihbCOqXihgk/0SljoZ4aAkgUb5JQT7V1gWIBdMn8Qub4SSYqrujAS5fM8TNYxCeGhfoFYvth7bFn/h7dY9TOBQQv/KKToo0bBYFZMas26ZA5h5KfM6/NDH1gHA5Hxrlz53DgwAFMnz4d8+bNQ16eUJMtKioKHTt2xM0334wrrrgCAwcORHp6uq3n1gpp+/ev/8acnXMCtmtN9L0+r8ztSopOMj0Gs8JvzdE1OFRwCED1dUs5flXHT3IzYS4VEyBM+KmF7rVv1B57zpi/HwDqjp+u8AMJmxhQvq/SLKx24PF5tB0/v2NGKZXdQ+wOeQ3XGr8WSS1wqvSULf3VdccPAEApPQrAuv/M4XBqhPz8fKxcuRIH9xzEqumr0COnB1r5/wMA4iagVcIFyB3rFpw6lZBLseRAlBPUR2XuVIDjx0I9tdb4qYR6Snny9JMAIDqAMsfPbd7xY/d4UVTqIW0bBLJQzyAu6E/lP4XYhrHaDUJJ7hJKuGYQh6a2S0X65elBH8/hXAh4vV4cPnwYR44cwcKFC/HJJ5+goKBA3N+vXz8MHjwYI0eORHp6uu7f8brcdWgU1whtGrYJejxaE3c10afX3kd9MhGVEJWg2i7nXA5apbQy1aeyDRNIZ8vPBhQnZ5RXlQdsY+9hlDMKld5KuBwucazMAfT6vKCU4mjRUbRMbgmvz4u0+DTLwk9c4ye5H+gJP6kItRtluKKRG2oVvVDPcDl+7H1l/QS7NlMN9oDgoviLcH2b6/H5ttCiW9T+duuc4xfJ8PULHA5QXFyMz9/9HIeeP4QEKtx4e6BHQDuX24Wqquri6iAIrKdHqTzzJBHWoxGnsI4vYI0fEdw4LedLLbmLcCLhn/jG1TdyZ7RTLvyCXONnlOJZFKNGawENjgeCc/x0RR9CC/W0u4C7EQ/ueVC3Tw7nQmbfvn3429/+hnXr1uHkyZPi9r59+2LIkCFo06YNWrVLp25BAAAgAElEQVRqha5du5r++3tg8QPo0LgDPhv+WdDjslrCQNPxo97qRCk+r6owKygvwIhvRoiJUL7d+a3pMUgF0vWfX48VY1cAqHbYGGrihvXvdroDhZ8/AY2XerH5xGbct/A+3Nn5TszePltzLOc95zFv1zzVfWqOn3L9o9rYjPBRHw6fO6y6b9qGaar9a2X7tAu9Au7Scg52Cj92vFIA2gEL74xxxdiyzl3ts62zjl8kwtcvcC5EKisrsWHDBqxeuBp7lu6Ba5sL573nkYUs0324Yl2qa/Okjh9xColSvFVeuKJdqCqrqg71LPOv/WDlEzSua2pr/BgpreWFzl3RLtmFVxSLiqyeeqGeLPTUFEFe4+1Y46fGkOlD/J1aO052s+KuG4dTa5SWlmLZsmVYvHgxdu7cifXr18Pj8eC2227DNddcg6ysLGRkZKB169YhTTJTY1NNt529fTZ6NOuBrNTq+4Ntws/nFdeQ+agv4DXN2joLsW7hQdd3u76D2+HG5F8nmz4vIUQ2yS/3CM6e0vFh22XH+i+G0c5olKJUKAHhX+4mXePHsonqiT4A2HJyC3469JPqPnGdo+LirbfGzyyL9i5S3a6WiRUI/KzU3ptQ0Kt9mJaQBkD4XthZzoEdr/zXDEnRSbpF3EOtBbg3f69hf9zx43A4QVFeXo6pU6dixXMrcNp7Gm3RFp3QCQAQnRaN1JZCUhYzsFBPpeMHKqk153SAOAVx6Ix2yoQfC/XUKucw8vuRYh+Aeqhn+2HtZceYdvzUkrtIyzkYCb8Qr8F2rPFT0vaGtug+sbtsW+Z1mWjcobGJAamPzTJcNHI4lsnLy8OCBQuwfPlyLF++HPn5+YiLi0PPnj0xZswYPPLoIzgWewx7zuzBgF4DdPsqqypDrCvWUBg0jG1oenxvrn0Tg7MG4+X+L4vbrBbz1hqPj/o0SyP4qA9T108Vi7m//svrAUlZAKB5UvOAbdJxSu8tLKTTjOPHYDX/4t3xKDwvlL+QhnqeKTujeaysH4dbc5+a4wcAG45vUGtuSXgvPbDUdFu1vtXCYENBa43fw5c/jH35+wCE0fHz37ytJHe5s/Od+HjLx5r72Xc7WHFmxs2rc44fIURrZX8FhEQv4StUwuFwhDUh//4Eab+mwQcfeqM3oppEIb1bOg4uFgrTRrmiEBUfeFPVwhUruGtqjh8LpZQ5fpLwT2eUE/t/2C+08Wf1VAqgxOZCdjel4yeGevrHIBtTjEsmXLTEXMjlHNRQJJvRbSrNGhqG6zm7SYxZNsbceGxa4xdqmEt0cngS1nA4kUZeXh6+/vprvPPOO9i/X7gWpqWloXfv3pgwYQKuu+46xMYKTlf29GzxuMd6Pabbb59P+uCN699A34y+uu2YmDKLUrQYZS9UohvqKXH8GEcLj2L418MByLNKSsMtzUAIkQlK0fFTTPyN1vgBkK0/FIUf9SK/PN/UWPRqvKll9QSAbae2AQB+yflFPjYLT9mOF5t7mMtQfrZMFG89uRVXt7zaUl9q6K3xk2JnchcmypQC0E6MxtgyuWVQx0UaZh2//aie3iinRz5CyHwAkyiloaXC4XA4MnJycjBz5ky8/PLLGB07GmlIE/clJCbAieoLvM/jgztO+4mkEub4KaGUwh0r9CM6fh6fGF7JhB/Lwikmd1EIPya+REHmEv6VOn7sPAxXtEvVvXI4HfJaO3rlHEwUcGfCSln/zmxtPalgtbUQuw3UluNnmLCGw6nD7Nu3D8uXL8eqVavw+++/48jRIwAFevfujfvvvx9dunRBnz594HJpT6tSYlI090k5W35W/Pm11a+hZXJLjLlM/hDIjHg6XXoa3+z4BkC168WwGt6Wcy5H1WWR1qqT7peGIUrryEnFk5kJs4M4ZG6JdG2eFL1QTyZ6pTUGpaGeZt0jPeGn5fgxHlsqF/xWQ22toNX3Z398hhGXjAi5fy/1Wn5wYFUc7cvfh1h3LNKT0mXHq33X7CJYAWdGhNbFUM+JAPoB+AeErJ4tAfwdwFoAqwD8G8B7AG61fYQczgVIeXk5Hhv0GP63+n84hVNCIoBGQ7Dn2+pMY4SQ6hIIELJiKh00PZxRTnXhp1zj56+5x1w2h8shd9w0yjkw8RWQ3MUlcfxi5ONVhnqKYk4R6qlbzoGYcPykj7Ekx6sJv0cOPRKw7ZrXr8GOr3egPL/cPuFHNX42g011/IwcP73vFxd9nPpETk4OPv74Y+zYsQNr167FiRMnAADp6enoeXVP+C7x4duB36Jnz56m+2Q17korS3Gy5KQsK+eSfUuQ3UxwBqUibd7ueUhLSAsQfka12U6XnsbPh34W6/Ex8bMrbxf+seofuLLFlabHDQBFFUVYuHdhwHZZwXKJGItxxaj2Y1X4ERDVdsqJv15yl2iXEInA3n9KKSo8FYhzx8Hj86iKmKHthmLB3gWybUrxLEUp/JwOp644qQ3hB9jjTpl1/EI576hvR6FxfGMsGb1EdryY3AX2u2zBvjdmRGidC/UE8E8AbSml7C9rPyFkEoC9lNIPCSF3AdgXjgEawbN6cuoTXq8Xe/fsxb8e+xcyV2difNZ4TPxhIjIzMzH3jrmB7SXCz1vlteT4gUBVJKgmd6kMDPUUuyGBNfmAQMdPul6PIRUS7Ye1R8urW8rFKMvXQozX+ElLNIhi0x1YKF4LJnpSMlJw7vA5cXtKRuBT+pjkGNG5DIfjZ/UmoXQuw3GOB/c8iKgE86HEHE5dYe/evfjmm29w6tQpHD9+HAcPHsTWrVvhcDjQtm1b9OvXD+3bt8ctt9yCTp06Ia8sD4O/GGxJ9AHVf3NT10/F3J1zxSyXAPDCzy9gYjchR53SWZI6Zgw1x++fK/+JnWd24vmrn8fd39+Nv/X+m7iPiZafD/+MA2cP4MDZAwCsTXbVxJVU7En7YmJLiVRkmTm30+FUdUssrfHzi14W8lnprUSFtwIxrhhQSlVFTEZKRsDaQ701fspyDk7ihBeRJ/zsQK+Au5d6kXMuJ2D7iz+/aPk8anXw2PscDscvWHFWXx0/B4AMALsl21oCYpxZqYW+bIVn9eTUdc6fP48Hhj2AU+tOoVVRKxShCG0hPMjo2rkrMjOFJbYBAoMgwPGzIvyUYkpEJbkLy+oJ+IWfJFxTq46fKL5YcheFEATkjh9LBpO3M082RvZaZVk9Y3QcP8kaP+ZWBrxElVBPh8shez+N6DqhK3559ZfICPWsgeQuqe3MZxHkcOoCJSUlWLJkCcaNG4fz588jOTkZTZo0QatWrfDyyy9j7NixaNWqlXFHJmGTP6WQYwKIhbUpBYaayFPbtunEJhwvPo5z588F7GNiUrlPKaCsIp2AS4WcViipXY6fctxqr4Nd35WJbIoqilDprURiVKKuiFGiF96odPyM1jLWZeGnd45lB5Zh2YFlGNBaPYnRL0d+wc4zOy2fL5zlHJTnsEp9dfzeBvATIeQTCKGe6QDG+7cDwGAIYZ8cDsckXq8Xq1evxpRJU9Bldxe0hLBw+CJcJLaRFlcPCKVUhnp6tEM9s27Mwr5FClNeo+wB9VGZyHM4BfEkdfxka+g0Qj01HT/JORtkNgg4vyxjpkSgWarjpzhn4IsM3CRNOmOGAa8MCJ/wq6UC7tJjI+lGxeHYAaUUR44cwdGjR/Haa69hxYoVqKqqQmpqKrZs2YL27dsbdxLi+YFAR4+JMebKKUMK1cI6peLxj5N/YOvJrar7GExMFpQXyLaHLPwkjp+ZCbBUhBlNtOOj4jXbKbepnVtLfFZ6K1HprdR1/NTQWxfJzs/Evd56QED9Ol1eVY7CikJTY9HDasbWYAhFXOaXmUumIyWUcg5Wz6HHqsOrAu6NkeTmmcGU8KOU/h8hZBuA2wB0A3ACwD2U0h/8+/8H4H9hGyWHU484d+4c3n72bez6aBcaehuiC7pottUTfgAChJ8yWQrj4uEXBwi/pBZJqjcfSuVZPcXkLpLwTylayV3EdpIQTOm/z5U9pz5ejXurTPi5zQk/QxEk2a0aPmqCiHD8JIRSwJ2Xc+DUJyorK7Fx40YsXLgQmzZtwq5du3D06FEAQEpKCh577DFcf/31uPLKKxETo74mzU60RAGbSDIRZjXU8+MtH2PN0TVolthMaK8iFJmYVDp+VjJsqqG1xk8L6Wv768K/6rbt1LgTDp07ZGpCrjb5Vl7/lx1YBkB4nymlwjo8C46fFtnTs3F7x9sByNf46aEmIv+z5j+Yv2c+WiS3CGk8NeH41YS4lKLM5hkO4WdGwH2/53skRSepji3UvmsK0+GZfpH3QxjHwuHUa44ePYoXb34ROZtz0Bd90QEd4Ix34uJbL8aOWTtUj/F5dYSfItQTgGaop5pQuvjmi3Fi0wnZttdiX0OnkZ3gcDpEt6/oaBEW3b8IWYOF4r/eCm+Aw0QIQXm+PKuamGDFP2ylGNMSqarChVQf9/eKv+PkHycDm0jCQl0xLjx56klMaTtF9RwBbhZRf4/MEAlr/MKR3CXU0g6c2ocQci+AewGgZUv1VOT1jZKSEsyYMQObN2/GypUrRaHXrVs3XHnllejevTuysrJwxRVXIC0tzaA3e9Fy/BhM4En3KwuYi211kruoibk1R9dg7GVjUVQpL2QdqrOvFeqphZVskOy1S/striw2HId4vMbFkAlsAmGJgh0i5mCBUFZJGuqph9r1VS1ENxhqM9QzXCgFXziEX7DrBk0JvwiKoDFbxy8KwF0AugBIkO6jlI61f1gcTv2AUordu3dj+svTQb4iyEAGWjlaIf2WdOTOzUVMfAwSUhK0j5dkmVQL9fRUysN0tISf0qVr2r0pWl3dCie3yAWU57zwJJQ4iJBhU3IcE2RVZVUBQuPkVhUhpiypoHD+tFDbLwv11AhRVTqK8RfFa5+EiVGDEhGmCMf1vJZCPbnjV7+glE4HMB0AsrOzI2fmEQa8Xi8+/fRTTJ48GQcOHEDz5s3RuXNn/OMf/0Dfvn3Rpk0b3eNPl57GlHVT8OqAV8M2RqMwQCZIpGv83A63qpBjdej0+pGy+cRmHDh7IKwTUDMTZyNBJMVBHKCgsjE/vvRx1bZ6jl9pValsOxPNTocTPuqz5SEXe8+lyV0AIaFMqK6qVeqj8Aso52DCXQ72HOE4ri46frMAXAZgAYCIqtXHs3pyIhVKKT7874c49dQppKA6MyShBJkdMpGLXADa69Woj4qhnuumrMPehXsVjQIdP601fppiS2Wzz+MThF+UU1YWQSb8FH1LnUmGsqSCtBi7HqoihkA1lFM5DjP9A5KnbzaEeqZdZr9rUFuOH6f+cSHcI8vKyjBs2DCsWLECXbp0wU8//YT+/ftb6mPH6R34Yf8PeLn/yzjvOW+5QLqUdbnr0Dmtc0AfoijQcL2YIJGKIy3hoBb+yahJoWG1SLeau3as6BgmLZqk2p5SaqpfNSHAHL+9+fJ75+nS04Lg8yeOsVrTUO/87F/2GVotWG8HVmvsBUNtCT/2NxRJDlq9dPwADALQmlJqjw9tIzyrJydSqKysxIolK7By1koUFhaicGMhLi66OLAhlYcVqgkOV6wLVaVV8FR44PP68MMj6lHWngqF46cRPqk2BkBdJDFHzxnlDEjiAgCeco8ph0ltLaDWOdXaAYqLpbRcg0Y4qJn+tbCa3AUAXqIvBXUuu7ErLJOHd9Y/6vM9cvv27Zg9ezbmzJmDgwcP4s0338RDDz2kW0Rdi9Q4IWvtD/t/wIs/vygrtaAHpRQ9PuqB9RPXi5PhBxY/AACybYCx48eKk0uP0aodpycmalT4SUST1TV+UtYfW6/aN/X/Z4Ta5FvresZcQ+b42YHS8XMQB1omt0R+uflEJnZ9bjWyxq8GxKUU9h0Ih9MXKuEIOw0nZq+ORwCoF2XhcC5gKKV4edLL2P3LbngOeNDpfCdUoAJN0RSp7lQkjEjAgFEDMP/W+bLjpCJDTfg53U5UoQqe8x7s+naX6rmVWT0BlfBKA9REUmVJpWXHT+0GG1BEPdRQT+YYKjJ8NshsgIJDBeoJXQzmC0ahns17Ng/YFpH4X8Y9a+9RLW6vhuoTSK776h310fGjlOKll17CK6+8AqfTif79++ONN97ATTfdFHSfrOB44Xkhq2KFp0KzFp0UVj/O4/OIdeIYXp9Xdh00WuNX7ikP2KZVO05vshlqps5gCUuoJ6Wm+lV7P04Un1BpWQ0TlnagLOcQDL/n/g4g9Bp19TnUU/l57cyzXhrCbsx85pEkDs1+cp8B+J4QMooQMkD6fzgHx+FEKidPnsTs2bMxJmYM8AFw8Y6L0el8JwDA7VOE7F49x/TEE3OfQIPUwJIFUsdPdaLun4Cf3HISuety1QehEuqZ0CQB/V7uZ/wCmAhTEWyVJZUghMAV7TK9xk/1FEE6fqr9Efl26bhv+uQmPFP4jKVQT7V7vVpyl7tW32XcVzgIci6SdmloYafc8at/UEoXUErvTU5Oru2h2AKlFM8++yxeeeUVDB48GLm5uVi+fHlIok/KqVJhNcuZsjOm2rNkI2xiN2beGHFfSWUJ1hxdI/7uoz58tOkjTNswTbWv8ioV4afh+OkRyaGeVoQfS+4SrONnhIM4bCsEriznEArHi4+HdDwTZeEML6xp4Xdz+5sBBH7OKw6tqNFxqFFf1/g96P/3dcV2CiDTvuFwOJGL1+vF9u3bsebXNZj3yDyk+FLQCZ0C2iU1FlL9ikXEVUIIjRw/KYdWHNIek0L4Od1O9H2hL1a+uFK3T4aaSMpdm4vLH75c1fFLuywNGf0zcOSXI9XbNcRC0Gv8tPZLr5uSJq4YF6ITo60JP5V+VENuTbpndmP1hi0rdB/0SUM8nsMJEz6fD7/99ht27tyJtWvXYtasWbj++uvx/fffBxXWKcXr82L5weXIbCBMZZjge3X1q3h/yPuGx5dUlghj9E/+duVVR2jcv+h+7D+7X/zd4/Pgw00fir9nT8/GlBumoH2qUD9QzfFTuohm0Fv/ZxcO4gispWciDM9KBk0WRhouR4Ulj7EDOxw/u2DvW7jExtnys/jvmv8CUP8ehIOezXtiVKdR+OPUH2E/l1Xq5Ro/SmnrcA+Ew4lETp8+jTVr1mDbpm2YN2sehh4dCiecuApXaR4TnSyEBzHHS81JMlrjJyWhSQJO/RGYU4l6heybne7ohO2zt8vOaRa9pC/KNX6EEPx1q1B3SSb8NPqwY42fKYj8X801glLUHL9gs3qGA6v3CB0H11I33PGrd9TlUM+8vDysW7cOX3zxBb766isAQGxsLMaPH48ZM2bA4Qjdddh/dj/+/tPfMXvEbADVQm7D8Q2mji+uEBw/NedIKvoAoKiiKKDNgbMHROHHwkalaIV66qFX6sEunA4nfF55YhS1CXBidKL4HgHBOX7hFH52r/GLBOHHsMvNVJJzLkf8uaaEHyOS3l9GJI5Jj5r1ajmcOsKff/6JWxvfin+n/RuTh09Gzqs5uPnozXDCWBxEJ/mFn1+AOFwqjp/LnOPX/qb28FaoX7x9Hh8cLgdu+eIWdBkvFIGXumxJ6Umqx8nQ0n1sjZ8rcI1fwHEafQS9xk9FfBBCdMcqO06l3Z2L75T9zgShdCxxjYPP4mc3ic0SLbW3xfHjmq9eUhdDPVetWoVBgwahadOmGDp0KL766is8++yzyMnJQUlJCWbOnCmKvgNnDwSk+J+9fTY2n9ise47P//gcTy9/GrHuWNl2JvzMogz1tIrUJSurKgvYH6mhnizUT3q9Vltb2CBGvtTBSlIQsZxDGEM9w5XcJRKoifDC2lrrF0nYGerZIDZwaZDdaD56IYTsopRe4v/5KDSeQVNKL4yqsJwLgtyjuXjzb29i+5ztuMonuHojWoyAr9iHinPadZOkxCQLSQJMh3qqlHNgf20OpwOe8+oL9X0eX7W4YvN+pwm3S4KmW6eT3AVQlFxwqIsyNhZRZJkUJ3oZO3Xbq7he7OesG7JUjx29ZDSmZApF3od8OAQDXh2Az6/7XH+ANcAd8+5AVbmFp/bBiDa1rwcXf5xaoqKiAmvWrMEzzzyD9evXw+1245577sHIkSPRtm1btGjRQvW4347+htU5q2Xb3lz7Jro17YbpQ6erHvPx5o+xaN8iHCk8Iq4RYhN3M8Jv+YHl4s+i4xdktkGpK6O6xi8Yx68GQj1ZyKbU8TtdetrwOCuOH2C+nINZwUUIkWXetEtIsM8/koRJuBw/KTUdJRJJa+UYdn0/Wya3rJHETHp/gdLUz38J90CCpS6HsXAii7y8PDzV8ym0P9keV+EqtBneBgfmHUB8QjyKi4qNO/CjDPVUc/zMhnoSR2DmToYr1hUQPinLIOcLQfgR7QLuam3VrsUB7c2GI1qN9JRk+zSNf7wNWlc/XYtJjhFFe20TnRQtOsdW4KGeHCWRfo8sLy/H1KlT8c477+D48eOIj4/H66+/jkmTJiFUl/JgwUFsObEFIzqMkG1/f+P7YhZPBguz1HPLTpacRJOEJnjr97fEbcrC0laRCka1UM9gHJWaCPVUXnejnFHYf3Y/GsU10j3O6ho/CnPCzywuh0sUxnYIP7YmNBJDPWtiLNzxq3vJXTQ/MUrpr5KfV2n9XzPD1KYuhrFwIovKykpMfnwyHkh7AK1PtkZUO2ExfeaV/sX+u86gotCc2wcAUQnC8UyEqa3xMyzn4N9GnCSgVh8ANO3WVBCEivBJy2v8tGrwqTh+moJMKwRT2bfJ655WOQej9mpP1LSesuk9fWvavanRECMOW0I97TieE3FE4j2Sib2RI0ciPT0dTz/9NFJSUvD111/j4MGDePbZZ0MWfQDwyZZPMPnXyeLvRwqP4FCBkCxLKY7UwiwnzJ8g/nyw4CCGzB6iea5gJ6TSJ/x2CbaacHqUAq5JQhPkleYZH2c11NOk42cWqeNoh/C7cfaNAKrf80gSJjVR8y7eHR/2c0iJpPeXUW+SuxBCXjbTAaX0RfuGw+HULPPnz8eM0TPQvaQ7OqIjLn70YsSfj8emvZsQ3zi4Cxpz+ETHTyXUU6+cw7X/dy3K88vx279/0wz1dMe5UZZfpuv4SYVWuxvbqY7VUnIXjTV+WqGewRJ0qKdN3PrVrVj84GJs+nCTrf2GlSCSu6jdiGTHcxHICQOUUowbNw5z5sxB8+bNceONN2LUqFG44YYbwn7uUd+OEoukK8WRmvDbenKr+DNzCNXaAcDkXyYHJdyk46it+nvBoHR6zF57girnYOOk2e1woxxCSK1S+LmdbsthsuzzE9f4RZCzE26x0TK5pebfQ7ioq8IvktD7C5QG1McAGAFgA4AcAC0B9ATwbfiGxuGEh0OHDmHTpk1YPns5Fs5biL84/4L4bvEo3VyKrE5ZOLVNyKAZlWg9jfakHZNE8aWb3EXH8WvRuwUOLD0g9OEkMuE38O2BWProUjTq0Ahn958NSGwiy2jpD/VMuzRNM2zQljV+GqGeSqyswZCSfkU6Ot7eUecAU90qBqO9y+FyqK+7jGBsc/w49Y5ICvWklGLy5MmYM2cOJk+ejGeeeaZGz683qX9uxXOm+jhaeFR1+y9HfglqTFJXpiZCNO2CCb9dZ3bhp0M/oVVKK1PHWRJ+Fso5mEV6fgIi6zs5Otl0/UYlkbjGL5LGYheR5JwxzIwpkh4IaP4FUkrHs58JIV8BGEUp/Vay7RYAt4V3eBxO6Jw+fRoz3p2BtZvXImlVEtwlbqzGaozDOIzvNB4pZ1JwzYPXYP7d8+GMcopCjIVsWiGmQUy106cT6indpjyPVCg6nA5ZVs+WV7bEM0XPoPhYMXbN3RUg+KyGeuqFaTLHr/nlzXFs3TFNkWj6QhxkqOc9a+8BAOz+frep9mbOGYk3j5CwS/Bx4VjvoJQuALAgOzt7omHjMPPVV1/h+eefx8CBA/HUU0/V2HnfWvsWbu1wa9ATYelxo78bbdewAMgdP+nPe87sQbtU9UiNSIAJqBPFJywdRyxcZKyUczCLVPg5HU5Z3x6fBy2TW+JI4RG1Q3WJxDV+4eLPvD9rewgRhZmQ2kiac5h99HIDAOXVbj6AT+wdDodjDxUVFVi6dCk2Ld+EVTNWof/5/shGtrh/2HPDsP317eh2WTccWHpAFF+hCj/iINWOnzK5C0G1ECHA5Y9ejsSmiUi7LE3Wh8PlELcp1/gRB0F0YjTKosrgqfDAHesWtwOK5C4hZvXsNLITGrRpgGbdm+HDrh/qi4Jwh3oqkDmRYUhIElE1/UwQVIIbnX44HLspLy/HM888g86dO2P+/Pm21OBT49z5cwHbvtj+BZYfXK7S2hx3f3932EokaE0aR383GtNunBaWc9pBTST1YOUcwun4Se+THp8HWQ2zghJ+rJ9ImuCHi115u2p7CBFFXXP8zP7l7gfwgGLb/QAO2DscDic0tm7dit69e+PWmFvx6k2vwvGuA/3P9w9o1zRVSODhOe+Bz+NDVLwg8lzRLlFUMFFlBYfTESDCWFinzPmjwKC3BuHKp66EO9aNkd+PlPXRYUQHvERfErJ6Shw/sW+34AQq1/jJHD8T1xk94dduSDs0vqSx2KdmHT+TmL4hmug7tX0qxv08LnBcpgejv7vvi30xYf0E/UY2MvSjoRjw2oDQO+LJXTgRhs/nw59//ok77rgDR44cwZQpUxAVpf1QbWfeTuw5syfo81372bWq242EW8tk7cpUh84dwt78vUGPSQ+9dX1myiPUFqEIP5fDhfSkdFNtrSR3MTMmZXIXqfD2+DwhC9oLwfHjyPFSr+FD00h6IGDW8ZsAYB4h5CkAxwA0B+ABcEu4BsbhmOXYsWP4aeFPWPbvZWh7qC2KEoswEAPhbuxGVZ76momyfGFBsue8B94qL9zxgshzRjnFP9BgXB/iIAF15Zjgc7gdYmkGZamF9sPaiz/LiqY7FeUcJH36PL7qibr/X8uOn9bFSpm8BdBc46fbTxCYEXKEELTq24bfK2cAACAASURBVMp0eyVG7010YjSa92huud9g6TahW2gdBJHcRbUb7vhxbOTHH3/E7bffjoKCAjidTrz77rvo16+f7jFj540FANyffT/u6XaPapsjhUew8fhG3HKJ+SmIlQl9t6bdZAXgrYQnWkUvA+fZ8rMh9Z1fnh/S8XqEKpDMHM/KOZh1S6xm6WRZQxlmJvBGRJKzw6kZKKUBDxEiGVPCj1K6hRCSBaAXgKYATgBYSymtOyuROfWK7du34+uvv0bub7lovLIxEpCAVkQQArcVC0tPY6NjUQX1r2jp6VIAfsevqtrxk4o9tWycRqiJECbkpIJOr8ae1LWTZemU9M/GFk7HT/mzXh0/PSGV2DTR9Hj0zqN2XuEH7TaR9JQt4uAF3C8Iaiu5i8fjwaOPPooGDRrgrbfeQr9+/dCqlbkEIIBQa09L+H3+x+eYt3ueJeFnpYzAlS2ulAm/cKI3WVQLW7XCzC0zQzpejxoL9bTZ8VO2l/bt9XlDFvnc8bvw8FKvIPyg/bccSQ8ETP+VUEqrKKWrAcwB8CsALyE1XLmRc8GTk5ODR+54BN9d+h2+nfwtWq9sjQQkAAAyemTI2nqr1P8I3fFulJ2udvx8Hp/M8WOo1teLdqLPC300x6dag06R7AXQF35Kx0+tf+Yi6hZwD2WNHwkUn1qp/o3Ok3VjFp4+97ThWNTOHTYi5xocESS1SEKLXi2MG3LqHLVVx++5557Djh078Nprr2HcuHGWRJ8epZWlmLd7nuq+9cfWax4XDqGydP/SkPvQc/wKygtC7j9cWBHSwcLuBeESfix5DMNHfTzUk2MZ5vgZtYkUTH3DCSHdCCFrCSGlAKr8/3v8/3I4YeOH73/Akzc/ibGdxmJkzEi8kfEG4r8R6uvNeHeGrG1MSozsd59H/QJcVVqFPfOFNSRVZVWglIrr+ZxRTlEUqGbjjHJWiy8VYagWDqnmTLnjtNcPSsWboeOnzOrpsOb4aWb1NHD8UjJSTHQOcYwxyTHGDVXOHS6UF+G6HuIY6vgfO/IYmvdsXuffB05kUFxcjPfffx/Dhw/HHXfcodom2PpsBee1xdCkRZM09ykLjtvB8z89H3Ifeo5fJNf1s+v9jHLqJ1EjhJguSG9VtDmJM0CohXoN5MLvwsPMA4NI+l6Y/SuZBeBnANkAMv3/t/b/y+HYCqUUhw8fxiPXPYJ1N69D4veJaLOjDdrRdkhFKqIh1KSLi46THaesVVeeXy77PbF5YsC5KksqZXXbnNH6a/ycUU5RLKll/dQTLT0f6okeD/TAwwceRkb/DM12aqJL+XuA48cEoMQhDMXxM1rj1/+V/njqrCQdu511/OwUfpHzkC2sBDOBVj2G6z5OiJw4cQKtWrVCSUkJHnnkEc2J9NWfXI3pm6bX2LhqwqGS0rtFb1PtIlnc6WGXg/rf6/+ru5+AmF47ZfUzVjp+QOivK5Im+JyawUd9YV0HbDdmv+GtADxPKd1FKc2R/h/OwZmBEDKUEDK9sLCwtofCCZGzZ89izpw5GJMxBpNaT0LDHxvK9jdt11T2u7TMAWC8Jq/JZU0CtlWWVMLpri7hYLTGzxXtEoWJWoF3WQF1xcS64+0dMfjdwWiQ2UD/qaJUdGmEemptlzmEYVzj53Q7EdsgtvpUdoYxBHn9LDleYr7xBSIIrcIdP04orF27FgMGDEBBQQH+3//7f+jbt69m2wpPBTYc31BjY6uJNWlSzE4EzbpZkYZdQtrocwnV8bsu8zrN9mqOX6jfk0gK6ePUDD7qM/x7iKQ1fmazes4DcD2A0APabSaSitNyrHPw4EH8a8K/ULyhGAUlBeiFXshCFgCgUbdGOLP5jNhWuvYNgKzMARAYFqnEFRv4da8sroTD7ZALP51QT4e7ulxDdGJ0wH49tyrY8hBq/YtrH7w++Xarjp/GRF8m/FifWuYgIeaElNnkLkGKj7xdeabb8puzBlz3cYJk3bp1GDhwIBo2bIglS5Zg0KBBhscUVRTZdn6jv2lpaGKcOw5lVWW2nVsNswIi0jMBVngqVLfbJaQNhZ8Fx0+tL737CSHE9gl5hVf9/eLUX8w4fpE05zAr/GIglHP4FcBJ6Q5K6VjbR8Wpt+zZswc7/9yJ9YvXY//y/Wh3tB2aQz1tfoMmDXAGEuGncOCUjp9RiKArRvi637n4TswePBuA4PjFpsbCFS3sMyrn4HA6xBuJMrRUbwxPnHwCCWkJuuNTQ8vZY7B1jKqOn5n+TSR3McrqSSk1V8A0zBe+Pi/0QdmZ8E7mLiS4+1c/CHdWT0opFi9ejEcffRSxsbH45Zdf0KKFuURBxZXFto3DSBxIRUHD2IZhF35m/36CdfyOFB7Bjwd/xLWZ6nUL7UKr8L1dws9owqzn+DWKa2Q4Jr3+HcQR0Heor8vK98pq+QlOZFJfHb+d/v85HMt4vV7MmjELqz9ejdYbWgMAYhCDTuike1x0slxYKR04peOnFElKmJBTiiOn2ykrss4EnVp/0jp9RqGeUqyIPqmg1HL8GNTrv5gwU64WyjkA+llKQyE1K9V020tHXxqwTVNsRs41OKLgYq/+Ec6omF27dmHEiBHYtWsXMjMz8cUXX5gWfQBQeN6+JRpGa+WkE3qjhCJ2UBOO3zM/PoON924M+ngzxLnjVLc7zCeF1yUUx6/zRZ1lv6slnNG7pjmII2BCHqrwK68qN27kx3S0DCeiqZeOH6X0n+EeCKd+UV5ejk2bNmHP7j1Y/NZiXLrzUjRFU+MDJSiFn7LMQWVJpfj7kOlDkPt7rm5/TPgpBZ3D7ZBl3uz1eC9ccsslqjcM4iSiyFLNVCldnxfEJLrHgz1ka+cMHT9FqKfZWoHVHVb/eMsXtwAE+O7O7wyTuwRgY6gnY+KGiWiW3czaQSZRXoRjU2M1Wl5gcN3HMUFFRQXef/99vP766wCAjz76COPGjYPbbT6c3eVwodJbadzQJEbCT/pEviYSvZgVEHU1uYtd76HRfZIQAp/PnCumes82cPwCsnqGeBEs95gXfka13zh1AzOOXyRh1vEDISQKQHsAjSCZHlBKfwrDuDh1lPLycixftBxvj3sb7cva4zt8h0kQUmwnJSTJxJoRrDwDcRBQH5WFerpj3Th/7jyiEqKQPSkb3SZ0MxR+7Hg9Fy06MRquaBcatRdCSKISomRjdjir1/gNeH0ADv54EOVnqy/00htPUE94FIcEZPVU3NjEUE8SKPzMIO0/7bI0sZC9dLtqHT/lsMPwNEspelmort08mvMoF35+uOPHMcPjjz+OadOmoWfPnvjss8/Qvn17y33EueNsXeNX5dWvLiUVYi6HfdcSrRCuep/cxaZyDkYCmRVxN0Mwjp/dyV2shHrWpUyQHG0oqLHjF0HWrtk6flcByAGwCsByAHMhJHqZoXcc58Jg//79eOnZlzCk8RD8Pe7v2HLbFvQt64smaIJFCxaJ7SpLKvFsybPInpRtql+WPIUlZZGGerrjBOHninXhun9fZ2rCqiyBwGDhki/RlwJKNNww9QbZ79JQz7jUODxx4glk9Msw9XrMoLzBmQ31ZMdZFZ7KuoNMbFlZ4yeczPBUllF+pm2ub4P7tt5nrRMT40pumSwK3gsKtfeGz0M4Buzfvx/Tpk3DxIkTsW7duqBEH2Bugp1Xaj5hk6HjJxEFdtb00xKc9SW5ixY1mdzFrr7U2ttdx89KqGdNZ5rlhAevz1v/CrgDeAvA/1FKGwIo9v/7CoBpYRsZJ+KhlOL3X3/HG+3fgONfDvQ40wNJSJK1adakOlTPFeNCVHwUEpqYW+/GHB7mYkndLFesC+fPnbeUKVOrFAILlzTVh5PIwkKdUU7VJDBBo7w2KO5BWqGe4lo/aVcmQj1lNzmiLvJMrfGrgYsaISSgJEfXe7oiKT1J4wgdIucaXGuofWbc8eMYceTIEQDAnXfeGVI/Zia9N3whf/BGKdWcWFtZ42en43fec151u+nkLnVU+NkW6mkiuYtZ1L5Tet+zSAj15NR9KGid+izNjrQdgHcU2/4F4DF7h8OpC2zduhUT+kzAjXE34qurv0ITX2B9PIZUVLFkKEqh1P2+7qrHMuEnrl9ThHpWFFVYE13+67nSRVMTTeI+FQdOKYSueu4qwxqCZnDFuNC8pzzDKQvlZGhl9bQiXrX6k7qZVoWfnQXcrTBsxjAxIyuHwwk/+fn5AIBGjRoZtNQnmInSysMrMerbUar7lMJv84nNOFx4WPxdev2x0/HTSt9vVkCEusZv8BeDQzo+WCLR8bN6PIH9BdwthXryB231AjOOXyRhdqSFgGjlnCCEdADQAID1/PScOonH48HsGbMx/Mbh+LTrp2jxSwt0p93RfHxzXDtTO520t7L6aSYL3VRm50y/Il31WGe0vJ1UsLliXagqrTJc0yYNK9V0/Dw6okllzZ1SCGX0zcDVz12tOw4zPF/+PLrc1UU+tip94SeGeirEa2q7VDS+pLHhOQNCPdnvUiPQoI4fEOgu9nigh0ojw+EoBmexvQpa6wIjKewiouDzEI4BZ84IJXZSU81n3FUjmInSufPnNPepCahjRcfEn6VrbOxMxBBqnbtQr0WnS0+HdHyw2FbOwUD8hHoevf6djsAC7qGKMSsJi+x8AFFXeXf9uwHbtpzcUgsjCZ665viZfVT+HYDBAGYDmAngZwBVENb6ceoxhw4ewqwZs7D9s+249NilKCAFuCzhMiQ2SkTx4WLc89w9qCiuvvFFJ0Wjoqj69/L86rAHtn5O6Y6plU1wxboCnBypSHHHulF8rthwbVaDzAbVx7MEKErHz0IpAmlWT5kIC9OE2cjxYyhfw72b7gUIMDlhsv4JFNk7xUQuIYZ6DnxzoP55a4j7tt6n7uhy3acKfwJd/7C7jh9z/KwIv8PnDiMjJUO2LZiJUoxLJZOynyqffnIXqfCLpFDPukpNOX7hhJWKkAqwmhxPff+OBEtBeUFtD6FeY+obTil9lFI62//zfwGMADARwIQwjo1Ti5w5cwZvv/02xl8yHmQyQcbZDJBEgofHPIzUpqlIbJQIQAjfTGoumMFDpg9BSusUAEKiFAD4evjXYp9iqKdb28ljxDaIDXBrZMIv3o3KkkpDx09WAiKINX66oZ5E7paFA2+VolahhthUvoaohChdUczGq+xP9bWZEH7JLZIVJwhsUxsuW4PWDdCwbcMaP2+dhc9D6h2U0gWU0nuTk5ONG5sgLy8PSUlJiIoylxCprKoMt35za8B2u4WfUcik1NmxU/hphXrWJQcgGGoqq2eo91a9UE81x68mP7f6/h3hRCZms3pOkf5OKf2VUroEQtIXTj0hJycHb7z8Bu5ofQfeafwOCh8rRPsmQsa2zFaZ6DSsE8pPl8Md5xZFXHRSNOIvisffK/+O7hO7q4o4hhjqqViXp+b4xTSIgTPaiVZ9WqFFb39BYEmz6ETBWTQq2i4Thhpr/PTG3LSrvPYgcRBN0RQO9Bw/WQZPnXWKaohZQDVCPVXLOegIv4kb5LWh7RDC4XwaykM91eFPoDlGHD16FOnp6uH5jBd+ekEs1aCcWDNqWviFa42fluNX3yf1NeX4hTPUk4AE3AtqssQCL+fAqQ3M/kXdpbF9jE3j4NQSp06dwruT38X4HuPxacanKHmpBB0Od4DLHwV8/ZXXAxBKMSS1SELRsSK449xiNk3myildPDVYqGdAAXUdx++uVXeJLqKsr8QoeCu81hw/NcEmGZcaTbs1RdsbqkOkiFMjAUqYJsy6oZ6SH62Eq8r6Uzh7auv51FxAJbENFXXw1JpGktaKpLFwOHWIo0ePomXLlpr7KzwVWLJ/CXaf2a3bT40LP8kfvZ3Xay3hV9+x6z0Md3IXo6yeyqyqNfnwq74/HOBEJrrxDoSQu1k7yc+MTABnwjIqTtg5efIkHhv8GJpvaY585CMDGartys4IGaoqSyqRlJ6E4uPFggvG9IGFiyRzCQMSpqi4doOmDEKji7WzxrG+9Nw6QCGc2Jid5oUfANl4paGesvtRLTl+bDJjR1ZPrXIO4msL8TVaddmik6JDO6EOfV7og4z+GWHrv87i/4y7/7U7ej3Wq3bHwok41q5di40bN2LixImaba6ceaWpvoKZYOuFaFpx/OxEc40fd3NMYWc5B6uoFYfnoZ71h5bJLXGk8EhtDyPiMAp0Z45eFOTuHgVwCsC4cAyKYy9erxdfTP8C65esR1FuEbac3oI/j/2JgWQgLsbFuOiii1B+Wr32TFWZsGC+sqQSSc2TUJ4vhHoGIzRE4eenVd9WyFmVoyrelCGWAGQCjIWNGjl+VaXVC/7FshCK87nj9WsBSm8MWsldwub46WT1lP5sNdRTtT+NUM9gXluo78ezxc8aC/IQaJbdDM2ymxk3rM+ofGXY59asezOktgstayOn/vHaa68hJiYG9957b8h92Z3R0Kzj1zypuW47q2hl9eSYo1bLOZDAcg41GurJQ+s5tYCu8KOU9gcAQsirlNK/18yQAEJIPwgF4ncA+IpSurKmzl0feXXsq8BsoLH/v/jL4jH2kbG4aP1FODz3MGiVumho3KExKkv8qYkJkNhcSOjijnPj4uEXo2GWtaQZyok8W+tntE6PIRVgouNnIPzY+FNap1SHeiodP4PMoNIJsmyNXw1ctJXCT8tlDNbxU4Z06oV1Gr5PGv0GQzhFH0dA1QGxyd3l1E/y8vLQp08fZGdnGzc2wO7rp1nHz27BeaGGetpFbZZzUBN53PHj1HfMfuveIYQkAAAhxEkIGU8IGUuI+W8tIWQmIeQ0IeRPxfZBhJA9hJD9hJBn/JspgBIAMQByzZ6DU43P58PKlStx85U3C0U4JIweNRp/+9vfkBglCDmpKyYl8/pMlOUJoZ6EEFzU6SJhBwE63t4Rg94aZGlMzKVj11om/Jh4u/2729H6mtaW+lITjSkZ1WsCmfB75OAjqo5fp5GdMPzz4brnkk6QNUNLFcMY/vlwZP819MmR6eQuwa7xU4R06iVyiU42H3rJn2TWTWryoQan7lFYWAi7soOqTXr35u+13M/hc4cBGIdy0jAt7NXK6lnfscsZC7fDZrX/mrz28XBgTm1gVrgtBJDl//l1AE8CeBzAGxbO9SkAmVIghDgBvAfgBgAdAIzyF4f/hVJ6A4CnAfzTwjkueIqKirBp0ybc1ecufNP/G3Rd0xW+ZnLx4CkXnoxWFFfAHeeWFVmXEtswFsUnigEIhdhZQpdj64+ptjdCGerJEsIwseGOdes7eJL7NksqoyZ40i5LE3+uLK0uptp6QGs0uriRTCy2uKoFklsaTGQUjp8aypvFpX+5FPGN4/X7NYErTrukheyeYdHwU0t0o1XAnRHymjueUCXy4Y4fR4fCwkIkJSXZ0pea8Lvz2zst9fHu+ncxf898U221souGCnf8goMJcSOhFXI5B4vHc8ePU98xW8ymHYCt/p9HA+gNwZHbAeAxMx1QSlcTQjIUm3sC2E8pPQgAhJCvANxEKd3p318AQHO2SQi5F8C9AHSzjNV3jh07hi/f/BLbtmzDqV9OobunO9qgjbj/8lsux4Z3N4i/e84Lwq+ypBKxqbHiOj4lUQlRwmSdAF3GdQEAXP/G9abHdcktl2DXd7vE3+NS42T7laGe0lBDI9gx3goV0eoXGE+cfAInNp9Aca4gXlte1RIP7HoAJSdLTL8GQPEkWWt4YZooX//f69HrsV5475L3hNNoOH5BJ3chQiZP6qVC3zpJe0IVfryEQt2BO34cNYqKilQdv6KKIiRFWxOEdkx65+6ca7ptuK4/4RKU9R2z75vW9+SWS24xVejbsuNXg0+9uPDj1AZmv3VeAFGEkM4ACimlRwCcA5AQ4vmbAzgq+T0XQHNCyC2EkA8BfA7gXa2DKaXTKaXZlNLsxo0bhziUusehQ4dwS/YtmNBiAgreLEDqL6no3KQzWj/UGumDqussKR2tqvIqUEpRWVwZmIZfAnPk+r/SHzd9chMAoNfjvdDrcXPZ/vq82Ef2+yUjLhF+8N9/mXiThhfqCT9ZkhV/O2WBc2m7hLQEZN2QhTsXyZ8imxWX1R1qj0PsM0wT5ejEaKS2r06yITuPtJxDCHX8xFIcRP91hDPLJicyED9/rvs4CqqqqlBWVhYg/HKLcjFg1gDL/Ukn2NnTs3mSlAsMs0JcTYh1adIFV6RfYe54i/fmGg315A/YOLWAWcfvBwDfAEgF8JV/WwcAwcX8GUAp/Q7Ad+Hou67j9XrxzOPP4PSM09hWtg1DMRROOJHaPRX5m/KBXKD/4P7Y+e1O5PqXR8akyGsfbftsG9ZPWY9GFzdCYrNEzXMxR05ZcN0syrBNZa0/ZbIVQ8dPJeRSVfAY3E/MJpMRu5MKTq0LdRiv31rnlL5XoZRzcLgdwHnFmkGVm3JCWojPebjhF/noOL6cC5uiIqEgu1L4FVcUB9Wf0yG/H4TbOePOXGRh9vMIOdTT4s2Zh3py6jtmv3X3AFgE4GMIa/wAoBGAf4R4/mMAWkh+T4dFMUkIGUoImV5YWBjiUCKfgoICjBswDnOnzEVmWSZGXDoCTgg3z7TW1eva3HFuWVbE6MRoZN2YJf5+/pywJqE0r1TX8XO4ha+HXcKPkXVjFq569ipxkilz/Exe5JnoURM8Rk8SjWr/BUNtTJTtSO4CUv056Ynup84+haR0e9b2cCIX7vhxtPj9998BAJmZmbLtygLYZmETciYAQp0EP7HsCd39diV3aZl84S4rsRPTwi/Ucg5WHb+aLOfAL7ScWsDslfYhf1jlJ5QKV3l/iYVQC2FtAJBFCGlNCIkCMBKAuZXafiilCyil99qVaSxSyc3NRY+uPZC1Ogt3NbkLAHBpj0vF/bGp1QJOKfyiEqNw58I7EdswVhauV55frps2327HjxHfOB7XvH6NZcdPLdSzJhw/WX8Rep0Oto5fg9YNcN1/rhN+kb42RXexDbQfEJiFr/GLMNQ+Du74cVTw+Xy48847ERsbi6uvvlq2z+sLTvixsgrs+HB/5/j1R528srxaOa9ZIV7TrlhNXvu448epDcx+617U2G66th8h5EsAawG0J4TkEkLuoZR6ADwIYCmAXQC+oZTuMNvnhUJZWRkeueYRjMkZAwBIjhZErtTlccVWR+26493VpRNQLdweP/64WLoguZXQhzJrJABxTRkLzQxa+Bk4a8ryCkGFegbhdFl1/Go71JORfb+8PIQdoZ7OKCc63NohoL9wTJK4mIgsRi0YhdFLRsu2ccevfkEIuZcQspEQsjEvL/gJvsPhwLRp07BmzRqkpKTI9gXt+Pm/a0b19+wiXOUc6jpWM6naBQ+95cKPUzvorvEjhLAV205CSH/IpwOZAEwH91NKR2lsXwxgsdl+LiQqKiowa8YsfPj6hxh2fFj19iL/InhpeYNoifCTOn6kuq6dK9olfoINWjdAYU6hWKKB8RJ9CZ9d8xny9+SLoZ7Svq1gVFxddBecEufP5IQzlFDPkBw/rT5rQNSkXZom3yA5pVVHTjpe1aLtYZgjXf381cganGXckFMjtOrTSnMfF+n1A0rpdADTASA7Ozukv+rRo0erbg/W8WOT3mCFo1WU94V7ut6D5QeX40jhkRo5P0eO6eQu9fhaVJ9fGydyMZrRf+z/NwbATMl2CuAkgIfCMSgrEEKGAhjatm3b2h6KrRQXF+PuXnej045OGIZhsn1M+EndLmd0tSsnFX4P738YDTIbiPtYsXYWGuqOkws/KeEK9WSwi550jVlNhHqKDqOToEXvFvqNYfIGVQPXb+U4pDeNG6begL7/6BtUvzXl8sQ2iEXrAa3DexJOaPA6fvWOcN8jgxVuovALUjhaRekwNY6/8DKBcyIL7vhxagPdbx2ltDWltDWAL9jP/v8zKaW9KaWW1uOFg/q6xu+5ic+h045OqvuY2JGFeiocP+byKYUdW+PHxJya8GMCI+RQT5OOn+lQT+mhNjh+D+17CE27NjU+mYk1frXy5E5yyqiEKKS0StFua6KfcId6ciIfcd0tfxJdbwj3PTJUx6+mQj05FyaRfC/jyV04tYGpxw2U0rHhHginmiVLluDHr3/Ub0SAI79Wh6g4o514Kv8pAIA71o0mXZoAAFwxclO37Q1t8VT+U6IoUxN+17x+DQZPG1wtDuO1XUE9LId6GmX1NLvGzyi5C6k+nxkC1vjpJMUIJ8r3JpTJuZp7yvob8eUIpGalqh7Hqedwx6/eEe7M1yE7fjUU6lnX15Q9t+K52h4Cx2a448epDUx96wghRwkhR9T+D/cALyTKysrw048/YfzY8WjdUD8kzh3nRvHxYjRs2xCA4PhFJ0WjWY9mIA6C6KRo/GXZXxCdLC+6TQhBbMPY6vV7sYHRvulXpKPH/T3ENnrhoHqYDvUMoYC7Wqin7U/4IvWBoU2Tc2WoZ6eRnUyL4pHfj0SXu7rYMxBOrcMdv/oHd/wE6npyl2UHltX2EDg2w4UfpzYwm7XjL4rfmwJ4BNXF3GuN+rDGr7KyEjfffDNO/XAKA+gA3I270W50O+R8kaN5jDvWjbLSMiQ2T8TZ/WfhjHbC4XJg4vqJYps217XRPJ5N7HXX+Lm1w0HNYCj8HCTgXztCPe2+v8uEpMbwQi5uHgRm3quhM4bK1njq9WP2vZfSflh7y8dw6gBc93FMYtWxu/v7u/HhkA9rXvhFcMgfJ3xEsuDnoZ6c2sCU8KOUrlJuI4SsBPADgHdsHpMlKKULACzIzs6eaNg4wjhz5gw+ePcD7J2zFxt3bsSELhMQvVVw6FLjUpEDHeHnF2OJzRIBWM+8yZ7om6njFy7hpxbqqXsdNBnqGU7HT6t8RMc7OiKjf4a951UOQye5ixbd7ulm3LGNtdvi0+JReqo05H44tQSv41fvCPfDUashlNtObUNxZbE46a2p5C6RLAA4Fybc8ePUBqF86yoA8BR9QVBRUYHXn3gdbzd+0rhwTgAAIABJREFUG+f+eQ5tdrbBfZfeh8u7XS62Kc8v1+2DhWg2+v/s3XecVNX5x/HP2c4unYWlF0WkF2kiGqwRRKJAfooiEaOSaFAjiiVRQGJJDKYYjTUqdg1GgxQxKoiiAgsigqgUUXpnpWzf8/vjzuzemZ2dna1T9vv2ta/duXPLmXvxnnnuec45XdOByrXWAD7z/fmraqpnedMm1FSqZ3VzH9c7Kqo/Y0ztt/pV4bu5z3QO1Tmqp75bRTXN4xd7ajrVszItdtZa4uPiK719ZajFr26K5Ot+evvTw10EqYNCaiYyxsz0W5QKXAAsrPYSxbgVy1bwyNhHOHHPiSR6/gPoktGFguMlFeCG/2wotW33n3fnqzlfASXBWFpGGgBHdoY8paLD88XO2+Jn4kyp1qyqpnqW22oQaHCXWkr1bHZyM9Kap4V0LPf+co/khrZNLaiuVpmqpHpKjFGLn1RQZVrsimxRSYufBneROmpIuyH8Y8U/wl0MqWNCbfFr5/eTAvwFuLKGyhWymh6xrLr8+OOP3HfHffxz2D85cY9v37u0FmlkfZ9F3rG8oPto1b9k6gFvMJZYL5EGbRqQ3i29UuXyBn6B0jKrmupZHv8Wv7j4uIqnelZycJfJX08O+XO595d3JPg1qkmlvoxX13dzfdkXD7X4xZ5IHNXTYjWdg9QKpfiK+Aq1j99VNV2QyoqGPn7z5s7jhStfoPvh7jRPbg5+9WTDdg05uPEgDds1LF72s3/9jLlX+06T6J6aoV5TZwJ2E2+Ysn1Khcvk38cvLiGOwjzfgnmDQf8pIapbZVv8ul7cldTmqaXfrMH7fO6PMdjiV41f9iM5rUZCoIcAMaem68jKtqR5/43lFwZOn69uavETEQkh8DPGJOCM6nkekA7sB94DXrTW1s4dOwoVFhayfPly5kyZw5fLv+R0nFzuzt06s3vNbp91k9KSKMgt8Ok/FmjuPPdE6sWBX2XT8/xSPQO1+HnTKGv6S6A71dDb+ufW9ERnygr/Pn6Xvnmpz3oN2zYstV61iJBUz1KDu1QhNdN/X8MfHq5UTymhfwoSosq02LmDsPyi2vkaYbF6oCEidV7QVE9jTCPgE+BBIB9Y7fn9R+ATz/viJz8/n6FDh3Lu0HNptLwRp3M6Tbo0Ial+UsD0woR6CRTmFvqkeibWCxD4JVdf4Beoxc9fg1YNGHDdgErtP7RCeH65+5gF+DiDbxzMnUfvDJjq6Tbs7mFM3Te1xqZzaHVKKzJ6ZVTvzquiGr/DDL5hcPV8KVKDX1hUd+uvviBLqCrTx88nfb6wdtLnrbUaPl9E6rzy+vg9AOwDOllrJ1pr77TWTgROBPZ63hc/j9z7CHuW7+Gm624CnOAqqV4ScQlxAdMm45PiMfGG3KyS1iTvem1PbVs8uqa7xS+lSQpQ9QE5vPv0HsP/vZH/HFml/YeivHn8TJwhKS0p4DZucQlxpKan1liL39WfXs2E/02o3n2LVINOZ3fisnmXVX1Hxu+3RL1I7ePnVVupnmrxq5vU/UDEV3mB38XAddZan4m5rLVHgd8Ao2uqYKGKtMFdjh49yuGZh7mSK7n5NzcDkHc0j/gkZ4L1pAal582Li48jITmB7IMlUzh4p2to0asFzU5qBvgGfskNnWkYKl2RuTabbqf77Lu2hTqBu/sGHigltGTFaiuaz3Hjk+KJT4qPmIqkKkG/vgDFlriEOLqM7FLl/ajFL/bU1HQOeYV5HMk9Uqm+cz5T5NRWqqe1mjdNROq88u6CjYAdZby3HWhYxnu1pqbnKKqoCRMmEEccSY2TyD+WXzxwSUJyAibeEJ8Yz/C/DyepQRK9Lu8FOF/a4pPjyTsaONXTvQ8v71QEkd4vq8uF5X8Z9Qn8QvzCWaufOzLivFLnRl/OpdqpxU9CNGPJDM6afVbl5vGj9lM93VNIiIjUVeUFfpuBs8t47xxgS/UWJ7pt2bKFJm81ASC5XjJ5R/OK++J5W/zys/OJS4zjzh/vpM+VfQAnsHMHdVDS4gclrVveVrnf5/y+2lI9a9plb19Gi14tgq4TaotfeX38iler5ha5SGnhKyWyL71EodRmzii5x/cfD3NJJNJt/3E7UPU+frWV6inlS4yvmambRCRylBf4/QV43hgz1hgnR8IYE2eM+TnwnOd98Xh2xrN0oAPgtOIFCvwKsguKJ0b3tuTFJcSVCmTcfQG973kHd4lLiCtJyari4C7h5P8ZTHzoqZ7B1vOmwVabCIn7So3qWcFrmNEngzaD2lRnkUqJ2CBZQhKfFM/EDydy8s9ODndRpJpEYh+/Bz5+gHc3vwvU7qieSvUM7tWxr4a7CNWuYXLYE9NEIkrQ6Rystc8ZY5rhBHmvGGP240zpkAvMtNY+W/NFjA67du3im9e/oQc9gJLAL7VZKgc44AR+8U6LX/GAKq6Jy4sKfPtJeFM9rbW0GtCKAxsPlASMrpaxSG/xC0XxZzGGgdcPpH6r+iFvE8iYF8f49JeMWRW89NeudKbxujfp3hoojMSKDj/pEO4iSDWKxHn8VuxYUfx3ZVoMK6PIFinwq2N6tujJiU1PDHcxRCJKufP4WWsfMsY8CZxGyTx+n1prf6zpwkWD/fv389RTT5H5p0x65/YmLimOorwi4hLiWHjDwuLBXOKTS1r8vCNoFk9cHm+K58zzcqd6jvznSEY8PIJdq3Y565uSaQ+qOo9f8cswtgC6JxBv2rkpQ6cODbyiuzEpSHHrNa1X3NJaHSK1Faui18z74AAi9zOJSHSpTB8/N1tLKRXWalTPuiYlISXcRRCJOOUGfgDW2iPAohouS9Q5fvw4D2Q8wJdFXzIUJ1hp1LYRh7YcwhZasg9mc+rNp7L47sU+ffy8X8CLW/wSSrf4uVM94+LjiIv3TQct/ruycZ9fBRgNgYC7jDmHc2rxwL4vm5zQpPaOHcQJ553gM7djRIj8f0YiUo2q2mJXWy1+ms5BRKT8Pn4RL5zTObz5wps0LGrIsG7Dipc1bOvkkx/acojm3Zsz+KbBgGdgFgMHvjkQsMXPFvp+Y/Yf7MW9PpTuH1dhNVT/dR3TlQ7DajZV7Ndf/JoOZ9ReOpp/UHzieSdyd8HdtXZ8L/8vLRc8cgHXrb2uWvYlIlIZlUn1rM7tQ6UJ3EVEYiDwC9d0DgUFBSyYuQCAE7uU5JA37tS4+O+kBknF/fnik+LZt35f8d9Qdh+/6XZ6mROZ+/9dXX38qisQ+Mnvf8LEJROrZV+leOKvjN4ZYZ/OIeg8gjVVjCholRWRuqUyg7uEgwZ3ERGJgcAvXBb/bzEddnYgvm28T2td21PbFv8dnxjvE/i5l4PvqJ4FOYH7SbgDMp9go4p9/CIi1dNVhFOnnEpK4+D5+AOuH0D/X/Wv4UKVpoArdDpXIpGlprNiqtrHr7bo3iQiosCv0j54/gP2mX10HtyZ3CO5xctb9GrBbQdvA3ynXXAHOd5UT28gZ+IN/a7pR49LejDy8ZE+x3FXVt40Uqj+Fr9wO/+h88ttRes2uhsXPn5hLZXIRd8XQpLWIo32p7cPdzFExKWms2Jqq49eVanFT0QkxMFdxNfixYv55rVvaNW8Fcn1kjl08FDxe/GJ8cX987wBnr/i/nneFr/4OH721M/KPW5qeirT7XTffVQy8Os6uiv7N+wveX1xV/Z+ubdS+xIBuHXPrayZvYZv3/423EURkVpSW330qkqjeoqIKPCrsKKiIm6+7mZG29G0GdyGuMQ4cg6VjDAZlxhXPNKie/h8d4WTf9yZsNY9qmdFVbXFr+OwjnQc1rH49YiHR1RqP3WBUoRERAKLlj5+gAZ3EZE6T3kPFZCbm8uEYRPI/saZHLxJ/SbEJcb5TBbunagd8Env7Dy8c/HfBblOnwj3qJ6BtD+9PSePOjlwYbwZpHqCWeOGTR/GsBnDyl+xhlXntXbPEykiUlnR0scPVF+KiOjbXwXMvGkmXT7uQhe6AJDcKJm4+Djyj+fT6/JefPnyl76TZBc5LUW3H7rdZ+CSLiOd7d2jegZy1UdXlVmWWOjjFy2VcK/LeoW7CED1tTz+ZsNvqnWCexGpu0Lt45dfmF/DJSmfWvxEpK6L+ha/2prHb8+ePWx6YlPx6/Su6c6AJJ5+fKktUgHffn3ewM8d9NVvVb84tdM9qmdFVXkev1oULQFeXZHeNZ20FmnhLoaIxIBQ+/hNmjeJq/5b9sPM2qDBXUSkrov6u2BtzOO3efNmbux/I93pXrysRc8WJKYmFrfwpTV3vkgHavFzc7fuuUf1rKhYaPETEZHoFmofv/V71/P1/q9ruDQiIhJM1Ad+Ne3pp5+md+/enLzDt69dShOnFa+4xa952S1+bu4gryotflWdx09ERGKf5vEroRY/EanrdBcMYsk7S1g9aTV9OvYhnnif9/xH7vSmzvm0+BWG1uJX3vx1gajFT0REyqN5/Eqo24GI1HUK/Mrw4LQHeWHkC2TYDB7742Ol3ve20nlb+Lypnu4Wv6LC0n0fArX4VSrVM8DE8CIiIrUpWubxAw3uIiKiUT0D+HrD12z6wyba0x6AtKTSA2F4Az9vC5831bMyffzCMY9fRIjioouISJTN46cWPxGp49TiF8A/J/6TNrQpfp19MJv4JN9UT3eLX0JKAskNkotfe4Xcx68SqZ7q4yciIuEWTX381OInInWdAr8Ajv9wvPhv7wTtyY2SfdZxt/ilNE4JGMQFbPFLKN3i5x9UhiImWvxERCSqRVOLnwZ3EZG6TqmeARTmlFRkqc1SyT6QTXLDZI7vcwWE8SUtfu55+tz8A79rV15bnBIKJS1+7mWhiqZ5/EREJDZFUx8/EZG6ToFfADavJGBLTU/l+IHjJNVP8lnHv8UvtVkqo54a5bsfv8Cv9YDWvvvwBI/1M+pXuIxq8RMRkXCLplE9I0XL+i3ZfXR3uIshInWQAr8AbH5JwFavWT1WPLyi1DruPn4pTVIwcYZTrjnFdz8BUj3dvEFbWkbpwWPK5e3jp87qdUZiamK4iyAi4iOa+vhFiqT4pPJXEhGpAVGf8F7dk9NaazEFJcGUN41z4OSBPut5A7/GHRvTeqBvS17xvgLM4+dWHPg1r3jgF00tftYGPg8KWkN3/frr6X1F73AXQ0TEh1I9RUSiR9QHftU9OW1OTg6JtqRlpUHrBgD0vLSnz3rewK/DGR04656zAu4rlL57U/dPrVRLjvr41S3Nuzev3OivIiI1KJoGdxERqeuU6unnxx9/JBlnBM9BNwwqHs3TfwCX8ubem7JjColp5Qd0qc0qPrALRFeLn1r2RERik/r4iYhEDwV+fg4ePEg96hW/Tkh2TpF/4Oeejy8Qb0thjdE8fiIiEmbq4yciEj2UO+Zn7569xYGftZaElMCBX3ktfjUtmlr8REQkNoWzj9/RvKNhO3Zdl5ZUiUHpotCCjQvKHKdAJBop8POze+tu8sgrfn1s3zGAUmmbYQ/8vOmT0Rz3RXPZRUQinDFmkjEm0xiTuW/fvho5hvr41U3DOgxjfK/x4S5GjZu2eBr5RfnhLoZItVGqp59dm3ZxnOPFrX5dL+pKvSb1SvVTC3vgF0Utfj3G9aBBmxpOfRURER/W2ieBJwEGDBhQI80W6uNXNxljaNuwbbiLISIVpMDPJS8vj6V/XEpTmtKMZgC0O60d7U5rV2rdsI+wGEV9/M648wy4M9ylkNpQP6N+uIsgIi7GmFHAqM6dO9fI/tXHT0QkeijV02XZR8voUdiDE247odx1w53zHU0tflJ3dB7emdsO3hbuYoiIR3VPeSQiItFLgZ/LoT2HKKSQ4ZcOdxYEie1sUZgDP83jJxGqXpN65a8kIrXCGDPKGPNkVlZWuIsiIiJhpsDP5djhY+SRR2pqCHPrhXmQJ7X4iYhIedTiJyIiXgr8XI4dPkY++aSllT9McbhTPYv7+EXx5OjRXHYRERERkWiiwM/leNZx8skPqcUv7KmeavETEZFyKNVTRES8FPi5ZP+YHXKLX9hTPdXHT0REyqFUTxER8VLg55J7JJc88khOTgaCp3OGO9VTLX4iIiIiIhIqBX4uOUdysPE2pL5n4U71jKZ5/EREJDyU6ikiIl4K/FzyjuVRlFAU2srhjvtiIdUziosuIhINlOopIiJeCeEuQFmMMWnAh8AMa+282jhm3tE8SAxt3Vb9W9VsYcpRHPApeBIRkQg06e1JtKof3rpSRERK1FrgZ4x5BrgQ2Gut7elaPhz4OxAPPG2t/aPnrduB12urfABHfzhKYvOyI7+p+6Zi4gz1mkbABNVK9RQRkQi2etdqGiY3DHcxRETEozZTPZ8DhrsXGGPigUeBEUB34DJjTHdjzHnAV8De2irce/PeI21XGuk90ouX1W9Z32ed1PTUyAj60OAuIiJSPvXxExERr1pr8bPWLjXGdPRbPAjYZK3dAmCMeRW4CKgPpOEEg9nGmAXW2lKd74wxk4BJAO3bt69S+Q4dOERWwyx+Ne1XANyy+5aICfKC0SToIiJSFmvt28DbAwYMuDbcZRERkfAKdx+/NsA21+vtwGBr7WQAY8xEYH+goA/AWvsk8CTAgAEDqjTcytgJYxk9fjQJCc4pqZ9Rv5wtREREREREokO4A7+grLXP1dax4uLiiIuLnkFO4xPjw12EKlNrpYiIiIhI7Qh3pLMDaOd63dazLGR1tf9CXEIc0+30cBdDREQiWF2tI0VEpLRwB34rgZOMMZ2MMUnAOGBuRXagOYpEREQCC1cdueyHZbV6PBERKV+tBX7GmFeAT4GTjTHbjTFXW2sLgMnAImAD8Lq1dn1tlUlERESq39vfvh3uIoiIiJ/aHNXzsjKWLwAWVHa/xphRwKjOnTtXdhciIiIiIiIxLdypnlWmVE8REREREZHgoj7wkyimQT1FREREJMLM/WYu+UX54S5GtVPgJyIiEqM0qqeISOXs+LFCEw1EhagP/FSpiYiIBKbuECIi4hX1gZ8qNRERERERkeCiPvATERERERGR4BT4SdgYo9FdRERERERqgwI/CR/FfSIiIiIitSLqAz8N7iIiIiIiIhJc1Ad+GtxFREREREQkuKgP/ERERCQwZcWIiIiXAj8JmyE3D2HMS2PCXQwRkZilrBgREfFS4CdhU79lfXpd3ivcxRARERERiXlRH/gpjUVERERERCS4qA/8lMYiIiIiIiISXNQHfiIiIiIiIhKcAj8REREREZEYp8BPREREREQkxinwExERERERiXFRH/hpVE8REREREZHgoj7w06ieIiIiIiIiwUV94CciIiLRzVob7iKEhaXszx3svdoSydelps9PJH92f+5zEen/piJVXTk3Jpr+YQdjjNkHfF/F3aQD+6uhOHWJzlnF6ZxVnM5ZxcT6+epgrW0e7kJEE9WRYaNzVjE6XxWnc1ZxsX7OyqwjYybwqw7GmExr7YBwlyOa6JxVnM5ZxemcVYzOl9QE/buqOJ2zitH5qjids4qry+dMqZ4iIiIiIiIxToGfiIiIiIhIjFPg5+vJcBcgCumcVZzOWcXpnFWMzpfUBP27qjids4rR+ao4nbOKq7PnTH38REREREREYpxa/ERERERERGKcAj8REREREZEYp8BPREREREQkxinwExERERERiXEK/ERERERERGKcAj8REREREZEYp8BPREREREQkxinwExERERERiXEK/ERERERERGKcAj8REREREZEYp8BPREREREQkxinwExERERERiXEK/ERERERERGKcAj8REREREZEYp8BPREREREQkxinwExERERERiXEK/ERERERERGKcAj8REREREZEYp8BPREREREQkxinwExERERERiXEK/ERERERERGKcAj8REREREZEYp8BPREREREQkxinwExERERERiXEK/ERERERERGKcAj8REREREZEYp8BPREREREQkxinwk4hgjBlrjPnAGHPYGJNrjPnWGPMXY0zrGjhWF2PMDGNMY7/lE40x1hhTv7qPGQ3C9fk9x5zsej3JGHNxgPW2GmNm1WbZRKRuqs06KdyMMS08dWLHcJfFzRgzyBgzI8DyGcaY/WEoUkQIx+c3xnT01NUXupbdZow5M8C6PnW6RBYFfhJ2xpiHgNeBLcAE4KfAX4FzgEdr4JBdgOlAY7/l84EhwPEaOKaUbQjwb9frSUCpwE9EpDaEoU4KtxY4dWLHMJfD3yCccvl7Gji/lstS1+3Cqas/di27DTgzLKWRSksIdwGkbjPGjAKmAFdba59xvfWhMeZJnAq3Vlhr9wH7aut4dZ0xpp61Ntta+1m4yyIiApFVJ0lg1trtwPZwl6OuMMakWGtzANXVMUAtfhJuNwOr/SpYAKy1hdbahd7Xxph0Y8xsY8wBY8xxY8wSY8wA9zbedEBjzM3GmO3GmEPGmFe9aZ2etIS3Pat/50lJ2Op5zyfV0ZXacIkx5gljTJZnn/cYY+Jcx3zOGJPpV45AaRGpxpiHjTG7jTE5xpiVxpif+m1XKp0xQLkSPZ/xB08K0k5jzJvGmKSyTrIxZogxZq4xZpcx5pgxZo0xZnxZ67u2a2+MWWiMyTbGfOcpyxxjzBK/9c42xiz3fK49xph/ulNGjTFnej7D+Z5yHAUe8bxXnBbi2W9/4ErPcmuMmeh3rIDX1u845xhj/uv5rBuNMT81xsQbY/5sjNlvjNlhjJlS3ucXkTqnpuqkOzz33yxjzEPGcYExZr0x5ogx5i1jTBPXdt572U+NMfM897IfjDG/9tt/SPd2Y0wHY8wrnvvfcWPMWmPM5cZJ7/zSs9pi73032AkyxvQ2xrxtnDTYo8aYFcaY81zvd/J8nh89n+1tY0xnv31YY8xNxpj7jTH7jDF7jTGPGmOSPe9PBP7hWtd66x3jl+roOldnGmP+7SnTFmPM9X7HXGKMmeO3zLttT9eyUK5rqXTGAOVqbIx52jh1dI7n+j1VzrkdaYz5n+d8/GiM+cz4fU8oY7vexphPPMdZ7/m3lWmMec5vvUuMMV8a57vDNmPMfcaYBNf73u8bgzyfOxuYavy+0xjne1MzYLrr+pzpOlR8WdfW7zineI5z3PNv9xRjTJox5lnj/L+yxRhzWXmfX0KnwE/CxhiTCJwGvBPiJm/hpHfcClyK8+93sX+FAlyCk5IzCbgduBC43/Peas/2AGNwUhdGl3PcB4GjwM+BF4Fpnr8r6ingKuA+zzG3AfONMadXcD93AuOBu4HzgN8CWUB8kG06AMuAq4FRwBvAs8FuqMYYA8wFugG/xHkKfiMw2G+9HjjXcD8wFic153LAp4L1+BfwBfAzz9/+rge+BhbgXJshOCm4XsGurdsTOCkpo4HvPWV5BGjgKttDxpjBAbYVkTqoBuukcThpi1fh1CdTgL8Af8C5j/8aGAY8EOAY/wLW4tRXC4DHjOuBIiHc240xLYBPgYGeso7y7LcdTgqfN1D8DSX33YCMMV09x2vlKfdo4E3PvvB8uX8fp964FpgIdMJpMW3qt7tbgNbAFcCfgV8BN3nemw885PnbW6brCe4pnPplNLAEeNQYM6icbQIJ9bqW5y/A6TgPE84HfgcEDapxztXbOCnGY4FPgIXGmKFlbWCMSQUWAfWAy4B7cVKT2/ut91PgNZzvQRfhBNa34nkI6+cVTzkuAOYFeH80zveOf1FyfVa73g92bd1me441FjA4dfO/gJ0437OWA88bY9qW9fmlgqy1+tFPWH6Aljg3wV+FsO5wz7rDXMvScFIzn3At2wpsBhJcy/4G7Ha9vtCzr45+x5joWV7f87qj5/XzfuutAV51vX4OyPRbx7vthZ7X3YAi4ErXOnHAOmCRX/lnlVOuecBDVTjvBifN+wnggyDHGel5PdC1ThsgH1jiWvYqsBGIdy27xLPtEM/rMz2v/xqgPBaY7HqdCTwXYL1Qrq33ONNdy7p7lrk/axywG/hTuP8/0I9+9BMZPzVYJ23yuz+uAAqATq5lDwJ7XK+997In/Y77P+CzMspU1r39AeAY0KqM7Xp6jnVmCJ/7FZw0y3plvP9rz2c7wbWsLZAH3OlaZoGlftu+5f5swGTABjjGDGB/gHM107Us0XMt/uhatgSY47cv77Y9K3hdfeqtMsq1DrihCv8e4zzXcxHwTJDj/MZzftu4lg3ylPE517LPgMV+x7gNKATael5P9Gx3k996HXF9p/Es2w/MCFDuUK6t9zhXupZd4Fnm/qyNcL5zXFfZ86gf3x+1+EkkKO8JGDg3sb3W2g+LN7L2GE4Q5N9itthaW+B6/RXQwvM0tzLe9Xv9FU5FVhEDcSrl4kFMrLVFntcVbfFbA0w0zohavT0tc0EZY5oYJ830e5ybaD5Oq1mXcsq821q70lXmHcAqv/UGAW9aawtdy97Aqfz9P9t8qibUa/u+6+9Nnt8feBd4zv0WnEBWRMStuuukJX73x03AVmvtd37LmpvSKftv+r3+D9DfGBMPId/bzwbesdbuCuFzleds4DVrbXYZ7w/CSZXd4l1gnT55yyh9Xqqjbg24P2ttPs4DyYruryLXtTxrcNIkrzfGBKtrixlj2nrSTHfg1KH5OP1Ky6urV3nqZ2+ZVwB7XPuNB07BdyA1cFoA4yjdylvVujrUa1teXZ2FE3Srrq4mCvwknA4AufilI5ShFbA3wPI9gH/6yGG/13k4QVcylRNofykV3Ecr4Ki11n/E0D1Aqjv3PQT34owsdz1OWss2Y0ygFAq353BSVv6MU4kMBJ4h+OdoSeDBbvyXtcJVwYDTFwbn+vpfmz1UTajXtng9a21ekG0reh1FJHbVZp1U1r3MP/DzP8ZenFagdM/r5yj/3t4MJ6WzOpS3r1L1gUeo56Uq9+TqqqtDva7lmYzT0jUN+MY4/c3HlbWyccYOmIuTbjwNOAvnei6k6nV1Ok4rqP+18b6ujbo60Gc47LdORbaVSlDgJ2HjeSK3jNCGZd6FM+S0vwzgYHUwAYBjAAAgAElEQVSWqxJyKF1ZN/F7vQuo78nFd8sAjltrc0Pdl7U2x1o7zVrbEecp4GvA34wxwwMVzhiTgpPeOt1a+4i19gNrbSbl//+/G2geYLn/slLXxvN0sRmlr00oT9JFRGpdhNZJ/sdogdMStL8C9/YDOAFNdShvX7FQV4dS/tzy9mWtPWytvdFa2xLog9Nf7SVjTPcyytcZ6IeTHvova+2HnutZr6wP5BFKXb0fp/XQ/7NleH6rrq4jFPhJuP0NGGCMudL/DWNMnCuYWY6T0vcT1/upOP3QPvbfthzep0rV9QRpO9DRUwl7+Y/CtRLnRlo8KIwnRfPn+JZ/O05/QLcyR/Sy1m7E6Zydi9OXLZBknP/XvcElxpgGOAOsBLMSaOnuHG+MaYMz6qbbcmC0N/XIYwzOU+mKXhvQ0z0RCZ9w1EnB+A8+Nhonra+Q0O/t7wPnG2MyCKwideL7wCV+9Z3bcpxU1E6uMrXBacWqVF0d5FgVtR3o6rfMv34N9br61NWe1rpzyjqwtXYtMBXnevmXwcsb4LmvZwegzIFdPFbinPPidEhPvV18vT3/XlYB/+e37SU44w98Ws4xAlFdHYU0j5+ElbX2bWPMX4B/eUat+i/OCJpdcTqJb8Xpm7DIGPMJ8Jox5g6cp4634two/1zBw37j+f0rY8yrOC1uXwbboBxvATOBpz1DJ/fDGQWzmLV2gzHmFeART8W8GWfEs67Ada5V3wT+YYz5Hc7NfCzQw70vY8ybODfwz4FsnOAxAVgaqHDW2ixjzEpgmjHmR5yb/B04I3I1DPK5FuCkkr5ujLnTc6zpOCkgRa717vWU5S1jzGM4efx/whm0pjKVydc4X1LOx7nO31lrD1RiPyIiFRKmOimYEcaY+4APcR6onYczImNF7u1/BX4BfOTZ1zacoCXNWvsg8APO/f1KY0wWkO9paQrkHpy6aalxJro/gFPnHbDOFBjP4Yy4vNAYMw1n4JDpOC1OT1Tws3/t+X2TMeYD4Edr7TfBNijHm8DVxpi/4vRhOwtnMJdiFbiubwK/McZ8jtNf/Br86lNjzMee9dbhPPi9FmeQnRVllO9rnIDyIWPM3TijUN8D7Chjfa9ngbuAecaYezxlvQcn1dNdV08HFhljnsUZlK0XzsiyT3n6YVbU18BIY8w7OP+PfGOtPVKJ/UgtUoufhJ219hacPgonAS/jjFp2C86TRXdQdLHnvb/hdFA2wNnW2k1UgLX2e5wb+RictJ63g29R7v7W4QR6Q3Dy84fhDNvt71qcoYun4XyZ6IAzQpb7KeKTOJ/vRuB1nCd/9/rt5xOcc/GyZz/9gbFBKmpwpjDYAjwP/B1n8JXny/lcFucLxtc4FcvfgcdwOmn/6FpvPTACJ4XkP57yvkLlprzAs/0GnM+/EmfocRGRWlHbdVI5rsEZlOMtnLTO31hr57reL/febq3dh9Nq9LmnrPNwBoD5wfN+Dk791B8nwFxJGTyB1+k4gdzTOIHNz3GmzcHTbeFcnHrjXzh13g84I4ZWNNXzI5xg6yaclriKBo7+ZZ+PM6XCzz3l7kDgKQZCua73eN67FyfYXYNTT7p9ijN65Ryc+iwdGFFWkOU5d2NwUnnn4ARlD+Bck2Cf6zhOAJuN0/VjBs5onYfxravfxZlaZADO957f4kyZMZnKmYoTyM7H0+pYyf1ILTLOdzsRkfIZYxrhfMl4xFo7PdzlERGJRcaZDHsx0MvzcFEkZJ5U22+BSdZa/4BU6jCleopImYwxv8ZJFdmI01F8Ck6/kmfCWS4RERFxeLpj7MRpeW0P3ImT6vlGOMslkUeBn4gEk4PTX6MDTh+FFcC5nnRZERERCT+L04evNU4XkY+AW621PwbdSuocpXqKiIiIiIjEOA3uIiIiIiIiEuNiJtUzPT3dduzYMdzFEBGRGrZq1ar91tpAExZLGVRHiojUDcHqyJgJ/Dp27EhmZrDR7EVEJBYYY9THtIJUR4qI1A3B6sioT/U0xowyxjyZlZUV7qKIiIiIiIhEpKgP/Ky1b1trJzVq1CjcRREREREREYlIUR/4iYiISGDKihEREa+Y6eMXSH5+Ptu3bycnJyfcRZFqlJKSQtu2bUlMTAx3UUREIpq19m3g7QEDBlzr/57qyNikOlJEyhLTgd/27dtp0KABHTt2xBgT7uJINbDWcuDAAbZv306nTp3CXRwRkailOjL2qI4UkWBiOtUzJyeHZs2aqUKLIcYYmjVrpifUIiJVpDoy9qiOFJFgYjrwA1ShxSBdUxGR6qH7aezRNRWRssR84CciIiIiIlLXKfCrYaeddlq561xzzTV89dVXANx///0V3r5+/fqVK1wlrVmzhgULFtTqMUUk+v31r3/ltNNOo7CwMNxFkQihOlJExOmfe1vHjrxw3301ehwFfjXsk08+KXedp59+mu7duwOlK7VQtq9tqtREpDLWrFnDtm3biI+PD3dRJEKojhQRgV27dnHq999j8/Nr9DgxPaqn229/+1vWrFlTrfvs27cvf/vb34KuU79+fY4ePcqSJUuYMWMG6enprFu3jv79+/Piiy9ijOHMM89k1qxZzJkzh+zsbPr27UuPHj146aWXirc/evQoF110EYcOHSI/P597772Xiy66KOixL774YrZt20ZOTg433XQTkyZNorCwkKuvvprMzEyMMfzyl7/k5ptv5uGHH+bxxx8nISGB7t278+qrr3Ls2DFuuOEG1q1bR35+PjNmzGDEiBFMmzaN7OxsPv74Y+68805atmzJTTfdBDh9C5YuXUqDBg2q7TyLSGzYvHkzJ554YriLIQGojlQdKSLh8/WXX9ISyBkypEaPU2cCv0jw+eefs379elq3bs3QoUNZtmwZp59+evH7f/zjH3nkkUcCVr4pKSm8+eabNGzYkP3793Pqqafys5/9LGgn7meeeYamTZuSnZ3NwIEDGTt2LFu3bmXHjh2sW7cOgMOHDxcf+7vvviM5Obl42X333cfZZ5/NM888w+HDhxk0aBDnnnsuM2fOJDMzk0ceeQSAUaNG8eijjzJ06FCOHj1KSkpKtZ0zEYkN1lo2bdrEBRdcEO6iSIRSHSkiddWWRYtoCAzr27dGj1NnAr/ynjrWhkGDBtG2bVvAeRK6detWn0otGGstv/vd71i6dClxcXHs2LGDPXv20LJlyzK3efjhh3nzzTcB2LZtGxs3buTkk09my5Yt3HDDDYwcOZKf/vSnAPTu3Zvx48dz8cUXc/HFFwPw7rvvMnfuXGbNmgU4Q3//8MMPpY4zdOhQpkyZwvjx4xkzZkzxZxQR8fr+++/Zs2cP/fv3D3dRJADVkaojRSQ8rLXsfuMNDrdqRUZGRo0eS338alFycnLx3/Hx8RQUFIS87UsvvcS+fftYtWoVa9asISMjI+g8PUuWLOG9997j008/5YsvvqBfv37k5OTQpEkTvvjiC84880wef/xxrrnmGgDmz5/Pb37zG1avXs3AgQMpKCjAWssbb7zBmjVrWLNmDT/88APdunUrdaw77riDp59+muzsbIYOHcrXX39dgbMiInXByy+/DMCwYcPCXBKJVKojRaQumjVrFt1/+IH0CRNq/FgRGfgZY84wxjxujHnaGBN5PbdrUGJiIvkBOnZmZWXRokULEhMTWbx4Md9//33Q/WRlZdGkSRNSU1P5+uuv+eyzzwDYv38/RUVFjB07lnvvvZfVq1dTVFTEtm3bOOuss/jTn/5EVlYWR48e5fzzz+cf//gH1lrAScMBaNCgAUeOHCk+1ubNm+nVqxe33347AwcOVKUmIj4OHz7M73//ezp37kyPHj3CXRyJYqojRSTWrF69mkbGMOHWW2v8WLUW+BljnjHG7DXGrPNbPtwY840xZpMx5g4Aa+1H1tpfA/OA2bVVxkgwadKk4pQSt/Hjx5OZmUmvXr14/vnn6dq1a9D9DB8+nIKCArp168Ydd9zBqaeeCsCOHTs488wz6du3L1dccQUPPPAAhYWFXHHFFfTq1Yt+/fpx44030rhxY+6++27y8/Pp3bs3PXr04O677wbgrLPO4quvvqJv37689tpr/O1vf6Nnz5707t2bxMRERowYUTMnR0Si0tatWwG48847Nbm0VInqSBGJNd999x1NGzcmPjGxxo9lvE+qavxAxvwEOAo8b63t6VkWD3wLnAdsB1YCl1lrv/K8/zpwtbX2SOC9lhgwYIDNzMz0WbZhw4aAaRcS/XRtRaLHvHnzGDVqFMuXL2fQoEFV3p8xZpW1dkA1FC2mGWMmAZMA2rdv39+/FUz30dilaysSHea89hoHx43j/PR0OmzeDA0bVnmfwerIWmvxs9YuBQ76LR4EbLLWbrHW5gGvAhcBGGPaA1nBgj5jzCRjTKYxJnPfvn01VXQREamClStXAmhQi1pmrX3SWjvAWjugefPm4S6OiIi4HDlyhPd+/WtOTUykZatWUAtz3Ia7j18bYJvr9XbPMoCrgWeDbaxKTUQksn366af84Q9/oHv37kFHWJSaYYwZZYx5MisrK9xFERERj8zMTP7erRtXHj5Mp06dSE5KgriaD8vCHfiVyVo73VpbpwZ2ERGJJdZa/vKXv2CMYfHixcTVQqUmvqy1b1trJzVq1CjcRRERqfN+/PFHbh08GAYOZNSePRx99VUaXHqp82YdaPHbAbRzvW7rWRYyPc0UEYk8R44cYcKECcyZM4d77rmHFi1ahLtIIiIiYfXShAlctmIFLVu2pEfPnpz3f/9X0tJXC4OfhTvwWwmcZIzpZIxJAsYBcyuyAz3NFBGJLHPnzqVNmza88sorzJw5k9///vd07QqbNoW7ZHWPHo6KiESG9xctYuDcuTRu0oS2bdqQEB/vBH3ewC+WWvyMMa8AnwInG2O2G2OuttYWAJOBRcAG4HVr7fraKpOIiFSvgwcPMm7cONq2bcvHH3/M3XffjTGGb74Bv4GXpRbo4aiISHhZa3lw+nQeveACEhMTadeune8KsdjiZ629zFrbylqbaK1ta639l2f5AmttF2vtidba+yq630h+mnn48GH++c9/lrvekiVLuPDCC6t8vMzMTG688cYq72fixInMmTOnyvupiPvvv79WjyciNePRRx8lOzubZ599liFDhvi8V0uzB0mUUB0ZOtWRItHr2WefJX7mTB5IS6Nb164k+c/X5w34YinwqymR/DQz1EqtugwYMICHH3641o5XnVSpiUS/RYsWMX36dIYNG8aAAaWnEFLgV/ti4eFodVEdKSK1adeuXdw6ciS9rr6a85KSOOmkk0hKSgprmaI+8Itkd9xxB5s3b6Zv375MnToVay1Tp06lZ8+e9OrVi9dee63UNitXrqRfv35s3ryZVatWMWzYMPr378/555/Prl27ADjzzDO5/fbbGTRoEF26dOGjjz4CfJ+KXnDBBfTt25e+ffvSqFEjZs+eTWFhIVOnTmXgwIH07t2bJ554AnCaoCdPnszJJ5/Mueeey969ewN+nqeeeoqBAwfSp08fxo4dy/HjxwH497//Tc+ePenTpw8/+clPAFi/fj2DBg2ib9++9O7dm40bNwLw4osvFi//1a9+RWFhIXfccQfZ2dn07duX8ePHc+zYMUaOHEmfPn3o2bNnwPMkIpHl0UcfZfjw4XTs2JEXXniB+FroqyDli+SHo6ojVUeKxCJrLa/8619sbNuWcQsW0Dw9nW5duxJXCy16IRUumn+AUcCTnTt3tv6++uorn9fO8+bq/Qnmu+++sz169Ch+PWfOHHvuuefagoICu3v3btuuXTu7c+dOu3jxYjty5Ei7bNkye8opp9jvv//e5uXl2SFDhti9e/daa6199dVX7VVXXWWttXbYsGF2ypQp1lpr58+fb8855xxrrS3ej1tmZqbt1auXPXz4sH3iiSfsH/7wB2uttTk5ObZ///52y5Yt9o033igu144dO2yjRo3sv//971KfZ//+/cV///73v7cPP/ywtdbanj172u3bt1trrT106JC11trJkyfbF1980VprbW5urj1+/Lj96quv7IUXXmjz8vKstdZed911dvbs2dZaa9PS0nzO0zXXXFP8+vDhw6XK4n9tRSR89u3bZ+vVq+dzz/J66ilrzz7buV96bglVBmTaCKh/oumnf//+pc5jqfto//7V/xOE6kjVkSKxpLCw0D5y88327s6d7Uqwnyck2MOdO1t76aXB75H33Vfu/bIigtWRCWGNOquBtfZt4O0BAwZcW/66tVCgID7++GMuu+wy4uPjycjIYNiwYaxcuZKGDRuyYcMGJk2axLvvvkvr1q1Zt24d69at47zzzgOgsLCQVq1aFe9rzJgxAPTv35+tW7cGPN7+/fuZMGECr7/+Oo0aNeLdd99l7dq1xX0TsrKy2LhxI0uXLi0uV+vWrTn77LMD7m/dunXcddddHD58mKNHj3L++ecDMHToUCZOnMgll1xSXK4hQ4Zw3333sX37dsaMGcNJJ53E+++/z6pVqxg4cCAA2dnZAYd479WrF7fccgu33347F154IWeccUYlzraI1LTCwkLmzJnD1VdfTU5ODjNmzKB58+Y+68ybBx98EKYCCsaYUcCozp07l79ymEffUR2pOlIk2hQUFPDFF1+w8v332fTkk4zbvJl6KSmkt21Li4wMDNTKaJ2hivrAL1a0atWKnJwcPv/8c1q3bo21lh49evDpp58GXD85ORmA+Ph4CgoKSr1fWFjIuHHjmDZtGj179gSc1t1//OMfxZWR14IFC0Iq48SJE3nrrbfo06cPzz33HEuWLAHg8ccfZ/ny5cyfP5/+/fuzatUqLr/8cgYPHsz8+fO54IILeOKJJ7DWcuWVV/LAAw8EPU6XLl1YvXo1CxYs4K677uKcc85h2rRpIZVRRGpHbm4uN910E0888QTt2rXjgw8+YNCgQaXWa9Cg5O9wP3yriyrycDSSqY4soTpSJPx27NjBk7/6FS9lZnL+nj1cBQxNTqZVhw40S0/HJ6kzggI/9fGrQQ0aNODIkSPFr8844wxee+01CgsL2bdvH0uXLi3+otS4cWPmz5/PnXfeyZIlSzj55JPZt29fcaWWn5/P+vWhz3Rxxx130Lt3b8aNG1e87Pzzz+exxx4jPz8fgG+//ZZjx47xk5/8pLhcu3btYvHixQH3eeTIEVq1akV+fj4vvfRS8fLNmzczePBgZs6cSfPmzdm2bRtbtmzhhBNO4MYbb+Siiy5i7dq1nHPOOcyZM6e4f8TBgwf5/vvvAUhMTCwu186dO0lNTeWKK65g6tSprF69OuTPLSI1Kz8/nwULFjBs2DCeeOIJ+vfvz7p16wIGfeAb+P35z7VUSIkKqiNVR4pEk927d3PbxImM7dePd9u146IFC7itWTPu7NfP6Zvcsyfp3qCvdeuSDRM87WyeB1LhFPUtfhVKY6llzZo1Y+jQofTs2ZMRI0bw4IMP8umnn9KnTx+MMTz44IO0bNmSr7/+GoCMjAzmzZvHiBEjeOaZZ5gzZw433ngjWVlZFBQU8Nvf/pYePXqEdOxZs2bRo0cP+vbtC8DMmTO55ppr2Lp1K6eccgrWWpo3b85bb73F6NGj+eCDD+jevTvt27cvNQS71x/+8AcGDx5M8+bNGTx4cHGFPXXqVDZu3Ii1lnPOOYc+ffrwpz/9iRdeeIHExERatmzJ7373O5o2bcq9997LT3/6U4qKikhMTOTRRx+lQ4cOTJo0id69e3PKKafwi1/8gqlTpxIXF0diYiKPPfZYNVwNEamqgwcPcsUVV7Bw4UJSUlKYPXs248aNCzpKWcOGJX+vXQtFRSVTFkndpjpSdaRINCgqKuLll1/mqaee4vqlS/ll/frUb9GCZs2accrEibB4MZQx6BMQUZWesTGSezNgwACb6dc/YcOGDXTr1i1MJZKapGsrUjsOHz7M7NmzWbx4Me+88w4FBQVMmzaNm266iVBGirzvPrjrrpLXI0ZAiJlzZTLGrLLWlp4vQkpxPRy91jtypJfuo7FL11akeuTk5PDS3XfTZ9YsBgLrO3emu7vuGzMGliyBgwd9N+zUCb77zvm7f39YtQqSkiAvz3e9zEy4/374z3+qrZ91sDoyckJQERGJGEeOHOGqq66iSZMm/Pa3v2XlypVMmDCB1atXM23atJCCPvBN9YSI6upQJ9gIns5BRCRSZWVl8f6iRbyWnk73WbNISUmh4Icf6N61q++KBQVQWFh6Bw8/DN4MBG/FFwGNbVGf6ikiItXnz3/+My+//DIbNmwgNzeXa6+9liuvvJKhQ4eGtP0vfuE83LzpJue1fxZoBGW8iIiI+Ni+bRt/uPxyUj77jEsKCuiTkEDbjh1p0KAB8aNHg/9Iu2UFfq1awcknw/r1JRVfoPUAanF+v5gP/Ky1mEiYMFGqTaykJ4tEksOHDzNv3jxuu+02unTpwuTJkxkzZgynnXZahfbzwguwcmVJ4FdU5Pu+Wvwii+rI2KM6UqTi9uzezXOXXkrrZcu4trCQpk2bktyzJ01OOYXUjz4qWdG/UsvPLz+g8wZ+/tuGQdQHfsEGd0lJSeHAgQM0a9ZMFVuMsNZy4MABUlJSwl0UkZhhrWXYsGGsXbuWpKQkFi5cyAknnFDp/blHz/ev59TiV7tUR9YtqiNFQrN//36W/u9/7PrwQ7JWrKDJ559zDpCenk5GixbUq1cP2rSBtDTfDQMFfgGmjAFKKrwIur9GfeAXbI6itm3bsn37dvbt2xeGkklNSUlJoW3btuEuhkhM+Pzzz5k8eTJr167lrrvu4pZbbqFx48ZBtykogLffhtGjA7/vfvjp3/igwK92qY6se1RHigRWUFDAf55/nvV//Ssnr19PF2tpDxxITeXk9HTyr7iCju7WvUD8A7+yUj2hJOArL/BTqmf1SExMpFOnTuEuhohIRCkqKuKDDz7gzTffZM6cOWRnZ3PppZcyZcqUcoM+gE8+cQYy89Z//nWW9+HnPfeUTu1U4Bc5VEeKSCzLzc3l4yVL+ObLL/nxk0/44fPP+b+tWxkdH0/zjAwaNWlCakoKcRMmwEsvwcCB8NFHUL8+pKY6lZt/Becf+OXllZ3C6a3wIqjii+nAT0REfB08eJDLL7+cRYsWkZKSwsCBA3n00Ufp1atX0O0KCpzRqPv2LRmNuksXp24cPx5uu61k3W3b4OOPYcYM8B8ALYLqPxERiSGFhYWsWraMj156iY3z5nH6rl10tZZBQHx8PPVSUmjeqRNNmzRx0tvj453WOv8ArWVLOHq0rIP4vi4rzRMiKsXTS4GfiEgdYK1lxowZzJo1i+PHj3P99dczc+ZMmjVrVuY2zz7rBHr9+sGcOXDZZU692KeP8/6mTc7vtWudv7OzS7Y94wzn944dJcuGDIFx46r5g4mISJ117Ngxnp42DV55hfz9+xmSn88wYFCLFnTKyCCxdWuaFhSQkJhImWGYf+AXF+e04oXS4hdK4KdUz+oTrOO6iEhdtnfvXpYtW8by5cuZO3cuGzZs4Nxzz+XBBx+kX79+5W7/y1/C+efDO++U1G1FRfD556XXXbQIfvih5HW9ek4gmJvrvE5NdVJERUREquKdd97hP7NmMeTLL4k/cIChhYWkpqZSv0kT6tevT4MGDUhs3x527oTmzaG8fszegM/bN8GYsufcy8nxfX3sWNU+TC2L+sAvWMd1EZG6pqCggHfeeYfHH3+cRYsWUVBQgDGGwYMH8/e//51JkyaVO+JfXh4sXeq7rLxpGLp08Q38UlOdwM+bFhqBGS91gh6Oikis2L1zJ6+MHs38FSu4ISWF7klJJDVpQsNGjWjcuLFvi16wljh//i1+3sDPXXEtXOiMaOYf+O3dW5mPEjZRH/iJiAgcP36c5cuXc+utt7J69WrS09O5+eabGTt2LN27d6dBgwYh7+s//3HSOqHkoWd5ffMyMnxf5+f7vtb8feGhh6MiEguys7P557BhXLR5M326dmVo+/YkHzhQ9gZljT7m5a6UvH97f3tTPf0F2teRI+UXPoIo8BMRiULbtm1j/vz5fPzxx6xcuZJvv/0XcCdpad/w5JNPMm7cuAoFe2XxBn7lBW7+7/v3i09QbSMiIhWwe/duli1bxobZszHLljH04EH2X3AB53frBl98EXzjsqZYSEmB66+HUaPg3HOdZd6Azj/V093HryppK2WljYaBqmIRkShQVFTEd999x/z583nppZdYsWIFAKmpqQwfPpxvvz2dyy9/nkceaU6TJk2qdKxAQV55gV95/d/V4iciImXJyclhx44dZK5cyRdvvMGRTz9l/I4dNAAuiIujQYMG7Lv1Vk674AKYPx+OHw++w7ICv8JCSE4G94NRd0uf93eoLX5RRoGfiEiEe/7557nlllvYv38/AKeccgr3338/Y8aM4aSTTiIuLg5joEuXLlQ25jtwANLSnIeh7rRO74PKnTuDb19efajAT0RE/H3z9dfMe/VVjv35z1xw/DgZwP/Fx5OWlkbDtm1JS0sjLS2NOGM46ayznI2sLRk5rCzePn6BJpr1X1ZWi5/7vZoM+jSqp4hI3XXs2DFuv/12PvvsMzZt2kRWVhZt27bliSee4NRTT6V3797Vfsz0dJg40ZnCwR2keeu+yZODb++tt/r1gyuugFtucQJJ74BnCvxERMTr0KFD3DN9Olf84x8MA1Lr1aNFhw6k1KtHWlpa4KkX4uNDD5LKavELlHbp3+JX1qiegY4dbATQCBT1gZ9GLBORWLJw4UKmTp3K+vXrOffccxk/fjzdunXjmmuuKXc0zsrIyyup67ZudX4HCvxC9dVX0LGj83fjxiWBn/r4iYjUPfn5+axevZotW7bwbWYmR778ku/37WPwmjW8DtzUtCmtWrUiOSWl7Hn2vLyVVSgVU1mBH5QO4IKN6ulu8QsU+CUmlgxfHQWivirWiGUiEisOHDjARRddRH5+Pg899BBTpsfqF9cAACAASURBVEyp8WPefTe0bev8HeoInoF4u0Pk5pZ0nWjUqGQCd7X4iYjUDdZaVq9ezeszZvD44sW8f+wYvwHeBVKSk1nVtClnt2jBiLvuotPs2aHvOC6u6i1+UHbgV5lRPRMSqh74XXhhxaafqIKoD/xERKKdtZYNGzZw1VVXUVBQwAcffMBZ3r4MFdpPxY/93XdOP3coqef8g7RQ9uuus9yBn5cCPxGR2Pfm44/z98ce48O1a8kETj79dE7cuZOlDz1Et5kziY+Lo2e/fvD5576VRFl694a1a52/K/JU0r+PnltFWvzKk5gYelnK0r2781MLFPiJiITB8ePHWbhwIe+//z7vvfceGzduJD4+ntmzZ1cq6PM6dAiaNi1dz/zudzBmDAwY4Lt8925o08b52xv4+Q/u4n7w2bQpHDxY+rjuwK9pU+d3w4Yly5TqGR7qDiEiNW3Pnj3Mefllnn/5ZR7NzOS+pCSSRo2i19at9B84EJYupUn37iWVy6FDzu99+0rvLCmppAXtl790KiFv4FddTxAr0uLnXjdQIJiUVD1lqiWqikVEakFeXh5Lly7l22+/5b333uPtt9+moKCAlJQUzjjjDKZMmcLw4cPp6O0gV0nePnVFRb4B3AMPOHVtoMDPO/9sWYGfO2MmIyNw4OeesL1evdLvK/ALD3WHEJHqlpuby4oVK/jkP/+hweuv8/nOnUwCClq0oE2bNmRkZBC3c6cTFHkrFPfTQW/gl5Xlu+OhQyEz03eZO9jyBmTVPZhKTbf4BXLVVSX9LGqRqmIRkRqUn5/PSy+9xOOPP87y5csBSE9P54YbbmDEiBGcffbZxIf4FPPAASeNMtgDRm8AdvSob4sbBA7Idu0qCfzKmqzdXV83axb4uO51vEGee5lSPUVEolNeXh47duxg27ZtbP/2Ww7/7ne03bePc4D6aWmMbt2aBg0bMuD00zGff+67sTeYcqeOeAO+w4d9101M9K04/EfMLKvv3fvvwznnhP6BymvxCzRSZ1mDu1T0qWZ6OuzfD127VqzM1USBn4hIDfn2228ZM2YM69evp379+jz22GNVatVLT4cbb4S//z3w+9ZCTo7zd1ZW6cAvNdX39dGjzk+wwM+/xa9+/cDHDhb4jRwJf/tb4O1ERCQyFBUVsWPHDrZu3cqHH37I3hdfpMXOnaw+coTPgLlAFyAhPp7W7drRtFkzEtwVRqBBTrxBVaDBVvwDv4SE0uv5t/hB6aAslL6CZe3TvV//VM+y5vsD6NED1q+veODnblUMAwV+IiLVwFrL9u3b+eSTT9izZw/vvvsuCxcupF69ejz99NNcddVVxFVmuEw/mzb5vl67Ftq3L3ntDvzatfNd17/Fb/du5/fRo87vQKme4BvU+QePXu5UT2896F12xhmgLmYiIpHr3Zdf5purruKUvDyWAncD6+vVIzU1lXEnnsi3Y8bQ5a23SExKIjk5mbhAgUugSdWDBX7+qZ5xcaX71/kHftURMPlXcmWlenr/DlQW/7n/KnpsBX4iItElNzeXp556irlz55KZmckhb78FoEGDBowfP54ZM2ZwwgknVNsx3QHWoUPQp48z8bqXN/BzP0j1buOfIrp7txMM+rf4uR+m+rf4paU5vxMTfcviDg4TE52J4Fu1guHDw1a/iYhIEPv27eOTDz/kvTlzKHztNU5MSyP38sv5xd69jHv4YU649FJnbr1TTqHzOefABx8E32FFAr+4uNItfuA7PUKgwA+qv4+f9xgVmcDdOxx2RfsxKPATEYkueXl5PPLIIzz77LOsW7eOE044gbFjx9KtWzcGDBhAt27daNKkCQk1MKKJN9hy1xneYM/9t/tBqvfv3FyYP9/pOz99utO/r0OHkm28D1ndXSiKinzra2+LX7DALy7OCUa3by95LSIi4bVnzx4W/fGPbJ8zh2eSktj6/ffcWFjIlcCWXr0Ydt11ZPTpA6+8AieeWLJhQYFvRVOWYIGff9+8evVKRiPzMib4vHjV1eIXLIXTe5xALX5uKSnO71ACv0BBZJgqxqgP/DRUtYjUpiVLlvDzn/+cAwcO0KtXLx599L9cd90oTC09vVuyBG65xXdZoCAwUDB4990ly+66Cx58EFq3Lplk3Vs3nXmm87tRIyfocwd13ha/sgaAOfvskuAwzA82RUTqrNzcXDZt2sTmDRv4+LHH2LJmDdcfPEh3YFBaGl9feCGXjhvHrw4dovUnnzBgzBinQgikqCi0wC/QOt4KwL/FL1jg534dKL2yqi1+ZVVK/kFesMrLG/hVNtUzTKI+8NNQ1SJS03JycliwYAH3338/q1atIiMjg4ULFzJ8+HCMgREjoFOn6jvepk1wwgm+9YO7dS3YQCn+rXcQ+CHsrl1Oy9+ll8KWLc4y/7p02DBnvUCpnv6Nmd7yuaeLqGwXCBERqZisrCwef/xx9i9eTP2tW+m0aRPdCwtpDYyLi6Nxo0aktW1L/SZNSKtfn+dnz3bSFR9+GFasgLlzoV8/Z2f+lUFhYeCKxF+wFj/3E0QIPMy0f+DnXeb+uyJPEhMTnZZLb4f2QPsMJNDcff7HrmyqZ6hlqCFRH/iJiNSEY8eOsXjxYl577TX++9//cuTIEZo3b87MmTO54YYbaNy4cfG62dlVP95nn8HgwU5dcNJJ8NprcMklznvvvQfnnVeybqDRrL28gZ83WFu+HE49tfR63ro1Oxu2bg2838REZz+BUj3LavFzB3nukbFFRKT65Ofns3HjRlatWsXGWbM47csvybCWC5KSSEhMpH56OqmpqaQkJ5NSrx7x3puz9+YfaBjn+PjAN+zCwqqnek6Z4rvc22LmVl7gFyzIuu02WL3aqTD/n73rDq+i2NvvJichnQChhV5VqiJSFARREVBQQQQ7NlQ+9V5RELkWuIpXxXvFglfxAoJyRa8UAVEQAakBQu81dKSXhJCQst8fk3Fn58zszp5CEpz3efLsnt1puydnfvPOr1HMnEnCW19/vbxN0XWZuUooiJ+KNjGM0MRPQ0NDg0F2djbmz5+P++67D1lZWUhOTkbv3r3Rp08f3HjjjYgRCKtg5u+8PCKT0tOBu+4Cpk0j12mkTQA4fNi5jW++sc6pbH72WWD7dnkUTmph07492egF/J+DplQSmXqKNH7du9vNUPlAaRoaGhoawSE9PR2LFi3C6X/8A21PnMArAGZHR6NcpUpoX64c4ukk7QQ2eAmfJ49eS0uzrqsQP1lAlB9+EJcXET/A2dST+viJ+rn3XqBcOTvxi4tzTnwrg0jjx58HaurJk8tLDE38NDQ0/rSYM2cOVq5cid27d//xd+TIEQBAamoqvv76a3Tt2hXREsEhCobiFcePE9IHANOn+/uTA97kFpXNJ08Cn3wCvPyyuBx1i+7VCxg0SFxGpPG7+26SS5AniXl55F5KinVNm3pqaGhoBI+VaWmY9t//Imr6dGQdOICOAGpFRSGxUSPMeeIJXDVpEjxNs07Ej94bO9a6ruLjJyNkMqiaerLwKkxk2rhAffxExC9QU89igiZ+GhoafxqkpaVh0qRJ2LlzJ7Zs2YIDBw4AAKpVq4a6devitttuQ7169dCwYUN06dIFSXwGdA7UqsXJ9SEtjchLGjCFB5/G6ORJcmTlG7UoUQErm6Oj/eXWsWNApUrWZ16OsiSWavwo8WvcGKheXdxvfr5/X9rUU0NDQyNwbNy4EQveeAM3TJ+OG0wT9eLjUaFGDZQrXx5RPh/xCyhbliRtLZJnSmAnZZassaaerDBR0fh5DbiSmCgeF6/xY4WUWzoHWWJ2t3I8RPX4Ol5MPdnxalNPDQ0NjfBj7dq16NChAwoLC9G8eXO0a9cO1113Hfr3769mGsOB9XUXEb9PPyUROGfPJmaVjz5KrvHWLTzx27+fHCkBfPddYMgQ9XHxxI+iWTNg5EigYkV7eSp7kpL8zTqpxo9ec5LrTsRPa/w0NDQ03JGdnY2MjAz88vnnWLh8Oa5KT0dnw0BE9eroXL8+os+ds1fw+cjkGxXlrSOZdo6drFnBlp/vbtrilfiVLSsel5uPnxNhkgkht3L8dRVydsUVQKNGgZt6auKnoaGhEVqcP38eU6ZMwdKlS/HFF18gKioKaWlpuPbaa4Nu2+ezfONEKYfGjiV+5nRTcPx44LHHgHbt7OV44nf0KDm++CLxhV+3ztu4eOKXnU3OK1QAOnf2L09lVtu2QEaG3ayT1/g5IS/PX/7pdA7FC8Mw+gPoDwA1a9Ys5tFoaGg44dtJk3DsscdQ7+JFtANQtWJF3FC5Msp264bEZs1IElYekZFkkg6EfLBE7dprgdWr5Rq/w4eB2rW9PpIzVIgf7+NHz1U1fm4ETwb2fcqiepYrB0yc6J9fyQ3F7OOn92E1NDQuG5imiYULF6J169YoV64ckpOT8cgjj2DSpEm4+eabsXnzZj/St3w50KNHYP3t3k2OH35ob8MwrIAs7Cbp6tX+bZw5Y/9MiRpFQoK3MfHEj24Qy6x0qOwpU4aQN5HGT0T8eLmrNX4lD6ZpjjFNs6Vpmi0r8qpeDQ2NYkVhYSE2btiAd954AxPj4pD14IO4ISYGBe++i7pduqDPPfegevXqSGzShEyiook4GOJHhZNpWpM1myePFxrLlnnrww2szwELVnspEipedhLdyg4YADz9tHo9PtAMHZMXFPNOqNb4aWholGpcuHABCxYswNixY7FkyRIcO3YM1apVwwMPPIDExER069YN7dq1kyZYnz6dRHx2QkEB8NlnwP/9n/06tYShkThZ0LRBrKw+ccK/HE/82NQQpqlG/Jo3B9av968fHQ1kZpJznlBS0NdCiZ9I48enXxJB+/hpaGho+CMzMxMbN27Els2bkbl3L/ZmZWHPsmW4ZfVq3GCauAVAUlISyqakoMJVV6HF4MHAtm3WxJmQIJ+IIyLIdaeAKACx8c/PB06fJp95Hz9anyWQKukbgkGHDkTTSPMW0XHxQV9EZCtUCdwfeYQcZ82S9ynT+AWqudOmnhoaGhpqyMvLw9KlS5GRkYH09HT88ssv2LVrF0zTRLly5dCtWzfcfPPN6N27NxIUVWUqm3UHDpD0CDLi5wS6qZqcbMlcFrwsZ4lbYaGVPkGG+Hh7WqacHPJMBQXE1HTNGnJPRDoBu8ZP5uMXqMZPE77ih2EY3QF0r0/DuGpoaIQVhw4dwooVK7Bi9GhUWbsWjU+fxicAXi+6n+Lz4erkZNRs2RJnW7VC+0WLrMjRot2yyEgiDEQTsWGoafzq1ydkkq3HRvVU0fiFGj4fULeu/ZoK8fPi4+e1nJc8fvRc5/HT0NDQCC1OnjyJr7+egS+++AybN68EAMTFxeHmm2/G/fffj8aNG6Nbt24BBWmRycuBA4G33iJpgGQ+7SrEj6JGDYv4HTxIZHitWv4EiiV+Kv51IuIXH2+ZeFIcPy6uT58/Olqu8RONoWxZyx8REPv4UQS7OasROEzTnAlgZsuWLZ8s7rFoaFxuOHz4MBYsWIDtH3+MgowMXDh3DoU5OfgQwNrISCQmJSGnSROMuP56NFy2DFHR0WhJF/zPPkucq9l8eSyZYBOsFxSIBRG950b82PbY45YtRDCxGj96P5g8RSqQESYVjZ8MqmTKrR2Zj58IgRI/ncdPQ0NDw0Jubi4+/fRTpKenY8aMGcjK2omYmKsxfvx6dOjQAampqSjjJc+BBDILmQ8+AB54gFiiUOJTWGifq0VBXWSoUcMy62zVCjhyhBC/gQPt5Xjix34WISHB/gw5OYSs8sRPlivXifj16UPeAx/V88QJ4KmngB077GOVycVwrx805NAaPw2N0CJj92589cYbyPn1V9T7/Xe8A2BEdDSujY+HWb48EiIi0GPCBDR98UVERkYSgnfunL+Td0yMXKPEpzCgBI+HqsYvIsI+EVON38MPk8+33GKVKyi4NLt1KsRPlsBdhmC1aF7MVug7VyFwonQOxQQl4mcYRmvTNFcIrrcyTXNl6IeloaHxZ8XGjRsxevRozJkzB3v37kX16tXRoUMH/PhjFSQmVka/ftf8UXbLFpJbzk1G1alDyoryxaps1lGLl4sX7QRKRPxkY6lRA9iwgZxTUrZvn395NnWDCvFjNX50rHFx9jL//jfQvbu4Pu/jR0le06ZAtWp2jR8da4UK/u04ET+t8Ss+aI2fhkbwOHv2LObOnYupU6ei4v/+h36FhcirWBEVr7wSrZ57Do2XLEHEjh1/EKwqnTrZo1uJJsHYWGvSrFuXOGKLiJ/PR0ibaAeNEjU38iFKkcDn76PHwsLiJX68AGPhNY+fDIFE9ZSdB5rAvYSbev4CQJTJ+GcA5UM3HA0NjT8jcnNz8d5772H27NlIS0tDQkIC2rZti1deeQX9+/cHQPO42ifKzZvV2t+7l+TFEyUfd5qzDQNYsADYs4d8LlfOTsREpp4y08zUVGDJEnLOyhS33HiBED/e4rVqVULiROCjerIkj24yuwV3iYkh/WpTTw0NjcsBq9PTsWbyZBzYuxc1587FgcxMvAWgfEoK5larhqsSExFTuTIJmtKkiTW5y8iZ6Dqv2SostJtc0joREfLJlQZ3cSMfIo0fC5akGoblHB5OqGr8RAncg0Wgefwudx8/wzAiABjk1DCKzinqAVCI9eYdRf2+CUI2003TnBCOfjQ0NIoXpmlixYoVGDRoEJYsWYJmzZph2LBheO6551C+vP+eEj/nO/m/5ecTU8RGjexlt2whRKRxY3GbPDp1ss55X3eRxk9GkipWtMbAygk34ufmXy8z9WThFPDNKbgLzQ3s5mdYvTqwa5fW+JVEaFNPDQ015OXlYd3q1Zj83XfY9+GHGFJYiHo+H2rGxyM+NRWd338fbe64A5Fdu5JJPDtbPLny12QaP9bUk9fAsUQtMtI5EbmKqSfr4yfqj445UO1VIKB9ffAB8MIL1nXWrIY39WSDzwQDN9Ilus+PhSLQqJ4l1McvH4DJnLMoBDBCtSPDMMYBuAPAMdM0mzDXuwD4EEAkgP+YpvkOgDsBVAdwEsBB1T40NDRKB7KzszFp0iRMmDABS5cuRUpKCsaPH49+/fo51uNlkhMhmTED6NXLSpBOyzZrZndhcJJz27YRP7x9+8T38/KIv95KxuBdRvwqV7Zv4FI4+b+pavzos23dSsbKr/HZtEg8WBkUGWnXYlKNnxvxq1lTE7+SCm3qqaEhRl5eHqZ//z1Wffcdjm3ciDYZGWhZWIj7AZyvWRN1n3sO5ZcsIdG4AFS9/nri4FypEtlhO39eTER4ocLmzGPB+qhTIsZqkagwiYyUkwQ6SbsRNjfix2v8LgXoM7Vvb7/O71zyWrZwRPWsWdN+3UtUz0CJXzHBjfjVAdHy/QbgxqJzs+jvuGmaLksSG74E8AmAifSCYRiRAEYDuBWE4K0yDGMGgCsALDNN83PDML4H8KuHfjQ0NEoo5s2bhxde+BUHDnyLs2czUK1aNbzyyisYPHgwkpOTXet70fjR/HXHjlllFy2SW7iI8MADzuMpKCDark6dgHfeAR57DBg6VFy2UiUx2XQjfqIUECwqV7aeccoUcmzWzF5GReMXEUEIItUwmqa1UZ2X51+PXTNQE1pt6qmhoVFSsTcjAzMnTsTZQ4dwYvlyVNi6FV0LCtDQ50NsXBziKlVCmcRElIuLg8/nI/b5PKgNPCVtlFCJtGcUMlNPFpQcOgV3kdVT1fjxpp7sZ1Eev3AgOhp4/XXg1VflBMgtgTtgf98TJ8rLq6JZMyA93YpYphLVU+VdXXMNMGeO/VpJNvU0TZPuc9cCiL0ngBQAJ0zTmyg3TXORYRi1ucutAOwyTXNPUfuTQbR9BwBQIyrp0s4wjP4A+gNATcrWNTQ0Shz27t2Lr776CsOHD0dBQT4aN26NsWML0LNnT8gSq4vAyz4nWUrJEN00PXaM5It1a5Ot6waaN3fECODdd4Hx4+2moSwqVhRr/LKy7OWaNgU2biTn2dnAunXOYxgxAnjmGfu1cuXsn500fjzxYzWM9Kuh+XVlsz71KdQav5IHbeqp8WfF6dOnsWXTJqyfPx8bFy5El4UL0RZAREQEoqOiUDYlBQkJCUhOTrb8mGrXJk7hgL+WjJ4bhkX82Fw6FLxQkRE/VsMn0vix7cmIX0QE2ZlzS+AuIn58O6Kxs4iKEu8CekHz5pZ2TRWXMo+fF4jaaNSI+JNQ3HQT+Xv+ef+yJdTUEwBgGEYygI8B3AsgCsBFwzD+B+AvpmmeCqL/aiAkj+IggNYgpp8fG4bRHsAiWWXTNMcAGAMALVu21EsLDY0ShB07dmDt2rX48ccfMWXKFGRnZ6NVq1ZYuRK488670KuX9zYjI4H33yebaDffLNf4Pfcc8Mkn5JzKKZm5pkjOVa4sH0NKCjB3LjkvKCDyn/reFxSQDU0RoqLExI+Xo/feaxG/detIBM3z5+XjiYz0l/lVq9o/q2r8fD5nn0LRGgiwiKVO51DyoE09Nf4syMnJwYYNGzBq+HBEL1mCVefOYQyIhqF9mTKIrFEDdRITESsK70zB+5Pxu1b0M0v8eI0fDxnxu/JKEnWM9ssTQXYcMpJANX5uqY14P0PaX3Q0cVZnTT1lCBVZciOpTuaVoqiesqibXvrgIdP4yXz/KP7yFxLo56uv3NsuiRo/BuNBNG9XA9gHogEcDmAcgLtCPSjTNLMBPK5SVu9mamgUL3JycrB27VqsWLECW7ZswYEDB7B//35sKdr1SklJQc+ePTF8+HDUrVvXz7VABWvXkmNEBDBoEHDDDXbiZ5rENy0mhpx/+qlV1yvxc5uLT560NIK5uZa2i46FJ6Px8SR5+tGjdl99Ct4nkL13//3AFVc4j4cSNhYJCfbPTnKWtSxiTT29gLavNX4aGhqXGj/++CM+HzkSdy1ejGaFhWgRE4N74uOx4umn0XjePMTFxSE6Kgpo2NCefFQEJ+LHntMAJHTCdtrdEvn4tWkDJCUBp06Jy3jR+KmYelKCyuK996wIZWxwl3ASkpgYbwFkVPL4BaI5c4vq6cXHj7//3HP+Zjh16gDLljn3fYmgSvw6AajC+PRtNQyjH4DDQfZ/CEAN5nP1omvK0LuZGhqXHgcOHMCkSZMwdepUrFu3DnlF7KpixYqoUaMG6tevj549e+KOO+7ANddcg2iZGqwIFy8SrRZvoggAGRlAixbknM7FVD7S43//Czz4IJFrgwfb5Sclfvv3i/sOJIgZbZPdKKXgTTfj4kh0aj46N0Cu80SRb0+WeJ1CZQPVi6mnKvETubRoHz8NDY1LgR1bt2LC6NGYtXgxNmzYgF4VK+LWlBTExsXh+Vq1EJ2Vhdq9egGrVlmV3CZKwJ348Ro/kY8fP+Gp+vixR1Ufv2DSOSxiDOrcJvFGjUgEr2ARE+O/M+kGt6iegRApL1E9ZRo/GTmMiPA3/fnLX4ABA8iuteoYwgRV4rcNQG0AW5lrNQFsD7L/VQAaGIZRB4Tw9QVwf5BtamhohBCmaeLHH3/EN998g/3792Pv3iwcPLgUwCu45ppr8MILL6BNmzZo3bo1UkXO8ALw892UKcDPPwMTBIlbWFNIfs6npInm2QOIKaio/ubNVr45et1JnjqBRr7MzfVfS4iIHyAmfvHxzho/QM2Chx8Dv+5QMfU0DLuPnxeypjV+JRfaKkbjckBBQQFOnjyJkydPIn32bJweOhR3X7yIVbfeirfeegvPX301Et94gxSOiyMTMb+r5pX40cTpLKg5JqvxExE/tm/qByDqhz3ywV3YaGBuefxUgrtQNGlCTFC8RPV024FURUwM8aVYuFBeximKJ/0sI9LBkinR9+I0NlVERLgL80sE6a/AMIzHmI+/AphrGMZXID55NQA8CMDBiNWvvW8AdASQYhjGQQBvmKY51jCMZwHMAUnnMM40TcWUzH+0q4WahkaIcf78ecybNw/ff/895syZg+PHj6NcuXJo1qwZmjTphoMH47BgwQLceOONiBAInNRUsrH13Xdqc+P585argxN4834V3zFK/JYtA7p0AX78kXweOhSoV8/amGPdK9zAEj+eqA0caP8sIn6sdQ2/HuBfp0zelilD+qeEjWLyZJLWgYVKOgfDIBpInrjKINL4aeJX8qCtYjRKM7Kzs/FM375oNWsWWpsmMgBcBSCmTBnUb9IEc6nDNUsk6KTsZk4hgki7JCrDT3p0kouKIpNo69b28l6JH2ty6WbqWVCgHtWzSxdg2DDg7rv977NHHrLJvW9f8nfvveLEtjwo+fGi9RORLVmgmnD6+AXaVgmD0/bHQ9znXQDaFv0BwG7m3BWmad4nuT4bwGzVdgT1tVDT0AgRCgsLMXfuXDz11FPYv38/KlSogI4dO6JHjx7o1asX4uPjsXo10c517NjRVvfbb4GxY0ngkyNHgO+/B9LSiCuD27yYl2fl23MCnYtXrLAnFndqnxLKggKStJ0Sv1On/IOsuFik/gGqNRRp/ADgqqsIsRwwwJn40c1aFqoav7g4i/ixY4iN9abxY9cd8fHW9yAiazICR4mlNvXU0NAIFgcPHsR3Q4Zgz7p1aL59O/rm56N+2bIom5SEOj4fYmJiEBcba48ILdqJoiaQBQXkWihNPelEzRMRn88/Yhcdg0q/suAubukcVPL4AUTI+Xz+QtNN4ydzzjcMks9H1XRGRXMo0/jNm2dd5zWqorqqfThdV9H4BaoFLCZIfwWmad50KQeioaFRPMjMzERaWhqWLFmC//znPzh8+DDKly+PmTNnonPnzn7+efzcX6UK8OyzJADLL7/Y711/PdC5MyGKMhkNEDl57hw537DBnodOFiX755/VNH69e1vn5ctb57m5JOryrFnWGJyIX/fuwMyZVl16FMk7n4/IwvPnLTnHEr8qVUgeYMMgz8uCJ0888Tt7Fihb1t4uu54RWSc5afwoDINswqoQcB5a46ehoREMtm3bhgXjp4jH2wAAIABJREFUxmHZ+PHoeuIEbgTQLSEBe5s0QZusLJQtWxbC6aWw0D9iJavxi4sjSV2jogLT+MnIDmsjP3gwmZQB/5w4tIwK8ZMFd6Fho0VQNfXk78uInyy4i1NUUUB9kvdq7sgSPzZ8dLA+fl7fl6ifQNMxFHOYa1UfPxiGUQFAN5AgLyMNw0gFEGGa5sGwjU5DQyMsOHXqFP7+978jPT0d69evR1ZWFgzDwE033YSRI0eiZ8+eiJHszPHz+9GjJHqxzHJj7lxi+ZKYKJcNVON38iRJ87NxI0mnxLfJzrMFBf6y1E32UO0bQLR2bMAXXvPGo1kzi/i5afx8PovosbKKzvfJycBvv5G8goe4cFZupp40Ejm72ciOgU/XRMejAlbjJ5KlsveriZ+GhoZXmKaJ70aOxK5p03BbWhquA3BTQgISatdGVNeuqLxyJa7861+BUaPkjVy4QCaug8xSlCV+sbGE+DlpzVioRPU0DP+26MQpmmxFPn6ifmUJ3H0+uYCibatq/GS+a8EmcFed5OvVcy+joo0Lt49fMFE93cBvDFxiqObx6wBgCoB0ADcAGAmgAYCXAHQP2+gUoH38NDTUkZubiylTpmDEiBHYsmUL2rVrhz59+qBPnz5o2bIlyonCanLwYgJIQedCKrtYS5isLODMGfK3fj259sUXwEcfkXM2FyorkwoL/WWpm2xlNXo5OXbStXgx0LWrvC7bt5vGj/XFZ+XpyZMkkFpenlwLJzL1/OtfiWZw/nyrXfqsvMZPtEnNr0U++YRoaXmwGj/ahorvo47qWXKhZaRGScGpU6ewfM4cnDl8GOf27cOFOXNw444daBgRgfIpKahYsSJi4+Jg1KtHknyvXOk++Vy4AGRnWwIDsJt60nOqGXQDH9xFlsdP1paI+Kn6+LFHdgeP1TDy8JLOQdQPf99NsyfqH1Cb5H0+4NZb3cupmFuWhKiegbQLkP/XYoSqxm8UgD6maf5qGMbpomsrQPJiFiu0j5+Ghhz5+fn49ttvsWzZMmzYsAHr169HZmYmGjRogClTpqBnz56e2wxkEU/lF9WU0eO5c5aFDEBy8wHApk3WNXZzjCVFhYUWkeSjfFJERdlJJk/82IAy99xjpVQSge2bEj9ROgfA0vjRc8D63KEDSU+hSvxiYoAPPiDaRpb40Wfn1wQijR/f1//9HzBkiH8gl/h44Pff/cckIn9egrvoBO7FBy0jNYoLp06dwpTPPsPvkyfj0Jkz6HbgAKoCqFx0PyM5GWv69sUTO3Yggp08oqLkBIVHdrY/2aKTaF6enfipLMpVNH6AN+InSufAPx8tw3+mZZx8/FSDu4j65e87BZGRmb06oV8/4MsvybmKz4EIojGHy8fP7b6bj58Kzp/3Vj7EUCV+tU3T/LXonH7zFz3U19DQuATIzc3F5s2bcfDgQUybNg0LFy7E3r17kZiYiGbNmuHBBx/EnXfeiVtvvVUYjVMFIk2Qm1aIyi9KmCjxGz5cXP7oUeuczSu3fLl9HJTU0fZ5a5gyZZyJH4tu3azxiSDT+DmZegJ2n3kKJ41frVr+zwBYZq+89pTfhBRtUquaeiYkWL6WbgT/b38jJHHlSrs5qwha46eh8edAQUEBJk6YgE3ff48xixdjTFYW7oyORlxcHOKqVkVOt26oun8/ok+cQMs1a0illi3tjbATtZuceuopYNw4+zV2p5FNsO5V4ycifnRnTGYKKCN+br4EdIxeiV+gpp6iduh9LyaMbj5+7LgC1cyJtKIyjV+oiJ+ITMp8/Lz2X0qI3xbDMG4zTXMOc+0WABvDMCZP0GYsGhrAmTNnMHXqVLz66qs4cuQIACApKcnmsxco0eNB5RcNlAa4L+x5jV9uLtHqffyxuLyM+LEQET9e4xcTY9dqyYhfVBQJ/BII8WPl2lVXkVQKTho/wJn43XorcYPYvdt6BsDf3zE1lZhl8n7/Kho/GeLjiTuMDOz33KoVMGgQCZ6jffw0NP58yMnJQUZGBrZu3YqNS5di+9SpuGnfPuSZJh6JisLBu+9GpyNHUOn8efwRgbN5c+DYMWcSxmr83OTW8eP+hIBOgNT/D1DTitE2KEST6YsvAhUqyImfiICp5vFzqhPu4C6Baq8oVIifKngi5abxk9VV7UN0XfY+AiGZLKKj1dJehBGqxO9FALMMw/gRQKxhGJ+D+PbdGbaRKUKbsWj8GbFx40asWbMG69evx/r167FixQqcP38eDRs2xLBhw9C4cWM0adIEZVk7yiLMn09MKtl5etMm4OWXrVQHThARPzdQ2Uk3unJygG++8Y96TXHihHUuI36FhVZ9KgNEGj8WMuJH8/06Eb/ISJIqatAgeXAX2j5LxrwQv08+IUcawIV9Brp+AYDTp4Hx40nOQH6DVuTjpyp76XtQBe1X+/hpaPw5YJomNm3ahHkvvIAq8+cj0zTxMYDxALqkpKBa5cqIjY1F+fLl8e2335Icb7t2WQ2oTEaqO1UtWpBk4GzUx4sX7TuNrVsDbduSXEOBED9ZGS/57kSmnqJ6vMZPhfgZhnM6B0qG3Uw9DQN4/XWy0yjT+Ikmcjcfv0CIn6hv/hisj58bVDR+gfSfkODsU3IJoLRsM00zzTCM5gAeADAOJIl7Kx3RU0Pj0uHMmTNYsmQJxo0bh2nTpgEAYmJi0LRpUzz88MPo3bs32rdvD58LG9uzhxybNyd+XvfdB/z0EzBbMZsmJVv5+RYpcTL1LFPGknlnzpBjbq6zZomFk8aPEj0njR8/FgqW5MXHE1LqpvHr0IGsIVhyxEfdpkcnU0825gDFLbcQ3zv6bADw6adAtWrknNX4JSfb37eTxm/GDPV0DpGRahZJfL/ax09D4/LH2mXL8FOPHsg9eRI9DAMVU1IQHx+Pji+8gHrjxyOyUiW74zTgT1hUokVFR6tpoKpUsbfn8/kTv3LlSKCYUAR3oZNjVJRc4ydrM5DgLmwdmVynk7YTMWTfkVO0yh495M8QaDqHUGr8WIQ7j1+4NH4vvUQ03k6RasMMZR890zQPAXgvjGPR0NAQIDs7G/369cO0adOQn5+PyMhI/P3vf0fv3r3RoEEDRHqcWKnmiEaJvO8+b+Ohsu+664DVq8m5k0YnLs66TyNG5uRYvmRukEU+Nk1r7v/HP+xjo/Ci8VMhfgCRv8eOWddZeczKVCeNn4pLBgA884x1XqMGMHmyuJzTWqW7YtxlujZwiozKf8/sRjs/DopOnZyjpWqEF9odQiMYFBYWIm3RIkwfOBBN1q1D28hINK5ZE7GPP47EGTMAABWysuQ570SExc0EQDSpysrxTtzZ2Vb7Fy7Y89J5Xajzz8QKDS9yVzWdA3/0ovFTdeVQeRdeNH5efOUChWjMlzKqp+x6ID5+nTuT46hRxWYKIyV+hmF8BSuQixSmaT4c0hFpaGgAAJYvX45PPvkEs2bNwrlz5/Dss8+iW7duaN26Ncqzmcgl+O474KabgIoV7ddZk0GqEfMy/1A5u3WrPQ+ebL6Ljgbefx945RXgttvItb171fuUafzy8+XpHKhljSrxU9H4UTnv81lJ39nrgF0+OZlBepHTbNt9+vj3xbctckuRtceDjUGg8v2omHr++qv/NY1LB+0OoREI8vPzMWXKFEz/y1/wwtGjuN/nQ2SdOig7dCgq/fvfALuRMHUqOYrIDU+QatRw71xV40c1fBR8yOMLF/xz3biBn0xlxE8lzxt7zSvx4ydyJx+/wkLnZ5s4kQhdt3Gq4sYbSV4ith23JK9eUNJ8/GTELhwmppcATt8IY5SNFACPAJgJYB+AmiA+fhPCNzQ16N1MjcsN+fn5mDhxIh5//HEkJyfjrrvuQt++fdHVo9qkTx9g6FBgxAj7dRHx8zY+61wUAZJPURMZSdwr+va1ru3YQf5EuPlmO1mQEb+LF+XELyqKkDj++XjiR/Pi0sTlTv5tvAaPQrQ57WbqKUsDESjcfPxU4bQx/cwzwBVX+JcH3KN6amholFwcPHgQS5cuReb+/di/YgV+3rsXvbZuxc3Z2WhevjwiunZFkyNH4GvfHmjQgFQS2Y+LdpzYie7xx4kJwtixzgNSJX5RUWSyYydewNrBY9M5iNrq3Rv43//s15wmUxHx4yEaL2+2yZaTPSc/GcsEBt2JddpJbNTIIn6BmjCyGr9GjdSJXyAaP9l3zpLtSxnV00vbXoRgMQlMKfEzTXM4PTcMYw6A203TXMxcawfgtfAOzx16N1OjtKOgoADvvPMOli9fjt9//x179+7FyZMn0bZtW8yaNUtJuydDfj6ZHz//HOjZE6hUyU64KDFi559HHiERLj/4wN7W8OFE0/XSS9Y1kZ8eSyxp26zbhQz//Cfw5JMkZQNL/GSmniLix7pg5Ob6a/zYz3l5ZH2Rn0/cQJYtA+bNk4+P1fiJrgN2merk/yYifjIrFhUEovHjQTc26Tvlx/Dpp+I6tE/2s4aGRsmEaZo4ceIENmzYgF0rV2LZTz/hkcWLUa/ofouICJxr3hz3xsYiuWpVtHjiCUTUrk3MNiIi5BMh4E78ypSRmwyy8Pn8fdJk5QB/MkMJWl6e3dSTb8ttcR8q4heoxo/Wkfm5ARbJdSNYXnzXRJDl8XNDKIO7sFDRhgbTl4qpZ6AmxMUMVR1sGwBp3LUVANqGdjgaGn8enDp1CqtWrcKoUaPw888/o3HjxqhVqxaaNGmC9u3bo2/fvojnWZQLDh0iZOzKK8nnggKiyXrmGSAxkSQB//ZbqzyrAaOYOJEcP/iA+LJVrkzm+7lzgfR0u8aP+uwBzpt0LEljUxWwqF6djJGXEzKN3+rV/n6C1OqHbkbzbbHPW1BgEd+qVUnglp07xX3R52Db/Pe/yXsVBXdhz1WJXzBg+xXl8fPSjtv6hAV9JvoeQyl/NTQ0QofDhw/j58mT8e8JE5CyYQPuA3AtgDY+HypWrYqksmURHR2NqKgotBgzBujfn1SMiPAnQ0BgxE91gcxO1E51KDHjJzwqNGi0y3ASP5Vn8pLOgR0rfZ/NmgEZGeK2abuB+BCK7rvV5+EmbIIVdCJTT8Ow/6+FU+PHt80+b6BawWKGKvFbC+BtwzBeN03zgmEYsQCGA1gXvqFpaFx+yMnJwdq1azFu3Dj85z//AQBERERgwIAB+Pjjj4PKtXfwoOU+QeemggJrfjx3zk76AHE6meRkK/omG8SEymKW+J0+be9PhIgIsvFaWEg0iZMnk8AwPGRkTUb8RNZCtCxdk/DrEJ740T5NkxBcNn+g6DnYthMTyZG+j7feItHFu3UTm3qy8oBuRIcK/FpFReMn89P3QvzoM1JNaimQeRoalz0KCgqwdOlS/H7oEJbNnIlK8+ej89GjaAZgbHQ0KlWvjjJlyiAhPh6+qCj4/Wz5HTWRQ7FoAgsV8YuKsjtsyyBLJUAFG5/mwC2XHX/NifglJ4vHJHOe9jKxsnVuvdWeGJYHFUCy3Egq4+Ovh3IiD8THj4eIrMqEnOrYVTWkXsdVCqD6jfQD8F8AZw3DOA2gHIB0APeHaVwaGpcVMjMz8c033+Cdd95BRtHO3cMPP4xHH30UTZs2RYUKFVzbeOklEiGxWzfxfVEOPpb4sdo5AHjoIX9SZRjEZ//MGaJRY4kSXQuwAVBom9nZ/qSSbljS+ZWOhc1Rx4KSMH4+lpl6ikDHFhNDxnbHHfb77POYpp0gxsY6Ez9+o5t+puP729+ssiJTTxasW0oowJt6CtI3KrcTjMavlMk/DY3LBqdPn8b+/fvx0/TpqPWvf+GXc+fQCsDDhoHEpCQkpKYiuVw5xMTE+BM9HmyeMZ5U0QktEI0fhdtEERVlteU0Ubq1w2v8VLRcqsTvnnuAdu3ENvCiNvl3I9Lw8Z8LCtzJBSV8bsTPq4aPh0qSVpEZr5doo7Suir8hzXmokh5E1l8w92VlS4EQVM3jtxfA9YZh1ACQCuCIaZr7nWtpaGgcP34cb775JmbOnIm9e/eiSpUqmDBhAjp37owqVap4auuf/ySmljLix863d95JjgUF1kL++HHr/vXXE63b9u3+7cTFkeOpU8QnkLZNSRUbvIVurG7c6N+OjPjR9nl41fiJwJZNSvKXhayPH0vOADIuLxo/Ok4+mA3ftlP6Jb4OhVdTTX6tMmwY0f4++6z3djTx09Ao+bhw4QLGvPoqLn7zDXyZmaiblYUcALcASEhIQIvOnVHzyBFE+3yI9LrL9Pbb1jk/GdGJS0To+Mlj0CCxxk/Fx09kjiKCyNSTgg/u4tXUkycyvKlnaqq6qSefa8iLqSc/LhZuGj8ZEXMatxshdqrH9jdpkpU42AtUSCpdXBQUBJbHz61vrzkfSxE86WBN0zwAkry9xEBH9dQoScjPz8fOnTtx+vRppKenY+zYsdiwYQNuvPFGjBw5EnfffbfnvHssMjOJ7DlzhuSuZcHOt0XplZCfb8mOnTuJnDp8mHyOiRGTqubNSY6/MmXswdFo2fPnrbJU1ojIAh9o7aabSBJyN41fMMSPT8fAj4vV+EVG2i2F4uIs01URZHn5RBpJlvjJvu5w+vjFxAB16wbWjiy4i1O/2sev5ELLyMsDpmli9+7d2LhgAdL/9z9U+u033HDxIuLj4hAbG4vIlBTER0QgPj4eZaKjgfbtgenTQ9O5yMdPNIHxk8aCBcRMRdSOE5wicbKIjSV90vw6rHApU8YifrLFvMp42GdSsaEXTYJe8vhR0MTsTu0C3jV+ofLxGzwYeO89Z0FxxRXqxE+kLZSNi2r8aACccPj4yd6TyMcvEAL4yCOBCekQIATGt8ULHdVTo7ixePFipKWlYfPmzZgzZw5+//33P+7Vr18fn332GZ566im/ehs3Ep9ttwV2errlE5eVBbz8MvDRR/71RO2wpp5Hj9q1bbGxFqli69KN1oIC635OjnUu0vg5pW/izfLDaerJk0QnHz+W+AHycVHwRC7UGj8WwWr8AmkDCNzUU/v4lVxoGVk6kZWVhTVr1mD2J5+gwrJlKDh2DB3y8lADQB2fD2UqVkS1hAQkJSWRCrVr23O1hSo5NNsOa6OuQvxk5VQW3W6al7lziT/C9u2WueXVV5P+MjLIhB6Ijx+vPeKf3+uz0DYDCb5CzRmd+nHT+MkInhPxU3mme+/1J36Bagqd6sjqiwRvoH2Irnvx8QsEzz0XeN0gUeqJn4ZGceD8+fNYs2YNnnlmATZvHg6gEGXLlsVtt92Gzp07o3r16qhRowYaNWrkV/fsWSKjv/rKfj0ri2jEeGzaZC/Dmmxu3Uo2dV95RbwZyZp6njpll2kxMcQS48IFoFUr6zr15SsstGRJbi4hVRER9vmW3hf1LZLbBQUW+Zo0CXjgAeteODR+/LjY1FMijZ8T6POEy9QzGPA+fkBg5NGrHNPET0MjeOTl5WH37t346V//wuFt21Bjxw7ccPQo4gDcAyApKQkx5cohNiYGcXFxiIuLg1G5sj36Fk9qQkn82B82PwG6QZUgsmAjicomFZrmiLfPr1aNEL+4OLIzyaYh8GrqyY810Hcq8vGT9cse3UgVoK7xk/Xn1j6Fqo9foAjGTy4cGj+ZNs/tf6AUCEFN/DQ0FHHhwgWsXr0ay5Ytw5tvvomsrCwAJvr0icWoUQ8p+ext3w489hgx1WSDrWRkEK2/aE5h5/OsLHtS8q+/BmbPBrp0cdf47doFNGxo3aOL9V9/BVq2tK5T4pedDaxcSc5zc8lfUpJY4yfqmzf1BCzrjN9/J1E0Q038+LIy9xR6zhI/N40fBbvumTiR+EvyYKN6yohfqFwR+HP6jHwOQxWw35U29dTQCA8KCwtx8OBB7Nq1C7uXL8ebH36IO44fx2MAYmNiEBUdjbjKlRGfkICE+HhEiZKli66FC6qmniIEEtVTdSFvGHbyy5anJi2sr5wK2XHy8VOZFGVaRK8+fnzgElG7gwcDc+aQ81CaenrR3IVK4+dUTvbeH3yQLIJCSfwC0fiVArLHQon4GYYhM0TNBQn0EkC6YA2Nko3jx49j/fr12Lx5M9avX49Zs2bheJG6rU2bNnjhhRfQpw8wePAgP3+7lSuJn9wTT9ivT55MEoUDZM4CiGw6edIqk5dH/qgGivVxz8y0L+hnzSL9tGgBfPih/zNkZhKZV6cOIZestpBdN7AygxLSUaOA+fPJOdX4Va1qN710kjVU3vMav4gIQvp4hNLUk8oJfpOV14x50fhRsD5+Dz0kLqPi4+d1w9UJvI8fANx8M7B2rXobgQRHo+V1cBcNDWccOnQIGzduxOH167Hho4/Q6vBhPABgFYBecXHoe9ttaHzgAGK97kBRhPPHFwzxE4WbDoWpJy3HkwLWDIH6f9FrThG1ZHDz8VOZyAPJ4ydqg8e991r+jV7TOQSjVQumTCjA/2+EY8fRi4+fqF4JhqrGbxcA+rQGcw4AhYZhzAAwwDRNh5h4GhqlAzk5Ofjiiy/w8ssv40IR66hcuTLatm2Lxx57DM2aNUOtWrUQERGBPn3EbQwaBCxaRIjfqlUkaXn58vbAKBRnz1rk7uxZ4OmngXnzLJJG53MabOWzz+g4iaknBb+hCABbttiDXrFzFptYnJUZVOPHktHsbNJOfLw68ZNp/GRzdCg0frzZJZXTTz9tvTeKyEigVi2iCQ1U4+cEN42fE9q08ebCIFqXGQZxeVGpQ+FVftL3K0pSr6HxZ4dpmvh69GjMfOcdDD50CCkAUgBcExmJKqmpmDdxIpq+8AJGPvIIfKdOkTC8eXnAiBHujfMTSzhNPSlUdrScoDpBeInSKHtOmtDUSRvktHD/5Re5I30gdvReg7vwPn4yUMHfpQtZdLi1H07iF0w9Nw2c6FowxMutPy9RPUuZ4FNdkjwJoCOAYSBRPWsCeBXAcgC/AXgXwGgQc3QNjVKLr776Ci+//DKOHDmCW2+9FUOGDMGVV16J1NRUaR3Rb57dGGzViph3jh0rJn6nT1sEKjkZKFfOHl2S3ouLs/uwnTtH/OXofTb1EkCIYkYGIZUiGe1G/NixnjtHtDrR0XYi5hRxW2YiL5sjZcTPi8ZPRvxatBCXnzaNmK+aptU/v4k8YoQ9R5/KhreKqacTxo71trYQ+fh5RSA+fnTNUcrknoZG2HDo0CHM/PhjbF+6FKmbNuGmM2fQPDoaKVWrIjEpCWXKlEFUUdL0qjffTCZVGsGxTBn1JJxuGr9g/NFk5o1s8tNgiJ+Kn5Sqxs8pkTclTrK2nHa/AiUQonqUhIrKOR1Z4ueWwJ2NnuplvKLrXkw2VVJOeIUXU99A+1XROqu2HYipaTFCdUkyHEB90zTpkm+XYRgDAOwwTfNzwzD6AdgZjgG6QYeq1ggFMjIyMHz4cHzzzTeoUaMGpkyZgrvuugsRDkLHSXbRuZD6sIkiYlI0aUJSHVCcPm0ndPTIpxqoXNkeDIYGE61bl0RQjo8n5I36t/Njp3L79Gng3Xete5RcZmVZ186cIWuSqCh1jZ8XWQvITT3pO2NdNQYNAkaOJOdVqpCo4Y88YpWlfThtspomkJhofabvIyrKTmiHDiXEj7bJp3MQIdiNca+aN/adBmP14rUur2UOlZJBQ6O0wDRNHD58GD+MGIG1O3ag0a+/oj2ARrGxOFGzJvbceSd67dyJSD7yFI+CAm+7RG4aPxWwOXvYdvmJXWRS4GWsyclEiKhCJbiLDKzgYXO9idpyijgqMiMVJRhXHZPX4C6y+zweeADYvds7kfHqayC7XxzBXZyeJViNn9v9UD1vMUL1lxsBoDaAbcy1mgDor+a8h7ZCCh2qWiMY7NmzB2+99RYmT54Mn8+H7t2748MPP0S1atXw00/AunUkYqYIVJaI5nN67b//JccNG8gc0bu3uJ158+zXKlUiG3iRkXZSyIOV9QcPkuNrrwHvvEPMRi9ckGu7ZHJbRPxkGj8n4kffgdt6hKbikWn86DjYvlu3tu5PngxceSVZw/AaVZlPPyDfyOaJHw+VDW+W+Kmuj4KxvAlV/lqvwV144qeS5kpD43LA8ePHMfrDD4GPPsKOzEwMBOArWxat6tVDjXr1UOHUKWDYMKBpU/HED1iO2YZhpR5Q/QGHQuPXvTvw/ff+7bITu5cE7jLwuX1UFt2qZWXPyZpX0ja8+vjx9+kE53Xx72SS6ERiVPq5805yVM3Do0L83DR+Tu881HAyRRH5k4Sb+InKXKYav1EA5huGMR7E1LM6gEeLrgNANxCzTw2NEo+TJ09i+/bt+PXXX/HPf/4TZ8+eRZ8+ffDuu++iVq1aAAjh69aNlH/lFUIEfD5r8zAy0iIkIvLDL4BpSgZVv62oKGDJEhKZul07eTl2vqNBWSIiiBbswgXntYCMkNCxsyTq7FmL+GVmWtedCJIsgjaP8uWJP6OM+B054j9eNsANG8WSf79OG7Q88XPbyOY1fm7Ejy8fTgSjXaQIxtSTQmv8NC5X7N61C8vnz8euadNQsGYNrjt2DOMAzC9bFod69UItAC0rVCCTWXIycZJOSiKTpmxRzub0oRo/1R+Rzwc0bgxs3kw+B0L82MSmbLt8O6JdJi8aRn5i8hIS383Uz83UU0QKWPMRHk6mnip5/LyYSYrKyEw9gyUqfDvBmJWwEJHTpCTLZyQQIqb6LOEIrhKM+WgpgdKSxDTN9wzD2ACgN4AWAI4AeNw0zZ+L7k8HMD1so9TQCAIHDhzAhAkTkJ6ejn379mHDhg0oLJr077jjDrz//vu44oorbHV2cobLZcoAr74KDB9O5OLRo1ZkSlFQFZlMcSJKLKicrFfPn1g+/jjxAQPs8x5rghkZSWS609zuRkjY+Zw19QyHxg8Qm3qy8pldO/D5+AAyPlZLyY5BBBnxc4uSfilMPb0iFCSTzc1MP7uBX89q4qdxueD3I0fwy9ix2LZ5M8ouXoyrDx3ClQCa+HxISEhAfGoqlj39NKr/8APqt2hBJuBtRUZRdGeqbFkxueJhmhZ1ZRlNAAAgAElEQVTxEwkUEXw+YMIEks/n9dcDW6iKxuaWcD0QHz+vExMvBGRwM8fkg6OwpFUWaczpPaqYeorueQkUwn52iyAZCFRMSQMlrxTVq5NcR6Eel+xeIP/7quRS9v9ViqH8aywieT+HcSwaGiFBZmYmtmzZggULFmDTpk343//+h4sXL6Jhw4aoVasWBg0ahA4dOqB+/fpo0KCBrW5eHjGxFEXr3LjRShkkCr4CkE3e9evlhEM14vKuXeR4xRX+dTp2FBM/VkPn85G1hxPx8SKLT50ia4ToaDvBnDlTXkdV48cTLnY9ERNjafHY8cbH+9ePjrbeAZ/OwYupp9t7UbF0YokfO1YnBCNPggkkw8Kr/OT/Ny8DmajxJ8TRo0excuFCnDp2DIcPH8a6PXtw/Kef8F5mJpIiI3FVXBxiKlVCSoUKiI2Lwx8/E2oXf+YMyXVz6hRxHKaEKilJnFBz6FDg7bft16ippxfix8Lpx/vKK8A//uF/XUXjxyMQHz8+7K/bRBOMjx8FS/x4DZGTVs+JAAUa1TMQU083n7xgEYxvAQuRxi9Y00fVOqLv0WvdQPsOtk4xQjWPXzSAfgCuBpDA3jNN8+HQD0tDwzv279+PiRMn4t133y1Krk7SMDz88MMYMmQI6tWrJ6x38SLw8cfAiy8Chw4RE8uOHcV9HDhAjqy5I7v4ffllQspkYfT5hfLtt4vTHLHl+TpszkAn4hcd7Wxa6iS3+Y3nU6cIMeOJnxNU/eDpM7gRP/b6FVcAX34J9Otn1/idOGFv2wvxC6WpJxvVs0IFeTmKJ58E3njDvZwMdGzB5nT26iqhTT01SjsWzpwJ8847UdU0URVAIYDV9erhvmuvRaNjx3BtrVow+CThFIcOkePp08BVVxHBEBdnkT2WBLIQaXfy88nk4hYEhsKLj5/sx+wU7pli0ya7QAuFj58bVH38nEw9WVLAEz/VtvkJLVAn5kBTA3jxJfRq6hmMjx8LN+KnimDqBKINVe0vkNQdJRyqWzYTADQHMBOAztWnUSKQnZ2Nffv2Yfz48Vi8eBPS0mYDeA2dOnXCc889h0aNGqFhw4Y4dsx5QbxvH/DSS8SEclSR1yqb6JwFDaDCBihjF7/0ukw+yHzQZLh40d88VEb8qEk91V45WRixGi4RoqKs54qOtogfb+rpBFVTT574seVpYvDkZODGG604BBERQPPm5NyrqSc10+XvuZl60u/Kq6mnCvFr1474cwYKKmtC6eOnTT01LlccOXIEo//xD+yaNQsPZGSgVlQU6tarh6ioKLSoWhWPzplDcqINHOisgaPE79Qp8uOLjCTEjRK/2FjxRCv6ofLBXZz80AB3LZqKmaBokcqPbc8e++dAbNi9Tkwi80xZOdVomW5ticqHCoFq/Fj/ylCNS4X4OdXjESqNn5OpJy9YnAReqHz8wl2nGKFK/LoAqGOapod4vBoaoYdpmli0aBHee+89zJ49GyTTyONo1Og1ACQtQ+3atW11atQgUR9r1ABmzPCfg+nnkSOtIGt8TjwKqumjgVQAopF7/HESaZJelxFHnpg4LZQrVrSvIQDiZ8i6I7pp/JzgpvGjqFCBvA8VLSILLz5+7HpHNJefPg3MmWMRv8hI6704ET+R1rFSJfv4aDmvPn6qpp4qxC9YhIL4xcV53zht3Nj+WRM/jZKGgoICLFm8GHtWr8bmpUtRddkytDxxAncXFiIxIQEF11yDegUFiKY/fPoDpxOEk2M2FRS5ueRHSCNi0rZiYtS0J9THj50Io6KctX9s4lHA/8fLTnCyH3a5cvbPDz8MpKWJy/bqBdxwQ2A+fl41foGaeorIrqgtpza9BndRgdP/gKomzm1yDlbj5wYV4icqG04iFQ6iyd/36uNXCkigKvHbD0BgqK6hEV4cPXoUS5Yswe7du7Fy5UqsW7cOu3fvRkJCAoYMGYKvv34WBw+Wx1dffYdrrwVq1art18bFiySdwoYNwPbtxCInI4Pku/vySys1QEaGVYfPmUdBN39Z4pefD4wbR3z76G+eRqLkIdNIPf008Nln9nspKWTsrKlnz552YiKSBSoaP7pGkYG9V748eR/ly5PrqgFqvBA/UbAWtg3AX6bT5wtFcBfA38eP32j0YurplfiFijAF6uO3cSPZHPnhB29jatXKXk6ncyhZMAyjP4D+AFCzZs1iHs2lgWmaOHToENatW4epn32GlIULce/582gKYHmZMri5UiUk1KqFRjExiI2NBRo1ArZssRqgP1z6z6zimE19yfhUCLLJT3Sdz+PnRvzcNH5z5zqP+ZFHiEaSxR13ACtW+Jc1DCuvkarzNotwmXqy4xG1IRuHW9/0GKrAHoEGdwkHnDRrTmVUxhNqraTbWMKlYWSh8j9QCsgeC9VlwkQAPxiG8SE4U0/TNOeHfFQaf3qcOnUKY8aMwbBhw5BbJPzq16+Ppk2bYsCAAXj00UdRrly5P/LkUU1cTo4ly3buBOrXt7e7di0hfidPks/9+hFCCFgJ0En//mMyTUums8TvnnvI0eeTawopeEJI55B//9uf+FWs6E/83JKhDxlCAtPMnSuOKcDCSQbyGr89e4h5JL3+3ntEQ/Tss/I2vAR3kZFZJ+LHa/x8PmDvXnJO30sgPn70KJPx9L6bBVJkJEmxpBrcJRgEovFjn69JE3s7GpcHTNMcA2AMALRs2fKy18dmZGTg+eefx5OzZuEsgOTISDydlISklBQkJiXh8+hoGPfdR6Jt0gmX/6cPlvidP+++AyKayHlTT1XTAxWCJLrHasLYcuHQ4IQzqqdTOgdan31HQ4cSQc0LXKc2KER9qZDBQPP4ubXhBaqaRbf6PEJFhJyImNs7CYePn9v9O+4Qly0FQlT110iXd1wYKpgA6oZuON5hGEZ3AN3r8yt8jVKFgoIC7N69G8uWLcOXX36J3377DQBwww034O2330bDhg1RhXVuKwIlYPR44YJF/Bo29N/03LePaP3YACVUrrOkTEbgaD6+MwKj58hI8fVatUi/IriZep48afnu0T5Y8HLogQcst5JQmnquWkXWIbT/1FTgmmuc2/cS3EVF48ee03QVbHmRhZIq8SssVI9ZoBrcxTCA6Zc4yU2wqSOCWVv89BPQsmVw/WuEHn8GGVlQUIDXXnsNKe+8g5sNAy1TUxFTuzZ69+qFGLo7SEHV8XFxxG7dMIDvvgMefZSQNp74qaixKfGLiiLnfB0+Wpboh0o1fl6JH/tcMsiIh4z0isoGg2B8/ILV+LH1IyKI2cy8ee59h9LU08vzywhaqNM5eN0oUCF+gZqR8nVUSVkg7+RvfwNGjAj8f5o+77BhgdUvAVDN41cn3AMJFKZpzgQws2XLlk8W91g0vOHMmTOYMWMGPvvsM6xduxY5RVFDkpOT8eqrr+L2229Hq1atEOHw46aEjxIuSuieeYYcWZPNsmXJZt/QocAtt1jXKfFjyZnI1HPVKuIjyPbLwufzjyoJEC0UnWN69LDauPtue3RQHpUrEzLKklT+VfBxBxISrLEEE9yFT51w4YKd+EVGum/ihtvUk9f47d7tXzYQU083CxBVU89wQyQnA1lfuF1TRZcugdfVCB8udxl55MgRvDdwIB6YPBnJZcuiZs2aiI6OJhNoQoJ/BUp46MSUl0fs/hMTCfET+fa4BVqhUY54/0AKNloWHQML07SielK4TbD8fTfNGI9gkl9XqkTelyoCIX6qBMUL8QuU9FAEqt1SeX4vEUcDgRuRDKXGz0u7FDVr2k2uVep7NfVs0wbo3p0QPzeI5gEVXEYaPw2NoHHy5EmMGTMGO3fuxLp167Bu3TqYponU1FQMGDAATZs2xbXXXourrroKPg+mIQkJFhH7/nvguecsKw7WRaJ2beKHBwBr1ljXKfFjCRYfvIVvS0TYfD75HHHmDIlMWasW+ZySAkydaiegFC+/DLz7LpkHV6xw1vjxxI/K4lBq/Gg7UVF20qOaAN6N+F11lZ1os+WvvBJYtszeHi3DE7/p04Hrr7e3TddfvXr5j1dm6umW0sAtqmdcHJEvKujcmWili9vHjyJUm8oaGuHGyhUr8FO/frhq2zY8AKBKlSqozofGlUX9i4z0N+HkF8QseStTxjmPDWvqyddl26ZQ8fFTJX6BEgUZ8VMhN7Nne+uLH6vbhMeaZ3pJ4C4K7sKSSBVfQycBIBp3oKaePNxMP0tDAvdgSOtnn5HQ3Sr1ncxWvdaV3feCUkD2WEhnFsMwtpqmeVXR+QEQs04/mKb55/AY1wgYK1euwj33LMKhQ4NRWFiIqlWrokGDBhgyZAg6deqEG264gTjZB4isLOD558n5X/9qJ1MsWUtJsc5ZU868PJIigfXxi4215Dz1Y2PnXZHPvWiNMXEiObKauGHDrPoimfHXvxLiV7s28fFjx0rH0LAhsGOHfzj9uDirH5GPH9ufWzoHCtoOq/Hz+dw3MStVIsTUSV5lZZFN9icZXQTbbrduwNKl/mOPiPA3zWzb1r99Wic+Hrj/fvs9WVRPtn/R2N00fmx0VTfMmeO8aa2KQDR+Tu0AOkLn5YLL0dRz7ty5KH/bbegRGYnKqakoV64cYmnuFxaiSY4SAS/Ezy2BaUEBqRco8TMM7z5+PIkJhalnKCYjEUIZ3KVSJYDNq6iicQqEkIjeRShNPZ3Ii2w8oYTX9ryYegbSD128BDumYIkfX+4yFIROW0qsWciD4R6IxuWDixcv4pVX/oYffriAkycn4cyZrQBexMCBR9C79z1oo6oOYfDRR8BTT7kHLAHsZIglFElJ4vJ5eUCdOnbiV7Wqlb6IynB27hYRP9GCn/c9joiwJ+rm55QnnyQmqQDRDvLEj45h61ZyzhM/qp1T0fzwZWbMADZvJsHb2DmRvnOfz5vGb9068nxPPCEvEx9P/thokvRd9ekDPPSQdZ0nfnSMThZYKqaevXsDffuKTT2dzCmDJVnhQHH6+GmUTFxupp6//fYbunbtinVlyqBhw4YoIzNtyMkBPv7Y/zo183QLCsJr/ACyk7dqlX+7BQV2jd8119jNSviJXiWPnxvxE5E2GUQ/bFFwl4iI8BI/CrdFt5vZBXvPzdRTtS2VMirvxqtZrRsBDJXpp2o/sr4CNfUMFoFsaKi0pzV+/jBNcwlz/tulGY5GacT58+exaNEizJgxA9u2bUN6ejqysuoDWIsBA0x8+ikJyvLOO+/7ybKlS4l//a23Wteovz2rBPzLX4BmzYCOHa1rMrnNkyEKJ+KXnEz+unQBJk/2T2cA+BO/Dh1Ivj5qlk4jhbJwM9sX5SWNjibaSZrHT5aaSPSsLClxW8TzxC0mRuwSw5p6evHxq1zZeiYvoOWHDiXmrhStWwO33w68/769Tdn3DagRv+++I0fqI0jrDB5s32ioU4ccA0ljFW5ojZ+GDJeDxu+3337D1C+/RM66dYjcsgU1atRAg4QEOekDCPETgdd0yUgZe51OBHXqkF03HnTSoJNDly5k50oGkSDgg7uo5m0L1BRQpPEDSHJO1mFaNF6vcHOg5qFq6gnIJyoR4ePbosKdhRMxUJkURWVCYeoZKnKhQvyc6nlt24sZpqyc7L1HRTkH6lFp2ysu5zx+hmH8XaUB0zRfD91wNEobdu3ahS5dumD37t2Ijm6DixeX47HHHkedOn3w2mvA6NGj8emnpGxOjv8m5uOPkyib7G+pRw/g4EFg2zZ7WTYpevPmJIKlCDIiQDVpPC5eJOOqXh1o0IBco+OMjbX8+XhTT58POHzYPr6KFe3jdPOfFhG/yEjSxuHD/lFC3Xz8KNj1gwyiRPYiMseaenrR+Mn6CRRVqgCzZvlf53MQs5ARP5G2lF/vvfuudU9kIluStGP0u9Y+fho8SqvG78iRI5g6dSouzp+PCTNm4KHISNzu8yEmKQkv/vorYpyIlRNYO3EW/KKVnSBYh2LRxMpr/LxOvoCl8XMq4zRelbL8GEQav1dftSKQOdX3At7Us04dcYQ0Edz6Dkbj162bf3RGp/ceyjx+XgleuNM5qNbnURwaP/ZacnL4+wtHnWKE039SDeavAYAhAG4GUB9Ap6LPDcI9QI2ShcLCQixYsAD33HMPKlWqhAYNGiAjIwP/+te/8MUXZOdl7NixuOWWzn51c3NJougxY6xrV11FjmxEwBMnCBnkw/OzhGrDBnkaHhkZkmn8MjMt4kfdRKicSky0iB9LIijxY1O5nDoF8LEF3IgfT0yaN7fOq1a1a7xE7clIrkpUTx5sdE12nIFq/GRjDiVMU07oATnxE2k2Ze45snKh1PiFSnZqU0+N0o7du3dj+F134VBqKlo/+yw6TJ+Of5YvjwH9++PKK69E7Vq1UK9ePfeGnAiB02KS/gjY+nQSjIiw7nfoYN3ng7u4Tfyi+141fjycyquaxLHPF0rwE9N77zkHiOFz78mgck/2fdN+ZAJEVC9QU08VeDHFDAaBmjgGSvzCQaSc/jdU+1Mdt9cE7qWABDqZej5Kzw3DmAzgPtM0pzDXegLoHd7haZQUHD9+HKNGjcKPP/6I9evXw+fzoU+fPmjatCl69uyJihUbYOFCqzxvKQIQsvT3v5PIm/372+/NmWOd099N27bE746aDLL+3IB/MnQKrxo/Svxq1LDMS6n8Zokf225uLrn31VfELHPUKHK9Rg3i20bhReMn0v5VrGi/xstPJ7NWNxcRHqzGjx2nKLhLZKQzyfjrX+3tBoJQzJ+pqeLciomJ/hvO9HnCSfxWriTRpI8e9V7XCeEw9dTQuJRYu3Ytvh01CtETJ6IHgOSyZVGlalUkJCQQ4uV1QnNa4KpoYEQ+fiwx6tcP+I3xgvGi8ZPl8WOvi8giOyYvGpxgFshey4rAP290tPPOpJcE7jz4BLJen52tF6rgLm79qNwP9jsI1/+Ll3eiWpYnUpfyf/VPIARVDYO6AuAN62YAGB/a4WiUJOTn5+OLL77A+PHjsWbNGhQUFKBBgwYYPXo0evfujYpFrOToUbu53bFjwINF4YDY3/nUqf5aIlFaBHahvmePRfxycshvkqY3kLlwXLxonT/2GDBuHDmXpR06d46sKd54gxC/gQPtxI8SBLZdqvED7PLrwQeBmTOtz15NPXnw8lKVRA0aZD/y/YnmNj6fHkXduuToxdSTtZ4JlPiFQsauWCFuR/S/IHLtEUGU9kEV110HjBwJLF/uvS4P0Saj1vhp8CjpPn5LlizB9IEDMWnVKtQAMLZiRTSoXBkxlGwlJhLixZp8BAMZ8aMQ7QCxphC0rihgiSrxEwkC01TXdInue13Iy0w9Vet7QSijejrBLZm4V9IjM9EJh3mj22Ih1Bo/p/aD3SgIN0Kh8VPt4zLM46cq5ncB+D/u2jMABHodjdKMCxcuYPbs2Rg8eDCaNm2KAQMGAABefvllrFy5Ejt27MCAAQP+IH2A3XQTIIttCpYsPf+8P7Fg87dt306CvbBRs3ftss6XFIUbYjWLInTqZJ1XqmSdyyKCDh1KxlWtmuXrTeV3QoIV7ZOOyzDIc9Ey7DNRkkrhJldV0hmxcNoQZsFG4BRBZurJ1yksJGQFkJt6jhnjr8Flx1acZIIGyeEhIn70edy+k2BNPR96CH/4vVKEKp1DsD5+7Pemg7tcHjBNc6Zpmv3LOtlEX2KsX78ezz//PN5NTcXQ9u1x/+rV+KRrV8ycMQNNmzSxSB9g7UjJbPi9wk3jJ0rnICJ+/I/NydSTh4ogEDlhi8YbqAZHRPzCtWgNxGxVxeRV5Zm9kGm+v0BMPQPFpTLxlL1Xt35k30O4TT291g+VqWcgbZYSqC4TngAwzTCMwQAOAagGIB9Az3ANTOPS4ffff8eyZcswduxYLFy4ENnZ2YiKikKbNm3w5ptvolevXjAc/vHPnydasn/9i3xmyVx2tr0sJYKLFpFcnax27557gE2b7Pn22LZoPreDB9WfjY0M6mQpxN+jn5s2Bb7+mpxTDaNh2DV+bF0+HWGwGj8n2R8R4RzR0isiIvx9/AzDusZr/FgS+Pnn9g2AUJi8h3OuFfn4XQpTz1Dippv8E9ZrjZ9GSce+ffvQqVMnnD17Fpvj4nBjx45oevo0WvTqRXbq+H/CYHczeLhp/ETEjx2DCvHzuoim2j62rhsBcFvIO/VH611q4hdqjZ+qyWYg2kORqadKv17adzqGC26mpV7HUBw7hJfiXXkxbQ3FgucSQknMm6a5FiSQy/0A/lV0bGCa5hrHiholFoWFhXj77bfRokULVK1aFb169cKCBQvw8MMPY86cOThz5gwWLVqEe+65B4ZhYOVK4JNP7G2YJjHpO3+e5JyjYMnabbfZ62zeDLRqZZm6sRrBTZvIMT8fGDCAyIrcXP+FuBeyw8pmJ5cCnvjRevHxJJokCzouWobdiOZzCIfa1FNV46eKn36yty0ix2xuQJbsOVlChELjF8jzOX3HLO64wzJhpbgUpp6hRKNG1mZIqEw92XdepOzXKOUwDKO7YRhjzqpGUQwjzp8/j+86dkTXCxewbds2XNGwIdq2bYsoGtSEJUAUdLLxusAMNLgLPbKCRxRtM9TETzYO/rrbuFXhJQdaqLVOXsoF2reIbAZLJsNp6sn3H25yEw5NmpN5bSB9hmJMMgRK6t0WPKUAyltppmnmAVhkGMYfs4VhGBGmabrsj2sUNwoLC/Hzzz9j+fLlOHr0KHbu3In169fj9OnTaNmyJd5++220atUKLVq0QLkiZ70jRwjBoiZxH30ETJoEPPss+ZyZSTRgw4cTH/f4eKs/NrDHqlX2sWzaRMgi9e0zTeCLL+yJ1gsKgH/8g0Tpzc0Fxo61t8ESLbf1AOsHGAjxo2NkQTV+tA6buP1Sa/xCiYgIf+IKiDV+Tu8HCJ74zZ9P0kl5RW6u2hz8wgvkj4WqqadhAHffXfqjesqsvwDye3/uudCMSaN4UZLSOTzXpw8G7N2L+5o2RXXe51A2mav+MHk45XfzauopKheIqSd9RpEgUNXwqX52uyciwOHy8fMKr0nXRRBp/LzWu5TBXWQa33CZegby/yJCOEiwKln0Mk4eosVOIO2UQigRP8MwWgAYDaAZAPq2DAAmgJAbPBmG0RHAmwA2A5hsmubCUPfxZ8KIESPw+uuvIyIiAikpKahTpw569+6NW2+9VWrGmZoK9OpFInACQMOG5JifT2Rb8+YWAfvyS3/NnhPKlgV++YVoK0zTX37SdEZlypCFPO8/xhK/MmXkQV4Ayy8vKkqd+I0ZA1x7rT3SKAve1JMlfqHW+AXq4xcIIiPFcyF9b0lJ1njdCEawBPWmm7zXCRaqpp4ACVRUkiBbi3oF/a6KW5upcfkhLS0NA378EVUqV0b1GjWsG+zCV+Z8rPKjVIWbxo9N50AjabLl6UTB7oJRoeSm8aNkgp9AWeKnqvHzQvxEP2gvGr9QIRBTTy8+fqEww1Px8WOvB0p8wknwnMbkVaNM4cXHrzhNH1X6S0uTC8tAxlvKSKKqeJ8AYAGAlgDqFv3VKToqwTCMcYZhHDMMYxN3vYthGNsNw9hlGMaQossmgCwQkunBo0uD4sSJE3j//ffRqlUrvP7667j99ttx4cIF/PrrUXz/fRo+//zzP8w4ZWAJDSVXP/xASE9GBnDggHVf5DMlQ2IiSeHTrh2Rqfzvj6Yzio62m4JSsMTPzbSPEr+LF53LsveefBJo0UJeljf1ZP0YqcavfXurLAv+df/3v/aI4KK+ZJ8DmWucNjBZjR/bNiXFFSqo+7fxGj8232FJhRfiF2qUlDx+4bYu0vhz4uDBg/ipZ0/4fD5UTU0VL5zpNd6WX0XjFxenPhjDcP6h0EmWTa8gmnh58wcnU0+exDj5+PHj4NvgP3shSE88YW/fqzmpEwI1nxTBa0AWWRu0vleSI6tH/wfDqeUK1yQs0yzy97201a4dcMstwY9N1j5/7nRN5R6Flx1SGnFXFaVAeKoSv1oA/maa5lbTNPexfx76+hJAF/aCYRiRIJrErgAaAbjPMIxGABabptkVwMsAhnvo40+NEydOYMKECRg0aBCuu+46DCqK5T9y5Eh8/fXXiI6ORtOmwO23q7WXnEyOa9YQ00uABGC58kr/svHxJEefCtiIisePu2v8eOTkqFv/sNpAp6B2blp/FjzxE5l69u5tlWXBzwn16pEgNzJcfbX9c6g1fuz7k2n8aJ/lytl9/ERtiMZmGERDzKb8CCfS04Fff/Vej13vlTbQ9x2q4C5a46cRCowbNw7NmzdHzZo1cdvRo6hbty4iecLB+03xEwrr/yeDaLcmFAncRYtkPp0Dm6rAbdEuI2mi/HxeiZ/KYtht5zBcxM8rVN6l7J5THj8vz+HUttsYVCD7/oIlgMGOh8fDD8vvjxrlvIAJdDyq31k4SJZbm5eBj5+qeJ8GoHMwHZmmuQjAKe5yKwC7TNPcY5rmRQCTAdzJ+A2eBiAJwg8YhtHfMIx0wzDSj4cqx08pw4IFCzBw4ECULfsxKlasgn79+uHDDz9EbGwsli9fjpUrV+Kll15CMmVxALKy1NqmC/UhQ+zX9+71L+vzAa+9ZmnKbrhB3i5L/Kh2j0VhoTPxy8qyCJboPou33iJmpQBwxRXyck7ETyRvTdOq06iRdY9Ndi6r6wV/+5v9GYvD1JMiMTEw4kejhV6qufHaay3T5ECQlxe6sVxqhCqdQymTYxoOKK7gLocPHcKO/v0RCWD48OG45uqrkUQnfxnxM03/nReV3QzRJORE/FR2NqggEtUHxBo/2Q/ILak4b07qBYESJBEBDmbHR6Wu6jOKiLbX9pzIbv36xHfBrU3R98QjVNq/cE++boRS9twqGmVRvVCCNylzelehGgNth/9+3UyCSoHwVF0mxICkc1gC4Hf2hmmaDwfRfzUAjMEgDgJobRhGTwC3AUgG8ImoYlHfYwCMAYCWLVv+abJOpaWlYdq0afjtt9+w4o+keSZeecXALaFBDVUAACAASURBVLc0QseOHRHh8CPds4cEZXnjDed+Zs8mZoybNjmXA6zFMv2NMDzzD1B3Cf43zC9W6YawjPhlZhKCkpkp/g2yJqJVqlhROUW524YNI39eNH6pqcDOnVadN98kROORR/zdP7ymyuFhGHYzVFV56AZZ2ihZrkOAyMlAg7vQTfuSjr59gdWrL32/ocrj50Xj55Q6TGv8Lh8UR3AX0zTxRY8euKegAE9/9RVqN2tGnKbZnDgUlOhR4sdP6ioaP9E9p+Ason9wXvNYWCguJ/Lxc2qX75ttg0KkXfSa0NtpgpVpLkM5KQdDDN58Ezh5kmiQ+LGFghDzbaWmkghiXsYYCkRGyk1KVAhZKOCFyLHlL6UA54nnddeRBeml7luE4vAFCTFUxfsWAO8CWAqStJ39CzlM05xqmuZTpmn20YFdLOTl5WHkyJG4/vrr8cEHHwAAXnvtNfz++1EAwPPPP4tOnTpJSR8rG4cNI3n3WFPItm2B0aOt/+t9+4Dp060InDyqVbPOO3RQfw6e+PERNenwVTR+InnfvLm87/Xr7Z8p0VElfjfdRBLRA9YYRHJFFvI/1NYwwUJm6sm3/dFHQIMG1nOx36Eq8SsN+Oab0pm4nL7vbt1C005pIOkaJRfp6ekot2YNqlatitpsrh8KLxq/QE09AyV+7GenACi8w7OK9kkmGFiNnyoBCMQkkF9Qq2r8vLbttX7XrnbH+lCY+omInwqc+g5WOFSt6t92qAmfrJ6X/xfV9+91DIHCMEiOT779S6Hx4yEi7sG+r0sMpeWYaZrDw9T/IQBMeC9UL7qmDMMwugPoXp8PDX2Z4cSJE+jevTvS0tLQtWtXTJ48GUlFpgpUu+Xmm9Sxo/3ziy8C11xjRVBMSyN/NGUDQIhhbi6weDHREs6bZ9374APg3nsJYeRln9P8yJMAmZYiOtqd+LGgawM6hr/8xb9Ms2bAggXWM1PS6UT82GepUkVch18zyDQnJY34tWxJiPL69fJ0DoAV2p9+d27BfPionlFRxHT45Mngxxxu9OwJrFtX3KMIDPffH1x9rfHTCBa7d+/GG717447ISFSuXNl9Z4idPEWBFCjxc9pp92KCJ0vnwGoe6VFE6vgficjU0w2B5PHzqgEU1XUzGSlJpp7B7kI55fFz65sevZr5uUHFJCMQQu8FbsTQ6TyU/YUC4SR+MpTGIAAclH/lhmFEG4bR1DCMmwzD6ET/gux/FYAGhmHUMQwjGkBfADO8NGCa5kzTNPuXdYrcUcpx9OhR9OjRA6tXr8bo0aPx/+2de9gd0933v7/kjhwEOYhDEiJINEGilbYeh6fEoZSUtlpnoapFab2qKG9VvdWHXkGpHnhQp5Zqqy2qeB6qWlIVlFKlqEMUSZDDHZHjev+YPfbas9fMrDWz5rD3/f1c133tvWfWrLXu2bNnre/8DuuOO+54T/QBTXFkyoD5738H9yqlgPvvb24Ps2kvWBC8zp/fasELWbYscOPcaad2V0lTHJvNA7Hovc+0HBIQWONM/1OcxS9ab+g1EmXKlOb78H9IcnGM9jVsRxeftsIvz7gatea41HXAAebtG27YXLYiLcZPxyS8dUwWvw9/2K7uqrnggvilPOqKr7EuLuEbITbMmzcPRxxxBI596SV8dPJk9PTv7yb8TJ/DBdyTcI3xM9UXTS6jW/xMcWKm17R+xv3ATDF+0c+jRpn3u1pwkra5HB8lr/CL25f3KZSr22hS2bwWP32iEW3H1zp+LuLa5bi8586FNOGZx7rs2gcb8d9hFj+rX5SI7AzgJQB/APA/AH4B4C4AV9o2JCI3ApgNYCsRmSsixyilVgE4sVHX0wBuVko95fYvdC8vv/wyjj/+eEycOBGzZ8/G5ZdfjhNOOKGtXCj8wji7X/8auOmm4P2YMcG4GXXFnDAheA2F3wYbAK8abK2LFgX3KpH25RCiLpo6SWN99D4e5waYFuMXbcfWnVAvF4q4pP9F/x337988JsniF/e/5rknRNdKtK1rq62AX/0qfr+epC48N3EPtUwhOmnzumOOAWbMAC67DLjvPrs+9zXq4l4ad90SksY/nn4au0+ahDlz5mDadtthi/Hjgx1pF7dNjF9aPUXF+Nm4cZqyesYRzQiqt532lHDbbZvptZPqNmGakJti/PK4emZNwhJXJqugDb+/rDexIl09k9aUKkI0JdWfJPx8WtI6QAi1kNbfNFfPDsA28uZiAN9RSl0sIm8rpUaIyNkA3kk7MEQpdUjM9jsAZI7a7FZXz8ceewx77rknFi1ahIMOOginnHIKPhCzuFwoju69Fxg3DvjsZ4G33251y/zjH1uPGTkyeF2wIPleFgo/oH2ppDTh99BDZitPdMyL1qNb/OKEX+gqb7L4pf0Gw/b22gv4xCcC11bbMUKPwc/i6jl6tF07NkTrzpq0Tw87Cc9dXLbUcF1EnbSxUL9sXWJB+xK+krvkhRa/7qOMMXLZsmX4+l574bpFi9D/0UexyVln2S0iDbRa2kyunqHFz2f2RP3mqQs9nbisntF+ZHnab3L1TJuYK2XO9JVVILms42eDb8GS9f8yHe/LeuZT+CVZjk1tZyXaZ9d1/LJYS/Ni+5tKEqjf+176Qs82ffDt7lsDbB+JTARwSWTb+QD+j9/uuNONrp5LlizBgQceiNWrV+MPf/gDbrjhhhbR9+qrwGGHBe6Z//mfwBtBbhccf3xg7QtjYK+6ylz/oEHN38OSJYFIjEMXfmuvHbxef33wmvabMsX0A+muniEDB7YLViA+xs9WvIXtzZrVFGK2x+pr+up9iMtArt+X3noLOOIIu3ZMpN2nbbJTmzA9hI5zfc0i/EjnQItf91HkGPnOO+/g8ssvx8SJE/Hm3LkYv9lmmDJlSjA5Spog6TelqMUvStaUwFktfn/5C/Dss61WOF8Wv7hJtGkdP1uri6m8jSXP1N+0yX8SSfFrriJO75vrzSjOhTKtfZsyRQq/LP1xKZ9VWBZlgfRxTFK5qVODtZ18t53m6tkB2P6iFgEIp5WvNRZZHw4gJcUDcWXlypU47LDD8MILL+D73/8Bdtxxx7YyL7wQjE0PPRQIo7lzm/sOPrg9FCDKI480xc/y5a3HT5vWWnbRoqZlK7T47b578Gqy+OnXf5xF0DbGb/x4828sKbmLDWF7ev9s0+Drws/V4jd8uN/7Q1jXhhsGf1mJ9nXFitYEWjom4afHTJJq8DW20uJHbFmyZAkO+shHcNxxx2HjjTfGxRdd1FwvVnfZNE2W3323PaYuTviFN1yfFj/TBa7fxP/613hXzyTLVNYfjo2rZxQXgWOa7NfN4pel3ui+Aw5IXzMxD9Fr1hUXV88irGdV1FOEcHR9OOKTVauS93fA4Gkr/G4BEKaWuBrA7wE8giDWr1KqWpzWJ0opnHvuudh+++0xdOhQ3HbbbZg69Un84AdG71i89VYg2ML4vHciDrdjxwKTJgHrr9/cpouUgQOboufSSwE9bPDBB1vrWriw3eIX3rtMwk6/L2YVfiEbbwwcfXT79t5ecxIS14dEej9chF84vuriU2/7lFOA970veF+k5SRs8/HH25epcCG6KPuAAfEPy7ffvnWNRqWAXXbJ3japF7T4ERuuvPJKHDZ+PL4xZw6uueYaPPTQQ5iqr6MTZhQDzJPk119vBvymZcmzWc7BhTiLn15/KFxtnoToT86yWipslnOIbsviApl2vKvF7+Mfbz4JzpvcJUt8YXSfaUmIPK6eUWyuwaQ2krLIubpgurafdn3ZXltlkKcveb/rLBa/DsNqeFdKnayU+mnj/SwAnwJwLIDPFdg3KzrZ1fPNN9/EpZdeisMPPxzf+MY3MGTIEHz5y1/GLbfcgldfnYwHHgjKjRoFzJ7dPC4q/C69tLXehQuBr32t9frdc8/m+zBZS0jYDtAu1nSL3777Bks3JAk/nbj9acld9L5NnNh+/KpV6VklbdDFXrjIexpxFr+jjgLuuSd4f+GFTetoGcIvzeKnn8+kRbv18xF3b9tjj2TX4DRrMzHDGD/SKTz++OM44YQTsPXIkdhq4kTMnDkTYhIySRY/AJg3r3V/ksXPp/CLW85Bv+mFwtVmfRObSWq4PWqNCrGJ8UtqN9rHuH0iwLe+ZVe/DWef3Qzc9pnV04cI0f9nFzGQVCa8RrK6g1Zh8YtrxzbzXB0Hg6LPUVLdacKvjucrglVyFxG5VCn1pfCzUupPje3fBXByQX3rWt566y2cf/75mDXrbSi1F4YOvRVHHXUUrrrqqvcWXz/uuGb5BQuCVP4LFwYWuccfbxV+uigEgvE0ahEbO7b5Pir8TPTrF1zfb77ZXMZh++2D9sPEH+E9zHSP9mHxA+IFjQ/hF/Z1xYp0ERvS22u2+A0eDEzXFjcpw3Liq27TmsJd8FCrT+Fb+NHiR+K48sorISI4/dRTsc7llzdFS9RiZnpvwibGzydxFj+dcCH5sG3dshXFx9OStNTI4Wdbtzcbt9E8FkoTeW8aRQmPImL8fLh6plnesoqboix+Lv0oWvzYPECgxS8W2zvqUQC+ZNh+BCj8nLjxxhtx3HF/x+LFd2Do0J+jt3cSliz5dEuZl15qfxi6cGHwGob8DR7cFH5R3ngjEH769atnk0wTOddcAzzxBHDRRUEiGd2DRz8+zdUzzn0yTvg9/DDwwQ+29nv4cHMdScLP5ve+//7NzKC2og8IvgeTxS9KGRNoX/MMk8Vvn33M8Xwu9RJ74hIh2eJrnC3jQSrpbObPn49x48ZhWJhNSrdWhZjWpYtDtwzGuSTYCg+bSZmNq2fU4jdoUPtAqLebVG+0bRN6DEG03rjjswiEqPXLh/BzecrpU2imlUtae7FI4trYeuvAOhq3tlJZFjdX8Vu0kNIZMiRIGpDn+/f1XUet9K7H1ZhE4Scinw3Lae9DNgcQIz3KoxOWc1BK4ZZb/hcnn/wo5s49A4DC3nt/AS+8MAbPPtte/oormu97e811Ll/eXFMtSmjx0yfuu+wSuE1OmgQMHZp8bc6cGbgrAsDSpe0CJ6+YiRN+pge7ccIvT4wfEGQ/zcKiRd0h/HRMFr+vfz34I8WzfHm+rNM+ocWPpPHmm29i5MiRrZa6qODSRVzaxMkk/HQRFwqUtHrShN/BBwcL3NoIntBV1WTNS0qPn3XCarucg63wS3Lj8+2O4qu+ogRO1qygJvJYe6691txO2mtRJFn8bMpnLZPE/fcHr3/7W3KdZfQliQ4fINN6f0Tjby3t/READgewBYCZhfbOgrrH+P31r09jhx2OwYEH7om5c0/H179+HgBgypSxWLy49cL805+Axx4LLH4/+lFg1TItqg4E958VK8z7Vq4MRMmSJc1t48YBzzwTCB6b7Nj6dR0Xj5zkneKygHtocTMlUAvdTIHWeL/Bg4Hf/Ka5UH30OF9E61y40OzqGXdcHe49tvfzDr+XdSw+RB8tfqQs3nrrrVbh19sLHHhg60WzerW78NPZfPPm+1BQpU26025gukBLy+YVilmbrF9FCT9X62GSq57tcg62bZnwvYC7zbGmfaasnr5uaD5dWuK+P1+WqrjtNu2kuX366I/tMa7fv+/B0ESS+3kHDJ6Jdxal1G5Kqd0AnB++b/xNV0odopT6c0n97DguuugibL311nj/+9/EX/5y9XvbTzvtTACBJWvx4tZjdtklSEr1+utB5sQVK4JlG+JI2he1RrlOLvXxLsmyFSXpvvjww8CcOe1ZJKOvOqHw+853WuMUBw8Owi722qu57fjjga9+1d/v7ve/B848s3XbkiXVWfxcH9CZiPt+li2zz2yaRAfc80gCtPh1H74zX7/55psYMWJEU4gtWxa4QuikLeegowu6uOQnthY/m/1RIWCqd/XqeItftG9ZbpzROvJk9TQJRRtR4UsQuQiWLGIjesyGG9rFVcb9z3n6WGQsQ1mWv6zZQ+s4uCf9RrL2N+9Djg7AtveXiMhQABCR/iJytIgcKSKd/d8XxC9/eSe+8pXvQimFQYM+2LJv5crgddiw9mUYQu65J1iMe/Xq1jT9Ude7l16K78OgQcDddze9C+KEX7hEQ5Q0i99vf2vOuBliuj9ut12QICYcJ6MuniaL39ixwLbbBoJOJ7S26f2cNi0QiL7Yddfgewr788QTwdqJethHHGVY0XzW7SLuk2CMXzVMmQJMnpy/Hlr8ug+fXjFKKSxYsKDV4qdb90LSlnPQMSV3yWJxcBF+Nsld9EB1G4Hhkiwliikm0rWupHNmsn75tozYWPxcrTf69nCQ+t73gLvusm/Lp/WqSItf2nZf7cV9Fz77k/ec57H4+SKsOykVeodi2/vbAUxovP82gFMBnALgwiI65ULd1vFbunQpjjvud1h33R/hsccew8CIagpT4YdjXRgfH2XttQPBtXRpc5vLxG7gwGAJhzAZTFT4hdf03Xebj08Tfh/7WPLDlqT7Y1T4ha6eJuv54MGB4IoSjgE+rFS2bLttEJ/dv3/Q1yRrf51i/MqcxFP4VcPo0cBTT+WvhxY/ksTixYuxdOlSjBkzplX4RdGXc0gjLbmLrWXK5UaX5CIY9klfuyepbhdBGdd+mRa/LC6Qec//zjtnPz7cfs45wM03B0kKwuD/pO8x63IOSZiuz6IGvbo8hauiH3msj74tfnFLzHQwtsP7RAB/bbw/DMA+AKYDOLiITrlQtxi/z3zmM1iwYBG23np7DBw4sO0aCpO1nHhi8KrHsOkMGRKINT1Bi61V5tBDm1k8Q9EWJ/xsMlpmSVQWLvK9zz7x9UUFoM0YG2Ky+BVF9Hffv3/6chJlWPyqHg9I98F1/EgSc+fOBQBssskmTcEWukXqZHH1jLP4hRdlXldPHZsYPz2rp96f6JNQmxi/cPv48fHtRY81JWixseqZjs2b4dKmbNw5nToVGDEivZ60NtZbrzX20xbdEptXwCY9zPBtQfV9E3ax+OUVTXF15bX+Ze2Db/LGs1aM7Z1yNYC1RGRbAIuUUi8DWAhgaGE960AeeeRR3HHHPdhrr/2w7rrmBeiiKfLjLH4m4ReON7NmJffjJz8JHorpx8S5etoskZTlgdbVjbDGO+4ILGU6LjF+cZQp/KL065cuwutk8SsTWvw6m1Gjglc9MRQhIT+dNQvjAIwdO7Zp6dPdOkP0batWJVdqIxBd425srWVx7UazeupMnQr8/OfmduMI2zjySHP/bJe/SLL42RwXPd7HIJLWD1PimqR6XOt3rc83vixLccKsKAHouoB7nSYcea4n27qT6CMWvzsB3AzghwDCPIqTAcTknOybHHfcIwDexUc/uu97Sy1Er6Go8FuxArjssvaxcciQ4NqaP7+5LRRxJtHx6qtBJtCzz27dHidAXCx+WUgywEZ/s1HLX9pxQLLw22EHYP317fqZhf7904VfnSx+YbmTTwZOOaW4/pDOYvZs4NFHW7f19AAvvgh88pOVdInUmLfffhu7XnMNbhs4EFOnTk2O8dMtfieeCDz3XHzFuqtoXIyfiJvFL+3maHJP1UlazkGk1XI3ZEhrP237qJMnq6epvM1yDtH3Nm0l4TOrp558IGmSn1SvPvnxZd0sw9UzyRLno96soimvtdSFPNdlGX1IEn51Esgx2C7gfgyCpRtWAriusW19AOcU0KeOY/HixbjwwusxZ06wIviAAYPx7rtB8pWoZ0BU+D3/PHDSScDhh7duHzIkWI9v3rwge+UHPtAUGybRMXo08IUvtG9fbz1gt93at4fXZpzY0u9lee9rSQ8CgXaLn40V0hTjN2lS8HrhhelW0Tz065fu6lmEy1yaJ1AaF18cvH7rW376QzqbuJjhvIvJk+5k3rx56AEwevRoDB06tDm4mSx6umhaujQ+kxnQmgSmLsLPFCdm4uc/D4Jr773XzYKWZPGLE35x/7+pvI140Pu7zTbAk0/a9zetfZfjo9x5Z/Dk9qGHWo91neSnuR2mHWcizdXTZbKUd0DPio9JyTbb5K/DliLFnU17XZjcxVb4naSUaplKK6XuE5E+bT9QSmGXXS7Bn//8a6xefd9721euDATeZpu1HxMVfiFR16rwISIQCL9jjgEeeST4PGhQ8Pmqq9L7OGBAMCYl7U8jr/BLOz56f45bN1AnXMMw/P2tWNH8X3x5sET7F1IXi19cfCghhPhmcWP9of7h07Y4V8/wvR4DmCS00mL8wvd5hZ9+vI37qY2L4vjxwNNPN8ukucvFfc6T3MWlvbyWv6S2bAY7mz6HiVvyov/PvtwVy4hlKMu1MqvF77LLArcq27qz/B8+LH55z5+NNdn1uJpgOy09O2b7//XVkaxUmdXzvvvuwwMPnIyenttatq9aFf/wbN488/aFC1s/6xal6Lpxgwa1rl+XhTSLX1YmTEgvE4et8Dv55CB9vX5MmQ9gpkwBvvvd5DJlxPjdfjvwzDPZjmUsHiHEhXCMbRN+UVdPk9tn0g3HNqunvs9kQUxydYxiEn7R/yHO1TOu3TwWP1NyF1fhZ7NP76OvwcmXxS9tfbk6WPx8ktaObwEY/Z5shV9e19MiBJjNNVHk99jhFr/E3ovIdBGZDqC/iOwWfm78fQ5A5SkAqsrquXr1apx77rkAgGHDWnPcrFoV7xFw/PHm7S++2HyvLxIONN+HgmiddfJfd+FvwrfF79pr20VsmqtntFya8Lv4YmDkyObnlSvLjbUdONDsPqtThiDdaKPktRSjfSkDCkpCupM2i59u0YsuhaATLo0Qh76OX4hpsqnv33339npcXD0nTkwOZA0tfjY38CzCz9ReVoufabBxjfGzFSFJ+LL42VpNbfvly7IJ2A1wWc9p2Za+rALO1VKYhTpYzeL6sPnmwIc+5H5cjUiz94TOhIMAXK1tVwBeB3BSEZ3qBO699/e4774/AwDWWqv1iz7rLPf6Zs9uvh8ayZUajrNhZs7ttgMeeMC9DZ00i19WV/WBA9uFm01dRxzRTAgTJ/w+/3lgk03at/u2Wvqgr66HRuFHSHeyePFiDAfQP7ypxVn8TMIv6caQJbnLypXt9ejHmG68+v4hQ4AzzwRuucXcp/B/cJns5pnw2SzgHhWWSULRxuKnv99oI/OCuXH1mci7gHtcWz7Or+33Z7v0SBL6NZxlQEz6XidPBv7+d/c60+q1OS4rWY7PI9aLSkoRcvPN+eqvAYnTUqXUeKXUeAA/Cd83/jZXSu2olLq1pH7Wjm9+898AgoC95cvz13fllcAhhwC33da+LxR+I0YA06YBG2zgT1D4WM7Bx2T/uuuafYkTfp/5DPDjH+dvqwyqcEElhJCisLb4mVw9kyx+pmPThJ8JF4tfGlGLn62rZ9ELuNvUZVtGF34jRgBz5ti1F1d3UZagvBaqtG1xrkcmXJYccXVDsvn+r7uufVscd9zh1n5a8qCqLFllWBjLrrtirGwlSqkji+5IJ3H22efigQeaYY/houxRhg8H3n7brs7eXuBznwOmT2/fF94/hg4FHn44eJ9XUJxySrC+XujqefLJzUXfoxRlxYn7Xdkkd6k7dbL4lXn/mjCheY0SQrqHtebMwToA+qUld4laRUzLPUT3A+kLuKeRV/hF/wfX9edcXD2j5WwWcE+rwzbG0Ud/TbgsVeGCj4m/rTj28ZQ761PfuHOUdQDfYIPk+m1jMvMKvyImIEl98m2hdPnOOwQr4SciryBw72xDKbWp1x7VnLvuugezZl0HPd9NXKbq9dazF37LlsVnaTQ9OMorKDbdNMgMGmYZPeaY1gy94bV+773NZRLicHVlj7YRJW6x+aoYOxZ49lm3Y/qixe+dd4Cf/Qw4+uiqe0II8c3Cv/wFQ4YMQb/w5hYKtlWr0i1+SS5yacldbHHJ6mnabkruEg6+NhY/GzaNmS6ZxFGaOEyayNsszu3iTpfX1bUKi1/WOrJa/KK4Cve85WzL57Wg1knkmPpSxeLqSfHJNcT2jnU4gCO0v9MQLN5+YUH9qiV33nkn9t57U6xZ87u2fbvs0l4+zML57W/b1R8VftdeG7yarmNf13Zo8YvGFYbstlvg/p+HtPE2St0sfr/+NfDGG27HFLGOX1ai18qRRwLHHuu/ncGD6/H/EkICROTzIjJHRObMnz8/cz1KKfT09GDddddtbrRN7pIm/EzJXXRsLVMuWT3TiMb42bRr089NNw1cKqPlVq9uHzTS4hR93mx9iKqiJ9yu1p24DLFZ2glJW8dPJ6vwyyuwbF02i3ShLPr4pP09Pdndlk11d2HiAqu7o1LqD5G/mwB8AkDlz/bLWs6ht7cXBx10EIAJWL68fc2CbbcNXkOxBjTvg1/7ml0bUfE1dWprPTq+LElh3fq6gVUT53JaFeus0+41kUZdXD0fewz4zW9at117bZAopwi68B5JSMeilLpCKTVNKTVt1KhRmesREZz61a9i7JgxzY16chcd0+TYtC263l+ZC7inEfbF1VKUx9Uzus/WSmcSiknugllcPW3IaxXMcmxSfbrrUBliJ8r227uVdxFmNvW47i/KApkF2wccRfbFpe6iHsgURJ5p6XIA4311JCtlLOfw3HPPYfvtf4TFi5vBSzvs0LqkwMYbB6+6J8dGG7UKwTSiFr9QlBUp/MJrNG1Bch9t2PDii8D3vldYV0qjLq6e221nzoRKCOkbeHs4GhVetuv4AeaslaZyScIvLaNimsXPZSAqOrlLlCzr+EW36ftslnPo18/PZD9tsPMV4+d6bJwbU552XJ5srr9+8npLcd+3zXWQh6wiOO9xWSmiTtf2ugyru5SInBv5mwXgAQDtPo9dxgUXXIDJkyfj2We/CKD5Ix4zpjV+L3SHXHvt5jalAre6OL761dbP0ftUmOWySFdPAHj8cUD34AGyL+dgwqWuceNaz2GnUoTFrw/cjwghnins4aiNq2d400qy+Jk+V23xc0nu4sOvX18sPiRNANhY9ZL2+bZS5F3APQumesPrMbh7SAAAIABJREFUxCT88lqPbB9W5CGvxc+2XluXxiomHrZWyzoKwA6YqNlOSzeJ/A0CcBGAmQX1q3JWr16NCy+8EGeccTq23vpEDBjQahIbPrx1LAstfrpoSXtAeeqpzfeDB7eLuTIsfgAwZUq+4+ne104Z96U60tf+X0L6DNEfty78AHOSlCThFyXO1TNL/5IEgQ1hX2ySu+hldt4Z2Gsvt74C5uUcbGPE8gg5n+XyLuDuG1342biL2vTN5jq2pSpx42q5c3FB9WWdq5PrpOsEt+r+WmC7nMPRRXekTqxatQqTJ5+Gf/4zWFvhyCMvwKmntn6ZUauUyeKXtHQR0LqGnimjZ7jftNZe1S6EIbNnB9bPJDrgd1AYffl/J4RUj4jMADBjyy239FvxqlXBqx6jp38GgoFqzZp0i1///vFZPW0tfj4ni1GLXxK68Nt0U7tsbnEiWt+XNolOEoo2k/PwvKaVt63P1wLuLiTVZ+s6lHcdP1+umUU/LXYRcEnHJ+Hb+plGHS1+HUCqfBCRHhE5SkR+IiJ3NV6PFpEBZXSwCs4771f45z8vArAfAKCnZ8B79+Uw46SeeVIECOPm4yx+c+e2t6Nb8kzCryyLnwnbhxw77JAeQ+aa1bNbeOCBZtZUQgipglJcPYOGWrcDzYEqutafXh4IbpRprp5p6ANl0gBpM/CEItQ1xs8WG8uIq/VE31fFcg5JMX5VoE+qfImqJFfPpDIu2Hx3ZZL33OXtf1733LztdeFENVE+iMh6AB4E8B0AKwE82ng9H8CDjf1dx3//tzmATqQp+HQr3PDhgasmEC/8TFYxvQ6TO3pZMX6kGHbcseoeEEJIQYQDXGj5c3X1jAo/fZtJ+KVNwBYubG9Xx2WSGMYt2kx6bdxBbdpLW84hbh2/uM9p+1wsfjbUJcYvZLPNgO98p7WcrSU0Dp8iIO77y2uZS2vPxUJraj/vOfRBGe1ULbgLJM3V878AzAewm1JqabhRRIYC+Flj/wnFda8ali1r/UHonixhhmBdtI0YEWwXac2OGXX1PP30oI477wSeeCLd4pck/Ori6mlD3O9n8GBg8eJy+0KKpQsfjhHS0ZTm6hkSZ/GL4ir80njllfZ2s+KynEOWtkxWhawTflP5MifnvkTVqFHArFnZ2jbRrx8wfbpbfWnYDHC+LFxluXyGFDV4Z/k/qhRdRVooa0LaHesAAMfrog8AlFK9AL6IYC2/rmP58p7I50DQiTTHJ92Fb8SIwGJ35pmt33lU+J1/PnDBBc3F3kNBN2hQ/Vw9DznE/R4ch+l+8re/BW0QezrgfkIIqRmluXpGY/2AZIufTk9P8jp+0XrTyHKzjGYmzZLcJSum82Prnmmy4Ngs5xDXhglfMX5pbey6q11/XEkSUy7fW9I16Ctmrijh5/JgIek8leF6mXaNcjKUizSL33oAXo3ZNxfAujH7OpoVK1oDs04/PXgdMKB5f9YtfiNHBvf+b32rtZ645C7hvSMcL9Ze293Vs2jht8EGwFe+Ulz922xDd1VXhg2rugfp8H5MSB/BNcYviinGLyl5Rl7hl3a8SfjZ3NDCgcxlUI7Wm2c5BxuLX5xg9Cky4urIu45fljZdyrtcVz6zesZRdIxf1nNW5DVSl/p8UMc+RUgTfs8DmA7gfwz7dgfwgvceOeLbjWXNmjVYuXKgcZ8u/HSL34wZreWefx7YYov4e8SJJwYJUcLf9wc/6G7xC7edcw4werS5nbrQAb+D2vPSS8DYsVX3ghDSaRTm6ulT+IUWPxOhQCna4hftW5HJXUzt2cRguYq7JHwt4B5i8yQ3zzkqWnjY1F9kjJ/r/rztZj0XWS2FLtha/OoyuaxLPyxJe0R1EYDrRORTItIPAESkn4gcCOCaxv5K8e3G0tvbC8CgwtA6NoXWuGHDgOOPby23+eZBYo+PfczcxqRJwBlnBO+VCtzQowuo620kWfyOPBI49tj4/4d0B5tu2llxnYSQelCaq2ezweb7JFfPJIufKcbPZdKd92YZWvxsRF0W1xWTxc/GFS/J1TNPjF8eEVKmC6ANNksuJFFWX9NcPdPKZW0vq2iq6hxWLapsswCHVN1fCxItfkqpa0RkJAKRd6OILACwPoDlAM5VSv24+C6Wy9tvvw1guHFfT0+7q+fKleZ6HnjAvs3PfhZYsaJ9u02MH8UAIYSQyggHxegr0BygTJOnFzSHoTBrWtw6YK7Cz4RrLJetq6eP5RxME8c8E3NXd0Eflri6rePnWt6UlTauTJFEr6eiY/1CkpZTydMfvbzt+bO9XjtAZNWR1AXclVIXisgVAHZEIPoWAJitlOrKfIyvv/4GgK2N+3p6gkQvQNPVM074uTBypHk7hR8hhJBa4rKcgyng/Xe/a75PSu5i+pyGbflDDw3iMqK4WPxsyqT9P6YYv7TlHKJ1uSZX8W3BqdtyDq7lbMqUEeNXlotnp4imuliSbaljnyKkCj8AUEotAXBXwX2pBf/613wA5h93Tw+wbFnzPeBH+MWRNJ5kiScnhBDStygsxi8UaTYxfmlP+pNcPaPt2WB7/CmnmPdHk7skTebCyUCeCV8WV8/oNluLXxZXzyRshGfVuIgdG6ug63FZKFqg+RTNRR5PvGMl/PoSTzwxD8DrMMX5RV09Dz20nAdApntNJ1n89tgjPsMpIYSQ4lBK3QbgtmnTpvmNBo8KvxB9UEyy+OmEwi+OIuORTESTuyThO7lLtF5b8sT45aFbXD3LJi3Gr2gh6WpJK9NSWKfvqYy1G0umA2RDefT29uL889eGyBvvbVt3XeCyy4L3PT3N8aunB/jJT4Abbyy+X50u/C68EHjyyfbtHfZbIRZssknVPSCElEJcVk+Tq6e+7QtfaK8rzeLnGuOXd3AJ/zcXV08XTK6eae6gIvYT8qS69PK2k/m8rp4u9bjgarXKK2iSnvS7CqOyhV9a/QPN2ezbjsvanksdjPErlA6QDeXxpz/NhlKfwnnnPfXeNpEga+frrwex6O++G2wvI8Y3iU4SfqTvMH168zdCCOli4lw9deteOEDp20xB62HQvK+snnlZs6Y17i5pguljHT9bt9Ikl029/SoEVhUxfq4kuQC7JHcpMgFM3vjWKNHflOk6u/baIB29TZtlf5dV98X1+6zLtZ4AZYPG4sW9ANZg333/o2V7v37Ahhu2li3DxTPEdN0xxo/UlbQHh4SQ8hCRGSJyxaJFi/xVetVVwYK1QFPUmZZ3MMX4mQatME4uTvj5wKUelxg/H66ephg/n66epn0uQtFm8l2Fq6dPbPpWxjp+RZ8jU/02iwS79MtnXGDVbqddCGWDxpIlSwGswdChQ9/bFnddlfXw8fbbAVNMfniPzbKEECGEkL5BIev4/fCHzfdJyzmYYvxMAqF//1ZXzyg+YrmUAkaPBrbZxnyM3nZ0OQcbi59v4Zc04U3D1u3S5wS6zLhCmzazlEsrm5R8yCWGzqZ9X+cs7iGA7YOCpOPS2uqLdMA5YHIXDRfhV5bFb999zdvp6kkIIaRSRNwtfqZBtV+/1uN8T3ZDbr3V7vhojF8SPp6+mpK72Ao/GwteWoxfGnlFXdHCUidvkqC8rp429ST1xbfw812vzXF5Lfa0+BUKZYNGb2+78IuDMX6EEEL6NCLt6/iZLH6mJR50yrD4uVD0On5RTNZF0zp+SXW7WnBc9tscGyeAi5wsuQrXPFZUoJwn/nkndbbfdRFCPe/5rSOM8etuenvfAbAGgwcPfm9b1Ra/OBjjRwghpFL690929QwHKJMY1BGpZgH3OJRyT+5i4yKYRPR40+AeZ7mL25d2nM9Jaie4esa5ALvWaSNwfFmty7D4Zf2fy4AWP+9QNmgErp4KYnExVS38aPEjhBBSKbqLZlJWzzSLX9Ql1Pck2pWyk7vox2cVubYT+aJcPTs1q6fNvpDwOjYJeV+WobyixrYfZT1Myevq2QnkdW0tmdrKBhFZW0TmiMh+ZbXZ2/sOROx+NHT1JIQQ0qfRhV9Schcb4ZfX4nfDDcn7bdwto++rEH5Jn236EX1v054PV9BOWMcvTx1lUVR/slqI4+qpA3XpS9WCwJHSZIOIXC0i80Tkycj2vUXkGRF5TkTO0HadDuDmsvoHAAsWvJV4/U+bFrx+85vAJz5RXr9MUPgRQghJo5DlHEJMwi/O4pckosIYv2an3fsyaFDy8S6Ts2iMXxKmBDZRXFzpkixothNyV1dPHzF+cefK1nJaBknXhUviFtu6s5Qvytrty9XT1S00r8WPrp7eKTOr5zUALgNwXbhBRPoD+D6APQHMBfCwiNwKYAyAvwMY1F5NMfT29uIPf3gKPT3xN/qHHy6rN+kwxo8QQkgaSqnbANw2bdq0Y71XbnL19GHx07F1SfTpbuWS3CXE18LdSZNa20mwjXgo0+JX5gS9LOGWl6JcPdPImoyozDhAH5ZcEktpskEpdT+AtyKbPwTgOaXUC0qpFQBuArA/gF0B7ADgUADHioixnyLy+YY76Jz58+fn6t+55/4US5c+ihUr1gEAXHBB2EauagujGx54dHLfCSGkz9OvX7ulLy3Gz3Tj9+Hq6Vv42SZ30Y/Jg43wsy1ftxg/m3qy4Nr/MsVLVlyvA59t+irrs89ZRagvmNXTO2MAvKJ9ngtgjFLqLKXUyQB+CuC/lVLGO6pS6gql1DSl1LRRo0bl6shpp30SG2ywXPucq7rS6IBrLJYOc4smhBCi079/+3IOaev4xS3nEC0XkkWc+BB+QDXCL8S0nINtjJ+txa8MV8+89du0bdtWnSZMRbl6uj4w8EkRFr86fWdxdEIfNWq9gLtS6pqy2lp//fWxzjrAvHlltZiPAQOq7gEhhJA+jUjycg7hhMgkBnV8ZPVMszil1RFN7uIac+hb+OWxxrnG+PnAJsYvK+ecA0yYYFc26eFB1dYjG3wlC4qS15KY9ziflGkNpcXPO68C2ET7PLaxzZpCA9dR3+9wwIDOt5jV9dwSQgixwGTxM8XzpQ1WoatnSF5XTxNFJXfJUr+J6ITfNrmLqbxvq1deV8+8E/X99jMvEO/DVTX6vdVlYpX1nKX139U12KVMEXSKBbeDqFr4PQxggoiMF5G1ABwM4FaXCpRStymlPr/eeuvl7gyvIUIIIcSStKyeJotflhg/G3y6h7ks4B7ia3HfuAl/moWu6uUcbOMKfVIH61PWum1dPX3hy+KXtV2fxzDGLxdlLudwI4DZALYSkbkicoxSahWAEwHcBeBpADcrpZ4qq0/tfbTbRgghhPR50tbx0y1+SROocDmHuDKuwsNXjJ/tJHnmTGDcuHxt2sblZdmW5urpY6JT5xTjLq6eVU/68rafxQrq0mbV50enTn3pIEqL8VNKHRKz/Q4Ad2StV0RmAJix5ZZbZq0ipf5CqiWEEEIKp9Ax0nYdv7wWP9cYvywDty46Q1dP23pOOil5v4tw9WGRsRWRPlwl0/pbp3X8bCjL1TPN4uf7nHWqxa/TXD3r2KcINX5EY4dPV09CCCGkmyh0jFy1CnjmmeB9UnIXmxg/vVzeGL+8wi8UoWVO4mxi/EzYxPjltfhVHeOXVm9R5auou+hzZXJf9m3xK8tqSTJR66yedYDXHyGEEGLg9deb75NcPW3X8Ysr42Oy6TKYR10985LFiuTq1qnvs43xo6tn+8OGsiZ9RVn8bH8HPl2jk+opQgTWOcavA6jxL9UOn1k9KfIIIYSQDCQld8kr/GxIEx4uE7i0mMQiSBO7cRZIm4l8nMXPBy4WP9/UadJWlHiqy/9YpjD24YJMYul44UdXT0IIIaRiTMs5hKRlvIzG+EUp26XPNcbPR3+iE2vb5Rxc2jC143JM0r46u3omtZ+3T1kfENha/Hz3J68lsWyxZfuwoy7UsU8R6OqpUbVFua/Bc0sIIR1C2oTSh8UvafHtNPImd9F5910/9bgQjb0yWX6SrHpJyznETW7o6tm85qKvSRRpDS7K4pfXhTTr98t4v9pB4UcqowtdpwkhpG9isvjZCr9wce4qk7vo9Pb6qceF6ALleaxZtpZBWxFg05c6W/xsymftW1Gus0W7x7r+XlyEX5o1M+vxnUAH9L3Gj2jsYIwfIYQQUjBpA6QpuUt0X1w9ebJ67rJLe5kyXTR9kdUi4xrjl7QtrY2kfVXE+JlwtRrnfchQlKunb5KuL1/Crw5uoCSVjhd+Rcf48boqDp5bQgjpELK4ekb3AfEWv2hyl4svTj4mShEDShUWP9cYv6wWP1+unmnCr06uPb6+z6T/yZdrY1mWP1ui16fPun0f7xOb67dO/bWg44Vf0XTY90kIIYSUj62rpwnTAu6hJc+WOseYxaFPMPJaVFzr6tfPr6tnFZMln4kZfIvCrOc0r+CzrbfOFr8irPfkPRjjp+HzHkLS+dzngKFDq+4FIYSQVNKefIeWPt/JXeKOSSrTia6e0Ri/6EQ7z3IOpvK+sHH1DPFt/TP9L0munknlXfpmcw5ts2v6aMulHtMC7jZkPa7TqZPF2hMd+IisPNZeGxg/vupedC8TJgBf/3rVvSCEEJJK2gTIdjkHG+EXFTF9QfhFJ9auyznYWjxNrp62x6TVV3eKcPXMEiOYRFp217zktfjl6Y+tiKLFr1A63uInIjMAzNhyyy091NX6+ZVXgAEDcldLCCGEdDa2MX5lJ3cxlckyWcyzlERWRJrtpk2sXVwDXd3yfPyfVcT4uQpXW4upC1mt1K7fc9VELdJlUdfz0cF0vMWvyOQuw4fTFZEQQgixtvjFuXomxT6ZkrvouMYgZYnbKFL42dSTdTkHU3nbpRV8xvhVEWPpQ/hFqdq1r+jkLlnrtbH4mepO+l13AlVfDwXQ8cKPEEIIIQWTxeJnivGLE1hxrp5p2E5k6z6By5o8I+tE3rerZycm19Gpiygpqh9lJHfxRVXxqn2EDv+l+oXXECGEkG5BRD4vInNEZM78+fPzVZZlOQdb4Rda/LKIsyJjzMpw9QyxsfglbXON8dPfF+nqWRYTJ8bvc7H0ZT0XeSy0pu1lCUBbqnL1rJq6PzDKAIWfBoUfIYSQbkEpdYVSappSatqoUaPyVma3Py7GL+n4pKyeaZapcEKa5uqZhaLFTJJ7Zprws4lbs207j6tnmvDUv1OXSfT22wOTJtn166STgJ/+NL2NTpjkFZXcpVMtfj0dn4qkdnS88BORGSJyxaJFi6ruCiGEEFIrvI2RvpK7mAjFW5bkLqaJYSdM8AF34Zel3jxlXNryfc632AK4/nq3PuQpV/Y14yOussj2o7gs4J6nnSgUft7peOFXZHIXQgghpJPxNkamibdw/6pVpk64WWJchJ9pQlpmUhZf9du40tkKFx9CyAWXeEGfuLrDmvZF1/HL6tpXtGumr3o6YR0/WvwKhWeUEEII6VJ8LnmUSJLFb/Xq5Al1NMavrwg//ZwkWfzOOAP40IfMdbj20ZRlMa+rZ1UW1iQhZ1veZl8RxLWX1/JrGzuYVfiVgesDEeJEx1v8fNIp3iGEEEKIDd4sflli/HQrikuMn4uIK3JiWJfkLgceCGy6qb01y9Xil9ftMEn8lZEcw0eMom1dvigquUva+c6b3MXmXOpl8n7/tPh5h8JPg8KPEEIIMWDr6qln9dTX9sua3AWws/gVQZmTgqyLrhedBdKGql09q46X89lGnb5XnaqytlZt8WNWT0IIIYR0CrVI7pJ2rO7q2a9ffZK7lGnx85ncxbX9Il09fVp/bNrIWq4uAitvP2y/yyJi/HyJVVtXz7p8Zx0GhR8hhBDSpZSWAE237kWxsfjp7/uK8NPJu45f2rYk8vyfofCr8yS8DOuZjza23DLIZpq3HhNlxPgVIeyrtvh1IR3vPFta4DohhBDSV0lz9QwFX5zFzza5i6vwM00MO0X4JVn80soPGBC/z4cFzJY04WdKJuMLVxFTxPeZxT05bv9NN7Xvr/qchZQpwFx/F8SJjj+jXM6BEEIIMVOaq2faAu429YfCz4VOtvjZJneJ8uMfN7N8uvZR/x59TeZtvzPfFiGfWT19Y5tkJQ1fwseXxa8T3GV9whi/7qYbr1lCCCF9l9KyeoYWP1NylzThJ5Js8UuiW1zBbGL8wm1bbZV9Am5aQsK09qJtfZ3k6umLIq2YUdZay299Rbp6+qJKC24fgMJPg9cQIYQQYiBJ+E2YkM/ipws/V9dNn8KvqtT+gJvwy7ItiRUrkvfbWD3qktWzbItUUQu+h/t9Cb+8Fr+syzlkoU6TcVr8CCGEENLniJsATZgQCLvHHgs+m5K72Ai/kCpj/MqecGZ19fTdz5Ur8x1va6UtytUzLXOo73i5MjOu+hZ+cZ/TYKxd18BvkhBCCOlSCo/xEwGef775Oc3ilzQxN7l6prkRFhnjVzRZk7vk+f9M5z+P8KuDq2eWRCp58GEBLdviF22zCItf1rq7hc03r7oHVlD4afTVa5UQQkh3UlqMX0ie5C7LlwODBtUnq2eZZBV+PT3AD35gLmeLD+HXCdQpuYstRQm/Mo/tK9x8c9U9sILCjxBCCCHJxE1ko4Jl9er2SaKNxU8pYNkyYOhQt0lmkRa/MuN78izgHmb4zHIskN/V01b8leHq6VqurjFcRVj8TPW7lk96iFO2K20ZYrSu8a056Ph1/AghhBBSMLbCb82appBLOzYkLL90KbD22ub9cXRyVk/XGD9XoWNLka6eZQurL34R+Mc/ym0TcI+hs/2OfMb45XH1DLGx3uelw4RUbR8exEDhp9Fp1xohhBBSCrYTvtWrAxGjlzclfNHRLX6jRuV39fTFZpsBw4blryeu/0kxfq4TEluhnSXGL21tvKrcPU1tTpkS/NmWr/vEz1X42SYFypqspQzhRwqFrp6EEEJIl+ItuUsccRY/nTjhcM45wWtY/p133F09TQkVfE3mN9gA+N//9VOXCVfh5zs7ZUjacg5p1F08FXXe8lBUcpekJEw+/v8yrFt1+p66kI4Xfj4HNV5rhBBCuonCk7uYYvzCbeExcRa/iRNb61+2zOzquXhxfL+mTgXmzGndVrfBPO7c6dttLJdFxT6VFeNXFD7OS97+R8Xlxhv7qY+unvEMHFhsP7qUjhd+3gY1QgghhJiJm/BFJ2m68AtxjfGLTlD/9S+3vobHT5kCXH2127FlYuN6p0/8bZOUJLnW2rp67rhjfB06Islug3WIfyo78cz99wOHH55cpgiL3yWXADNn2rVZpPAr4yHA3XcD669fXP2mpFFx1O1BUwodL/wIIYQQUjBJLmQ6L7zQfkycEAn3iwBLlgQuh0OGNOs86SRg+nTgtdfMx0+alN6nuHivKP37B0tJRK2HPrCJ8YtL7vLgg+7tvfyyW/my1vGrgwgsgyFD8i94Hp6rOAGyxRbt23baCYgzgmS1+K27buvnusT4jRhRXN3XXw9su23wvguvWQo/jZ12AkaPrroXhBBCSM0wWR6mTAE+8pH2gfP97w/KT54c7Bs5srlv/Pjgdfvtm0/sR48OLH0zZgAbbQRsuGGwfebMYIK3887tba+7brw1b489gti/qVObZcP3cdxyC3DTTcllsvKpTwEf/7h5ezixjyaRGT68vbwIcNpp5jbCifBOOwXn/bLL2ststVW7leR97wN22KF12wc+AOy6a7POIUPMbYb7ttiiKRCi18nuuzffh9+rT0SArbe2LxvlYx8LXg88MHjdeutWF8LNNw/O6fTpwIABwG67AXvv3dz/4Q8Hr3vvHZz3XXZp7tt99+A61wm/V/03AbS6PQPxC6YfeigwaxZw7bXm/1GvZ8aM4A8IrjNdLNkmLfroR4Hf/ra9/1E+8Qng058GvvQl4LDD2tvZf//gerdBBNhnH+D22+3K2/C+9wXfow2TJgV92HFHYM89ge22axfAOtHvruaI6hI1O23aNDUn55M6/eEjIYSQeiIijyilplXdj07CxxhJCOlglOIEt4+QNEbS4qdRdXwyIYQQ4pPCs3oSQjoDTnAJKPwIIYSQroUJ0AghhIRQ+BFCCCGEEEJIl0PhRwghhBBCCCFdDoUfIYQQQgghhHQ5FH6EEEIIIYQQ0uVQ+BFCCCGEEEJIl0PhRwghhBBCCCFdDoUfIYQQ0qVwHT9CCCEhFH6EEEJIl8J1/AghhISIUqrqPnhBROYDeClnNesDWOChO30JnjN3eM7c4Tlzo9vP1zil1KiqO9FJcIysDJ4zd3jO3OD5cqfbz1nsGNk1ws8HIjJHKTWt6n50Ejxn7vCcucNz5gbPFykCXlfu8Jy5w3PmBs+XO335nNHVkxBCCCGEEEK6HAo/QgghhBBCCOlyKPxauaLqDnQgPGfu8Jy5w3PmBs8XKQJeV+7wnLnDc+YGz5c7ffacMcaPEEIIIYQQQrocWvwIIYQQQgghpMuh8COEEEIIIYSQLofCr4GI7C0iz4jIcyJyRtX9qQMisomI/F5E/i4iT4nIlxvbR4jI/4jIPxuvwxvbRUQubZzDJ0TkA9X+B9UhIv1F5DERub3xebyIPNQ4Nz8TkbUa2wc2Pj/X2L9Zlf2uChEZJiK/EJF/iMjTIvIfvM6SEZH/0/hdPikiN4rIIF5npAg4PprhGJkdjpFucIx0h2OkGQo/BDcgAN8HsA+AyQAOEZHJ1faqFqwC8BWl1GQAOwD4YuO8nAHgHqXUBAD3ND4Dwfmb0Pj7PIAflt/l2vBlAE9rny8AcLFSaksAbwM4prH9GABvN7Zf3CjXF7kEwJ1KqfcBmIrg3PE6i0FExgD4EoBpSqltAPQHcDB4nRHPcHxMhGNkdjhGusEx0gGOkfFQ+AV8CMBzSqkXlFIrANwEYP+K+1Q5SqnXlFKPNt4vQXCjGYPg3FzbKHYtgAMa7/cHcJ0K+DOAYSKyccndrhwRGQtgXwBXNj4LgOkAftEoEj1n4bn8BYDdG+X7DCKyHoD/BHAVACilViilFoLXWRo9AAaLSA+AIQBeA68z4h/IcCYhAAAGwUlEQVSOjzFwjMwGx0g3OEZmhmOkAQq/gDEAXtE+z21sIw0aZu/3A3gIwIZKqdcau14HsGHjPc9jwHcBnAZgTePzSAALlVKrGp/18/LeOWvsX9Qo35cYD2A+gB83XH+uFJG1wessFqXUqwBmAXgZwWC2CMAj4HVG/NPnf282cIx0gmOkGxwjHeEYGQ+FH0lFRIYC+CWAk5VSi/V9KlgPhGuCNBCR/QDMU0o9UnVfOogeAB8A8EOl1PsBLEXTZQUAr7MojViO/RFMCEYDWBvA3pV2ipA+CsdIezhGZoJjpCMcI+Oh8At4FcAm2uexjW19HhEZgGBA+4lS6pbG5jdCt4HG67zGdp5HYCcAHxeRFxG4RE1H4Js/rOFuALSel/fOWWP/egDeLLPDNWAugLlKqYcan3+BYJDjdRbPHgD+pZSar5RaCeAWBNcerzPiG/7eEuAY6QzHSHc4RrrDMTIGCr+AhwFMaGT7WQtBAOitFfepchr+zVcBeFopdZG261YAMxvvZwL4jbb9yEZGqR0ALNLcEPoESqmvKaXGKqU2Q3Ad3auUOgzA7wEc2CgWPWfhuTywUb5PPbVTSr0O4BUR2aqxaXcAfwevsyReBrCDiAxp/E7Dc8brjPiG42MMHCPd4RjpDsfITHCMjEG69P9yRkQ+hsDvvD+Aq5VS51XcpcoRkZ0B/BHA39D0xT8TQQzDzQA2BfASgM8opd5q/LguQ2BOfwfA0UqpOaV3vCaIyK4ATlVK7ScimyN4ujkCwGMADldKLReRQQCuRxAb8haAg5VSL1TV56oQke0QBPqvBeAFAEcjeDDF6ywGEfkmgIMQZBZ8DMDnEMQp8DojXuH4aIZjZD44RtrDMdIdjpFmKPwIIYQQQgghpMuhqychhBBCCCGEdDkUfoQQQgghhBDS5VD4EUIIIYQQQkiXQ+FHCCGEEEIIIV0OhR8hhBBCCCGEdDkUfoR0MCKyqYj0ikj/jMe/KCJ7+O4XIYQQUjUcIwlphcKPkBw0BoVlIrJERBaKyIMicpyIWP22RGQzEVEi0pOlfaXUy0qpoUqp1VmOJ4QQQoqCYyQh9YLCj5D8zFBKrQNgHIDzAZwO4Kpqu0QIIYTUAo6RhNQECj9CPKGUWqSUuhXAQQBmisg2ACAi+4rIYyKyWEReEZFztMPub7wubLij/EfjmM+KyNMi8raI3CUi40xtRp+Gish9IvL/ROSBxhPWu0Vkfa38ESLykoi8KSJnRerqJyJniMjzjf03i8iIxr4fisgvtbIXiMg9IiK5TxwhhJCuh2MkIdVD4UeIZ5RSfwEwF8AujU1LARwJYBiAfQEcLyIHNPb9Z+N1WMMdZbaI7A/gTACfBDAKwB8B3OjQhUMBHA1gAwBrATgVAERkMoAfAjgCwGgAIwGM1Y47CcABAD7S2P82gO839n0FwLYicpSI7ALgGAAzlVLKoV+EEEL6OBwjCakOCj9CiuHfAEYAgFLqPqXU35RSa5RSTyAYoD6ScOxxAP5LKfW0UmoVgG8D2C7uiaaBHyulnlVKLQNwM4DtGtsPBHC7Uup+pdRyAF8HsCbS7llKqbmN/ecAOFBEepRS7yAYDC8CcAOAk5RScy37QwghhOhwjCSkAij8CCmGMQDeAgAR+bCI/F5E5ovIIgSDx/oJx44DcEkjEH5hox5p1GnD69r7dwAMbbwfDeCVcIdSaimANyPt/kpr92kAqwFs2Cj/EIAXGn252bIvhBBCSBSOkYRUAIUfIZ4RkQ8iGID+1Nj0UwC3AthEKbUegB8hGBgAwOQG8gqALyilhml/g5VSD+bs2msANtH6OQSBK4ve7j6RdgcppV5tlP8igIEIntSelrMvhBBC+iAcIwmpDgo/QjwhIuuKyH4AbgJwg1Lqb41d6wB4Syn1roh8CEF8Qch8BK4km2vbfgTgayKydaPe9UTk0x66+AsA+4nIziKyFoBz0XoP+BGA80J3GREZ1YilgIhMBPAtAIcjcGc5TUS2AyGEEGIBx0hCqofCj5D83CYiSxA8DTwLgY//0dr+EwCc2yhzNjQXkEZcwHkAHmi4j+yglPoVgAsA3CQiiwE8CWCfvJ1USj0F4IsInq6+hiAwXY9BuATBU9e7G339M4APN7Kh3QDgAqXU40qpfyIIrL9eRAbm7RchhJCuhmMkITVBmHCIEEIIIYQQQrobWvwIIYQQQgghpMuh8COEEEIIIYSQLofCjxBCCCGEEEK6HAo/QgghhBBCCOlyKPwIIYQQQgghpMuh8COEEEIIIYSQLofCjxBCCCGEEEK6HAo/QgghhBBCCOly/j/66xjfV4dSKAAAAABJRU5ErkJggg==\n"
          },
          "metadata": {
            "needs_background": "light"
          }
        }
      ],
      "source": [
        "fig, axs = plt.subplots(2, 2,figsize=(15,10))\n",
        "sort_indexes_mcc = np.argsort(np.array(vol_A_c))\n",
        "axs[0, 0].plot(np.array(vol_A_c)[sort_indexes_mcc],label = \"initial assets\", color = 'k')\n",
        "axs[0, 0].plot(np.array(tokenized_volume_mcc)[sort_indexes_mcc], label = \"tokenized assets\", alpha=1, linewidth=1, color = 'purple')\n",
        "axs[0, 0].set_title('Compact continuous with continuous algorithm')\n",
        "\n",
        "sort_indexes_d = np.argsort(np.array(vol_A_d))\n",
        "axs[0, 1].plot(np.array(vol_A_d)[sort_indexes_d],label = \"initial assets \", color = 'k')\n",
        "axs[0, 1].plot(np.array(tokenized_volume_d )[sort_indexes_d], label = \"tokenized assets\", alpha=0.8, linewidth=1, color = 'g')\n",
        "axs[0, 1].set_title('Discrete algorithm')\n",
        "\n",
        "sort_indexes_cc = np.argsort(np.array(vol_A_c)) \n",
        "axs[1, 0].plot(np.array(vol_A_c)[sort_indexes_cc],label = \"initial assets\", color = 'k')\n",
        "axs[1, 0].plot(np.array(tokenized_volume_cc)[sort_indexes_cc], label = \"tokenized assets\", alpha=1, linewidth=1, color = 'b')\n",
        "axs[1, 0].set_title('Continuous algorithm')\n",
        "\n",
        "sort_indexes_meta = np.argsort(np.array(vol_sum_A))\n",
        "axs[1, 1].plot(np.array(vol_sum_A)[sort_indexes_meta][1:],label = \"initial assets\", color = 'k')\n",
        "axs[1, 1].plot(np.array(tokenized_volume_meta)[sort_indexes_meta][1:] , label = \"tokenized assets\", alpha=0.8, linewidth=1,color = 'r')\n",
        "axs[1, 1].set_title('Compact continuous algorithm')\n",
        "\n",
        " \n",
        "for ax in axs.flat:\n",
        "    ax.set(xlabel='Date index', ylabel='Outstanding debt' )\n",
        "    ax.label_outer()\n",
        "    ax.set_yscale('log')\n",
        "    ax.legend()\n",
        "    ax.title.set_size(15)\n",
        "    ax.xaxis.label.set_size(12)\n",
        "    ax.yaxis.label.set_size(12)"
      ]
    },
    {
      "cell_type": "code",
      "execution_count": 49,
      "id": "7Cwtvr8-kwte",
      "metadata": {
        "colab": {
          "base_uri": "https://localhost:8080/",
          "height": 355
        },
        "id": "7Cwtvr8-kwte",
        "outputId": "1335077f-e68d-477e-b3dd-be8e4053ce68"
      },
      "outputs": [
        {
          "output_type": "execute_result",
          "data": {
            "text/plain": [
              "<matplotlib.legend.Legend at 0x7fb4de6cec50>"
            ]
          },
          "metadata": {},
          "execution_count": 49
        },
        {
          "output_type": "display_data",
          "data": {
            "text/plain": [
              "<Figure size 576x360 with 1 Axes>"
            ],
            "image/png": "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\n"
          },
          "metadata": {
            "needs_background": "light"
          }
        }
      ],
      "source": [
        "time_tab = liq_df2.groupby(by=liq_df2['timestamp'])['tab_at_mn'].sum().reset_index().sort_values(by='timestamp') \n",
        "\n",
        "data_to_plot_opti = frac_tokenizations\n",
        "plt.plot(np.sort(data_to_plot_mcc), label = \"compact continuous with continuous algorithm\", color = 'purple', linestyle = '--' )\n",
        "plt.plot(np.sort(data_to_plot_continuous), label = \"continuous algorithm\", color = 'b', linestyle = '--' )\n",
        "plt.plot(np.sort(data_to_plot_discrete), label = \"discrete algorithm\", color = 'g', linestyle = '--' )\n",
        "# plt.plot(np.sort(data_to_plot_opti),label = \"compact continuous tokenization\", color = 'r', linestyle = '--' )\n",
        "# figure(figsize = (8, 5), dpi = 80)\n",
        "plt.xlabel('Date', fontsize=16)\n",
        "plt.ylabel('Tokenized assets fraction', fontsize=16)\n",
        "plt.ylim([0,1.1])\n",
        "plt.rcParams['figure.figsize'] = [5, 8]\n",
        "plt.legend(fontsize=12) \n"
      ]
    },
    {
      "cell_type": "code",
      "execution_count": 43,
      "id": "fJw5XMiLlg3t",
      "metadata": {
        "colab": {
          "base_uri": "https://localhost:8080/",
          "height": 369
        },
        "id": "fJw5XMiLlg3t",
        "outputId": "03438d8b-643b-486e-b462-4a8fd428b155"
      },
      "outputs": [
        {
          "output_type": "display_data",
          "data": {
            "text/plain": [
              "<Figure size 640x400 with 1 Axes>"
            ],
            "image/png": "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\n"
          },
          "metadata": {
            "needs_background": "light"
          }
        }
      ],
      "source": [
        "sort_indexes = np.argsort(np.sum(volumes_array, axis=0))\n",
        "tokenizations_sum_meta = [np.sum(a) for a in tokenizations]\n",
        "figure(figsize = (8, 5), dpi = 80)\n",
        "plt.plot(np.sort(vol_sum_A),label = \"initial assets\", color = 'k')\n",
        "plt.plot(np.sort(tokenized_volume_mcc) , label = \"tokenized assets of compact continuous with continuous algorithm\", alpha=1, linewidth=1, color = 'purple')\n",
        "plt.plot(np.sort(tokenized_volume_cc) , label = \"tokenized assets of continuous algorithm\", alpha=1, linewidth=1, color = 'b')\n",
        "plt.plot(np.sort(tokenized_volume_d ), label = \"tokenized assets of discrete algorithm\", alpha=0.8, linewidth=1, color = 'g')\n",
        "plt.plot(np.sort(np.array(tokenizations_sum_meta)) , label = \"tokenized assets of compact continuous algorithm\", alpha=0.8, linewidth=1, color = 'r')\n",
        "\n",
        "plt.xlabel('Date index', fontsize=12)\n",
        "plt.ylabel('Volume', fontsize=12)\n",
        "plt.yscale('log')   \n",
        "plt.legend()\n",
        "plt.show()"
      ]
    },
    {
      "cell_type": "code",
      "execution_count": 43,
      "id": "4pnVO8pJoF7M",
      "metadata": {
        "id": "4pnVO8pJoF7M"
      },
      "outputs": [],
      "source": [
        ""
      ]
    }
  ],
  "metadata": {
    "colab": {
      "collapsed_sections": [],
      "name": "makerdao_preprocessing_v54(2019_2022)_V4_1.ipynb",
      "provenance": []
    },
    "kernelspec": {
      "display_name": "Python 3",
      "language": "python",
      "name": "python3"
    },
    "language_info": {
      "codemirror_mode": {
        "name": "ipython",
        "version": 3
      },
      "file_extension": ".py",
      "mimetype": "text/x-python",
      "name": "python",
      "nbconvert_exporter": "python",
      "pygments_lexer": "ipython3",
      "version": "3.8.3"
    }
  },
  "nbformat": 4,
  "nbformat_minor": 5
}
