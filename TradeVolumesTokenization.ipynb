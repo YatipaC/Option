{
 "cells": [
  {
   "cell_type": "markdown",
   "metadata": {},
   "source": [
    "## TASK\n",
    "\n",
    "To improve it you can\n",
    "1. have a look on the current section 2 and specifications of the algorithms. Is it ok for you? I've tried to make both algorithms interfaces as close as possible (no \\gamma but only k; no \\DD_M matrix but \\CC_M, etc)\n",
    "2. change interfaces (outputs) of algorithms 1 and 2 according to the specs. Let a_star always be the output. M and matrix be the optional output. And for the discrete algorithm there will be an option either to provide matrix in current form (indexes for packages/assets per package) or in the same way as in continuous case (composition matrix \\CC_M)\n",
    "3. add unit tests to the notebook (https://stackoverflow.com/questions/40172281/unit-tests-for-functions-in-a-jupyter-notebook) to check\n",
    "* algorithms\n",
    "* some information about data (correct sizes, for example)\n",
    "Use assertEqual for integers and assertTrue+numpy.allclose for real numbers\n",
    "\n",
    "\n",
    "\n",
    "If we consider discrete tokenization as a separate problem then it is good to use a Boolean matrix to indicate the presence of the asset. But once we consider discrete tokenization along with the continuous one, it becomes reasonable to use the same objects for the same tasks. In our case,\n",
    "\n",
    "» Do we need to change code according to algorithm in overleaf such as \\vec A = k \\cdot \\vec A? Because we do A*k and a_star = a_star/k  outside the def in the previous code.  \n",
    "\n",
    "The best way is to have an option with the default option to normalize inside function and an alternative not to normalize inside.\n",
    "\n",
    "» Do I need to change name from a_star to a or my_matrix to C_M?\n",
    "\n",
    " A straightforward solution is to use the same notations in the paper and code, i.e. change a_star to a and my_matrix to C_M. But it is also ok to use a bit different notations. The only obligatory thing is not to use \"my_matrix\" as it is neither from paper nor clear."
   ]
  },
  {
   "cell_type": "code",
   "execution_count": 1,
   "metadata": {},
   "outputs": [],
   "source": [
    "from math import log, sqrt, pi, exp\n",
    "from scipy.stats import norm\n",
    "from datetime import datetime, date\n",
    "import numpy as np\n",
    "import pandas as pd\n",
    "from pandas import DataFrame, Series\n",
    "import math\n",
    "from datetime import date, timedelta\n",
    "from numpy import sqrt,mean,log,diff\n",
    "from matplotlib import pyplot as plt\n",
    "import unittest\n",
    "import seaborn as sns\n",
    "import heapq\n",
    "from sympy import symbols, solve, Eq\n",
    "import json \n",
    "import unittest"
   ]
  },
  {
   "cell_type": "code",
   "execution_count": 2,
   "metadata": {},
   "outputs": [],
   "source": [
    "# Open Forex data file\n",
    "def open_file(qq):\n",
    "    data_list = []\n",
    "    name = str(qq) + '.csv'\n",
    "    with open(name, 'r') as reading:\n",
    "        file_input = reading.read().split('\\n')\n",
    "\n",
    "    for row in file_input:\n",
    "        data_list.append(row.split('\\t'))\n",
    "    data = pd.DataFrame(data_list,columns=['date', 'open', 'high', 'low', 'close', 'vol'])\n",
    "    data['close'] = pd.to_numeric(data['close'],errors = 'coerce')\n",
    "    data['vol'] = pd.to_numeric(data['vol'],errors = 'coerce')\n",
    "    return data\n",
    "\n",
    "# Exchange rate and volume of Forex data \n",
    "def get_rate_and_volume(data_file_name, V, start_date, end_date):\n",
    "    exchange_rate = list()\n",
    "    volume = list()\n",
    "    for i, single_date in enumerate(daterange(start_date, end_date)):\n",
    "        a_date = single_date.isoformat()+str(' 00:00')\n",
    "        if a_date not in open_file(data_file_name)['date'].values:\n",
    "            a_date = (single_date-timedelta(days=1)).isoformat()+str(' 00:00')\n",
    "        print(a_date)\n",
    "        exchange_rate.append(float(open_file(data_file_name).loc[open_file(data_file_name)['date']== a_date]['close'].values))\n",
    "        exchange_rate.append(V * float(open_file(data_file_name).loc[open_file(data_file_name)['date']== a_date]['vol']))\n",
    "    return exchange_rate, volume"
   ]
  },
  {
   "cell_type": "code",
   "execution_count": 3,
   "metadata": {},
   "outputs": [],
   "source": [
    "start_date = date(2020, 1, 1)\n",
    "end_date = date(2020, 12, 31)\n",
    "pairs = ['EURUSD', 'AUDUSD', 'GBPUSD', 'NZDUSD']\n",
    "V = 100"
   ]
  },
  {
   "cell_type": "code",
   "execution_count": 4,
   "metadata": {},
   "outputs": [],
   "source": [
    "exchange_rates_array = list()\n",
    "volumes_array = list()\n",
    "dates_array = list()\n",
    "foreign_risk_free_rate = list()\n",
    "domestic_risk_free_rate = list()\n",
    "\n",
    "# total Forex volume and exchange rate \n",
    "for pair_index in range(len(pairs)):\n",
    "#     data_file_name = 'data/' + pairs[pair_index] + '1440'\n",
    "    data_file_name = pairs[pair_index] + '1440'\n",
    "    data = open_file(data_file_name)\n",
    "    dates = data['date'].values\n",
    "    dates = [x[:-6] for x in dates]\n",
    "    exchange_rates = data['close'].values\n",
    "    volumes = data['vol'].values\n",
    "    start_index = [i for i in range(len(dates)) if dates[i] == str(start_date)][0]\n",
    "    end_index = [i for i in range(len(dates)) if dates[i] == str(end_date)][0]\n",
    "    dates_array.append(dates[start_index:end_index+1])\n",
    "    exchange_rates_array.append(exchange_rates[start_index:end_index+1])\n",
    "    volumes_array.append(volumes[start_index:end_index+1])\n",
    "\n",
    "exchange_rates_array = np.array(exchange_rates_array)\n",
    "volumes_array = np.array(volumes_array)"
   ]
  },
  {
   "cell_type": "code",
   "execution_count": 5,
   "metadata": {},
   "outputs": [
    {
     "name": "stdout",
     "output_type": "stream",
     "text": [
      "(4, 314)\n",
      "[[0.00198052 0.0016558  0.00133738 0.0012721 ]\n",
      " [0.0016558  0.00169787 0.00137727 0.00130886]\n",
      " [0.00133738 0.00137727 0.00163975 0.00118338]\n",
      " [0.0012721  0.00130886 0.00118338 0.00109828]]\n",
      "[[1.         0.90295525 0.74212144 0.86252955]\n",
      " [0.90295525 1.         0.8254235  0.95848165]\n",
      " [0.74212144 0.8254235  1.         0.88181901]\n",
      " [0.86252955 0.95848165 0.88181901 1.        ]]\n"
     ]
    }
   ],
   "source": [
    "print(np.shape(exchange_rates_array))\n",
    "print(np.cov(exchange_rates_array))\n",
    "print(np.corrcoef(exchange_rates_array))"
   ]
  },
  {
   "cell_type": "code",
   "execution_count": 6,
   "metadata": {},
   "outputs": [
    {
     "data": {
      "image/png": "[encoded data removed]",
      "text/plain": [
       "<Figure size 432x432 with 1 Axes>"
      ]
     },
     "metadata": {},
     "output_type": "display_data"
    }
   ],
   "source": [
    "# Total trading volume \n",
    "fig = plt.figure(figsize=(6,6))\n",
    "plt.pie(np.sum(volumes_array, axis=1), labels=pairs,autopct='%1.3f%%', radius = 2, textprops={'fontsize': 14})\n",
    "plt.title(\"Volume of assets\", bbox={'facecolor':'0.9', 'pad':5}, fontsize = 20)\n",
    "plt.axis('equal')\n",
    "plt.tight_layout()\n",
    "plt.show()"
   ]
  },
  {
   "cell_type": "code",
   "execution_count": 7,
   "metadata": {},
   "outputs": [
    {
     "data": {
      "image/png": "[encoded data removed]",
      "text/plain": [
       "<Figure size 432x288 with 2 Axes>"
      ]
     },
     "metadata": {
      "needs_background": "light"
     },
     "output_type": "display_data"
    }
   ],
   "source": [
    "# Correlation between different currency pair\n",
    "exchange_rates_pd = pd.DataFrame(exchange_rates_array.transpose(), columns = pairs)\n",
    "\n",
    "ax = sns.heatmap(exchange_rates_pd.corr(), cmap='RdYlGn', linewidths=.1,annot=True)\n",
    "plt.title(\"Heatmap of closing price\", fontsize = 20)\n",
    "plt.show()"
   ]
  },
  {
   "cell_type": "markdown",
   "metadata": {},
   "source": [
    "The assumption of dataset is that each currency pair isn't correlating with each other while there is almost one correlation factor except diagonal. To sum up, this correlation matrix shows that we have the wrong model assumptions."
   ]
  },
  {
   "cell_type": "markdown",
   "metadata": {},
   "source": [
    "## Discrete tokenization"
   ]
  },
  {
   "cell_type": "code",
   "execution_count": 8,
   "metadata": {},
   "outputs": [],
   "source": [
    "class Discrete:\n",
    "    def __init__(self, A0, N0, k0):\n",
    "        self.A = A0.astype(int) # array of assets\n",
    "        self.N = N0 # number of assets types\n",
    "        self.k = k0 # number of assets in each package\n",
    "\n",
    "\n",
    "    def preprocess(self):\n",
    "        assert self.N == len(self.A), \"Wrong N\"  \n",
    "        assert self.k <= len(self.A), \"Wrong k\" \n",
    "        self.A = self.A * self.k\n",
    "        sort_indexes = np.argsort(self.A, axis=None)\n",
    "        self.inverse_sort_indexes = np.empty_like(sort_indexes)\n",
    "        self.inverse_sort_indexes[sort_indexes] = np.arange(sort_indexes.size)\n",
    "        A = self.A[sort_indexes] \n",
    "        a = np.sort(self.A, axis=None) # min-max sorting\n",
    "        largest_ele_index = heapq.nlargest(self.k-1, range(len(a)))\n",
    "        S = 0\n",
    "        for i in range(0, len(a)):\n",
    "            if i not in largest_ele_index:\n",
    "                S = S + np.sum(a[i]) # sum of all token except biggest k-1 types\n",
    "        B = 0\n",
    "        n = 2\n",
    "        a_res = a\n",
    "        for start in range(self.N - self.k+1,self.N): # a_{N-k+n} = min[A_{N-k+n}, S/(n-1)] to remove some tokens\n",
    "            index_S_inner = self.N-self.k+n-1\n",
    "            S_inner = np.sum(a[0:index_S_inner])\n",
    "            if math.floor(S_inner/(n-1)) >= A[self.N-self.k+n-1]:\n",
    "                a_res[self.N-self.k+n-1] = A[self.N-self.k+n-1]\n",
    "                S = S + a_res[index_S_inner]\n",
    "            else:\n",
    "                a_res[self.N-self.k+n-1] = math.floor(S_inner/(n-1))\n",
    "                S = S + a_res[index_S_inner]\n",
    "            assert a_res[self.N-self.k+n-1] == min(A[self.N-self.k+n-1],math.floor(S_inner/(n-1)))\n",
    "            delta = A[index_S_inner] - a_res[index_S_inner] \n",
    "            B = B + delta # total number of tokens put off from packages\n",
    "            n = n+1            \n",
    "        return a_res, B\n",
    "\n",
    "\n",
    "    def distribution(self, a_res, B, return_distribution_matrix=False):\n",
    "        S = np.sum(a_res)\n",
    "        M = math.floor(S/self.k)\n",
    "        B0 = abs(S - M*self.k) # number of token that isn't falling into packages due to multiplicity of S\n",
    "        n = self.N - B0 +1\n",
    "        for n in range(n, self.N+1):\n",
    "            a_res[n-1] = a_res[n-1] - 1 # remove 1 tokens from last token's types\n",
    "            B = B + B0\n",
    "        l_n = np.zeros(self.N+1)\n",
    "        r_n = np.zeros(self.N+1)\n",
    "        for n in range(1,self.N+1):\n",
    "            l_n[n] = np.sum(a_res[0:n-1])+1\n",
    "            r_n[n] = np.sum(a_res[0:n])\n",
    "        if return_distribution_matrix: # unique composition of each package as much as possible \n",
    "            C_M = np.zeros((self.k, M))\n",
    "            n = 1\n",
    "            for i in range(1, M + 1):\n",
    "                for j in range(1, self.k+1):\n",
    "                    check_index = i + M * (j - 1)\n",
    "                    for n in range(1, self.N+1):\n",
    "                        if check_index <= r_n[n] and check_index >= l_n[n]:\n",
    "                            C_M[j-1, i-1] = self.inverse_sort_indexes[n-1] + 1\n",
    "                        n =n+1\n",
    "            return a_res[self.inverse_sort_indexes]/self.k, M, C_M\n",
    "        else:\n",
    "            return a_res[self.inverse_sort_indexes]/self.k, M"
   ]
  },
  {
   "cell_type": "code",
   "execution_count": 9,
   "metadata": {},
   "outputs": [
    {
     "name": "stderr",
     "output_type": "stream",
     "text": [
      "test_distribution (__main__.Discrete_Test) ... ok\n",
      "test_preprocess (__main__.Discrete_Test) ... ok\n",
      "\n",
      "----------------------------------------------------------------------\n",
      "Ran 2 tests in 0.005s\n",
      "\n",
      "OK\n"
     ]
    },
    {
     "data": {
      "text/plain": [
       "<unittest.main.TestProgram at 0x7ffa47099190>"
      ]
     },
     "execution_count": 9,
     "metadata": {},
     "output_type": "execute_result"
    }
   ],
   "source": [
    "class Discrete_Test(unittest.TestCase):\n",
    "    def setUp(self):\n",
    "        self.A_t = np.array([3, 4, 3, 5, 7, 2])\n",
    "        self.k_t = 4\n",
    "        self.res = Discrete(self.A_t, len(self.A_t), self.k_t)\n",
    "    \n",
    "    def test_preprocess(self):\n",
    "        a_preprocess, B =  self.res.preprocess()\n",
    "        np.array_equal(a_preprocess, [8, 12, 12, 16, 20, 22])\n",
    "        self.assertEqual(B, 6)\n",
    "    \n",
    "    def test_distribution(self):\n",
    "        a_preprocess, B = self.res.preprocess()\n",
    "        a_dis, M, C_M = self.res.distribution(a_preprocess, B, return_distribution_matrix=True)\n",
    "        self.assertTrue(np.allclose(a_dis, [3, 4, 3, 4.75, 5.25, 2]))\n",
    "        self.assertEqual(M, 22)\n",
    "        actual_C_M = [[2, 2, 2, 2, 2, 2, 2, 2, 4, 4, 4, 4, 4, 4, 4, 4, 4, 4, 4, 4, 3, 3,],\n",
    "                     [3, 3, 3, 3, 3, 3, 3, 3, 3, 3, 5, 5, 5, 5, 5, 5, 5, 5, 5, 5, 5, 5,],\n",
    "                     [5, 5, 5, 5, 6, 6, 6, 6, 6, 6, 6, 6, 6, 6, 6, 6, 6, 6, 6, 6, 6, 6,],\n",
    "                     [6, 1, 1, 1, 1, 1, 1, 1, 1, 1, 1, 1, 1, 1, 1, 1, 1, 1, 1, 1, 1, 1,]]\n",
    "        np.array_equal(C_M, actual_C_M)\n",
    "\n",
    "unittest.main(argv=[''], verbosity=2, exit=False)"
   ]
  },
  {
   "cell_type": "code",
   "execution_count": 10,
   "metadata": {},
   "outputs": [
    {
     "name": "stdout",
     "output_type": "stream",
     "text": [
      "A: [3 4 3 5 7 2]\n",
      "a: [3.   4.   3.   4.75 5.25 2.  ]\n",
      "C_M: \n",
      " [[2. 2. 2. 2. 2. 2. 2. 2. 4. 4. 4. 4. 4. 4. 4. 4. 4. 4. 4. 4. 3. 3.]\n",
      " [3. 3. 3. 3. 3. 3. 3. 3. 3. 3. 5. 5. 5. 5. 5. 5. 5. 5. 5. 5. 5. 5.]\n",
      " [5. 5. 5. 5. 6. 6. 6. 6. 6. 6. 6. 6. 6. 6. 6. 6. 6. 6. 6. 6. 6. 6.]\n",
      " [6. 1. 1. 1. 1. 1. 1. 1. 1. 1. 1. 1. 1. 1. 1. 1. 1. 1. 1. 1. 1. 1.]]\n"
     ]
    }
   ],
   "source": [
    "# test example\n",
    "\n",
    "A = np.array([3, 4, 3, 5, 7, 2])\n",
    "N = len(A)\n",
    "k = 4\n",
    "res_discrete = Discrete(A, N, k)\n",
    "res_1, B = res_discrete.preprocess()\n",
    "a_res, M, my_matrix = res_discrete.distribution(res_1, B, return_distribution_matrix=True)\n",
    "print('A:', A)\n",
    "print('a:', a_res)\n",
    "print(f'C_M: \\n', my_matrix)"
   ]
  },
  {
   "cell_type": "code",
   "execution_count": 11,
   "metadata": {},
   "outputs": [
    {
     "name": "stdout",
     "output_type": "stream",
     "text": [
      "A:  [ 2631  3364 13079  3966]\n",
      "a:  [2631. 3364. 4980. 3966.]\n"
     ]
    }
   ],
   "source": [
    "# Test volume of Forex data as input\n",
    "\n",
    "np.floor(volumes_array[:, 0])\n",
    "k = 3\n",
    "A = np.floor(volumes_array[:, 0]).astype(int)\n",
    "N = len(A)\n",
    "res_discrete = Discrete(A, N, k)\n",
    "res_1, B = res_discrete.preprocess()\n",
    "a_res, _ = res_discrete.distribution(res_1, B)\n",
    "print(\"A: \", volumes_array[:, 0])\n",
    "print(\"a: \", a_res.astype(float))"
   ]
  },
  {
   "cell_type": "code",
   "execution_count": 12,
   "metadata": {},
   "outputs": [],
   "source": [
    "# Tokenized volume by using discrete tokenization algorithm\n",
    "\n",
    "k = 3\n",
    "N = len(pairs)\n",
    "\n",
    "tokenized_volume = np.zeros((volumes_array.shape[1],))\n",
    "for trading_day_index in range(len(volumes_array[0])):\n",
    "    A = np.floor(volumes_array[:, trading_day_index]).astype(int) \n",
    "    res_discrete = Discrete(A, N, k)\n",
    "    res_1, B = res_discrete.preprocess()\n",
    "    a_res, _ = res_discrete.distribution(res_1, B) \n",
    "    tokenized_volume[trading_day_index] = np.sum(a_res)"
   ]
  },
  {
   "cell_type": "code",
   "execution_count": 13,
   "metadata": {},
   "outputs": [
    {
     "data": {
      "image/png": "[encoded data removed]",
      "text/plain": [
       "<Figure size 432x288 with 1 Axes>"
      ]
     },
     "metadata": {
      "needs_background": "light"
     },
     "output_type": "display_data"
    }
   ],
   "source": [
    "sort_indexes = np.argsort(np.sum(volumes_array, axis=0))\n",
    "\n",
    "plt.plot(tokenized_volume[sort_indexes],label = \"tokenized volume\")\n",
    "plt.plot(np.sum(volumes_array, axis=0)[sort_indexes],label = \"accumulation of tokenized volume\")\n",
    "# plt.title(\"Daily trading volume (discrete)\", fontsize = 16)\n",
    "plt.xlabel('Date', fontsize=12)\n",
    "plt.ylabel('Volume', fontsize=12)\n",
    "plt.legend()\n",
    "plt.show()"
   ]
  },
  {
   "cell_type": "code",
   "execution_count": 14,
   "metadata": {},
   "outputs": [
    {
     "name": "stdout",
     "output_type": "stream",
     "text": [
      "Tokenized fraction:  0.7061052803816608\n"
     ]
    },
    {
     "data": {
      "image/png": "[encoded data removed]",
      "text/plain": [
       "<Figure size 432x288 with 1 Axes>"
      ]
     },
     "metadata": {
      "needs_background": "light"
     },
     "output_type": "display_data"
    }
   ],
   "source": [
    "data_to_plot_discrete = [tokenized_volume[x] / np.sum(volumes_array[:, x]) for x in range(len(tokenized_volume))]\n",
    "\n",
    "plt.plot(np.sort(data_to_plot_discrete))\n",
    "# plt.title(\"Tokenized assets fraction (discrete)\", fontsize = 16)\n",
    "plt.xlabel('Date', fontsize=12)\n",
    "plt.ylabel('Tokenized assets fraction', fontsize=12)\n",
    "plt.ylim([0,1.1])\n",
    "print(\"Tokenized fraction: \", np.sum(tokenized_volume) / np.sum(volumes_array))"
   ]
  },
  {
   "cell_type": "code",
   "execution_count": 15,
   "metadata": {},
   "outputs": [
    {
     "name": "stdout",
     "output_type": "stream",
     "text": [
      "Max covariance:  0.0019805239767943256\n",
      "Max package variance:  0.0015621152653092344\n",
      "(Minium) Reduction factor vs k:  1.2678475275012844  vs  3\n"
     ]
    }
   ],
   "source": [
    "covariances = np.cov(exchange_rates_array)\n",
    "allowed_package_covariance = np.zeros((len(pairs),))\n",
    "for index in range(len(pairs)):\n",
    "    vector = np.ones((len(pairs),)) / k\n",
    "    vector[index] = 0\n",
    "    current_covariance = np.matmul(np.matmul(vector, covariances), vector)\n",
    "    allowed_package_covariance[index] = current_covariance\n",
    "print(\"Max covariance: \", np.max(covariances))\n",
    "print(\"Max package variance: \", np.max(allowed_package_covariance))\n",
    "print(\"(Minium) Reduction factor vs k: \", (np.max(covariances) / np.max(allowed_package_covariance)), ' vs ', k)"
   ]
  },
  {
   "cell_type": "markdown",
   "metadata": {},
   "source": [
    "The total number of tokenized tokens is a_star. The tokenized faction below than one means that some assets in A haven't been tokenized due to the multiplicity of a total number of S tokens in the size of packages k. Therfore, around 70.61% of dataset has been tokenized. In addition, the variance reduction factor is just 1.26 or 26% less, not equal to 3 times less due to the wrong model assumption"
   ]
  },
  {
   "cell_type": "markdown",
   "metadata": {},
   "source": [
    "## Continuous tokenization"
   ]
  },
  {
   "cell_type": "code",
   "execution_count": 16,
   "metadata": {},
   "outputs": [],
   "source": [
    "import numpy as np\n",
    "from sympy import symbols, solve, Eq\n",
    "class Continuous:\n",
    "    def __init__(self, N0, A0, var_reduc):\n",
    "        self.A = A0\n",
    "        self.N = N0\n",
    "        self.var = var_reduc \n",
    "\n",
    "    def search(self):\n",
    "        N = self.N\n",
    "        assert self.N == len(self.A), \"Wrong N\" \n",
    "        var = self.var\n",
    "        E = np.array([0],dtype='float64') # expectation of taken assets\n",
    "        V = np.array([0],dtype='float64') # varaince of taken assets\n",
    "        a = np.zeros(self.N)\n",
    "        sort_indexes = np.argsort(self.A, axis=None)\n",
    "        self.inverse_sort_indexes = np.empty_like(sort_indexes)\n",
    "        self.inverse_sort_indexes[sort_indexes] = np.arange(sort_indexes.size)\n",
    "        A = self.A[sort_indexes]\n",
    "        A = np.insert(A, 0, 0)\n",
    "        for n in range(0, N): # replace a_k from A_n with A_{n+1}\n",
    "            E_new = E + (N-n)*(A[n+1] - A[n])\n",
    "            V_new = V + (N-n)*(A[n+1]**2 - A[n]**2)\n",
    "            if (1/var)*(E_new)**2 >= V_new:\n",
    "                E = E_new\n",
    "                V = V_new\n",
    "                for k in range(n, N):\n",
    "                    a[k] = A[n+1]\n",
    "            else:\n",
    "                x = symbols('x')\n",
    "                eq = (1/var)*(E + (N - n)*(x - A[n]))**2 - V - (N - n) * (x**2 - A[n]**2)\n",
    "                A_sol = solve(eq)\n",
    "                assert A_sol != [{x: 0.0}], \"Root equals to zero\" \n",
    "                A_sol =  min(list(A_sol[1].values())[0], A[n + 1])\n",
    "                E = E + (N-n)*(A_sol - A[n])\n",
    "                V = V + (N-n)*(A_sol**2 - A[n]**2)\n",
    "                n_star = n + 1\n",
    "                for k in range(n_star-1, N):\n",
    "                    a[k] = A_sol\n",
    "        return a[self.inverse_sort_indexes]\n",
    "\n",
    "    def construct_pack(self, a):\n",
    "        M = np.linalg.norm((a), ord=1) # number of packages\n",
    "        C_M  = a/M # composition of each M packages\n",
    "        return  a[self.inverse_sort_indexes], M, C_M"
   ]
  },
  {
   "cell_type": "code",
   "execution_count": 17,
   "metadata": {},
   "outputs": [
    {
     "name": "stderr",
     "output_type": "stream",
     "text": [
      "test_construct_pack (__main__.Continuous_Test) ... ok\n",
      "test_search (__main__.Continuous_Test) ... ok\n",
      "test_distribution (__main__.Discrete_Test) ... ok\n",
      "test_preprocess (__main__.Discrete_Test) ... ok\n",
      "\n",
      "----------------------------------------------------------------------\n",
      "Ran 4 tests in 0.286s\n",
      "\n",
      "OK\n"
     ]
    },
    {
     "data": {
      "text/plain": [
       "<unittest.main.TestProgram at 0x7ffa475926a0>"
      ]
     },
     "execution_count": 17,
     "metadata": {},
     "output_type": "execute_result"
    }
   ],
   "source": [
    "class Continuous_Test(unittest.TestCase):\n",
    "    def setUp(self):\n",
    "        self.A_t = np.array([50, 8, 100, 3])\n",
    "        self.res =  Continuous(len(self.A_t), self.A_t, 3)\n",
    "    \n",
    "    def test_search(self):\n",
    "        a_search =  self.res.search()\n",
    "        self.assertTrue(np.allclose(a_search, [19.48528137, 8, 50, 3]))\n",
    "    \n",
    "    def test_construct_pack(self):\n",
    "        a_search = self.res.search()\n",
    "        a_cons, M, C_M = self.res.construct_pack(a_search)\n",
    "        self.assertTrue(np.allclose(a_cons,[50, 8, 3, 19.48528137]))\n",
    "        self.assertTrue(np.allclose(C_M, [0.24209745, 0.09939706, 0.6212316, 0.0372739 ]))\n",
    "        self.assertAlmostEqual(M, 80.48528137423853)\n",
    "\n",
    "unittest.main(argv=[''], verbosity=2, exit=False)"
   ]
  },
  {
   "cell_type": "code",
   "execution_count": 18,
   "metadata": {},
   "outputs": [
    {
     "name": "stdout",
     "output_type": "stream",
     "text": [
      "final a_n =  [3. 2. 7. 4. 9.]\n",
      "composition is [0.12 0.08 0.28 0.16 0.36]\n"
     ]
    }
   ],
   "source": [
    "# test example\n",
    "A = np.array([3,2,7,4,9]) \n",
    "N = len(A)\n",
    "\n",
    "my_var = np.var(A)\n",
    "length = len(A)\n",
    "my_min = np.min(A)\n",
    "my_max = np.max(A)\n",
    "rand1 = np.random.randint(my_min, my_max + 1, size=length)\n",
    "rand2 = np.random.randint(my_min, my_max + 1, size=length)\n",
    "cov_rand = np.cov(rand1, rand2)[0, 0]\n",
    "var_red = cov_rand/my_var\n",
    "\n",
    "res_conti = Continuous(N, A, var_red)\n",
    "res_1 = res_conti.search()\n",
    "print(\"final a_n = \", res_1)\n",
    "a, _, C_M = res_conti.construct_pack(res_1)\n",
    "print(\"composition is\", C_M)"
   ]
  },
  {
   "cell_type": "code",
   "execution_count": 19,
   "metadata": {},
   "outputs": [
    {
     "name": "stdout",
     "output_type": "stream",
     "text": [
      "final a_n =  [3. 1. 1. 1.]\n",
      "composition is [0.5        0.16666667 0.16666667 0.16666667]\n"
     ]
    }
   ],
   "source": [
    "# test example\n",
    "\n",
    "k = 3\n",
    "\n",
    "A = np.array([1000, 1, 1, 1])\n",
    "res_conti = Continuous(len(A), A, k)\n",
    "print\n",
    "res_1 = res_conti.search()\n",
    "a, _, C_M = res_conti.construct_pack(res_1)\n",
    "print(\"final a_n = \", res_1)\n",
    "print(\"composition is\", C_M)"
   ]
  },
  {
   "cell_type": "code",
   "execution_count": 20,
   "metadata": {},
   "outputs": [],
   "source": [
    "# Tokenized volume by using continuous tokenization algorithm\n",
    "\n",
    "k = 3\n",
    "N = len(pairs)\n",
    "\n",
    "tokenized_volume = np.zeros((volumes_array.shape[1],))\n",
    "package_variance = np.zeros((volumes_array.shape[1],))\n",
    "for trading_day_index in range(len(volumes_array[0])):\n",
    "    A = volumes_array[:, trading_day_index]\n",
    "    res_conti = Continuous(N, A, k)\n",
    "    res_1 = res_conti.search()\n",
    "    a, _, C_M = res_conti.construct_pack(res_1)\n",
    "    tokenized_volume[trading_day_index] = np.sum(res_1)\n",
    "    package_variance[trading_day_index] = np.matmul(np.matmul(C_M, covariances), C_M)\n"
   ]
  },
  {
   "cell_type": "code",
   "execution_count": 21,
   "metadata": {},
   "outputs": [
    {
     "data": {
      "image/png": "[encoded data removed]",
      "text/plain": [
       "<Figure size 432x288 with 1 Axes>"
      ]
     },
     "metadata": {
      "needs_background": "light"
     },
     "output_type": "display_data"
    }
   ],
   "source": [
    "sort_indexes = np.argsort(np.sum(volumes_array, axis=0))\n",
    "\n",
    "plt.plot(tokenized_volume[sort_indexes],label = \"tokenized volume\")\n",
    "plt.plot(np.sum(volumes_array, axis=0)[sort_indexes],label = \"accumulation of tokenized volume\")\n",
    "plt.xlabel('Date', fontsize=12)\n",
    "plt.ylabel('Volume', fontsize=12)\n",
    "# plt.title(\"Daily trading volume (continuous)\", fontsize = 16)\n",
    "plt.legend()\n",
    "plt.show()"
   ]
  },
  {
   "cell_type": "code",
   "execution_count": 22,
   "metadata": {},
   "outputs": [
    {
     "name": "stdout",
     "output_type": "stream",
     "text": [
      "Tokenized fraction:  0.8623487679062549\n"
     ]
    },
    {
     "data": {
      "image/png": "[encoded data removed]",
      "text/plain": [
       "<Figure size 432x288 with 1 Axes>"
      ]
     },
     "metadata": {
      "needs_background": "light"
     },
     "output_type": "display_data"
    }
   ],
   "source": [
    "data_to_plot_continuous = [tokenized_volume[x] / np.sum(volumes_array[:, x]) for x in range(len(tokenized_volume))]\n",
    "\n",
    "plt.plot(np.sort(data_to_plot_discrete), '--m',label = \"discrete tokenization\")\n",
    "plt.plot(np.sort(data_to_plot_continuous), '-.k',label = \"continuous tokenization\")\n",
    "plt.ylim([0,1.1])\n",
    "# plt.title(\"Tokenized assets fraction (discrete)\", fontsize = 16)\n",
    "plt.xlabel('Date', fontsize=12)\n",
    "plt.ylabel('Tokenized assets fraction', fontsize=12)\n",
    "plt.legend()\n",
    "print(\"Tokenized fraction: \", np.sum(tokenized_volume) / np.sum(volumes_array))"
   ]
  },
  {
   "cell_type": "code",
   "execution_count": 23,
   "metadata": {},
   "outputs": [
    {
     "name": "stdout",
     "output_type": "stream",
     "text": [
      "Max covariance:  0.0019805239767943256\n",
      "Max package variance:  0.001617381498381101\n",
      "(Minium) Reduction factor vs k:  1.2245249366192874  vs  3\n"
     ]
    }
   ],
   "source": [
    "covariances = np.cov(exchange_rates_array)\n",
    "print(\"Max covariance: \", np.max(covariances))\n",
    "print(\"Max package variance: \", np.max(package_variance))\n",
    "print(\"(Minium) Reduction factor vs k: \", (np.max(covariances) / np.max(package_variance)), ' vs ', k)"
   ]
  },
  {
   "cell_type": "markdown",
   "metadata": {},
   "source": [
    "The tokenized fraction of continuous tokenization is around 86.23% which is higher than discrete tokenization. Continuous tokenization is suitable for a large class of dataset because this tokenization could consider a wider class of tokenized matrix for tokenization, instead of an integer. In contrast, discrete tokenization is suitable for the smaller dataset. Moreover, the varaince reduction is not equal to 3 due to wrong model assumption."
   ]
  },
  {
   "cell_type": "markdown",
   "metadata": {},
   "source": [
    "## Information for blockchain"
   ]
  },
  {
   "cell_type": "code",
   "execution_count": 24,
   "metadata": {},
   "outputs": [
    {
     "name": "stdout",
     "output_type": "stream",
     "text": [
      "{\n",
      "    \"trading_day\": \"2020-01-01\",\n",
      "    \"packages_number\": 19786,\n",
      "    \"package_content\": [\n",
      "        0.13297611027629772,\n",
      "        0.1700234264422142,\n",
      "        0.4965507280645376,\n",
      "        0.2004497352169505\n",
      "    ],\n",
      "    \"pairs\": [\n",
      "        \"EURUSD\",\n",
      "        \"AUDUSD\",\n",
      "        \"GBPUSD\",\n",
      "        \"NZDUSD\"\n",
      "    ]\n",
      "}\n"
     ]
    }
   ],
   "source": [
    "trading_day_index = 0\n",
    "dict_for_blockchain = dict()\n",
    "dict_for_blockchain['trading_day'] = dates_array[0][trading_day_index]\n",
    "\n",
    "k = 3\n",
    "A = volumes_array[:, trading_day_index]\n",
    "res_conti = Continuous(len(A), A, k)\n",
    "res_1 = res_conti.search()\n",
    "a, _, C_M = res_conti.construct_pack(res_1)\n",
    "dict_for_blockchain['packages_number'] = round(sum(res_1))\n",
    "dict_for_blockchain['package_content'] = list(C_M)\n",
    "dict_for_blockchain['pairs'] = pairs\n",
    "\n",
    "json_for_blockchain = json.dumps(dict_for_blockchain, indent = 4)  \n",
    "print(json_for_blockchain)"
   ]
  },
  {
   "cell_type": "code",
   "execution_count": null,
   "metadata": {},
   "outputs": [],
   "source": []
  },
  {
   "cell_type": "code",
   "execution_count": null,
   "metadata": {},
   "outputs": [],
   "source": []
  }
 ],
 "metadata": {
  "kernelspec": {
   "display_name": "Python 3",
   "language": "python",
   "name": "python3"
  },
  "language_info": {
   "codemirror_mode": {
    "name": "ipython",
    "version": 3
   },
   "file_extension": ".py",
   "mimetype": "text/x-python",
   "name": "python",
   "nbconvert_exporter": "python",
   "pygments_lexer": "ipython3",
   "version": "3.8.3"
  }
 },
 "nbformat": 4,
 "nbformat_minor": 4
}
